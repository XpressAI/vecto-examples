{
 "cells": [
  {
   "cell_type": "markdown",
   "id": "f1676154",
   "metadata": {},
   "source": [
    "# 03 E-Commerce Recommendations"
   ]
  },
  {
   "cell_type": "markdown",
   "id": "6a40651c",
   "metadata": {},
   "source": [
    "Product recommendations powered by vector search help E-commerce merchants offer relevant and personalized shopping experiences, improving clients' experience site-wide.\n",
    "\n",
    "Throughout this tutorial, we will guide you through the journey to create a basic E-commerce recommendations application using Vecto."
   ]
  },
  {
   "cell_type": "markdown",
   "id": "5af0114a",
   "metadata": {},
   "source": [
    "## Setting up Vecto Working Environment "
   ]
  },
  {
   "cell_type": "code",
   "execution_count": null,
   "id": "f47c2033",
   "metadata": {},
   "outputs": [],
   "source": [
    "!pip install ftfy tqdm requests pillow ipywidgets pandas"
   ]
  },
  {
   "cell_type": "code",
   "execution_count": 1,
   "id": "7af32b55",
   "metadata": {},
   "outputs": [],
   "source": [
    "import requests\n",
    "from ipywidgets import interact_manual, IntSlider, FileUpload\n",
    "import pathlib\n",
    "import pandas as pd\n",
    "from IPython.display import display, HTML\n",
    "import math\n",
    "from tqdm.notebook import tqdm\n",
    "import io\n",
    "import json\n",
    "import re"
   ]
  },
  {
   "cell_type": "markdown",
   "id": "97f99b65",
   "metadata": {},
   "source": [
    "## Creating Vector Space"
   ]
  },
  {
   "cell_type": "markdown",
   "id": "2f6ce834",
   "metadata": {},
   "source": [
    "1. Access the Vecto login page at <[Vecto Login](https://app.vecto.ai/login.xhtml)>, insert your *Username* and *Password* and click Sign In. \n",
    "   \n",
    "2. From the admin page sidebar, select the **Dashboard** tab and click on *Create new vector space*. Fill in the Vector Space name; in this case, we will call it `e_commerce_recommendation`. You will then be able to choose a `vectorization model`. As we are going to work with both images and text, choose the [CLIP](https://github.com/openai/CLIP) model. Finally, click the `Create Vector Space` button. You can view your Vector Space details by clicking on the Vector Space name in the Vector Spaces list. Take note on your Vector Space ID to use in a later step. \n",
    "    \n",
    "3. In order to access the vector space, we will need to create a Vector Space authentication token. Click on the **Tokens** tab in the sidebar, set the token name to `e_commerce_recommendation_token`, and then select the Vector Space `e_commerce_recommendation` that we created earlier, click on `Create User Token`. Click on your token name in the list to view it. This token will be used to authenticate access to Vecto servers. Copy the token to use in the next step. Here we go! Now you have your first Vector Space.\n"
   ]
  },
  {
   "cell_type": "markdown",
   "id": "b8d45924",
   "metadata": {},
   "source": [
    "<div>\n",
    "<img src=\"https://docs.vecto.ai/img/docs/user-guide/Hello_world/login_vecto.gif\"/>\n",
    "</div>"
   ]
  },
  {
   "cell_type": "markdown",
   "id": "944cc04e",
   "metadata": {},
   "source": [
    "## Add and Ingest Data into Vector Space"
   ]
  },
  {
   "cell_type": "markdown",
   "id": "e2852fe2",
   "metadata": {},
   "source": [
    " To start, let's initialize the Vecto API end-point and pass our `e_commerce_recommendation` Vector Space ID and authentication token. Copy the below cell into your notebook 2nd cell and insert the values for the `token` and `vecto_space_id`, then run the cell."
   ]
  },
  {
   "cell_type": "code",
   "execution_count": 2,
   "id": "ba002a32",
   "metadata": {},
   "outputs": [],
   "source": [
    "vecto_base_url =\"https://api.vecto.ai/api/v0\"\n",
    "token = \"\"\n",
    "vector_space_id = \"\""
   ]
  },
  {
   "cell_type": "markdown",
   "id": "df18c7e7",
   "metadata": {},
   "source": [
    "Please note that the Vector Space ID and token are unique for every Vector Space. You refer to the [previous step](#creating-vector-space) if you can not find your `e_commerce_recommendation` Vector Space ID or token. "
   ]
  },
  {
   "cell_type": "markdown",
   "id": "71f83adc",
   "metadata": {},
   "source": [
    "### Dataset"
   ]
  },
  {
   "cell_type": "markdown",
   "id": "645da28e",
   "metadata": {},
   "source": [
    "In this Tutorial, we are using the [Flipkart Products dataset from Kaggle](https://www.kaggle.com/datasets/PromptCloudHQ/flipkart-products). This dataset has details for around 20,000 different product listings on FlipKart website. \n",
    "\n",
    "To proceed, you may manually download the dataset and place it in the working directory, or use Kaggle API to download it."
   ]
  },
  {
   "cell_type": "markdown",
   "id": "c9bd51ae",
   "metadata": {},
   "source": [
    "If you would like to use Kaggle, you may follow the [following steps](https://www.kaggle.com/general/74235):\n",
    "1. Go to your account, Scroll to API section and Click Expire API Token to remove previous tokens if you've created one before.\n",
    "2. Click on Create New API Token - It will download kaggle.json file on your machine.\n",
    "3. Place kaggle.json in the current Jupyter working directory."
   ]
  },
  {
   "cell_type": "code",
   "execution_count": 3,
   "id": "4853a065",
   "metadata": {},
   "outputs": [],
   "source": [
    "! pip install -q kaggle"
   ]
  },
  {
   "cell_type": "code",
   "execution_count": 4,
   "id": "1eac2b75",
   "metadata": {},
   "outputs": [],
   "source": [
    "## run these two cells if you are using google colab\n",
    "# from google.colab import files\n",
    "# files.upload()"
   ]
  },
  {
   "cell_type": "code",
   "execution_count": 5,
   "id": "864cd5fd",
   "metadata": {},
   "outputs": [],
   "source": [
    "# ! mkdir ~/.kaggle\n",
    "# ! cp kaggle.json ~/.kaggle/\n",
    "# ! chmod 600 ~/.kaggle/kaggle.json"
   ]
  },
  {
   "cell_type": "code",
   "execution_count": 8,
   "id": "42d6f449",
   "metadata": {},
   "outputs": [
    {
     "name": "stdout",
     "output_type": "stream",
     "text": [
      "flipkart-products.zip: Skipping, found more recently modified local copy (use --force to force download)\n",
      "Archive:  flipkart-products.zip\n",
      "  inflating: ./flipkart_com-ecommerce_sample.csv  \n"
     ]
    }
   ],
   "source": [
    "! kaggle datasets download \"PromptCloudHQ/flipkart-products\"\n",
    "! unzip flipkart-products.zip -d ."
   ]
  },
  {
   "cell_type": "markdown",
   "id": "e97138cc",
   "metadata": {},
   "source": [
    "Now your working directory should look like this:\n",
    "```\n",
    "|__vecto_ecommerce_demo\n",
    "    |__requirements.txt\n",
    "    |__e_commerce_demo.ipynb\n",
    "    |__flipkart_com-ecommerce_sample.csv\n",
    "```\n",
    "Now, let's read the dataset's `.csv` file. Here, we are interested in vectorizing the `product_name` and `description` columns; we will drop any product without `product_name` and `description` and concatenate the texts in both columns into a new `product_details` column. Additionally, we will convert the `image` column to a list of URLs for easier online retrieval of the product images. Finally, we will collect the `product_details` column and the indexes into Python lists:    "
   ]
  },
  {
   "cell_type": "code",
   "execution_count": 9,
   "id": "e802c41e",
   "metadata": {},
   "outputs": [],
   "source": [
    "text_data = pd.read_csv('flipkart_com-ecommerce_sample.csv').dropna(subset=['product_name','description'])\n",
    "text_data['product_details'] = text_data['product_name'].astype(str) +\" \"+ text_data['description'].astype(str) \n",
    "raw_text_list = text_data['product_details'].tolist()\n",
    "index_list = text_data.index.tolist()\n",
    "text_data[\"image\"] = text_data[\"image\"].apply(lambda x: json.loads(x) if type(x) == str else [])"
   ]
  },
  {
   "cell_type": "markdown",
   "id": "75697e6b",
   "metadata": {},
   "source": [
    "The text descriptions in the `raw_text_list` require some pre-processing to remove any special characters or extra spaces between the words. We will use the following code to achieve that:    "
   ]
  },
  {
   "cell_type": "code",
   "execution_count": 10,
   "id": "b70dc686",
   "metadata": {},
   "outputs": [],
   "source": [
    "text_list = []\n",
    "for i in raw_text_list:\n",
    "    text = (i.rstrip('\\n')).replace('\\n','')\n",
    "    text = (text.rstrip('\\t')).replace('\\t','')\n",
    "    text = re.sub('[^\\w]',' ', text)\n",
    "    text = re.sub('\\s+',' ',text)\n",
    "    text_list.append(text)"
   ]
  },
  {
   "cell_type": "markdown",
   "id": "e4e24ab5",
   "metadata": {},
   "source": [
    "### Vectorize text data"
   ]
  },
  {
   "cell_type": "markdown",
   "id": "1dad54cd",
   "metadata": {},
   "source": [
    "To ingest the texts descriptions in the `text_list` list into our `e_commerce_recommendation` Vector Space, we will need a few helper functions to split the texts ingesting process into batches, let's add the two functions `ingest_text_batch` and `ingest_all_text` to our `e_commerce_demo` notebook: "
   ]
  },
  {
   "cell_type": "code",
   "execution_count": 11,
   "id": "953fa892",
   "metadata": {},
   "outputs": [],
   "source": [
    "def ingest_text_batch(batch_path_list,batch_text_list):\n",
    "    data = {'vector_space_id': vector_space_id, 'data': [], 'modality': 'TEXT'}\n",
    "    files = []\n",
    "    for path in batch_path_list:\n",
    "        data['data'].append(path)\n",
    "    result = requests.post(\"%s/index\" % vecto_base_url,\n",
    "                  data=data,\n",
    "                  files=[('input', ('_', f, '_')) for f in batch_text_list],\n",
    "                  headers={\"Authorization\":\"Bearer %s\" %token})\n",
    "    \n",
    "    if not result.ok:\n",
    "        print(result.status_code)\n",
    "        \n",
    "    for f in files:\n",
    "        f.close()"
   ]
  },
  {
   "cell_type": "code",
   "execution_count": 12,
   "id": "01bbd568",
   "metadata": {},
   "outputs": [],
   "source": [
    "def ingest_all_text(path_list,text_list, batch_size=64):\n",
    "    batch_count = math.ceil(len(path_list) / batch_size)\n",
    "    batches_path = [path_list[i * batch_size: (i + 1) * batch_size] for i in range(batch_count)]\n",
    "    batches_text = [text_list[i * batch_size: (i + 1) * batch_size] for i in range(batch_count)]\n",
    "    for batch,text in tqdm(zip(batches_path,batches_text), total = len(batches_path)):\n",
    "        ingest_text_batch(batch,text)"
   ]
  },
  {
   "cell_type": "markdown",
   "id": "b7c039cf",
   "metadata": {},
   "source": [
    "The batch size determines the number of texts ingested in each batch. Here, we set the batch size to `256` to speed up the initial ingest process. However, batch size could be set to any other integer value, even just `1`, as this is merely depending on the dataset type and size."
   ]
  },
  {
   "cell_type": "code",
   "execution_count": 13,
   "id": "816da1b5",
   "metadata": {},
   "outputs": [
    {
     "data": {
      "application/vnd.jupyter.widget-view+json": {
       "model_id": "9beea3c6a6cd4497aaa6f2fc7ea1ae8a",
       "version_major": 2,
       "version_minor": 0
      },
      "text/plain": [
       "  0%|          | 0/79 [00:00<?, ?it/s]"
      ]
     },
     "metadata": {},
     "output_type": "display_data"
    }
   ],
   "source": [
    "ingest_all_text(index_list,text_list,batch_size=256)"
   ]
  },
  {
   "cell_type": "markdown",
   "id": "94ec8ac6",
   "metadata": {},
   "source": [
    "Here we go! your current vector space holds all the products text descriptions embeddings. \n"
   ]
  },
  {
   "cell_type": "markdown",
   "id": "43f02137",
   "metadata": {},
   "source": [
    "## Vector Search image/text Queries"
   ]
  },
  {
   "cell_type": "markdown",
   "id": "321b2da6",
   "metadata": {},
   "source": [
    "After ingesting the dataset into the `e_commerce_recommendation` vector space, now let's try to perform a different type of vector search query using text or images. For that, we will use a few helper functions to handle the mentioned processes. Let's add these four functions `display_results`, `lookup`, `text_query`, and`image_query` to our `e_commerce_demo` notebook: "
   ]
  },
  {
   "cell_type": "code",
   "execution_count": 14,
   "id": "064f7896",
   "metadata": {},
   "outputs": [],
   "source": [
    "def display_results(results):\n",
    "    output = []\n",
    "    for result in results:\n",
    "        output.append(\"Similarity: %s\" % result['similarity'])\n",
    "        image = text_data['image'][int(result['data'])][0]\n",
    "        image = HTML('<img src=%s width=\"300\" height=\"500\">'% image)\n",
    "        output.append(image)\n",
    "        text = text_data['product_details'][int(result['data'])]\n",
    "        output.append(text)\n",
    "    display(*output)"
   ]
  },
  {
   "cell_type": "code",
   "execution_count": 15,
   "id": "e9d36bf7",
   "metadata": {},
   "outputs": [],
   "source": [
    "def lookup(f, modality, top_k):\n",
    "    result = requests.post(\"%s/lookup\" % vecto_base_url,\n",
    "                           data={'vector_space_id': vector_space_id, 'modality': modality, 'top_k': top_k},\n",
    "                           files={'query': f},\n",
    "                           headers={\"Authorization\":\"Bearer %s\" %token})\n",
    "\n",
    "    results = result.json()['results']\n",
    "    display_results(results)"
   ]
  },
  {
   "cell_type": "code",
   "execution_count": 16,
   "id": "5c715fea",
   "metadata": {},
   "outputs": [],
   "source": [
    "def text_query(query, top_k=10):\n",
    "    f = io.StringIO(query)\n",
    "    lookup(f, 'TEXT', top_k)\n",
    "\n",
    "def image_query(query, top_k=10):\n",
    "    f = io.BytesIO(query[0]['content'])\n",
    "    lookup(f, 'IMAGE', top_k)"
   ]
  },
  {
   "cell_type": "markdown",
   "id": "db0434c2",
   "metadata": {},
   "source": [
    "Now all is ready to try a few vector search queries!\n",
    "\n",
    "First, let's start with some text queries. Using the interactive cell widget, you could:\n",
    "-  Type your query text in the available text box.\n",
    "-  Select the number of results with the highest search similarity to view `top_k`.\n",
    "\n",
    "For example, we will type *Round Neck T-Shirt* as our text query, and we expect the vector search to return more Round Neck T-Shirt products from the vector space.  "
   ]
  },
  {
   "cell_type": "code",
   "execution_count": 18,
   "id": "54f7b164",
   "metadata": {},
   "outputs": [
    {
     "data": {
      "application/vnd.jupyter.widget-view+json": {
       "model_id": "6f5f865df2d04aa7a076269b4cbe0d48",
       "version_major": 2,
       "version_minor": 0
      },
      "text/plain": [
       "interactive(children=(Text(value='Round Neck T-Shirt', description='query'), IntSlider(value=1, description='t…"
      ]
     },
     "metadata": {},
     "output_type": "display_data"
    },
    {
     "data": {
      "text/plain": [
       "<function __main__.text_query(query, top_k=10)>"
      ]
     },
     "execution_count": 18,
     "metadata": {},
     "output_type": "execute_result"
    }
   ],
   "source": [
    "interact_manual(text_query, query=\"Round Neck T-Shirt\", top_k=IntSlider(min=1, max=50))"
   ]
  },
  {
   "cell_type": "markdown",
   "id": "804e0f35",
   "metadata": {},
   "source": [
    "After you insert the above line into the `e_commerce_demo` notebook, you are expected to see the following output when you query *Round Neck T-Shirt* and set the *top_k* to 4. Click the `Run Interact` button to start the vector search."
   ]
  },
  {
   "cell_type": "markdown",
   "id": "129a26ad",
   "metadata": {},
   "source": [
    "Now similarly, let's try image queries. Using the interactive cell widget, you could:\n",
    "-  Upload your query image using the Upload button.\n",
    "-  Select the number of results with the highest search similarity to view `top_k`.\n",
    "\n",
    "As an example, we will upload an image of a black T-shirt downloaded from [Unsplash](https://unsplash.com/photos/6Nub980bI3I) as our image query. We would expect the vector search to return texts description for black T-shirt products from the vector space.  "
   ]
  },
  {
   "cell_type": "markdown",
   "id": "eea76249",
   "metadata": {},
   "source": [
    "<div>\n",
    "<img src=\"https://docs.vecto.ai/img/docs/tutorial/e_commerce/image.jpg\"/  width=\"200\">\n",
    "</div>"
   ]
  },
  {
   "cell_type": "code",
   "execution_count": 19,
   "id": "6edc0d9f",
   "metadata": {},
   "outputs": [
    {
     "data": {
      "application/vnd.jupyter.widget-view+json": {
       "model_id": "bef0059c4a7e4dc49176550d419dde21",
       "version_major": 2,
       "version_minor": 0
      },
      "text/plain": [
       "interactive(children=(FileUpload(value=(), description='Upload'), IntSlider(value=1, description='top_k', max=…"
      ]
     },
     "metadata": {},
     "output_type": "display_data"
    },
    {
     "data": {
      "text/plain": [
       "<function __main__.image_query(query, top_k=10)>"
      ]
     },
     "execution_count": 19,
     "metadata": {},
     "output_type": "execute_result"
    }
   ],
   "source": [
    "interact_manual(image_query, query=FileUpload(multiple=False), top_k=IntSlider(min=1, max=50))"
   ]
  },
  {
   "cell_type": "markdown",
   "id": "18c06dab",
   "metadata": {},
   "source": [
    "After you insert the above line into the `e_commerce_demo` notebook, you are expected to see the following widget, upload the image and click the `Run Interact` button to start the vector search."
   ]
  },
  {
   "cell_type": "markdown",
   "id": "cc4e8b19",
   "metadata": {},
   "source": [
    "## Create a Vector Search Analogy"
   ]
  },
  {
   "cell_type": "markdown",
   "id": "6f93b0ea",
   "metadata": {},
   "source": [
    "A surprising property of vectors is that we can solve analogies with vector arithmetic. Taking `Summer is to Winter as is T-Shirt is to Sweater` as an analogy. We could use the vector difference **Summer vector - Winter vector** as an analogy vector to modify the vector search output for the *T-Shirt* query from returning more T-shirts products as we saw in the [earlier](#vector-search-imagetext-queries) to returning Winter clothes like sweaters instead. The overall arithmetic equation that governs such an analogy can be represented as follows:\n",
    "\n",
    "<p align=\"center\">\n",
    "Let <strong>Summer - Winter = T-Shirt - Sweater</strong> <br></br> \n",
    "Therefore, <strong>Winter - Summer + T-Shirt = Sweater</strong>\n",
    "</p>\n",
    "\n",
    "\n",
    "First, let's add this helper functions `analogy`,`text_analogy` and `image_analogy` to our notebook:"
   ]
  },
  {
   "cell_type": "code",
   "execution_count": 20,
   "id": "674728ea",
   "metadata": {},
   "outputs": [],
   "source": [
    "def analogy(query, start, end, modality, top_k):\n",
    "    result = requests.post(\"%s/analogy\" % vecto_base_url,\n",
    "                           data={'vector_space_id': vector_space_id, 'modality': modality, 'top_k': top_k},\n",
    "                           files={'query': query, 'from': start, 'to': end},\n",
    "                           headers={\"Authorization\":\"Bearer %s\" %token})\n",
    "\n",
    "    results = result.json()['results']\n",
    "    display_results(results)"
   ]
  },
  {
   "cell_type": "code",
   "execution_count": 21,
   "id": "0d499a22",
   "metadata": {},
   "outputs": [],
   "source": [
    "def text_analogy(query, start, end, top_k=10):\n",
    "    analogy(io.StringIO(query), io.StringIO(start), io.StringIO(end), 'TEXT', top_k)"
   ]
  },
  {
   "cell_type": "code",
   "execution_count": 22,
   "id": "cb73d1df",
   "metadata": {},
   "outputs": [],
   "source": [
    "def image_analogy(query, start, end, top_k=10):\n",
    "    analogy(\n",
    "        io.BytesIO(query[0]['content']),\n",
    "        io.BytesIO(start[0]['content']),\n",
    "        io.BytesIO(end[0]['content']),\n",
    "        'IMAGE',\n",
    "        top_k\n",
    "    )"
   ]
  },
  {
   "cell_type": "markdown",
   "id": "68c31ceb",
   "metadata": {},
   "source": [
    "Now all is ready, let's see if our analogy is working. \n",
    "\n",
    "First, let's start with some text analogy. Using the interactive cell widget, you could:\n",
    "-  Type analogy *start*, *end* and *query* text in the available text boxes.\n",
    "-  Select the number of results with the highest search similarity to view `top_k`."
   ]
  },
  {
   "cell_type": "code",
   "execution_count": 24,
   "id": "04e5c786",
   "metadata": {},
   "outputs": [
    {
     "data": {
      "application/vnd.jupyter.widget-view+json": {
       "model_id": "6ba39028532b4d25ab258623777dc130",
       "version_major": 2,
       "version_minor": 0
      },
      "text/plain": [
       "interactive(children=(Text(value='Round Neck T-Shirt', description='query'), Text(value='summer', description=…"
      ]
     },
     "metadata": {},
     "output_type": "display_data"
    },
    {
     "data": {
      "text/plain": [
       "<function __main__.text_analogy(query, start, end, top_k=10)>"
      ]
     },
     "execution_count": 24,
     "metadata": {},
     "output_type": "execute_result"
    }
   ],
   "source": [
    "interact_manual(text_analogy, query=\"Round Neck T-Shirt\", start=\"summer\", end=\"winter\", top_k=IntSlider(min=1, max=50))"
   ]
  },
  {
   "cell_type": "markdown",
   "id": "3134a2ec",
   "metadata": {},
   "source": [
    "After you insert the above line into the `e_commerce_demo` notebook, you are expected to see the following output, set your **query** to *Round Neck T-Shirt* and set the analogy **start** and **end** to *summer* and *winter* respectively, click the `Run Interact` button to start the vector search with the analogy."
   ]
  },
  {
   "cell_type": "markdown",
   "id": "4c9dcff1",
   "metadata": {},
   "source": [
    "Now similarly, let's construct the analogy using images. \n",
    "\n",
    "Using the interactive cell widget, you could:\n",
    "-  upload images for analogy *start*, *end* and *query* image using the upload button for each field.\n",
    "-  Select the number of results with the highest search similarity to view `top_k`."
   ]
  },
  {
   "cell_type": "code",
   "execution_count": null,
   "id": "12f5c803",
   "metadata": {},
   "outputs": [],
   "source": [
    "interact_manual(image_analogy, query=FileUpload(multiple=False), start=FileUpload(multiple=False), end=FileUpload(multiple=False), top_k=IntSlider(min=1, max=50))"
   ]
  },
  {
   "cell_type": "markdown",
   "id": "94fb42fc",
   "metadata": {},
   "source": [
    "A simple exercise for you, insert the above line into the `e_commerce_demo` notebook. You are expected to see the following widget, construct your image analogy *Query, Start and End components* upload the images to the widget and click the `Run Interact` button to start your customized vector search analogy.\n",
    "\n",
    "\n",
    "That's it! In this tutorial, we have learned how to set up a Vecto working environment, create vector space using a given dataset, perform vector search queries, and construct a simple analogy.   "
   ]
  }
 ],
 "metadata": {
  "kernelspec": {
   "display_name": "Python 3 (ipykernel)",
   "language": "python",
   "name": "python3"
  },
  "language_info": {
   "codemirror_mode": {
    "name": "ipython",
    "version": 3
   },
   "file_extension": ".py",
   "mimetype": "text/x-python",
   "name": "python",
   "nbconvert_exporter": "python",
   "pygments_lexer": "ipython3",
   "version": "3.10.7"
  },
  "widgets": {
   "application/vnd.jupyter.widget-state+json": {
    "state": {
     "01423e59bb0b4f8bb650a250db94acbf": {
      "model_module": "@jupyter-widgets/base",
      "model_module_version": "2.0.0",
      "model_name": "LayoutModel",
      "state": {}
     },
     "01fb7d60f38146e486564a97195cc2fa": {
      "model_module": "@jupyter-widgets/controls",
      "model_module_version": "2.0.0",
      "model_name": "ButtonModel",
      "state": {
       "description": "Run Interact",
       "layout": "IPY_MODEL_01423e59bb0b4f8bb650a250db94acbf",
       "style": "IPY_MODEL_06b069f48f9e4ab0b7b3aa4edc3d9ff2",
       "tooltip": null
      }
     },
     "057b1bb044384090a8f046c2eb679b77": {
      "model_module": "@jupyter-widgets/controls",
      "model_module_version": "2.0.0",
      "model_name": "SliderStyleModel",
      "state": {
       "description_width": ""
      }
     },
     "063817d0065c448bb50e80cb4463f570": {
      "model_module": "@jupyter-widgets/base",
      "model_module_version": "2.0.0",
      "model_name": "LayoutModel",
      "state": {}
     },
     "06b069f48f9e4ab0b7b3aa4edc3d9ff2": {
      "model_module": "@jupyter-widgets/controls",
      "model_module_version": "2.0.0",
      "model_name": "ButtonStyleModel",
      "state": {
       "font_family": null,
       "font_size": null,
       "font_style": null,
       "font_variant": null,
       "font_weight": null,
       "text_color": null,
       "text_decoration": null
      }
     },
     "0729f3d5c1d044d3a64c9759802a0d21": {
      "model_module": "@jupyter-widgets/controls",
      "model_module_version": "2.0.0",
      "model_name": "FileUploadModel",
      "state": {
       "description_allow_html": false,
       "layout": "IPY_MODEL_fc582732df864a018be03a2087b86c2e",
       "style": "IPY_MODEL_e06f97fbf45d44ae9f7aac6ede1ca494"
      }
     },
     "0c8384a836724f81913844c5c25f24d8": {
      "model_module": "@jupyter-widgets/base",
      "model_module_version": "2.0.0",
      "model_name": "LayoutModel",
      "state": {}
     },
     "106ca1938d7a448dacc1d28826777851": {
      "model_module": "@jupyter-widgets/base",
      "model_module_version": "2.0.0",
      "model_name": "LayoutModel",
      "state": {}
     },
     "113085db8ab247268424601367f5566a": {
      "model_module": "@jupyter-widgets/controls",
      "model_module_version": "2.0.0",
      "model_name": "TextModel",
      "state": {
       "description": "query",
       "layout": "IPY_MODEL_c4a19854e9a24248be7af501d1c95eb6",
       "style": "IPY_MODEL_f11c0632904849669c85d1101a28bdee",
       "value": "Round Neck T-Shirt"
      }
     },
     "122659e7037b4653862a1e113cb3a28f": {
      "model_module": "@jupyter-widgets/controls",
      "model_module_version": "2.0.0",
      "model_name": "TextModel",
      "state": {
       "description": "query",
       "layout": "IPY_MODEL_0c8384a836724f81913844c5c25f24d8",
       "style": "IPY_MODEL_9e954808f6dd47fd978a8d6abf23444d",
       "value": "Round Neck T-Shirt"
      }
     },
     "12eef790dbf8479f9f3bd22befbc5952": {
      "model_module": "@jupyter-widgets/controls",
      "model_module_version": "2.0.0",
      "model_name": "TextModel",
      "state": {
       "description": "start",
       "layout": "IPY_MODEL_b6bd566e49f64b0fa8596fdf173e0d77",
       "style": "IPY_MODEL_ebd0c944fa294879a5eb85ba76393ba5",
       "value": "summer"
      }
     },
     "149fd48782184df185b9e02f78a7fb5d": {
      "model_module": "@jupyter-widgets/base",
      "model_module_version": "2.0.0",
      "model_name": "LayoutModel",
      "state": {}
     },
     "181767ed64174c04a6b62e45f7be8a2b": {
      "model_module": "@jupyter-widgets/base",
      "model_module_version": "2.0.0",
      "model_name": "LayoutModel",
      "state": {}
     },
     "182a7810d4754ffc940a76fe77131785": {
      "model_module": "@jupyter-widgets/controls",
      "model_module_version": "2.0.0",
      "model_name": "IntSliderModel",
      "state": {
       "behavior": "drag-tap",
       "description": "top_k",
       "layout": "IPY_MODEL_566b937ba1814f62b5c969a6cbf59775",
       "max": 50,
       "min": 1,
       "style": "IPY_MODEL_057b1bb044384090a8f046c2eb679b77",
       "value": 3
      }
     },
     "184541d112154684a9d1c341f2aafcc1": {
      "model_module": "@jupyter-widgets/output",
      "model_module_version": "1.0.0",
      "model_name": "OutputModel",
      "state": {
       "layout": "IPY_MODEL_9f649533f2984b6599279d0a45696d28",
       "outputs": [
        {
         "data": {
          "text/plain": "'Similarity: 0.8009228110313416'"
         },
         "metadata": {},
         "output_type": "display_data"
        },
        {
         "data": {
          "text/html": "<img src=http://img6a.flixcart.com/image/t-shirt/w/y/g/kkpd22bxgreen-max-12-18-months-original-imaee98jgmqgvfpt.jpeg width=\"300\" height=\"500\">",
          "text/plain": "<IPython.core.display.HTML object>"
         },
         "metadata": {},
         "output_type": "display_data"
        },
        {
         "data": {
          "text/plain": "'Max T-Shirt Specifications of Max T-Shirt General Details Occasion Casual Additional Details Style Code KKPD22BXGREEN'"
         },
         "metadata": {},
         "output_type": "display_data"
        },
        {
         "data": {
          "text/plain": "'Similarity: 0.7038622498512268'"
         },
         "metadata": {},
         "output_type": "display_data"
        },
        {
         "data": {
          "text/html": "<img src=http://img6a.flixcart.com/image/top/k/j/s/1-1-mwst0615-1341-my-addiction-m-original-imae8f7x6vk5vyyj.jpeg width=\"300\" height=\"500\">",
          "text/plain": "<IPython.core.display.HTML object>"
         },
         "metadata": {},
         "output_type": "display_data"
        },
        {
         "data": {
          "text/plain": "\"My Addiction Casual Full Sleeve Solid Women's Top My Addiction Casual Full Sleeve Solid Women's Top\\n                         Price: Rs. 579\\n\\t\\t\\t\\t\\n\\t\\t\\tMy Addiction Round Neck Top\\nMy Addiction Round Neck Top\""
         },
         "metadata": {},
         "output_type": "display_data"
        },
        {
         "data": {
          "text/plain": "'Similarity: 0.6992558836936951'"
         },
         "metadata": {},
         "output_type": "display_data"
        },
        {
         "data": {
          "text/html": "<img src=http://img5a.flixcart.com/image/t-shirt/4/n/p/500-officers-choice-xxs-700x700-imaedzatfgn2sz8k.jpeg width=\"300\" height=\"500\">",
          "text/plain": "<IPython.core.display.HTML object>"
         },
         "metadata": {},
         "output_type": "display_data"
        },
        {
         "data": {
          "text/plain": "\"Officers Choice Solid Men's Round Neck T-Shirt Officers Choice Solid Men's Round Neck T-Shirt\\n                         Price: Rs. 245\\n\\t\\t\\t\\t\\n\\t\\t\\tA Pure Combed Cotton Men'S Round Neck T-Shirt Half Sleeve\\nA Pure Combed Cotton Men'S Round Neck T-Shirt Half Sleeve\""
         },
         "metadata": {},
         "output_type": "display_data"
        }
       ]
      }
     },
     "18531256f76d4ae0a048e5301a669f8a": {
      "model_module": "@jupyter-widgets/controls",
      "model_module_version": "2.0.0",
      "model_name": "ButtonStyleModel",
      "state": {
       "font_family": null,
       "font_size": null,
       "font_style": null,
       "font_variant": null,
       "font_weight": null,
       "text_color": null,
       "text_decoration": null
      }
     },
     "1c2700a546544c27bb995d429eee7324": {
      "model_module": "@jupyter-widgets/controls",
      "model_module_version": "2.0.0",
      "model_name": "HBoxModel",
      "state": {
       "children": [
        "IPY_MODEL_511b56d0bf0f4afc99ef4b8b7c7e5468",
        "IPY_MODEL_a7c7b469c8c544f781d651b3fa1ce1a4",
        "IPY_MODEL_d1b30229c81b46b0ac8a9355feee0081"
       ],
       "layout": "IPY_MODEL_27adb20e3c27476bb3e0d8536e5e9b7e"
      }
     },
     "1eaf5a6ae3554254a79e189b3c1d7323": {
      "model_module": "@jupyter-widgets/base",
      "model_module_version": "2.0.0",
      "model_name": "LayoutModel",
      "state": {}
     },
     "203ef3dfffba48bcb2a598f54834f255": {
      "model_module": "@jupyter-widgets/controls",
      "model_module_version": "2.0.0",
      "model_name": "ButtonStyleModel",
      "state": {
       "font_family": null,
       "font_size": null,
       "font_style": null,
       "font_variant": null,
       "font_weight": null,
       "text_color": null,
       "text_decoration": null
      }
     },
     "216e48abff9e438da671349f87988291": {
      "model_module": "@jupyter-widgets/base",
      "model_module_version": "2.0.0",
      "model_name": "LayoutModel",
      "state": {}
     },
     "221ab83426b848fc8cec0678e888caf7": {
      "model_module": "@jupyter-widgets/controls",
      "model_module_version": "2.0.0",
      "model_name": "SliderStyleModel",
      "state": {
       "description_width": ""
      }
     },
     "222626b846a6420b9331d305c869fc11": {
      "model_module": "@jupyter-widgets/base",
      "model_module_version": "2.0.0",
      "model_name": "LayoutModel",
      "state": {}
     },
     "2584d899497449238fdb430036d7beab": {
      "model_module": "@jupyter-widgets/output",
      "model_module_version": "1.0.0",
      "model_name": "OutputModel",
      "state": {
       "layout": "IPY_MODEL_216e48abff9e438da671349f87988291"
      }
     },
     "2694925206d94c7687017e7cfb60cab0": {
      "model_module": "@jupyter-widgets/base",
      "model_module_version": "2.0.0",
      "model_name": "LayoutModel",
      "state": {}
     },
     "27adb20e3c27476bb3e0d8536e5e9b7e": {
      "model_module": "@jupyter-widgets/base",
      "model_module_version": "2.0.0",
      "model_name": "LayoutModel",
      "state": {}
     },
     "2a5ade3edb0b41589719a008306882f3": {
      "model_module": "@jupyter-widgets/controls",
      "model_module_version": "2.0.0",
      "model_name": "TextStyleModel",
      "state": {
       "description_width": "",
       "font_size": null,
       "text_color": null
      }
     },
     "2f211730d89340c08bec534d2fcee5b8": {
      "model_module": "@jupyter-widgets/controls",
      "model_module_version": "2.0.0",
      "model_name": "TextStyleModel",
      "state": {
       "description_width": "",
       "font_size": null,
       "text_color": null
      }
     },
     "30c0c193478d48c588195c5d69b3913c": {
      "model_module": "@jupyter-widgets/controls",
      "model_module_version": "2.0.0",
      "model_name": "ButtonStyleModel",
      "state": {
       "font_family": null,
       "font_size": null,
       "font_style": null,
       "font_variant": null,
       "font_weight": null,
       "text_color": null,
       "text_decoration": null
      }
     },
     "31236c10398d48fcb968259483c9cc2c": {
      "model_module": "@jupyter-widgets/controls",
      "model_module_version": "2.0.0",
      "model_name": "FileUploadModel",
      "state": {
       "description_allow_html": false,
       "layout": "IPY_MODEL_e242b8c4a46f4ce188b88ce0d4bd7483",
       "style": "IPY_MODEL_e931ba27322c431e93d938e55ca3b4a2"
      }
     },
     "326db26272144a229d0071623a14de8a": {
      "model_module": "@jupyter-widgets/controls",
      "model_module_version": "2.0.0",
      "model_name": "ButtonStyleModel",
      "state": {
       "font_family": null,
       "font_size": null,
       "font_style": null,
       "font_variant": null,
       "font_weight": null,
       "text_color": null,
       "text_decoration": null
      }
     },
     "33807dce967948daaa129c962a807978": {
      "model_module": "@jupyter-widgets/base",
      "model_module_version": "2.0.0",
      "model_name": "LayoutModel",
      "state": {}
     },
     "34c476d55fc44168b73cb519f75470b8": {
      "model_module": "@jupyter-widgets/output",
      "model_module_version": "1.0.0",
      "model_name": "OutputModel",
      "state": {
       "layout": "IPY_MODEL_73b8be2978a247c9a462dfc9845b8cf8",
       "outputs": [
        {
         "data": {
          "text/plain": "'Similarity: 0.7669035792350769'"
         },
         "metadata": {},
         "output_type": "display_data"
        },
        {
         "data": {
          "text/html": "<img src=http://img6a.flixcart.com/image/t-shirt/w/y/g/kkpd22bxgreen-max-12-18-months-original-imaee98jgmqgvfpt.jpeg width=\"300\" height=\"500\">",
          "text/plain": "<IPython.core.display.HTML object>"
         },
         "metadata": {},
         "output_type": "display_data"
        },
        {
         "data": {
          "text/plain": "'Max T-Shirt Specifications of Max T-Shirt General Details Occasion Casual Additional Details Style Code KKPD22BXGREEN'"
         },
         "metadata": {},
         "output_type": "display_data"
        },
        {
         "data": {
          "text/plain": "'Similarity: 0.7069019675254822'"
         },
         "metadata": {},
         "output_type": "display_data"
        },
        {
         "data": {
          "text/html": "<img src=http://img6a.flixcart.com/image/top/k/j/s/1-1-mwst0615-1341-my-addiction-m-original-imae8f7x6vk5vyyj.jpeg width=\"300\" height=\"500\">",
          "text/plain": "<IPython.core.display.HTML object>"
         },
         "metadata": {},
         "output_type": "display_data"
        },
        {
         "data": {
          "text/plain": "\"My Addiction Casual Full Sleeve Solid Women's Top My Addiction Casual Full Sleeve Solid Women's Top\\n                         Price: Rs. 579\\n\\t\\t\\t\\t\\n\\t\\t\\tMy Addiction Round Neck Top\\nMy Addiction Round Neck Top\""
         },
         "metadata": {},
         "output_type": "display_data"
        },
        {
         "data": {
          "text/plain": "'Similarity: 0.7043961882591248'"
         },
         "metadata": {},
         "output_type": "display_data"
        },
        {
         "data": {
          "text/html": "<img src=http://img6a.flixcart.com/image/sweater/z/5/a/cy32-club-york-l-original-imae9gxgn5sfu9yz.jpeg width=\"300\" height=\"500\">",
          "text/plain": "<IPython.core.display.HTML object>"
         },
         "metadata": {},
         "output_type": "display_data"
        },
        {
         "data": {
          "text/plain": "\"Club York Solid V-neck Casual Men's Sweater Club York Solid V-neck Casual Men's Sweater\\n                         Price: Rs. 700\\n\\t\\t\\t\\t\\n\\t\\t\\tMen's Full Sleeve Sweater\\nMen's Full Sleeve Sweater\""
         },
         "metadata": {},
         "output_type": "display_data"
        },
        {
         "data": {
          "text/plain": "'Similarity: 0.7043961882591248'"
         },
         "metadata": {},
         "output_type": "display_data"
        },
        {
         "data": {
          "text/html": "<img src=http://img6a.flixcart.com/image/sweater/r/g/m/cy30-club-york-m-original-imae9gx5jq6ghgce.jpeg width=\"300\" height=\"500\">",
          "text/plain": "<IPython.core.display.HTML object>"
         },
         "metadata": {},
         "output_type": "display_data"
        },
        {
         "data": {
          "text/plain": "\"Club York Solid V-neck Casual Men's Sweater Club York Solid V-neck Casual Men's Sweater\\n                         Price: Rs. 700\\n\\t\\t\\t\\t\\n\\t\\t\\tMen's Full Sleeve Sweater\\nMen's Full Sleeve Sweater\""
         },
         "metadata": {},
         "output_type": "display_data"
        },
        {
         "data": {
          "text/plain": "'Similarity: 0.7043961882591248'"
         },
         "metadata": {},
         "output_type": "display_data"
        },
        {
         "data": {
          "text/html": "<img src=http://img5a.flixcart.com/image/sweater/f/z/a/cy53-club-york-xxl-original-imae9gyyz4sgattp.jpeg width=\"300\" height=\"500\">",
          "text/plain": "<IPython.core.display.HTML object>"
         },
         "metadata": {},
         "output_type": "display_data"
        },
        {
         "data": {
          "text/plain": "\"Club York Solid V-neck Casual Men's Sweater Club York Solid V-neck Casual Men's Sweater\\n                         Price: Rs. 700\\n\\t\\t\\t\\t\\n\\t\\t\\tMen's Full Sleeve Sweater\\nMen's Full Sleeve Sweater\""
         },
         "metadata": {},
         "output_type": "display_data"
        }
       ]
      }
     },
     "35c3bc62eb034d9e80a6479437ed70af": {
      "model_module": "@jupyter-widgets/base",
      "model_module_version": "2.0.0",
      "model_name": "LayoutModel",
      "state": {}
     },
     "36bed59eb5f24945bb11955983a5fc70": {
      "model_module": "@jupyter-widgets/controls",
      "model_module_version": "2.0.0",
      "model_name": "HTMLStyleModel",
      "state": {
       "description_width": "",
       "font_size": null,
       "text_color": null
      }
     },
     "37e6762111764bfeaa7915131ee19b58": {
      "model_module": "@jupyter-widgets/controls",
      "model_module_version": "2.0.0",
      "model_name": "IntSliderModel",
      "state": {
       "behavior": "drag-tap",
       "description": "top_k",
       "layout": "IPY_MODEL_e263403927934c6a94463108c1b16e69",
       "max": 50,
       "min": 1,
       "style": "IPY_MODEL_9b57ab2b7aa845b0a1dbc808be21828e",
       "value": 5
      }
     },
     "38094eac60784adb873e16fd3759b839": {
      "model_module": "@jupyter-widgets/base",
      "model_module_version": "2.0.0",
      "model_name": "LayoutModel",
      "state": {}
     },
     "38ce19736216450f927c55784b0ed33d": {
      "model_module": "@jupyter-widgets/base",
      "model_module_version": "2.0.0",
      "model_name": "LayoutModel",
      "state": {}
     },
     "39c1f29e93f54afc9ca6bd6d99380fa5": {
      "model_module": "@jupyter-widgets/controls",
      "model_module_version": "2.0.0",
      "model_name": "TextModel",
      "state": {
       "description": "query",
       "layout": "IPY_MODEL_5f1e9cd0e2ec46479e27d0757a025843",
       "style": "IPY_MODEL_74cde0aeaf584cc2b0b3868bea6bc513",
       "value": "Round Neck T-Shirt"
      }
     },
     "40afd29336e544bdbab94207c1fefcc3": {
      "model_module": "@jupyter-widgets/output",
      "model_module_version": "1.0.0",
      "model_name": "OutputModel",
      "state": {
       "layout": "IPY_MODEL_2694925206d94c7687017e7cfb60cab0",
       "outputs": [
        {
         "data": {
          "text/plain": "'Similarity: 0.7669035792350769'"
         },
         "metadata": {},
         "output_type": "display_data"
        },
        {
         "data": {
          "text/html": "<img src=http://img6a.flixcart.com/image/t-shirt/w/y/g/kkpd22bxgreen-max-12-18-months-original-imaee98jgmqgvfpt.jpeg width=\"300\" height=\"500\">",
          "text/plain": "<IPython.core.display.HTML object>"
         },
         "metadata": {},
         "output_type": "display_data"
        },
        {
         "data": {
          "text/plain": "'Max T-Shirt Specifications of Max T-Shirt General Details Occasion Casual Additional Details Style Code KKPD22BXGREEN'"
         },
         "metadata": {},
         "output_type": "display_data"
        },
        {
         "data": {
          "text/plain": "'Similarity: 0.7069019675254822'"
         },
         "metadata": {},
         "output_type": "display_data"
        },
        {
         "data": {
          "text/html": "<img src=http://img6a.flixcart.com/image/top/k/j/s/1-1-mwst0615-1341-my-addiction-m-original-imae8f7x6vk5vyyj.jpeg width=\"300\" height=\"500\">",
          "text/plain": "<IPython.core.display.HTML object>"
         },
         "metadata": {},
         "output_type": "display_data"
        },
        {
         "data": {
          "text/plain": "\"My Addiction Casual Full Sleeve Solid Women's Top My Addiction Casual Full Sleeve Solid Women's Top\\n                         Price: Rs. 579\\n\\t\\t\\t\\t\\n\\t\\t\\tMy Addiction Round Neck Top\\nMy Addiction Round Neck Top\""
         },
         "metadata": {},
         "output_type": "display_data"
        },
        {
         "data": {
          "text/plain": "'Similarity: 0.7043961882591248'"
         },
         "metadata": {},
         "output_type": "display_data"
        },
        {
         "data": {
          "text/html": "<img src=http://img6a.flixcart.com/image/sweater/z/5/a/cy32-club-york-l-original-imae9gxgn5sfu9yz.jpeg width=\"300\" height=\"500\">",
          "text/plain": "<IPython.core.display.HTML object>"
         },
         "metadata": {},
         "output_type": "display_data"
        },
        {
         "data": {
          "text/plain": "\"Club York Solid V-neck Casual Men's Sweater Club York Solid V-neck Casual Men's Sweater\\n                         Price: Rs. 700\\n\\t\\t\\t\\t\\n\\t\\t\\tMen's Full Sleeve Sweater\\nMen's Full Sleeve Sweater\""
         },
         "metadata": {},
         "output_type": "display_data"
        },
        {
         "data": {
          "text/plain": "'Similarity: 0.7043961882591248'"
         },
         "metadata": {},
         "output_type": "display_data"
        },
        {
         "data": {
          "text/html": "<img src=http://img6a.flixcart.com/image/sweater/r/g/m/cy30-club-york-m-original-imae9gx5jq6ghgce.jpeg width=\"300\" height=\"500\">",
          "text/plain": "<IPython.core.display.HTML object>"
         },
         "metadata": {},
         "output_type": "display_data"
        },
        {
         "data": {
          "text/plain": "\"Club York Solid V-neck Casual Men's Sweater Club York Solid V-neck Casual Men's Sweater\\n                         Price: Rs. 700\\n\\t\\t\\t\\t\\n\\t\\t\\tMen's Full Sleeve Sweater\\nMen's Full Sleeve Sweater\""
         },
         "metadata": {},
         "output_type": "display_data"
        },
        {
         "data": {
          "text/plain": "'Similarity: 0.7043961882591248'"
         },
         "metadata": {},
         "output_type": "display_data"
        },
        {
         "data": {
          "text/html": "<img src=http://img5a.flixcart.com/image/sweater/f/z/a/cy53-club-york-xxl-original-imae9gyyz4sgattp.jpeg width=\"300\" height=\"500\">",
          "text/plain": "<IPython.core.display.HTML object>"
         },
         "metadata": {},
         "output_type": "display_data"
        },
        {
         "data": {
          "text/plain": "\"Club York Solid V-neck Casual Men's Sweater Club York Solid V-neck Casual Men's Sweater\\n                         Price: Rs. 700\\n\\t\\t\\t\\t\\n\\t\\t\\tMen's Full Sleeve Sweater\\nMen's Full Sleeve Sweater\""
         },
         "metadata": {},
         "output_type": "display_data"
        }
       ]
      }
     },
     "413e42e402754ccf92b87cdd01d15e6a": {
      "model_module": "@jupyter-widgets/base",
      "model_module_version": "2.0.0",
      "model_name": "LayoutModel",
      "state": {}
     },
     "42db9ce4abda483a92279dc8a94033da": {
      "model_module": "@jupyter-widgets/controls",
      "model_module_version": "2.0.0",
      "model_name": "TextStyleModel",
      "state": {
       "description_width": "",
       "font_size": null,
       "text_color": null
      }
     },
     "464b572fb4a8430594e79c525b8ad19d": {
      "model_module": "@jupyter-widgets/controls",
      "model_module_version": "2.0.0",
      "model_name": "SliderStyleModel",
      "state": {
       "description_width": ""
      }
     },
     "48b414797fb94eb6af10dbda4411fc9a": {
      "model_module": "@jupyter-widgets/base",
      "model_module_version": "2.0.0",
      "model_name": "LayoutModel",
      "state": {}
     },
     "4ab9677dc289491886db82a387a4f382": {
      "model_module": "@jupyter-widgets/base",
      "model_module_version": "2.0.0",
      "model_name": "LayoutModel",
      "state": {}
     },
     "511b56d0bf0f4afc99ef4b8b7c7e5468": {
      "model_module": "@jupyter-widgets/controls",
      "model_module_version": "2.0.0",
      "model_name": "HTMLModel",
      "state": {
       "layout": "IPY_MODEL_dab8f8f37a2e4a1eb175a8a17416a7c6",
       "style": "IPY_MODEL_ec7d9d71daf740b187c35ad43a8ee831",
       "value": "100%"
      }
     },
     "52cf819dadb246d18c149bdeb2484ca1": {
      "model_module": "@jupyter-widgets/base",
      "model_module_version": "2.0.0",
      "model_name": "LayoutModel",
      "state": {}
     },
     "54581a2e4cc14c78b64fdaa61af23018": {
      "model_module": "@jupyter-widgets/base",
      "model_module_version": "2.0.0",
      "model_name": "LayoutModel",
      "state": {}
     },
     "566b937ba1814f62b5c969a6cbf59775": {
      "model_module": "@jupyter-widgets/base",
      "model_module_version": "2.0.0",
      "model_name": "LayoutModel",
      "state": {}
     },
     "5772431ab5f64f318038cbfcdbddc949": {
      "model_module": "@jupyter-widgets/base",
      "model_module_version": "2.0.0",
      "model_name": "LayoutModel",
      "state": {}
     },
     "58933bc49463496b8cc22a67a146dcfd": {
      "model_module": "@jupyter-widgets/output",
      "model_module_version": "1.0.0",
      "model_name": "OutputModel",
      "state": {
       "layout": "IPY_MODEL_fcd7f0eacacd4e5899038c4adcf7b502",
       "outputs": [
        {
         "ename": "JSONDecodeError",
         "evalue": "Expecting value: line 1 column 1 (char 0)",
         "output_type": "error",
         "traceback": [
          "\u001b[1;31m---------------------------------------------------------------------------\u001b[0m",
          "\u001b[1;31mJSONDecodeError\u001b[0m                           Traceback (most recent call last)",
          "File \u001b[1;32m~\\Documents\\Github\\vecto-tutorials\\venv\\lib\\site-packages\\requests\\models.py:971\u001b[0m, in \u001b[0;36mResponse.json\u001b[1;34m(self, **kwargs)\u001b[0m\n\u001b[0;32m    970\u001b[0m \u001b[38;5;28;01mtry\u001b[39;00m:\n\u001b[1;32m--> 971\u001b[0m     \u001b[38;5;28;01mreturn\u001b[39;00m complexjson\u001b[38;5;241m.\u001b[39mloads(\u001b[38;5;28mself\u001b[39m\u001b[38;5;241m.\u001b[39mtext, \u001b[38;5;241m*\u001b[39m\u001b[38;5;241m*\u001b[39mkwargs)\n\u001b[0;32m    972\u001b[0m \u001b[38;5;28;01mexcept\u001b[39;00m JSONDecodeError \u001b[38;5;28;01mas\u001b[39;00m e:\n\u001b[0;32m    973\u001b[0m     \u001b[38;5;66;03m# Catch JSON-related errors and raise as requests.JSONDecodeError\u001b[39;00m\n\u001b[0;32m    974\u001b[0m     \u001b[38;5;66;03m# This aliases json.JSONDecodeError and simplejson.JSONDecodeError\u001b[39;00m\n",
          "File \u001b[1;32mC:\\Program Files\\WindowsApps\\PythonSoftwareFoundation.Python.3.10_3.10.2032.0_x64__qbz5n2kfra8p0\\lib\\json\\__init__.py:346\u001b[0m, in \u001b[0;36mloads\u001b[1;34m(s, cls, object_hook, parse_float, parse_int, parse_constant, object_pairs_hook, **kw)\u001b[0m\n\u001b[0;32m    343\u001b[0m \u001b[38;5;28;01mif\u001b[39;00m (\u001b[38;5;28mcls\u001b[39m \u001b[38;5;129;01mis\u001b[39;00m \u001b[38;5;28;01mNone\u001b[39;00m \u001b[38;5;129;01mand\u001b[39;00m object_hook \u001b[38;5;129;01mis\u001b[39;00m \u001b[38;5;28;01mNone\u001b[39;00m \u001b[38;5;129;01mand\u001b[39;00m\n\u001b[0;32m    344\u001b[0m         parse_int \u001b[38;5;129;01mis\u001b[39;00m \u001b[38;5;28;01mNone\u001b[39;00m \u001b[38;5;129;01mand\u001b[39;00m parse_float \u001b[38;5;129;01mis\u001b[39;00m \u001b[38;5;28;01mNone\u001b[39;00m \u001b[38;5;129;01mand\u001b[39;00m\n\u001b[0;32m    345\u001b[0m         parse_constant \u001b[38;5;129;01mis\u001b[39;00m \u001b[38;5;28;01mNone\u001b[39;00m \u001b[38;5;129;01mand\u001b[39;00m object_pairs_hook \u001b[38;5;129;01mis\u001b[39;00m \u001b[38;5;28;01mNone\u001b[39;00m \u001b[38;5;129;01mand\u001b[39;00m \u001b[38;5;129;01mnot\u001b[39;00m kw):\n\u001b[1;32m--> 346\u001b[0m     \u001b[38;5;28;01mreturn\u001b[39;00m \u001b[43m_default_decoder\u001b[49m\u001b[38;5;241;43m.\u001b[39;49m\u001b[43mdecode\u001b[49m\u001b[43m(\u001b[49m\u001b[43ms\u001b[49m\u001b[43m)\u001b[49m\n\u001b[0;32m    347\u001b[0m \u001b[38;5;28;01mif\u001b[39;00m \u001b[38;5;28mcls\u001b[39m \u001b[38;5;129;01mis\u001b[39;00m \u001b[38;5;28;01mNone\u001b[39;00m:\n",
          "File \u001b[1;32mC:\\Program Files\\WindowsApps\\PythonSoftwareFoundation.Python.3.10_3.10.2032.0_x64__qbz5n2kfra8p0\\lib\\json\\decoder.py:337\u001b[0m, in \u001b[0;36mJSONDecoder.decode\u001b[1;34m(self, s, _w)\u001b[0m\n\u001b[0;32m    333\u001b[0m \u001b[38;5;124;03m\"\"\"Return the Python representation of ``s`` (a ``str`` instance\u001b[39;00m\n\u001b[0;32m    334\u001b[0m \u001b[38;5;124;03mcontaining a JSON document).\u001b[39;00m\n\u001b[0;32m    335\u001b[0m \n\u001b[0;32m    336\u001b[0m \u001b[38;5;124;03m\"\"\"\u001b[39;00m\n\u001b[1;32m--> 337\u001b[0m obj, end \u001b[38;5;241m=\u001b[39m \u001b[38;5;28;43mself\u001b[39;49m\u001b[38;5;241;43m.\u001b[39;49m\u001b[43mraw_decode\u001b[49m\u001b[43m(\u001b[49m\u001b[43ms\u001b[49m\u001b[43m,\u001b[49m\u001b[43m \u001b[49m\u001b[43midx\u001b[49m\u001b[38;5;241;43m=\u001b[39;49m\u001b[43m_w\u001b[49m\u001b[43m(\u001b[49m\u001b[43ms\u001b[49m\u001b[43m,\u001b[49m\u001b[43m \u001b[49m\u001b[38;5;241;43m0\u001b[39;49m\u001b[43m)\u001b[49m\u001b[38;5;241;43m.\u001b[39;49m\u001b[43mend\u001b[49m\u001b[43m(\u001b[49m\u001b[43m)\u001b[49m\u001b[43m)\u001b[49m\n\u001b[0;32m    338\u001b[0m end \u001b[38;5;241m=\u001b[39m _w(s, end)\u001b[38;5;241m.\u001b[39mend()\n",
          "File \u001b[1;32mC:\\Program Files\\WindowsApps\\PythonSoftwareFoundation.Python.3.10_3.10.2032.0_x64__qbz5n2kfra8p0\\lib\\json\\decoder.py:355\u001b[0m, in \u001b[0;36mJSONDecoder.raw_decode\u001b[1;34m(self, s, idx)\u001b[0m\n\u001b[0;32m    354\u001b[0m \u001b[38;5;28;01mexcept\u001b[39;00m \u001b[38;5;167;01mStopIteration\u001b[39;00m \u001b[38;5;28;01mas\u001b[39;00m err:\n\u001b[1;32m--> 355\u001b[0m     \u001b[38;5;28;01mraise\u001b[39;00m JSONDecodeError(\u001b[38;5;124m\"\u001b[39m\u001b[38;5;124mExpecting value\u001b[39m\u001b[38;5;124m\"\u001b[39m, s, err\u001b[38;5;241m.\u001b[39mvalue) \u001b[38;5;28;01mfrom\u001b[39;00m \u001b[38;5;28mNone\u001b[39m\n\u001b[0;32m    356\u001b[0m \u001b[38;5;28;01mreturn\u001b[39;00m obj, end\n",
          "\u001b[1;31mJSONDecodeError\u001b[0m: Expecting value: line 1 column 1 (char 0)",
          "\nDuring handling of the above exception, another exception occurred:\n",
          "\u001b[1;31mJSONDecodeError\u001b[0m                           Traceback (most recent call last)",
          "File \u001b[1;32m~\\Documents\\Github\\vecto-tutorials\\venv\\lib\\site-packages\\ipywidgets\\widgets\\interaction.py:239\u001b[0m, in \u001b[0;36minteractive.update\u001b[1;34m(self, *args)\u001b[0m\n\u001b[0;32m    237\u001b[0m     value \u001b[38;5;241m=\u001b[39m widget\u001b[38;5;241m.\u001b[39mget_interact_value()\n\u001b[0;32m    238\u001b[0m     \u001b[38;5;28mself\u001b[39m\u001b[38;5;241m.\u001b[39mkwargs[widget\u001b[38;5;241m.\u001b[39m_kwarg] \u001b[38;5;241m=\u001b[39m value\n\u001b[1;32m--> 239\u001b[0m \u001b[38;5;28mself\u001b[39m\u001b[38;5;241m.\u001b[39mresult \u001b[38;5;241m=\u001b[39m \u001b[38;5;28mself\u001b[39m\u001b[38;5;241m.\u001b[39mf(\u001b[38;5;241m*\u001b[39m\u001b[38;5;241m*\u001b[39m\u001b[38;5;28mself\u001b[39m\u001b[38;5;241m.\u001b[39mkwargs)\n\u001b[0;32m    240\u001b[0m show_inline_matplotlib_plots()\n\u001b[0;32m    241\u001b[0m \u001b[38;5;28;01mif\u001b[39;00m \u001b[38;5;28mself\u001b[39m\u001b[38;5;241m.\u001b[39mauto_display \u001b[38;5;129;01mand\u001b[39;00m \u001b[38;5;28mself\u001b[39m\u001b[38;5;241m.\u001b[39mresult \u001b[38;5;129;01mis\u001b[39;00m \u001b[38;5;129;01mnot\u001b[39;00m \u001b[38;5;28;01mNone\u001b[39;00m:\n",
          "Cell \u001b[1;32mIn [13], line 3\u001b[0m, in \u001b[0;36mtext_query\u001b[1;34m(query, top_k)\u001b[0m\n\u001b[0;32m      1\u001b[0m \u001b[38;5;28;01mdef\u001b[39;00m \u001b[38;5;21mtext_query\u001b[39m(query, top_k\u001b[38;5;241m=\u001b[39m\u001b[38;5;241m10\u001b[39m):\n\u001b[0;32m      2\u001b[0m     f \u001b[38;5;241m=\u001b[39m io\u001b[38;5;241m.\u001b[39mStringIO(query)\n\u001b[1;32m----> 3\u001b[0m     \u001b[43mlookup\u001b[49m\u001b[43m(\u001b[49m\u001b[43mf\u001b[49m\u001b[43m,\u001b[49m\u001b[43m \u001b[49m\u001b[38;5;124;43m'\u001b[39;49m\u001b[38;5;124;43mTEXT\u001b[39;49m\u001b[38;5;124;43m'\u001b[39;49m\u001b[43m,\u001b[49m\u001b[43m \u001b[49m\u001b[43mtop_k\u001b[49m\u001b[43m)\u001b[49m\n",
          "Cell \u001b[1;32mIn [12], line 7\u001b[0m, in \u001b[0;36mlookup\u001b[1;34m(f, modality, top_k)\u001b[0m\n\u001b[0;32m      1\u001b[0m \u001b[38;5;28;01mdef\u001b[39;00m \u001b[38;5;21mlookup\u001b[39m(f, modality, top_k):\n\u001b[0;32m      2\u001b[0m     result \u001b[38;5;241m=\u001b[39m requests\u001b[38;5;241m.\u001b[39mpost(\u001b[38;5;124m\"\u001b[39m\u001b[38;5;132;01m%s\u001b[39;00m\u001b[38;5;124m/lookup\u001b[39m\u001b[38;5;124m\"\u001b[39m \u001b[38;5;241m%\u001b[39m vecto_base_url,\n\u001b[0;32m      3\u001b[0m                            data\u001b[38;5;241m=\u001b[39m{\u001b[38;5;124m'\u001b[39m\u001b[38;5;124mvector_space_id\u001b[39m\u001b[38;5;124m'\u001b[39m: vector_space_id, \u001b[38;5;124m'\u001b[39m\u001b[38;5;124mmodality\u001b[39m\u001b[38;5;124m'\u001b[39m: modality, \u001b[38;5;124m'\u001b[39m\u001b[38;5;124mtop_k\u001b[39m\u001b[38;5;124m'\u001b[39m: top_k},\n\u001b[0;32m      4\u001b[0m                            files\u001b[38;5;241m=\u001b[39m{\u001b[38;5;124m'\u001b[39m\u001b[38;5;124mquery\u001b[39m\u001b[38;5;124m'\u001b[39m: f},\n\u001b[0;32m      5\u001b[0m                            headers\u001b[38;5;241m=\u001b[39m{\u001b[38;5;124m\"\u001b[39m\u001b[38;5;124mAuthorization\u001b[39m\u001b[38;5;124m\"\u001b[39m:\u001b[38;5;124m\"\u001b[39m\u001b[38;5;124mBearer \u001b[39m\u001b[38;5;132;01m%s\u001b[39;00m\u001b[38;5;124m\"\u001b[39m \u001b[38;5;241m%\u001b[39mtoken})\n\u001b[1;32m----> 7\u001b[0m     results \u001b[38;5;241m=\u001b[39m \u001b[43mresult\u001b[49m\u001b[38;5;241;43m.\u001b[39;49m\u001b[43mjson\u001b[49m\u001b[43m(\u001b[49m\u001b[43m)\u001b[49m[\u001b[38;5;124m'\u001b[39m\u001b[38;5;124mresults\u001b[39m\u001b[38;5;124m'\u001b[39m]\n\u001b[0;32m      8\u001b[0m     display_results(results)\n",
          "File \u001b[1;32m~\\Documents\\Github\\vecto-tutorials\\venv\\lib\\site-packages\\requests\\models.py:975\u001b[0m, in \u001b[0;36mResponse.json\u001b[1;34m(self, **kwargs)\u001b[0m\n\u001b[0;32m    971\u001b[0m     \u001b[38;5;28;01mreturn\u001b[39;00m complexjson\u001b[38;5;241m.\u001b[39mloads(\u001b[38;5;28mself\u001b[39m\u001b[38;5;241m.\u001b[39mtext, \u001b[38;5;241m*\u001b[39m\u001b[38;5;241m*\u001b[39mkwargs)\n\u001b[0;32m    972\u001b[0m \u001b[38;5;28;01mexcept\u001b[39;00m JSONDecodeError \u001b[38;5;28;01mas\u001b[39;00m e:\n\u001b[0;32m    973\u001b[0m     \u001b[38;5;66;03m# Catch JSON-related errors and raise as requests.JSONDecodeError\u001b[39;00m\n\u001b[0;32m    974\u001b[0m     \u001b[38;5;66;03m# This aliases json.JSONDecodeError and simplejson.JSONDecodeError\u001b[39;00m\n\u001b[1;32m--> 975\u001b[0m     \u001b[38;5;28;01mraise\u001b[39;00m RequestsJSONDecodeError(e\u001b[38;5;241m.\u001b[39mmsg, e\u001b[38;5;241m.\u001b[39mdoc, e\u001b[38;5;241m.\u001b[39mpos)\n",
          "\u001b[1;31mJSONDecodeError\u001b[0m: Expecting value: line 1 column 1 (char 0)"
         ]
        }
       ]
      }
     },
     "5b72271b2bf1479cb52de443a1023a6e": {
      "model_module": "@jupyter-widgets/controls",
      "model_module_version": "2.0.0",
      "model_name": "ProgressStyleModel",
      "state": {
       "description_width": ""
      }
     },
     "5db28f30292f45aa99d0584af35092e7": {
      "model_module": "@jupyter-widgets/controls",
      "model_module_version": "2.0.0",
      "model_name": "TextModel",
      "state": {
       "description": "start",
       "layout": "IPY_MODEL_149fd48782184df185b9e02f78a7fb5d",
       "style": "IPY_MODEL_ee9f8a9082294c00916e5cde0a4ecb96",
       "value": "summer"
      }
     },
     "5f1e9cd0e2ec46479e27d0757a025843": {
      "model_module": "@jupyter-widgets/base",
      "model_module_version": "2.0.0",
      "model_name": "LayoutModel",
      "state": {}
     },
     "6036b56b47004c7ea6e1d1ab8b81548f": {
      "model_module": "@jupyter-widgets/base",
      "model_module_version": "2.0.0",
      "model_name": "LayoutModel",
      "state": {}
     },
     "627a662041dc4e41ba1ef2bc9bcfda20": {
      "model_module": "@jupyter-widgets/base",
      "model_module_version": "2.0.0",
      "model_name": "LayoutModel",
      "state": {}
     },
     "6321928fbae24076977d3730a7124534": {
      "model_module": "@jupyter-widgets/controls",
      "model_module_version": "2.0.0",
      "model_name": "VBoxModel",
      "state": {
       "_dom_classes": [
        "widget-interact"
       ],
       "children": [
        "IPY_MODEL_113085db8ab247268424601367f5566a",
        "IPY_MODEL_df3c3126052e4791bce9db773961b54a",
        "IPY_MODEL_a83b0ce32f94491f9f6f3fdd76532f1e",
        "IPY_MODEL_58933bc49463496b8cc22a67a146dcfd"
       ],
       "layout": "IPY_MODEL_222626b846a6420b9331d305c869fc11"
      }
     },
     "648f160f63e74634b6942a61191f1938": {
      "model_module": "@jupyter-widgets/output",
      "model_module_version": "1.0.0",
      "model_name": "OutputModel",
      "state": {
       "layout": "IPY_MODEL_627a662041dc4e41ba1ef2bc9bcfda20",
       "outputs": [
        {
         "data": {
          "text/plain": "'Similarity: 0.8009228110313416'"
         },
         "metadata": {},
         "output_type": "display_data"
        },
        {
         "data": {
          "text/html": "<img src=http://img6a.flixcart.com/image/t-shirt/w/y/g/kkpd22bxgreen-max-12-18-months-original-imaee98jgmqgvfpt.jpeg width=\"300\" height=\"500\">",
          "text/plain": "<IPython.core.display.HTML object>"
         },
         "metadata": {},
         "output_type": "display_data"
        },
        {
         "data": {
          "text/plain": "'Max T-Shirt Specifications of Max T-Shirt General Details Occasion Casual Additional Details Style Code KKPD22BXGREEN'"
         },
         "metadata": {},
         "output_type": "display_data"
        },
        {
         "data": {
          "text/plain": "'Similarity: 0.7038622498512268'"
         },
         "metadata": {},
         "output_type": "display_data"
        },
        {
         "data": {
          "text/html": "<img src=http://img6a.flixcart.com/image/top/k/j/s/1-1-mwst0615-1341-my-addiction-m-original-imae8f7x6vk5vyyj.jpeg width=\"300\" height=\"500\">",
          "text/plain": "<IPython.core.display.HTML object>"
         },
         "metadata": {},
         "output_type": "display_data"
        },
        {
         "data": {
          "text/plain": "\"My Addiction Casual Full Sleeve Solid Women's Top My Addiction Casual Full Sleeve Solid Women's Top\\n                         Price: Rs. 579\\n\\t\\t\\t\\t\\n\\t\\t\\tMy Addiction Round Neck Top\\nMy Addiction Round Neck Top\""
         },
         "metadata": {},
         "output_type": "display_data"
        },
        {
         "data": {
          "text/plain": "'Similarity: 0.6992558836936951'"
         },
         "metadata": {},
         "output_type": "display_data"
        },
        {
         "data": {
          "text/html": "<img src=http://img5a.flixcart.com/image/t-shirt/4/n/p/500-officers-choice-xxs-700x700-imaedzatfgn2sz8k.jpeg width=\"300\" height=\"500\">",
          "text/plain": "<IPython.core.display.HTML object>"
         },
         "metadata": {},
         "output_type": "display_data"
        },
        {
         "data": {
          "text/plain": "\"Officers Choice Solid Men's Round Neck T-Shirt Officers Choice Solid Men's Round Neck T-Shirt\\n                         Price: Rs. 245\\n\\t\\t\\t\\t\\n\\t\\t\\tA Pure Combed Cotton Men'S Round Neck T-Shirt Half Sleeve\\nA Pure Combed Cotton Men'S Round Neck T-Shirt Half Sleeve\""
         },
         "metadata": {},
         "output_type": "display_data"
        }
       ]
      }
     },
     "652234efb0204320836dc8c5074f157e": {
      "model_module": "@jupyter-widgets/controls",
      "model_module_version": "2.0.0",
      "model_name": "TextModel",
      "state": {
       "description": "query",
       "layout": "IPY_MODEL_a1a1e1e7f5ac4889a7116c778981b7d5",
       "style": "IPY_MODEL_bdf3fc440c754048918d864b1ccceb22",
       "value": "Round Neck T-Shirt"
      }
     },
     "675f861aefd543b297667577333b9187": {
      "model_module": "@jupyter-widgets/controls",
      "model_module_version": "2.0.0",
      "model_name": "HTMLStyleModel",
      "state": {
       "description_width": "",
       "font_size": null,
       "text_color": null
      }
     },
     "6767d5e820264561933b8bbf8058b6ea": {
      "model_module": "@jupyter-widgets/base",
      "model_module_version": "2.0.0",
      "model_name": "LayoutModel",
      "state": {}
     },
     "6859faeaaed547ddbb4e5c5ccf6b4747": {
      "model_module": "@jupyter-widgets/controls",
      "model_module_version": "2.0.0",
      "model_name": "HTMLModel",
      "state": {
       "layout": "IPY_MODEL_6036b56b47004c7ea6e1d1ab8b81548f",
       "style": "IPY_MODEL_675f861aefd543b297667577333b9187",
       "value": "100%"
      }
     },
     "690ac333212c40169a364d469654f0f4": {
      "model_module": "@jupyter-widgets/base",
      "model_module_version": "2.0.0",
      "model_name": "LayoutModel",
      "state": {}
     },
     "69281a43c08e4dcba6e17407ab0b1b29": {
      "model_module": "@jupyter-widgets/controls",
      "model_module_version": "2.0.0",
      "model_name": "HTMLModel",
      "state": {
       "layout": "IPY_MODEL_f6a062a8b0da49718cabc7a61fe10199",
       "style": "IPY_MODEL_36bed59eb5f24945bb11955983a5fc70",
       "value": " 79/79 [07:59&lt;00:00,  4.48s/it]"
      }
     },
     "6b520110e4c24b48975c76ee2a66545f": {
      "model_module": "@jupyter-widgets/base",
      "model_module_version": "2.0.0",
      "model_name": "LayoutModel",
      "state": {}
     },
     "6ba39028532b4d25ab258623777dc130": {
      "model_module": "@jupyter-widgets/controls",
      "model_module_version": "2.0.0",
      "model_name": "VBoxModel",
      "state": {
       "_dom_classes": [
        "widget-interact"
       ],
       "children": [
        "IPY_MODEL_122659e7037b4653862a1e113cb3a28f",
        "IPY_MODEL_5db28f30292f45aa99d0584af35092e7",
        "IPY_MODEL_8cf70fb9bb324b168126ac0d950e8d99",
        "IPY_MODEL_7d266c6e80244fe98c9d910c595f9410",
        "IPY_MODEL_95fac7d6f2914b03a544cfe9b4e4a2ff",
        "IPY_MODEL_34c476d55fc44168b73cb519f75470b8"
       ],
       "layout": "IPY_MODEL_6b520110e4c24b48975c76ee2a66545f"
      }
     },
     "6f3398cad59145429a36e66747425d9a": {
      "model_module": "@jupyter-widgets/controls",
      "model_module_version": "2.0.0",
      "model_name": "VBoxModel",
      "state": {
       "_dom_classes": [
        "widget-interact"
       ],
       "children": [
        "IPY_MODEL_652234efb0204320836dc8c5074f157e",
        "IPY_MODEL_12eef790dbf8479f9f3bd22befbc5952",
        "IPY_MODEL_9689cbfc19144fdf877195733f9e171a",
        "IPY_MODEL_37e6762111764bfeaa7915131ee19b58",
        "IPY_MODEL_01fb7d60f38146e486564a97195cc2fa",
        "IPY_MODEL_40afd29336e544bdbab94207c1fefcc3"
       ],
       "layout": "IPY_MODEL_9347c98ea500499ab25d93635f70f3fa"
      }
     },
     "6f5f865df2d04aa7a076269b4cbe0d48": {
      "model_module": "@jupyter-widgets/controls",
      "model_module_version": "2.0.0",
      "model_name": "VBoxModel",
      "state": {
       "_dom_classes": [
        "widget-interact"
       ],
       "children": [
        "IPY_MODEL_e238ae8de26446d28c0bf1eb5d9c1d70",
        "IPY_MODEL_bbab84dba68140fd9c37179b88e77753",
        "IPY_MODEL_d4218c54b2094773add2985413421ce2",
        "IPY_MODEL_648f160f63e74634b6942a61191f1938"
       ],
       "layout": "IPY_MODEL_5772431ab5f64f318038cbfcdbddc949"
      }
     },
     "722a829512004c0db08a7649489554a0": {
      "model_module": "@jupyter-widgets/controls",
      "model_module_version": "2.0.0",
      "model_name": "HTMLStyleModel",
      "state": {
       "description_width": "",
       "font_size": null,
       "text_color": null
      }
     },
     "73b8be2978a247c9a462dfc9845b8cf8": {
      "model_module": "@jupyter-widgets/base",
      "model_module_version": "2.0.0",
      "model_name": "LayoutModel",
      "state": {}
     },
     "74cde0aeaf584cc2b0b3868bea6bc513": {
      "model_module": "@jupyter-widgets/controls",
      "model_module_version": "2.0.0",
      "model_name": "TextStyleModel",
      "state": {
       "description_width": "",
       "font_size": null,
       "text_color": null
      }
     },
     "764822c4695a41f5b0f23d30f1c17063": {
      "buffers": [
       {
        "data": "/9j/4AAQSkZJRgABAQEASABIAAD/4gIcSUNDX1BST0ZJTEUAAQEAAAIMbGNtcwIQAABtbnRyUkdCIFhZWiAH3AABABkAAwApADlhY3NwQVBQTAAAAAAAAAAAAAAAAAAAAAAAAAAAAAAAAAAA9tYAAQAAAADTLWxjbXMAAAAAAAAAAAAAAAAAAAAAAAAAAAAAAAAAAAAAAAAAAAAAAAAAAAAAAAAAAAAAAApkZXNjAAAA/AAAAF5jcHJ0AAABXAAAAAt3dHB0AAABaAAAABRia3B0AAABfAAAABRyWFlaAAABkAAAABRnWFlaAAABpAAAABRiWFlaAAABuAAAABRyVFJDAAABzAAAAEBnVFJDAAABzAAAAEBiVFJDAAABzAAAAEBkZXNjAAAAAAAAAANjMgAAAAAAAAAAAAAAAAAAAAAAAAAAAAAAAAAAAAAAAAAAAAAAAAAAAAAAAAAAAAAAAAAAAAAAAAAAAAAAAAAAAAAAAAAAAAAAAAAAAAAAAAAAAAB0ZXh0AAAAAElYAABYWVogAAAAAAAA9tYAAQAAAADTLVhZWiAAAAAAAAADFgAAAzMAAAKkWFlaIAAAAAAAAG+iAAA49QAAA5BYWVogAAAAAAAAYpkAALeFAAAY2lhZWiAAAAAAAAAkoAAAD4QAALbPY3VydgAAAAAAAAAaAAAAywHJA2MFkghrC/YQPxVRGzQh8SmQMhg7kkYFUXdd7WtwegWJsZp8rGm/fdPD6TD////bAIQAAgMDAwQDBAUFBAYGBgYGCAgHBwgIDQkKCQoJDRMMDgwMDgwTERQRDxEUER4YFRUYHiMdHB0jKiUlKjUyNUVFXAECAwMDBAMEBQUEBgYGBgYICAcHCAgNCQoJCgkNEwwODAwODBMRFBEPERQRHhgVFRgeIx0cHSMqJSUqNTI1RUVc/8IAEQgM8gk/AwEiAAIRAQMRAf/EADcAAQADAQACAwEAAAAAAAAAAAABAgMEBQoGCAkHAQEBAQEBAQEBAAAAAAAAAAAAAQIDBAUGB//aAAwDAQACEAMQAAAA/fwOYAAAAAAAAAAAAAAAAAAAAAAAAAAAAAAAAAAAAAAAAAAAAAAAAAAAAAAAAAAAAAAAAAAAAAAAAAAAAAAAAAAAAAAAAAAAAAAAAAAAAAAAAAAAAAAAAAAAAAAAAAAAAAAAAAAAAAAAAAAAAAAAAAAAAAAAAAAAAAAAAAAAAAAAAAAAAAAAAAAAAAAAAAAAAAAAAAAAAAAAAAAAAAAAAAAAAAAAAAAAAAAAAAAAAAAAAAAAAAAAAAAAAAAAAAAAAAAAAAAAAAAAAAAAAAAAAAAAAAAAAAAAAAAAAAAAAAAAAAAAAAAAAAAAAAAAAAAAAAAAAAAAAAAAAAAAAAAAAAAAAAAAAAAAAAAAAAAAAAAAAAAAAAAAAAAAAAAAAAAAAAAAAAAAAAAAAAAAAAAAAAAAAAAAAAAAAAAAAAAAAAAAAAAAAAAAAAAAAAAAAAAAAAAAAAAAAAAAAAAAAAAAAAAAAAAAAAAAAAAAAAAAAAAAAAAAAAAAAAAAAAAAAAAAAAAAAAAAAAAAAAAAAAAAAAAAAAAAAAAAAAAAAAAAAAAAAAAAAAAAAAAAAAAAAAAAAAAAAAAAAAAAAAAAAAAAAAAAAAAAAAAAAAAAAAAAAAAAAAAAAAAAAAAAAAAAAAAAAAAAAAAAAAAAAAAAAAAAAAAAAAAAAAAAAAAAAAAAAAAAAAAAAAAAAAAAAAAAAAAAAAAAAAAAAAAAAAAAAAAAAAAAAAAAAAAAAAAAAAAAAAAAAAAAAAAAAAAAAAAAAAAAAAAAAAAAAAAAAAAAAAAAAAAAAAAAAAAAAAAAAAAAAAAAAAAAAAAAAAAAAAAAAAAAAAAAAAAAAAAAAAAAAAAAAAAAAAAAAAAAAAAAAAAAAAAAAAAAAAAAAAAAAAAAAAAAAAAAAAAAAAAAAAAAAAAAAAAAAAAAAAAAAAAAAAAAAAAAAAAAAAAAAAAAAAAAAAAAAAAAAAAAAAAAAAAAAAAAAAAAAAAAAAAAAAAAAAAAAAAAAAAAAAAAAAAAAAAAAAAAAAAAAAAAAAAAAAAAAAAAAAAAAAAAAAAAAAAAAAAAAAAAAAAAAAAAAAAAAAAAAAAAAAAAAAAAAAAAAAAAAAAAAAAAAAAAAAAAAAAAAAAAAAAAAAAAAAAAAAAAAAAAAAAAAAAAAAAAAAAAAAAAAAAAAAAAAAAAAAAAAAAAAAAAAAAAAAAAAAAAAAAAAAAAAAAAAAAAAAAAAAAAAAAAAAAAAAAAAAAAAAAAAAAAAAAAAAAAAAAAAAAAAAAAAAAAAAAAAAAAAAAAAAAAAAAAAAAAAAAAAAAAAAAAAAAAAAAAAAAAAAAAAAAAAAAAAAAAAAAAAAAAAAAAAAAAAAAAAAAAAAAAAAAAAAAAAAAAAAAAAAAAAAAAAAAAAAAAAAAAAAAAAAAAAAAAAAAAAAAAAAAAAAAAAAAAAAAAAAAAAAAAAAAAAAAAAAAAAAAAAAAAAAAAAAAAAAAAAAAAAAAAAAAAAAAAAAAAAAAAAAAAAAAAAAAAAAAAAAAAAAAAAAAAAAAAAAAAAAAAAAAAAAAAAAAAAAAAAAAAAAAAAAAAAAAAAAAAAAAAAAAAAAAAAAAAAAAAAAAAAAAAAAAAAAAAAAAAAAAAAAAAAAAAAAAAAAAAAAAAAAAAAAAAAAAAAAAAAAAAAAAAAAAAAAAAAAAAAAAAAAAAAAAAAAAAAAAAAAAAAAAAAAAAAAAAAAAAAAAAAAAAAAAAAAAAAAAAAAAAAAAAAAAAAAAAAAAAAAAAAAAAAAAAAAAAAAAAAAAAAAAAAAAAAAAAAAAAAAAAAAAAAAAAAAAAAAAAAAAAAAAAAAAAAAAAAAAAAAAAAAAAAAAAAAAAAAAAAAAAAAAAAAAAAAAAAAAAAAAAAAAAAAAAAAAAAAAAAAAAAAAAAAAAAAAAAAAAAAAAAAAAAAAAAAAAAAAAAAAAAAAAAAAAAAAAAAAAAAAAAAAAAAAAAAAAAAAAAAAAAAAAAAAAAAAAAAAAAAAAAAAAAAAAAAAAAAAAAAAAAAAAAAAAAAAAAAAAAAAAAAAAAAAAAAAAAAAAAAAAAAAAAAAAAAAAAAAAAAAAAAAAAAAAAAAAAAAAAAAAAAAAAAAAAAAAAAAAAAAAAAAAAAAAAAAAAAAAAAAAAAAAAAAAAAAAAAAAAAAAAAAAAAAAAAAAAAAAAAAAAAAAAAAAAAAAAAAAAAAAAAAAAAAAAAAAAAAAAAAAAAAAAAAAAAAAAAAAAAAAAAAAAAAAAAAAAAAAAAAAAAAAAAAAAAAAAAAAAAAAAAAAAAAAAAAAAAAAAAAAAAAAAAAAAAAAAAAAAAAAAAAAAAAAAAAAAAAAAAAAAAAAAAAAAAAAAAAAAAAAAAAAAAAAAAAAAAAAAAAAAAAAAAAAAAAAAAAAAAAAAAAAAAAAAAAAAAAAAAAAAAAAAAAAAAAAAAAAAAAAAAAAAAAAAAAAAAAAAAAAAAAAAAAAAAAAAAAAAAAAAAAAAAAAAAAAAAAAAAAAAAAAAAAAAAAAAAAAAAAAAAAAAAAAAAAAAAAAAAAAAAAAAAAAAAAAAAAAAAAAAAAAAAAAAAAAAAAAAAAAAAAAAAAAAAAAAAAAAAAAAAAAAAAAAAAAAAAAAAAAAAAAAAAAAAAAAAAAAAAAAAAAAAAAAAAAAAAAAAAAAAAAAAAAAAAAAAAAAAAAAAAAAAAAAAAAAAAAAAAAAAAAAAAAAAAAAAAAAAAAAAAAAAAAAAAAAAAAAAAAAAAAAAAAAAAAAAAAAAAAAAAAAAAAAAAAAAAAAAAAAAAAAAAAAAAAAAAAAAAAAAAAAAAAAAAAAAAAAAAAAAAAAAAAAAAAAAAAAAAAAAAAAAAAAAAAAAAAAAAAAAAAAAAAAAAAAAAAAAAAAAAAAAAAAAAAAAAAAAAAAAAAAAAAAAAAAAAAAAAAAAAAAAAAAAAAAAAAAAAAAAAAAAAAAAAAAAAAAAAAAAAAAAAAAAAAAAAAAAAAAAAAAAAAAAAAAAAAAAAAAAAAAAAAAAAAAAAAAAAAAAAAAAAAAAAAAAAAAAAAAAAAAAAAAAAAAAAAAAAAAAAAAAAAAAAAAAAAAAAAAAAAAAAAAAAAAAAAAAAAAAAAAAAAAAAAAAAAAAAAAAAAAAAAAAAAAAAAAAAAAAAAAAAAAAAAAAAAAAAAAAAAAAAAAAAAAAAAAAAAAAAAAAAAAAAAAAAAAAAAAAAAAAAAAAAAAAAAAAAAAAAAAAAAAAAAAAAAAAAAAAAAAAAAAAAAAAAAAAAAAAAAAAAAAAAAAAAAAAAAAAAAAAAAAAAAAAAAAAAAAAAAAAAAAAAAAAAAAAAAAAAAAAAAAAAAAAAAAAAAAAAAAAAAAAAAAAAAAAAAAAAAAAAAAAAAAAAAAAAAAAAAAAAAAAAAAAAAAAAAAAAAAAAAAAAAAAAAAAAAAAAAAAAAAAAAAAAAAAAAAAAAAAAAAAAAAAAAAAAAAAAAAAAAAAAAAAAAAAAAAAAAAAAAAAAAAAAAAAAAAAAAAAAAAAAAAAAAAAAAAAAAAAAAAAAAAAAAAAAAAAAAAAAAAAAAAAAAAAAAAAAAAAAAAAAAAAAAAAAAAAAAAAAAAAAAAAAAAAAAAAAAAAAAAAAAAAAAAAAAAAAAAAAAAAAAAAAAAAAAAAAAAAAAAAAAAAAAAAAAAAAAAAAAAAAAAAAAAAAAAAAAAAAAAAAAAAAAAAAAAAAAAAAAAAAAAAAAAAAAAAAAAAAAAAAAAAAAAAAAAAAAAAAAAAAAAAAAAAAAAAAAAAAAAAAAAAAAAAAAAAAAAAAAAAAAAAAAAAAAAAAAAAAAAAAAAAAAAAAAAAAAAAAAAAAAAAAAAAAAAAAAAAAAAAAAAAAAAAAAAAAAAAAAAAAAAAAAAAAAAAAAAAAAAAAAAAAAAAAAAAAAAAAAAAAAAAAAAAAAAAAAAAAAAAAAAAAAAAAAAAAAAAAAAAAAAAAAAAAAAAAAAAAAAAAAAAAAAAAAAAAAAAAAAAAAAAAAAAAAAAAAAAAAAAAAAAAAAAAAAAAAAAAAAAAAAAAAAAAAAAAAAAAAAAAAAAAAAAAAAAAAAAAAAAAAAAAAAAAAAAAAAAAAAAAAAAAAAAAAAAAAAAAAAAAAAAAAAAAAAAAAAAAAAAAAAAAAAAAAAAAAAAAAAAAAAAAAAAAAAAAAAAAAAAAAAAAAAAAAAAAAAAAAAAAAAAAAAAAAAAAAAAAAAAAAAABT+D+Xr/ePEfxb+y8enxT4p/cmH8p/oPX8V3Pmlv4l5zN/qKJ+l5gAAAAAAAAAAAAAAAAAAAAAAAAAAAAAAAAAAAAAAAAAAAAAAAAAAAAAAAAAAAAAAAAAAAAAAAAAAAAAAAAAAAAAAAAAAAAAAAAAAAAAAAAAAAAAAAAAAAAAAAAAAAAAAAAAAAAAAAAAAAAHBX+AeH0X/q/yPyeaH0PMAA8b5Jm/x/8Aq/xD4T8j1/259ZPsR7ePkx7OIAAAAAAAAAAAAAAAAAAAAAAAAAAAAAAAAAAAAAAAAAAAAAAAAAAAAAAAAAAAAAAAAAAAAAAAAAAAAAAAAAAAAAAAAAAAAAAAAAAAAAAAAAAAAAAAAAAAAAAAAAAAAAAAAAAAAAAAAAA+LZv8D/vv80/ufyPaH2fCAAAA+AfP68tfnl/dubh/LfR+1HR/I/65+n+eHfAAAAAAAAAAAAAAAAAAAAAAAAAAAAAAAAAAAAAAAAAAAAAAAAAAAAAAAAAAAAAAAAAAAAAAAAAAAAAAAAAAAAAAAAAAAAAAAAAAAAAAAAAAAAAAAAAAAAAAAAAAAAAAAAAAAAAAAAAD+M/2b66/O9f9+7D6HlCwAAAADwnwH+svN0/mX9NOmQ65AAAAAAAAAAAAAAAAAAAAAAAAAAAAAAAAAAAAAAAAAAAAAAAAAAAAAAAAAAAAAAAAAAAAAAAAAAAAAAAAAAAAAAAAAAAAAAAAAAAAAAAAAAAAAAAAAAAAAAAAAAAAAAAAAAAAAAAAAfwv+5/xP5/r/to+h5AAAAAAAAAAAAAAAAAAAAAAAAAAAAAAAAAAAAAAAAAAAAAAAAAAAAAAAAAAAAAAAAAAAAAAAAAAAAAAAAAAAAAAAAAAAAAAAAAAAAAAAAAAAAAAAAAAAAAAAAAAAAAAAAAAAAAAAAAAAAAAAAAAH13+xH1O+R7Ptiifr+MAAAAAAAAAAAAAAAAAAAAAAAAAAAAAAAAAAAAAAAAAAAAAAAAAAAAAAAAAAAAAAAAAAAAAAAAAAAAAAAAAAAAAAAAAAAAAAAAAAAAAAAAAAAAAAAAAAAAAAAAAAAAAAAAAAAAAAAAAAAAAAAAAB9Zvsz8D8Pp+TeW/h39xuQ9vAAAAAAAAAAAAAAAAAAAAAAAAAAAAAAAAAAAAAAAAAAAAAAAAAAAAAAAAAAAAAAAAAAAAAAAAAAAAAAAAAAAAAAAAAAAAAAAAAAAAAAAAAAAAAAAAAAAAAAAAAAAAAAAAAAAAAAAAAAAAAAAAABWw+q32e+C/Efhe3+5j7viAAAAAAAAAAAAAAAAAAAAAAAAAAAAAAAAAAAAAAAAAAAAAAAAAAAAAAAAAAAAAAAAAAAAAAAAAAAAAAAAAAAAAAAAAAAAAAAAAAAAAAAAAAAAAAAAAAAAAAAAAAAAAAAAAAAAAAAAAAAAAAAAAAfwv+6Z+Tr8b+UfXf7BcdbD6PAAAAAAAAAAAAAAAAAAAAAAAAAAAAAAAAAAAAAAAAAAAAAAAAAAAAAAAAAAAAAAAAAAAAAAAAAAAAAAAAAAAAAAAAAAAAAAAAAAAAAAAAAAAAAAAAAAAAAAAAAAAAAAAAAAAAAAAAAAAAAAAAAAD+Pfzr7Tfxb4vs/s9v5X/AFT6XmD0YAAAAAAAAAAAAAAAAAAAAAAAAAAAAAAAAAAAAAAAAAAAAAAAAAAAAAAAAAAAAAAAAAAAAAAAAAAAAAAAAAAAAAAAAAAAAAAAAAAAAAAAAAAAAAAAAAAAAAAAAAAAAAAAAAAAAAAAAAAAAAAAAAUuP4d/V+7+OfF9f9vZ6fa8gAAAAAAAAAAAAAAAAAAAAAAAAAAAAAAAAAAAAAAAAAAAAAAAAAAAAAAAAAAAAAAAAAAAAAAAAAAAAAAAAAAAAAAAAAAAAAAAAAAAAAAAAAAAAAAAAAAAAAAAAAAAAAAAAAAAAAAAAAAAAAAAAAD+b/0inLfwr5x/Av775ege/gAAAAAAAAAAAAAAAAAAAAAAAAAAAAAAAAAAAAAAAAAAAAAAAAAAAAAAAAAAAAAAAAAAAAAAAAAAAAAAAAAAAAAAAAAAAAAAAAAAAAAAAAAAAAAAAAAAAAAAAAAAAAAAAAAAAAAAAAAAAAAAAAAian1o+zP1U+1fyvaH1fEAAAAAAAAAAAAAAAAAAAAAAAAAAAAAAAAAAAAAAAAAAAAAAAAAAAAAAAAAAAAAAAAAAAAAAAAAAAAAAAAAAAAAAAAAAAAAAAAAAAAAAAAAAAAAAAAAAAAAAAAAAAAAAAAAAAAAAAAAAAAAAAAZ/wAI57/vcfmB/CPl/T++/wBvvwh/vni9P6yPrP8AZP8AQ/D1HTAAAAAAAAAAAAAAAAAAAAAAAAAAAAAAAAAAAAAAAAAAAAAAAAAAAAAAAAAAAAAAAAAAAAAAAAAAAAAAAAAAAAAAAAAAAAAAAAAAAAAAAAAAAAAAAAAAAAAAAAAAAAAAAAAAAAAAAAAAAAAB/Ofxp+b9D9bfzd/LLg/Dfs/61/M/EcXwf0XhOrmidv6L8IiemNP7N/F+nWP3i/Rv1BvtJ+q/K+y6/gn97/bfiA6cwAAAAAAAAAAAAAAAAAAAAAAAAAAAAAAAAAAAAAAAAAAAAAAAAAAAAAAAAAAAAAAAAAAAAAAAAAAAAAAAAAAAAAAAAAAAAAAAAAAAAAAAAAAAAAAAAAAAAAAAAAAAAAAAAAAAAAAAAAH1U8Z67H5r9F8/+B+E3/mn9H8x4Tbw/Htj4ffx/qx2OSmp1eV+Oa2/JdPGzx15XyXhunj3+cfvP68Hb9v4vt7vyT/Wv+nfzCR7PGAAAAAAAAAAAAAAAAAAAAAAAAAAAAAAAAAAAAAAAAAAAAAAAAAAAAAAAAAAAAAAAAAAAAAAAAAAAAAAAAAAAAAAAAAAAAAAAAAAAAAAAAAAAAAAAAAAAAAAAAAAAAAAAAAAAAAAAA+v/wDR/Ws+L9n+f/DJ4f5j/TPG1p4adfl1fjXfm15e+u8+K2tpvGOHUb37Ofs8vavkqeU8vs4uzPlPMfsj+MfT9f5Pt5Pzo/Rf+s/yMPT5gAAAAAAAAAAAAAAAAAAAAAAAAAAAAAAAAAAAAAAAAAAAAAAAAAAAAAAAAAAAAAAAAAAAAAAAAAAAAAAAAAAAAAAAAAAAAAAAAAAAAAAAAAAAAAAAAAAAAAAAAAAAAAAAAAAAAAGWv5Eeb0/W76Kdvxz+Uf1Xi08bxeX2dnieqNzHp26jl6tZTDCYzrk0wdc9e/FPHe/kfB+Q4d/J38a49fL6eJvrHyD2WPWX/r36f857VL4d8x/pv8vCwAAAAAAAAAAAAAAAAAAAAAAAAAAAAAAAAAAAAAAAAAAAAAAAAAAAAAAAAAAAAAAAAAAAAAAAAAAAAAAAAAAAAAAAAAAAAAAAAAAAAAAAAAAAAAAAAAAAAAAAAAAAAAAAAAAAAfyTOv4T6/HyT+e/z39/j8X7/B/n/wBLXj6+Lcy8h4/tPkG9deG9OW/jJqOaMtyMJvvPRh1YYu/Xy9fLpycvleGanTO81fr8b3b5foJ7Dfpvfu9+5/DfqMP2P40AAAAAAAAAAAAAAAAAAAAAAAAAAAAAAAAAAAAAAAAAAAAAAAAAAAAAAAAAAAAAAAAAAAAAAAAAAAAAAAAAAAAAAAAAAAAAAAAAAAAAAAAAAAAAAAAAAAAAAAAAAAAAAAAAAAUPjvrW/wBh+gX4f9r3+I6fA/mv1fkvGMuffTmvtJh5am+XVhxV59OngZL0+O657c6dWPRmR1YTjes8m2bpjllx7+Vx49prmv1cvq8vP5rwl/T5vZ4+3nqW+0F/Q/51/UB9r4gAAAAAAAAAAAAAAAAAAAAAAAAAAAAAAAAAAAAAAAAAAAAAAAAAAAAAAAAAAAAAAAAAAAAAAAAAAAAAAAAAAAAAAAAAAAAAAAAAAAAAAAAAAAAAAAAAAAAAAAAAAAAAAAAAgr+Ivzn8b/yH63PXx+v4z9vwc3kMbPGW3v1zj3adeXNXunl08Vzc9F6Ojm0zu2u/cz8e38nhvlW/OrXXx987vXbXG8deLqq2Fm84YdnJvl5D7W/T3v8AV5PcU8562fsbf0b+c+WHv+eAAAAAAAAAAAAAAAAAAAAAAAAAAAAAAAAAAAAAAAAAAAAAAAAAAAAAAAAAAAAAAAAAAAAAAAAAAAAAAAAAAAAAAAAAAAAAAAAAAAAAAAAAAAAAAAAAAAAAAAAAAAAAAAPj0vnfxR/lP51fjP2G3gOWPyn7Hv68PJzXiturjmu9x+Qk7vI8fTx3y4z4ab56dfZ6fP4jyX9E/Qz6fzPzA/ufsEfY39N+Y9Rb+d+4f+LXl7/khjweJ+B+g89PhfLcfT5SeCfN6d9+ODtx6+GOrji28zbaJcP0I/PTg9/zfdB7PWy9jP8AoX8+80Pb4QAAAAAAAAAAAAAAAAAAAAAAAAAAAAAAAAAAAAAAAAAAAAAAAAAAAAAAAAAAAAAAAAAAAAAAAAAAAAAAAAAAAAAAAAAAAAAAAAAAAAAAAAAAAAAAAAAAAAAAAAAAAACv5rcO/wBwvXo/iXwr8H+2nw2vj/ifpcfLcU7z8k04fKc747Dq0xvh7416Yi0dfLp499g/1X+v8j8fP03/AFg+X/rvyH8y/pp934QXIH1q/DT2YHj9npTeT9p38afzX6X6B4ct/gfoOildeXXRrhy9HOtgeZt4a+N9vi+vPry4PuL9R8vV4/cC/pnqHey5+4/DfZUfW+QAAAAAAAAAAAAAAAAAAAAAAAAAAAAAAAAAAAAAAAAAAAAAAAAAAAAAAAAAAAAAAAAAAAAAAAAAAAAAAAAAAAAAAAAAAAAAAAAAAAAAAAAAAAAAAAAAAAAAAAAAAKlv5z9D/wAXfg/c+4P0Fr0fh/23P4zyHgPF9Lx8dM+nHdpzd1cXkNuHjvfHLy0nfz/Yb9bfv/B/G/8AXT9NNv1P5TxHlz7HxQAAAAAP4B+N/sHvL6PS98X7fn46/n/0X5Nd+XifgfpPJRwb+f1Wy3xxMd8c9OllmR8h+L79fP7Bf6l+kz+iv6v8t7Kb6/fYH9B+cDWAAAAAAAAAAAAAAAAAAAAAAAAAAAAAAAAAAAAAAAAAAAAAAAAAAAAAAAAAAAAAAAAAAAAAAAAAAAAAAAAAAAAAAAAAAAAAAAAAAAAAAAAAAAAAAAAAAAAAAAD+H/jP4fb+rv4a/WPT8f8Ar+SOnwf5v9N5Hn4dZ034+1rPNS/NudPlPH9vTG/R94v12+/+d/Gj9bPu/P6n8pWx9L5gAAAAAAAAAHwL8if2zef0em98D9zr8mfg/oPwt1/oP8w+J97qnOvH0WvWudZUd28+PrEJ5j9VfyV5/T4vc8+a+mn+0X6b8v8AsU4u36/xwAAAAAAAAAAAAAAAAAAAAAAAAAAAAAAAAAAAAAAAAAAAAAAAAAAAAAAAAAAAAAAAAAAAAAAAAAAAAAAAAAAAAAAAAAAAAAAAAAAAAAAAAAAAAAAAAAADwH52V+mT19PP+T0/r5+Pn57V/Jfq667x8T7niuGvN8/6c+K8jjtn0WpvPkeTx3y4+J+b/VH9Yv035b8ZP1j+zj9N+XiT6HzwAAAAAAAAAAAAAPH/AJe/qk5dvUT/AIP7sP5t/D+963mn2V+qvyfteary9Hk93XnbHj2y8d5ON8eW+WW8f2n9ufXd19/zvdr39Qv9tv0H5n9Pn8c/Kv6nzf23fSj7rwAAAAAAAAAAAAAAAAAAAAAAAAAAAAAAAAAAAAAAAAAAAAAAAAAAAAAAAAAAAAAAAAAAAAAAAAAAAAAAAAAAAAAAAAAAAAAAAAAAAAAAAAAAAAAAfV/8BK/eL8lfxq5tT+ofzfKF6Ps39X/O/O9/3C8dTn/nX9JwjFw9Hj8dOXnrTLyvz30+X+VfM/11/Uv9F+e/IT9Zv6S/Vfkg9PlAAAAAAAAAAAAAAEEokqsohD6Bff5jfqq/Tb3cfpZ8f7fqya/er6IfE+95PLKPL6s5zxzrTi67nLXr5Nz5X/LvM/Fv0X5fzn7lfgl0/d+B7yHyD0dP7ce469UX+017KL6efcOAAAAAAAAAAAAAAAAAAAAAAAAAAAAAAAAAAAAAAAAAAAAAAAAAAAAAAAAAAAAAAAAAAAAAAAAAAAAAAAAAAAAAAAAAAAAAAAAAAAAAAAAB8LT5o/Mz8oU9jr8dvw48Vp/Sf57NdWvD5Tll5tstMmudz+ifYD6d/wBq/L/qP6V4byHzz8v+r/l32b/bL7r/AKj8r+WH6bebfovzYdeQAAAAAAAAAAAAAAAAAAAEJETCp+qn2rY163X5t+7P9F/l/X9WmmnjPi/d8t1+A8p4/d0acLn08L8V8h479l+Fv1ck+zw7stacnkufS/38/PbZPcy+xnos/pDb7Qr6LfenIAAAAAAAAAAAAAAAAAAAAAAAAAAAAAAAAAAAAAAAAAAAAAAAAAAAAAAAAAAAAAAAAAAAAAAAAAAAAAAAAAAAAAAAAAAAAAAAAAAAA/m/5ls/r3+fP4k/Q3V/QX6EeB6LJ5e3jmpvaTbl7uKsvJeO1yzx8j47NtfLoE4ynD8Z+cfHNX7p/pZ6+2+p7dP3Q9Erz0e+A9OH7syeyK/KX7Yr9qWO0AAAAAAAAAAACCUSAAAAAHB9Xk+2D8Z/zkr2iPzt9ZP4pp+mH5ocVKx7uWMb+d/JP450fJ+x/V+f49bw+7hzm36L8wrakmnXWazpW9TF61SNMtLfpH+bKPby+5/og/ek9tV+WH6UZnycKAAAAAAAAAAAAAAAAAAAAAAAAAAAAAAAAAAAAAAAAAAAAAAAAAAAAAAAAAAAAAAAAAAAAAAAAAAAAAAAAAAAAAAAAAAAAAAPryn2Gfk/+fSfst+DH0U+NbfJPF5l0yUXPp5NTbDbCNu/l3iuOucccWV5Dkd9eIuphrS181dmnicfkHhNue8X0pelyukVr5J9h/qtfD9Ovs/+EmjPsy/YH1G7avuy/wBa9ELzp71tvSM/q8nuOPUJ/o7PtXvWw8tNexy/CXztv7evxk8iz+xT8hPIS/rW/J4n6wvyR5U/Xh+PHxFf21fhZ/Ja9i16yfwCX2qo9Pr+Hr7qP8k9NrxtntY/Wb14Ma/Xf6lfUCuZ8o+Li1rrSbpS1tzHm68suTPuy046+Qgx8zXSFZxy10w7F15a21JvaInPq5q0ogm+HRWWPfzZR/Rf51zafs5+zvpl9Ne9w9Wn9pMvvkraAAAAAAAAAAAAAAAAAAAAAAAAAAAAAAAAAAAAAAAAAAAAAAAAAAAAAAAAAAAAAAAAAAAAAAAAAAAAAAAAAAAAAAAAAAD66/lJcftF+dPrt/ALf0K/Prx3adeFqct8nPrn1nZFOiOWK3hpj0y6ZVtXR08+tlYmpx5dPNp2OHtrp8d0683JbNi6oiyJtmvDl5fx+pzZ7z0c871gxiOmlb5Wimulr4zpppiNb42w1ZWjTOltta52y0jNporFXvRyVtnYKaVG/PcaYXK64WLxWC9YnKFKrpFNNSKb20xdOmWVsObbr3w6ssRDC+sU6NfGy36M+vc5+ilsL1tnq50vzbl9ua+XdWtOdm+mGmDe+5hvNT7Q/sD66uye738/9HH9PD2Un1K+2mbIAAAAAAAAAAAAAAAAAAAAAAAAAAAAAAAAAAAAAAAAAAAAAAAAAAAAAAAAAAAAAAAAAAAAAAAAAAAAAAAAAAAACPp+fcH4R+Bf5U6nsTflr+dVU34GOr2xfCXm7ePsrvpfDheDDp5+k6ejn1xeaxVt4xL2TJ065dFYxem3Jy9XMOvi6jXo4d8NfH+Uwzri2wtZN7UstWtq8Tj53wmzfxknmJ8fMd1eTeNKRvXNfeTF03OS3SjnvvGXPN79GLXOqXWM42543pnqTfNhS8WK06qHPfadsadUmM9NsuHTtpGNopLrPJlqd/Pw5nbjjrpHk2mLVFrK8+7LPonHSaLQ2mYtelY6M4msM9cdMSkdauubpemhWmkam2Ky5c/fgmNern03+6f0f2r2Rf1d9GH+hSe7y9dP9IZP0LcnXNAAAAAAAAAAAAAAAAAAAAAAAAAAAAAAAAAAAAAAAAAAAAAAAAAAAAAAAAAAAAAAAAAAAAAAAAAAAAAAAAH0+/IOz2BPyk/An4Xqfa/6pYrb0VXTG2MXtjvlvzbcmk9vL1m9NMebk59qVbo5erFz1i9TjrXc2rM5b6ZMr0i2nNz9PJtEpyvrhtVunlYuvH5KkcNsb7l7RcprWteN8f8AJuQ8C7MdKNamejM6dfHXPI7eItXlL+IueXv4e2HmM/Ezp5i/hZrzFvB3jzFPGDyV/E75eUx4aR5SODI8rz8FdPKZ+K107o4LR01wsa0reMHXaOJ20qu++mLC0YsaaZWVwvnuX2rcc1r1Wy0XTfDTO91yrpluUy6+Yyprnhbfnvp251tF75lnaulY472OStcbO3Ges4Lb5aR1+P0j7Kfun6zWtnvV93pX/unH6+ubplAAAAAAAAAAAAAAAAAAAAAAAAAAAAAAAAAAAAAAAAAAAAAAAAAAAAAAAAAAAAAAAAAAAAAAAAAAAHgTz3ifxm/FCz98fxp+o9NS8Vq1Rmjoyqqc9MYmIrE9nF1xbk6+bbbXm78rc+uZz822Ob07c/kcsb0vUZ6RV701iZmYnO1TirpnuZa5ayzat9RGsZX0xrm7+P73ScN2cbqWq0rZufjPKk8FHnPGnMi9VqaXtlbS8wJmULEC5zT1q456ZON1anj79TLl12iueOiYxtpaKVtNULFqwi8a7y4dc1ktSaqmJynKl6TrUYaTpbPXGra5stlVb3zvJaIrmxza4GKLVnplNnZrz9Uqlq1vNbUrpknLy+Q4ZbeQ8Z5Hc0y04Y2pS8uOuvJZ5fkx1r7Gfup61HHXvadXps/u1J+pjPSUAAAAAAAAAAAAAAAAAAAAAAAAAAAAAAAAAAAAAAAAAAAAAAAAAAAAAAAAAAAAAAAAAAAAAAAAfkfc/wBe9cf+Q+Klvjtlq5WnKtstefK9Ymr43mKUiapGtcp6MOk04urm0nyHHtletr14+EV1b5dXK4xatl84baa10xZtW5Wu1ZOHPbnthqi6rcvauhWhKmsanf415KPET04l9ebTF0pCtEEr4/yWkvga+c4+k8dOtdKXoi9qTF5rbSYiYWi0KaRLW0tQtWIittI1WyhFudrW7Uo70vL1Z6WLRGbM53rNVZSY0ljS3NHRGWhXemhTHq57M9qRL0Vs002y2yRphF+TSunNnphqVEvR0cnRi7Qnc0tS1mlU4vPx+Q8fWWuCzriKW7SoltubTK+G21c+3JvWGuvLt9ufZO9Pr5ke8g+k33ZwAAAAAAAAAAAAAAAAAAAAAAAAAAAAAAAAAAAAAAAAAAAAAAAAAAAAAAAAAAAAAAAAAAAAAAMvwSs+xfrmU8JpydHDMvkabRi+NXz6zXKc8LM5LKWpW1atFZwm2djaNYinVzdGVZvTpeK7fUt1YdnDXNj15akVmupOtNS22WkK2pljydPMs56Z1O/N2ak2xGkZX0vhtJzWaZdVK55uefkOaslBtNLySrUnXLTopa9edwz69TwtPNjwFvPYbeJeUpJwx3wcOvQrnr31zeSnkKWcenbbTgv1ox1lirZ3zaJJTVTS9awSz1kxtO+1c40MdL0xS0ko23MkRGNdaHXOembG/F07nRbDTDLPXNeDPoy1MlkV6ebaXrizS1672Qqxc+Pt5DmQqejl3NqRfUzrphGetubbyfHPTGnR4vyOXFv0eNr+0e2j6Z/9e09159WftNkAAAAAAAAAAAAAAAAAAAAAAAAAAAAAAAAAAAAAAAAAAAAAAAAAAAAAAAAAAAAAAAAAAAA+J/D/AFVU/sf0E5G0eE7eG3m1w1y85Eo8Xj18JKY0mujLO1RFbRUzVSYth2ZSqOjK2WqIrl6+LWum+PRztLs6rNdtJtndNbxbFrF1cvNbDSb1rla2W1lmk7UXpDSlSaXplNoir789a7OfHfF5Hk+JMLo6JvnNdUc23O61z1zaS0StpS0GopvFmK1amtb5UNKpTWovNFpea5SpaW+edbNaVkrbeSt8W5bLeotGsZV1zzb0tVWlNNZqrWs89qZu1s9Ynfm37S01vFKbZ5Y8XbzZvNMxDTO9b6c/TW1qQXRMTjrgcVO3kqu3PpJrrz7VVaYpfPTTDv8AF+Q0yta+HVr4q+mXkqcO3979tv0tP7zl7n7+ff0HIAAAAAAAAAAAAAAAAAAAAAAAAAAAAAAAAAAAAAAAAAAAAAAAAAAAAAAAAAAAAAAAAAB/HP7H+ANfm39eZpFvH9/FXNwXx0XUPP68ukcfL0YGVCtL1YVZ3pS1KspfSNIYbM9qvKYvFojHTLetd8Y56rXfGyLVak6Utt0a49nG8tNsjm4+jLrFaMraRsW1yvFaRZYuai2O1ViaRWLRpaTkrpnvp2Y8lsr8vT0aeNeRzzeKvVVM7YWra+BeumCN64TqdFMJOhkLIjFWq0tjteMqdGmpwT5LDTDoxplvFKFNr0q98LYpXSpitcrxZVG+WVdKztfHSqZ56VrWqubpvzbdJrfMaJpHPyd/FHPFqjTOJb9nNrJ053quiK7l5pOVePs55eVrnqaXysbTlcjHoyrl8p4zuq2vP0xXHv543zy768X2VtX3x9sD0V/3ZP3WGQAAAAAAAAAAAAAAAAAAAAAAAAAAAAAAAAAAAAAAAAAAAAAAAAAAAAAAAAAAAAAAAAGXpk+zB6penhM9PHx0cW/jqjl3rGdonTy/Zwd+Xisujn0wXgmplSLKRKk1tlaao2tlrHQpoVi99OfaukXz3zIppiXvWaRGlX0nTnbcu/LGGG/PuZXrU26OXqzbRetim1KZxpVLUU0iedymzc0z2ZuNmqYwg0yZ7a64aYX15ZOtxK688ZN6UtFsrQWwtbTS3Mxehz6HZTh0jo5dFYxs6TGNoETaM9qXzRkaRnYjSt4zvasRW0VcploWawvSdYtRQquqdc7LtCS05bVXk6eazkhTFtNYs20z1rSa2Jra1Z6wxa02zjkz6cdyqmsXvhet+fTPTl6+TeunevXhXl6/HRXuwy28xwY855L+0fwfc98C30m+7MBAAAAAAAAAAAAAAAAAAAAAAAAAAAAAAAAAAAAAAAAAAAAAAAAAAAAAAAAAAAAAAAAH4g/hL9//AM/dzk8N5Lw0vHtjhXXW8mF4tXkfIeP8zyeDp1ctc8006KwnMpTQqtmVbKy2ratl9ebeuxlfKNc9NkoNpiObO0RRNatea5b656E42yl5cNufUQot98+iIWvqZLVWtrQFpytjpU0x0irqRJKIW2WuepWdFZza0VaRm0iRFqzCJir5TFkq6bRFqYWRKzntGU0UrSto1KpsQhV0xzt85pU0mbLprULOdtatKlnerXikaYXghWxSt80vNJXbfi66mNMdNebowOSmmPOwlZpF8rN9Ofq0iImptmOqla4tMevCuPSFVvFpLY7UriiMuj5D1cPTFvH7Od1w8jhXhemOtMOvLXT9y/3x9Zn2ZoCAAAAAAAAAAAAAAAAAAAAAAAAAAAAAAAAAAAAAAAAAAAAAAAAAAAAAAAAAAAAAAAHi/KfQ5PWU/nPl/jnS8XjfIeNyxyvTS/TwbRrfPau3zPgvOcr43k6uWzLPbLaFbmbTOJtFcW9LCLUlLbc9zfWlq0nHepmIjbXn3lyx6ssWKGpfTLSujXFmXx6MrfH8vby1lBqa7Z7ZaWVLY6Kil2bakWssipNdM9JBF62wrNdFmKTF6tJYtz6Wac+lDRWtXtmqt87akLVCt82YvEU0y2M62tVL0WVm1sstLUW8LJnNG6tlrlNNMkmbULKyZ7ZzppFsctKLLXPTOyy1c0Rmurk7bM40pqdGV4muDn6eeKyIm9oz6Mr1aNXREJ1NIi3NXm7MK5abUqu2G0M+jljk4fKeL6vN+S+O+eirqy5oyvw6Y9E415K8Yafpb7SvpA+7xlsMgAAAAAAAAAAAAAAAAAAAAAAAAAAAAAAAAAAAAAAAAAAAAAAAAAAAAAAAAAAAAAAH4LfvR6ken1F+P+W8DXPx78xjZYplvWttMtzu8t4ny/NwYb4xz5121c8taWVrDSV6YTW1I0i1ZZ6Oa2p06c2uXTak6RabVYmK52yzbznoi9dK6a5dWbhGnKnPzb4bYSR2dPPrm2QqZynUZzclM1ERXDQaCCbZzVZvXKtprLtnWYtNK2a0mJZRWzXDWtTEWpWKm1InC4lSiqzphuLVRuxnJGlFTW6Z3pTa22OmblZZLZbc9XjSuVNJmprOebN8rWXw3ypCCYuzrDs4es0nTAvbLc5eTs4NZmAWlLbTO2WpO0xW9l9MLwpOhw02rtnMX523L18mpTxvl/HacXyf4l8hPLa80ZcmrTTl5evly83xd3Bs9zP00fbKj78DIAAAAAAAAAAAAAAAAAAAAAAAAAAAAAAAAAAAAAAAAAAAAAAAAAAAAAAAAAAAAAAD+Yemj7CPruafH/Fd/iq58rRVJVytNZqOzkueZ8t4vyPNyc23NGGfThpSmuVQrG1omYhW0SiYrtnddb47YdVs9hCdSK61qtrzHPG0Rntjstt+fsimPXyRw8u/N1melGXbrlvm3pNdS81REa4lovasrTbNzlayud6rlraNyEDO+lcotS0ResysuiiZ6aU0rVJBcikq2x1xyupeIpepaE6VpeMr10m3KazZYSzNJictM9RaJqarC9IxY0rsZp0zcGtNSuuN6rl089TeJTmva8U6ue9V0rcjh8nw5vNW0Gk0utr475lopbS1qablGlYmt6GV4GUrSzleskcfkeOvBeV4sNvluGHkBzdnHGVJ6stMN+bo29lT1qv29PYGGAAAAAAAAAAAAAAAAAAAAAAAAAAAAAAAAAAAAAAAAAAAAAAAAAAAAAAAAAAAAAAA+AnrafnV8w+BbeJ4d+OqRfMhnoWWjKsM9PlnXRzvLzb4pzZ3rpmvhFZkUi1qztWSbxFWvk5tOvi7K6YowtY01rnOl5yiLxFTal5zb9WSzbh7OWXh5ejk3Ii6O7Tm6SbRUlbMvbMulNK5Ras1Wl2pJQ0pahZOOW2c3q7OmbvSl4tXHTa9InUUiS0TGUzEVK1OdrZbUprnrm1roil841Jz3xtXz20rRpmVp08+Uxam01UrdRlpFbKtl0FNFYwUaml8pjXKLZTOU6WRWrrZnTjpU6fH9eOLx4b0G2NK6mY3Z6omadWlonC0U0xca2amHRhtWcVsacfVjHjvC/IfD7dvyb4T8vrXm6OaOTy/ifK5cc0ttb9FPzr/AK9XuzqX5gAAAAAAAAAAAAAAAAAAAAAAAAAAAAAAAAAAAAAAAAAAAAAAAAAAAAAAAAAAAAAH5Dfrz6slfQn415Pw23Hx3zM4sKxMliuURamnzDTHsy8dz68uTLp5KzprhU0tXKL1irxW9UvRWkwwvtz7HRpjpi2tXTTOYrqW05egiK2y0tn11HRTQjj35Y4efbHTO8WjXq5O00nLTNzmb6mdNhSwTE1I2yvLWNKRNNcs2tLNS2VpsjRBNqVimyixNbdJSbQWWtlhNdNpzs521LLK60LW2kYUvNarWYsdPPeWchJrnOm1da0x2yiLzTN2y0pY1z1qMtc6xjo5ZbqpNdMrYtKS3KXWl0rXSyyLVvha2bwc/TzGmUWqsxVOlj0FqWnonbLbBF8s0nOHRlrXIzsmmG/Mufi/LeO3PFfJ/jnkdPkeWnPC6kZzFttFdY92f+t/nN+jOQQAAAAAAAAAAAAAAAAAAAAAAAAAAAAAAAAAAAAAAAAAAAAAAAAAAAAAAAAAAAAB/OfTR9gf13NT4947p4LefPTCohJS1bxCwrSw+V9vivIHFzaxxvNntXc5q2iqVtUtnaukXIhaIWzvV5pfLTfDarb5WJiLFN6REK71n016ctb1nF5uXt4a4ObbDrNYpeL9PJ0GulbYX159JcbxbUrpWKWVGimK0zrNWx2zSKzFi1lV2xkrF72UaZrMVtqXjK9XUFZmaiLXyrRBGsaZVWZtaaZWLTaWtLZ7metLVF6WL3z3zaZaZZXzvkW1y11KXzv0XpF4pydGGFpz0ya5RUXq2m0WiZparxeIWi0cnN28m2UxcpFhTWrCds9DTTPTSVLwic5dbzhi4XrNmvHtjqV4+3l08ZXo5dvl+OGuGuO+Ola3FtMbx7Av7g+tH7LkBAAAAAAAAAAAAAAAAAAAAAAAAAAAAAAAAAAAAAAAAAAAAAAAAAAAAAAAAAAAACJ/hJ62P0j898Z08V4zyHjapnrnURWwmsRa9YKzGkfIvJc3bHiM+3ljHPXI589sdIx3oudpjURIRa2FbJq1s7Rfq5eqrq3ymqxaL51OmW5rthvzs7YbxzcPbxLx8XXy9czeJlnfLY3ZpNb0uUtNa1xvoVpKXPWJRS9YRZLnScqtbKdTekWWt6kU1aVa0yi9b1bONKo1zpF7cmUWrtfbC2VraRm4orZSYnSLVgUmKreitb1kFcoTaIrCtrZXqLFZ83VyxE01jVlqRBpaYkiYtG6kRoprHNydvFtjXXOLVtFXJwjTKDr15r7aVvfKuOucdGNqZuN5pVcb49JemsaeK5O3lPJeS8F8iimWmZTbLTK8zSPuj7e3o0e8lpqMgAAAAAAAAAAAAAAAAAAAAAAAAAAAAAAAAAAAAAAAAAAAAAAAAAAAAAAAAAAAH4y/s16nVn0s8V2eJxePx/Xy9WdbRVJi0Vi8lZtUjfm8nl5vaupy+O7uYxz6cjmi2NRekRNbQRMNJREaWxmNKyjbp4tpddeXc1Y62TMInWINdcto0rloY8nRyy8WG2O5pNEt9Mrp1xRWqlya6K0tWmV85iq6Z9ObkmSM751nTbms1ijTqRrFJUwspZZpLUprSC96otNmbF6RLelZ1FLx0mqk8rbDXLczm9amumMTS0xha2tVvfKprfOpi0xS1YNNcpJWqRnrlHLtk2vrz6xdWYstcw0vTTVTow59+fqrHh8lzRw5a51MxIRU0msF9sradCrK01jLs49+aoz0zlypZ0l8b1rj5OvnM/lnxH5Vlzs9MrTNI0TW3T3RPS59o3c/TgYAAAAAAAAAAAAAAAAAAAAAAAAAAAAAAAAAAAAAAAAAAAAAAAAAAAAAAAAAAAAfzT0yPYe9cjc5PFdnjF5uXfCqwoRKIvW0EzbMp5zwPyo16uVHV4/s8flFenjrPlvnpMK5aZxFRarTSc6m1ZnAsxZ259y+mNtNdsLWTtnfK852re9RrEZnPzd3BlyZXptpMRi2tS+pvfG9W0i2btiZTeJsmYsudbU01TXCMd8tM6bZSQrar9HJ1mUzYpMRm2prluX0yvUrOdhpnJOdp0qurHWaRpE2M6y2xWqXw0zitqWiu2OlaynKKRXRalqla2LTWL1Ws11L8mtMspmpW+c1qRWstMs7RrpTorEU0xttvza82HNTXEil1UlOkzUNKK7K10iL0vFqaY5Uw1oZXU2ZWzMubyPEW8vz9GVZWxa3jSJrMblv3M/DH9J9vaeGAAAAAAAAAAAAAAAAAAAAAAAAAAAAAAAAAAAAAAAAAAAAAAAAAAAAAAAAAAAA+Inrlfl38/8A53XP4/u8XphlNKpNqggiboil6kfL/iXzTN5c9Is34eqMsefblMebfLTKZgmEmdomk00iYTEzWc3W2F5L3rppOq2a0w6bM73VramssY6Ukx5O3x+rz03wiypL1taWevl7aiyM3SUl656blF6ZaU1xsmsXlrEwYUtGpW7KLdOG0uuV4rG1qpaNM822mV9IvlqWtTWTE02xlSN62pi2vleqVmlkIjoZa1ypWaxTWL7NM7RplMU0yvFlL82tbItTSmmee1TGl8qpF6xPRza1tbO8RaFTvhaW2labmuNoOLLq5cq1mSImNpWtEIGmmG1a7Ya5ZrsKY6UXOm/PuZI00pwd3JHl89+UvpjphrevTWGHTjUfar6reer3qXjvI5AAAAAAAAAAAAAAAAAAAAAAAAAAAAAAAAAAAAAAAAAAAAAAAAAAAAAAAAAAAPzL/TT1q7Py48P5DxWrl4/s4awiYMrTmWSLKXytlfCuz5X8c+RxzZoO2m+eXjs9K7cfPvlWOtGFozVF89SJrbKJmYlM1SYvF9c9KnbHU01xmXat7JHTy6LFNuVKcm3OY57M2sqjQL9HLsuvRz7CVkvlpGpje1JZquZ6kVzvkVytHWMr5Yba5SdNK2qYRU2i3O2imm0Fk0zQUmNNqWTktnrLS0pGOkVXLXHSItFRCmUrVL3z0qaXgnLSMkaUzdq1k2xteytdMKrW1owpbLaNsrnUpbJvhMt7KxaYjU1y2bcOPXy5Z0QJq0tNZIlfLPTPbTbo5N8ovScWlLQZZa82l0zZzQ6a2yuqNKMt9M+g562y23ilsvc3+xv5hfp7AQAAAAAAAAAAAAAAAAAAAAAAAAAAAAAAAAAAAAAAAAAAAAAAAAAAAAAAAAAB8a9Mz2IvWm1PAcPTz28vF0cxSJHPrCpQygaTz74HnPNeN8lhzZWyryTGcM6RWuPm6efbOmmZYFNM9MkK5TpE1W1L6WiL87OmdtzW2W1a7Z787NpqRE6dZjbShxYdPHlnQzRaNKUuTpntZpvluqcdzWilkR0UqtInC0wtpWIjKu2FkUmDfWlyFrbVvnY1pTbmwsm1NoibUtuKXuYbKZW1zmkXRbDpri8V5jcpkrtplNC5TK9otLpS+aTVNazQWmNAvjF89qGNqWzc+bow6SNaK6JicLWzVrphtmzNFdWGuVmfF1c+mMUlE52W0TFRMRFtsIrr15t8r01oVzrBXj6s61nXLLx/kvHeY049Itla+Ux0aVuZYbZbRphrX7u/vT6wPs/ZBAAAAAAAAAAAAAAAAAAAAAAAAAAAAAAAAAAAAAAAAAAAAAAAAAAAAAAAAAA+MHri/mR86/mupwZX5pefk6uXSqaxWlmkqRGkJM8Nsa+VdeF+NpRG55WOTbN5s9Is4ePpw0yLFVqlUotE1lm9YS0LRNogteqttMdTXbHozZ2x1srvWNs8tca5uTs5zGJnCghpWVm1VnZpStdLOY0ztFa0pOkRvnzRXS2mOWuROcxhjMWrW8UqbUuXXqaxVKReIks1rbCraIqZqxZTlua6ZWjXn1yxchpinKzTC0xW0pZvWia3znS1JoWvS8WLbQmKtNdebkrpGbnlaNKaYX3NdufXFvGVrNNebsjO2U1vWby82PRy2YRfOstaaVFdK5K2gpa1a2tS9X0V52eW+fSZXz6a05dcMqd/NJXWBfbHpl1ZpIw3zrOJafZv3LfRH95GPk4gAAAAAAAAAAAAAAAAAAAAAAAAAAAAAAAAAAAAAAAAAAAAAAAAAAAAAAAAB+cv6NevTZ+SfxTzPidXx3PpzxhydeJlF89E1vzRE16JhUrnbSPmEac/G85XpOvTPpridHJlw8vZxaTS1ooDO9Z00SwiJFqpiYm8tbV0ptGsb6V0TSKTtrS1tMeXq5Yy5d8Mq1mJVF4WqI1par9fJ16l9a3yibZ5orpN61s1xU0jLbLJSKYszTWC86mWmdtuyme8Y3KQvFZTU2z1KaMjPW0ZVvS+xexWkWyrFBlFs6isxkvC2UxJeixTaJil4vVb56bWmtoUjU566WzefLoxjJfHU6Ya5VvhvWt+fbatqTpdpHOsJzs5senEz1pJbOURCKk0zY1w11Nr1Rbj6uWufsy7Ky4O7jOyvRyl8rTWnVzaHQpbna5a41jKNzb23fUh9jqP2KGQAAAAAAAAAAAAAAAAAAAAAAAAAAAAAAAAAAAAAAAAAAAAAAAAAAAAAAAAEenH7P8A6i2ni/E+U8IcnPvy6Z5a5xitBNYRMJq1Vaz7OLzh5vh7vE5W15uqOropvXNy9fDlx8fRy6JtWLUmul5znCF1Vm8Raq8QrpjVJNy3XjpG/RnpVlm5TRYpy74Rhy7ZGMWglWY0paubekzWvbxddmm2OkXzmJb0itm84XlyjWmpWGURh0cq21y1qsTFk6Y6xbVrpjcylEVbbC1S1xq175RF7Iw2y20ik2KV0mOXWaRlnplTO85ZaVmNa0jLSE6XRJM3suEzfctajKto0rGLxlhTfM54tFL5dGV5gbTnvtW1Yptj0mGG+cZcu+NUtVEqwWpYVmIlbZX1OqcdYyx6ebSd6SUrXoyZdXOVtW23TpnaLTnrFK3rGFL00n9pPxc/QI9sYYAAAAAAAAAAAAAAAAAAAAAAAAAAAAAAAAAAAAAAAAAAAAAAAAAAAAAAAAAfjX+An6K/nPt4jxHkPHFOTbCq5xWIiaFqWigJy0zMflPxb5nm6+L7eCR5Dx/bXZtz9BTxfk/FxzcuuJBMRWGk2rOU2pYprWC1qaFZvTNXpOppfHWu3bl6TS2W1Ii3K059MOk589OaqRemLGtCSTpErVbr4+mNpmIvTasJpppFIvGa9Kvz3iMOfau16aopFsy2mVzp1w2yhKK3z02vFaV1Y2ziu86ROUa4sK67mFdGmNrUilNK1zXMkWrljarTYvGckaTWTSVpctJaa56zGE752ZVtJhTXKMqaZaTfK0axTTDo1x6ra42gr0ZX6ylb0jDl7eYzx1gTWcUtCRE10rrS22m2M5bcnZ4+uvDoxjLyHD5KMMtZrK96Re2dtLaVvGVN8sMLRGl/7f8Aw/q097yfjvyLAAAAAAAAAAAAAAAAAAAAAAAAAAAAAAAAAAAAAAAAAAAAAAAAAAAAAAAAB4jy/wBLa9Yn+S+c+M7cfJtkc+F+cik0Ii0RTWtS00vTHXEn5t8T+W8tcfF08lzTs4evTyW+HWZeK7uHnfHZaZ9ZS8TCszEVm5lpTQrZBNqKvfOYtEojTLc6+jDU0uzrfOqM8dMNK823PhSUEqquparJRO2PVp065RhpTaksXVsit5lxpd0lcNRyy1rO2lcsYtBaiK6t+Tpi8V3jn0q0tWzS5bmi1bkwZa5RtVa2qWzqMa2jozpenNeipSaW01mkRa0aS1dn2S57+tvl/wBxvv8AfN93rjfZ39svrPH1j/pfxH+bW/ZXw/1l86eb+rX3Z+0LPrcfAfcP+kWp64nN90vp57fJ4/aK9+TbO8a7c3VarrXKET0mnLrQw5+zmMc9aRKJiLVhZrcitmjoxvtbl3wOml6xn5Dm3rOJrkvMEa8/RU3rqZ11zy50KbZ6HuF/bb8nf1igIAAAAAAAAAAAAAAAAAAAAAAAAAAAAAAAAAAAAAAAAAAAAAAAAAAAAAAAfhX+6XqPV9UvAeb+PaYcls658tMzPPWhRNYvFZJtlaopOZ5vzHN087y8fTypTyXju6uvyHD34vD4zyfiLOWlqbNM4LRExS8NK7VjDWqubaa23ExBNqWLbYb11b83bkXqWxsjPLXC3liWLzLxrK2eqwixEoLa8/TZ3MdDbLWpXRpGLTLOoztlrOlJqcmuenRLQc8UtlaktNejk68LTExTPqy6LK3NpzrHTjE5LV2KWi8M9Mss9ZqualdzCOjCOjGKRnpnrpaLdOLn/ePur+2/zff9Gvu7+dn4yTf7X/mr9Np9vk8hw+R/t+sfXrXf+01/FafvN+Rvm7/wS/67fmxrHT+i/wCTHjuk9sb6bfhf+ynzvb+PX819rH15O/D6y3tH0vDvvz9Bes5ltceussOrmMq60zeBelhGa3iSL0SymK0rW/SM160prznT0c3XHPaWELRGekKttjvpbOrLGl8i1Y12/d795vXG9jnIIAAAAAAAAAAAAAAAAAAAAAAAAAAAAAAAAAAAAAAAAAAAAAAAAAAAAAAA+s3qQ/uv+C+p4nw3kPFW5c2nPWeeuWWMTTSaoLiItOdZxOh8vx7ePk4YzptTyHB3YeQ8l4/sl4PEeS8XZhlMbRMoIsRKNJtW+LWbRgmJ0i8a5ZKz2ltc5y7Ovi8iV0prlz12ylrhfM58OjlLqtSlqzEzNaval5Y359NTyFqbRbTJBF6ynXnqhTNtRUxvS2ptnEaThtnETMRPZxdObtepKpptvEslq200qplMzcTTSNeW1Yzz3ztpKpjn1YJDbGWt46Tp/b7l/Qj5H1fO+vz/AA/+H+7y7T0fpDvl/Cfsp8l+ynyfqfwP9Ivxq/qnTH1K/m3zf4N7fH+3n1B/nn8W8/f9J/zA+9381z2/Sb8UP2S/MHhv87NP3K/J36Hz/sr+1Pqo/d7j1/nH1k9pv1umf5V083R9TwaxCra4Tl08+uBXHfGXmjbmqKzEFb7md1YtbO0NKTtnphfTfHXA8rFqxhpRWxXCZoL6c+xpnaJcq688Z6J6z9DPa59LT3SspGQAAAAAAAAAAAAAAAAAAAAAAAAAAAAAAAAAAAAAAAAAAAAAAAAAAAAAA+EnrGfQ75n8N28d4/yHEeP5tsYpnMVnXTGs5XEwi+c0qnkvF/JsvK8nV4zDkxtFT28vRL5bt8Z36njPGeQ8XFM71q1YjK2lVZ3mKiwTNbkoiIvESzaIsmVzs6uPvl1ZxDPShjXTOOTO2ekRNbIvWSJlUjKL1tt2b57l4rbnaWluVi2dUtnBWtmXOvWrTrlpSmtMqWreWOvCU7JyqWsjTppVlqx0LRbEtesjWcTfn2jCmlFsZXxivN147TS+eG/6QfR32rvn+75l6tf2W/N/rH91/lXslYv5a/qr+Rf8D4dez7ufmV8O9vm+b/Bc6ejy9VceqK1tOpfJFv8AUvuR+cN+Pf8AdP6M/W3+R+b0c8/a9vh9nf0C9bf2IfH6/Xv4v1+/IH3ePNa3s8+emd9Ns4mKc2+WLjnvlFM7RFU06RaBF60jdWtZXzmts71PNU1xy589sy95tpWbZZTeKV0Vi0UpfOqV0yPL+8v6KvuN6fakYAAAAAAAAAAAAAAAAAAAAAAAAAAAAAAAAAAAAAAAAAAAAAAAAAAAAAAPzI/Tf1t7PzC8J5HwO68T08kcmW2ZSsQZRphV9cdMkSM8t8ap82+HfPcuXx3Xwxx1iuk9/j/I15DbnmOfx3X4+IhMZ3gWSyIaRZMRNNNoTMQTEwDXHVe7fl69TWIti1x1kw59sTnzVSJRURdVbqm+S+bWydTs15+mr2oxbTTazPLSlV5+nGqWujnrExtnelVi2Usoultefc6L0jSWesCkX0rvlSNK6W0pbJNaLetZTOb0qmW8VhXTOWT5Xjf7CfZL7N+vN8X631E7/E/1D7Pyv0Ax/Qz+UfD+xzfg547H6/y9ImO/C98trLVTF1NzHHVWWe2Q+RfHq5v7zfVf8wf04+b9L8w/7B/W/qJ7fF7bPrefoP8AYf5f0fXqWr9v5Gcxp0iu+dZ5aZ4Z829Muet4rOTQmlRpSYvWKmc1k12x6NPK82nHlZhvm6XibJx0oGkkzNozppQzx1z029iL11/0/wBvaIHMAAAAAAAAAAAAAAAAAAAAAAAAAAAAAAAAAAAAAAAAAAAAAAAAAAAAABj6aftAeprp4jwnmfDacHL1csU5tcYypLTOJqTMWESjJXOvI/Mfjfm8OLi6+HTHNFO3i3j5DnpzRx8umEKUF7TTKa3pF7RAia6XiRMTFWiYlEWW1ppHXvj06WvnSNOdBXLTkKV0wi1NIliLRqWJiYhS1bHkIm2WmmdpbzXSqc3RhZGeq3nWvZxNFTnrXCkTeKKpZ3wtWm2G2pMWjbW5xulufQlXcz1XSmcTpec65u2E4xFLU3KdGHVLj+in54fvf873fZX1ff2i/FKzOZj3+L+s+Q/jmvPr2cn75fZr53t9W/P9/wD6z9eP5NafZT63ezzZ9FI3iZ6MIolWNobmeWkxn9g/r3/V+Hb74fl37DH5M+L0/wAI9rL1EP3kt/K768/t3+Ivq4ZWivp829N8Vzz2y1Msd8MuaNa1Wlq1Kai1b1bn2xrO9Yh5PxPl66+LfmqnXzbRtfn1iZmMWsxeSttcdoToc2e+Q+wH176tve9n+Y/07mAAAAAAAAAAAAAAAAAAAAAAAAAAAAAAAAAAAAAAAAAAAAAAAAAAAAAEH4ofhP8Abj6d7mXh/LeIt8fydHKZU0yiMZsZRetCTTNmUpfM+VdvTz8ni8dsNssr00y34uqPmHi/KeI5a5MNst5wvaCLKxZW1EIlKLIE1KTCtCkWmNI7uvj201iqK1mYx5uvg0YaRi5XrexBS1NNIml8pnOx3dnF3ZsZ9OWppVnFF6aVTiXx0rGEzfZneuGSJEqZs3rc6L8/RU2pbc1rS0U6ctjOWsWvWCK6RGV7Z1GF6rOPRlGWtUdHtFesT7cPyvo+vR9Ev7h/EPf5bUmPR59FZy/Sv9H/AFtujyer27PmXr0ew1832/kz+I/6AfQP6niz+wPxn2jfP2/ND4Z+0/Z5O3qD/APZ/wDWS+h5PET0fb7vx+nWf7+fXjyej8fqfbD6zenh/Zv7x9q/tN8r6XrgfdH6t+P+l4vag9Vf24/WL83b+DLW+n8+1bUlrz6065yw6OfLLLaCtbxWVqWq9YmtObTEZ2pUed8B5814OviL9PPrG6NYpMVyzvFqlahpWBGWnLpfXn2r2n/0l9fL2DcAgAAAAAAAAAAAAAAAAAAAAAAAAAAAAAAAAAAAAAAAAAAAAAAAAAAAB/Hf7F+S9ev18e8z4DbDwPVxHBj0c8Z5a1MotQUUq0hFNKGe/N5ePlHN08PK83B0c3SZ49XHph5LxvnJfO+M7fG8bzYb5ala2jciLxUypFiDS1IysRFbFWLhS8VmNV7dZtZK9Byts3lz3pHDS1dyUxlaaRpopY0zKjXO0dPkfGdxvGG2l4Xw5s+jn6ITmUmYyxg0mszhFNclvUkiZitNa6R1Zp2qvTK21NImJmt8rRG2OWhWt6aZa4ovlahE5xH9B9tT1Nva/wDjfW9SL4j5/wCP/U8H6KfwH498J83b+fWiPd4tNsf6xy6/ub9uvlH5UfG+p+N/i0/a+V+l/wC/f48/r38f6frg/ev8Zf1/739hPVB9r71F9cP5t+t/5Ifuh0n6r8HP6tnk6+zR+XP1g+OL9dv5X4R9b5vVTDWz2b/y6+5H8o+T9X8cb2t9f4842LnTbHbnx3xTCulKitbxnfHTStwjHowKVtnVfk/xj5VXHy9HOa7Z6RfWklF6mbaovNMo1jIYdHPGXTzaafcb3AvRR9488+MgAAAAAAAAAAAAAAAAAAAAAAAAAAAAAAAAAAAAAAAAAAAAAAAAAAAHrbexv6b9n84+O+d+KbvFjpymHLty5TS1aZwrKYkWCOfbEfJfi/zGPI+P7eDLk5NYKeP7vH6Y/LPiPzUt43t8bhXmuiFL6CNLK2ioq6EK2FqzOUoktak5RfLfTymuVTSLRpjnrjEY2rHJFqaTFqiL5l9cZiwym1Jrbv4+yt9efXSsscmPXhWNdaVkmuVLUELIrNb1nMTETSdOnXLWLTNiaq5bzl1lKVk6VNMWjLr6TFfMiloOebTGGmV5fmXtr+oL7ZPx/p+q98D+xn1z+j460vl38860HV+vH5K+058z6X9n9Vr9zPXM1l2+O8j7vF7Cf22/mPjPi/W9aT9/vX69mT18Ps36hPtJ+rBrNPY39dH2mcdP6P8AkB+zP8D8Xf13/r37Xnq1+/xfFZzj6fhvfHaX9qPnH8r/ALv8X7P4GzZ9j416Rcjn3xrny1x3Msd8iquhkRlM2ppbl6eSlbUNfkvg/KHDE6aX6efbLoytYxvfOs7TOUWprLlGkWV5dMciiuz27fUN9hLb9tBgAAAAAAAAAAAAAAAAAAAAAAAAAAAAAAAAAAAAAAAAAAAAAAAAAAAB9L/Vo/Zj8Ytvj3xzy/gzLl6OKufPTHKcldJy0gpLI0iaGddcSP6B8I+fxy+P8h405aaYRn47v8cU/oPwD+gHieDyXiqzi0RAIiZiRGmaSIsIk0Fis3zyvdEtOnLXc8lK+VJ2HJl18NUz0xOeNcC01FqzBaJVaYZWrNdOnyPju6LrRWlNaxhXRXO1qY4dGMTWWF8qaVRaapnatNKwdGmW8aWyvLnotqdFsr87ErmlElUNzTHSapS0RmqzaZRXLr9lz1o/2i8Pu+un5xfvB+Ees4Z/en7kR+J+nyP477fL93vY9/PX7efC+v8Ahv8An15PxP2fm7+a8P8AO09rT6N/o1+P/wAr3/jp7Y3qre3t6OX0M9df9wfw87Yt+wn46a9OX6d/Tz+CfaPl19jr1ovZY9Yfxd/4JSf2F+l4Px5t8g8F35/sx/RvMfxz4/2PyAymv2vjaM97Msezm0xprTN5stc9TOaorTSkWRbavH082lsdM8vM9EVrG0WromumV6JJml4ysF0Rm2yi1meG/OReqrffv6C/I9PelfHfkWAAAAAAAAAAAAAAAAAAAAAAAAAAAAAAAAAAAAAAAAAAAAAAAAAAAA8Merh9M/mXwfb414ryHjDk57ZFMpoZNM6jK9Ypakl6641nnap5z5b4fzXHXiufq8fvNOeKHLydHPt0/M/jfn+WuPxvfw6znWJqJpaplGEznMWiLkReomc6uVrWsTLa9UOvl7Duz2ok6RWs+bekuPN1cupzxMVMVmLRW2kWicl6QWJrfyPjfI5a612GcVpltzZTGnKThNVnKakbYXstMIUZmla30vrnNdG3JoaWmp0a5uTS2Omxrym3PqJrtUwzvFZzaM2uemUW+3n1A7+Pb2uvVR9oH8V/me/7HfZH1+/1ul/NT+X+wL+A/t8v6hfDPzer15a2xd+Fvk/xnab9vD4R+Jn70fH+j9Lv0h8f9C0+gX5peR8R9TxfoH+wf4pey38z6HqffYv9Mfk2H2M9UT2hfVN644Pmfwufq/Ob8/y+X2P/AMwf3C9YT5H0/wCL643+18mb49GpFbxlz4dOBljvTTnpaIjLbGtq520rzdPNoztaPkOW+FRMjonOImIvU1ItE55TpFcoz0oTx9PPUaZyOnKdPap/R71lPZrgIAAAAAAAAAAAAAAAAAAAAAAAAAAAAAAAAAAAAAAAAAAAAAAAAAAfTP7mfj9Z+EnxbzfxXd8V4zqx5vG4dGG1aFY0kY2tjEb0kvhpQzzsr+ga6c3n6cvF28HXnz5a8+nBz65V8n8lz7crxcWnPGOkRuWpNqrK5nFkTEAmYmE0WtlSbVLUWld/H36ndFNcoy0w2zpMGPNvhWaIIiLCYmpppMRes1ExbLbs4e8vsrFomlVzmM2OPqzIy1zspWc9Lb4bxWzPLMnSulZltpltuW2zvF5orrvTTkwvfLqjScTu570yvGmVUpdGdazztc0EopH6m/oP65vtIfI+p6sP7kfRH6Wd8ffv+LfDP0i5dvxjj+y/xr6fy5Xy3i18ta3834K2b/QvhPLqUp0Yp3/vH+CFuXX3G/h/qp+H8vo/QT8zeL9TOufy25PuX9QemOb9Bvz99h3h2/vnq3frz+PW8de/Jv8AR8c75a8yYZctb56Z47YGZnU52jSl85qMNucz6ubvPM4aZ1qpfK0LRntWu1bzEQtTLSq0Y1vY56b5E53GWkzXzz3g/RF9tavvWMgAAAAAAAAAAAAAAAAAAAAAAAAAAAAAAAAAAAAAAAAAAAAAAAAAPF+nh7I/rHbfzzw/yf4eY4V5cmbPalSK1nMrMKioWxmCnf435Rm/J+HyHheOr8HTXrnk8b5PxO5y52g+cOrgw8PlaCkzGUJrbMxTc0iLRCLESnKLUaSTElsjPprPyfB5GumiYhlJXn1ylxw6OazOaSTK9ZRMU0TVU3wovWOnu8Z3V1Q2KRGG23N088VyvWK57c5bLWlT0c+0Mr1yxsmoi1atrTTLS+W9V159NO+cL8rEU16yUzEzMZWyjLovWb4c8TEUrFiKaYxP6C/n449van9Y39xXxvp/mJ9ivy+/o/1PD98/rr+2H59/N+j+TVfsF/A/tfHx1tOszfObNzWTn0FzmYjLn7v7Rjp/O/078h8t+T9X7Sev14D4t7fB9hvZE+nv8N+f7Pyx/lt8/wBB8rvvza6zfbG+W2F2bTCXSY03wOW0zlXLbMyvlbSmO+EZeY8P53TppaBe2nK520pVL2x3LLRm2mIwtSK7lJvmZ0RpeIiqWi8a/uv+Ef3vPbaGQAAAAAAAAAAAAAAAAAAAAAAAAAAAAAAAAAAAAAAAAAAAAAAAAAqfhb+Mv25+n23gPGdXCOZgcfB5Hirnlka52zJztmTatimdqmXzL4b/AEHF6PC+S5MMdcOzU4vD+c8FpjTeNPm/ivI+Ow8Pal6UsiIiaV1plMTUStVJixFonS1s5wIsL01i/kPHeRt6M9c5IpalZ4641hjplFYXpfG2KpeupZW2yxlFoiXTv8f5GzsrTaMNJnSnPtzEXtzBFMM4vnpbo5Ni1aItisJJWtVnRtnqY9nJ2QvTXNw0s1NYytUW0mMaatsotXDKu2RjrlYyrNCZpEvzT2WfV1/r3k9X6W/kJ7Sv5vfP9v8AI/q3/D/6z7vL7Bn5kf1T8/fJ6frx0dnsVeny+t9t93vstX5EbfYf7hdMfllf+yfrhjp+Fn9j+xP0y1n9yvpL+rXrgeH2fZfw3xn60e7xT+gP139inyejh9Zr7N/S30cZhH0fFv1cnZFenm20uz0xcsb1spz9XIZpkzi0VjGmNTz7YHP8r+JfMClL6wjPTC9YS2il9opCJtNkymbaZJiMs98aikxpN6a5T5vwk172fkfpH93ICAAAAAAAAAAAAAAAAAAAAAAAAAAAAAAAAAAAAAAAAAAAAAAAAH8h/r30sr1h/hXnPBbeK8Z3+NOfxvd4/Lki2Wls63OSOnnM7IJtApnfMn+j/Af6Jlx8PkOTneTu8Z16nL4nyvj65NsN9vlfj/IeN5PE6RGhSdL0hViOaq8UtCJRAtMaQvUm9Ji8wzeju4+1NEzbEWpqctdOMzzmkK2ZRNYqwExFXrLSZi2Vu7i7tO3XCedSykyrty9E43VOSIplvlk3z0qhUy0i0RaEWtnsbMums+vm6tITTLpU1yyvFtL3iuFcdqbTzXqUi1IjK9aYaVqtqxmzfK2X9r9i31afmfl9P7r/AIZft/8Ab35vt9U+36Gfn59Pxfc39WPXT/q3Lt9zvvV+Nv6HcO/1B/fX1uP7pqf2b7R/lbx3X6Hfi38v+Ierw/YP64dH9M1j+VfZz9C/0S+X7vg35ZeN/NPvzRm+x87SM5jfq4+snXK+m9s78rz2i5jz7YWZqV0vleIxy2w0pjthpT5b8W+T5XUzyt087TSlr5UibaXrFYvnCJmtC1c6xeJxqyaU0y6jG0NPYR/bf1hfZ6yCAAAAAAAAAAAAAAAAAAAAAAAAAAAAAAAAAAAAAAAAAAAAAAAAH5v/AKQfVavU8+Oxy7ZcPbxnjuHXCM4iKpy9VTnmMjK+uZas1K5a5HmPnXxP5PHPz9nNl4/t38Xpx+PvwRn5Dxvlq+QcvXwYePmWlJhUwFkRCJzi96WIvW2UImppZUpsSpc6+3h8jztNmWmuVsLKc2mG2NL0wvnMRCFVsaLRFaK3JpMRp3+P766OjOMNOfpwiMOjnrKmmPRbLXOL41vFtaWitdM82iWURetL10rXatbL9nB19E9GG+E1i8aY02is3pm4zZ0la1pSL0yjLShWtstK5a1zYV0itolOj9Bvzxvz6+1l8c9ZL9Bvl+/5b9BfYC+4Gden5T2nv4pvHrn1/f8A6enL1++v2RP79jp6x/3E/fP6z8+v8I+5n5bfnhh+xX40fXbm+n4tc6x6vLW8NIsiNOzg7NNdMq10xe2HOmpXDTLNwtNdStL1McOjm2rnbKu35b8V+UxTj6OcvR0mOfbjlk65OCvVbbh164w4c/I82nLTsHG3iue8TF+jmtlFua9fYz3QPQ894k+eDIAAAAAAAAAAAAAAAAAAAAAAAAAAAAAAAAAAAAAAAAAAAAAAAB+X/wCoHrRWflj8d+UfF93Hu8Jxnyvm8D0nkcrZFF4KcPTkVvz9ZhG3MREaHzPzed8uPpp8difD+G6NXynF31Tn8nxeWPIeP8j43DjTXYVJi1SzNExZFNIEotExIiatNFLVN8do7ujj68r70tjUc2kHLhvj0zjhpTKIvSqrCt6ToTItVUxZhPfx9a9tb3TTGNc3HDfmM8r4ak10ppSbWEXZVpembakSVmYJmZs02w22t1ZdJCti1srZXiumVbxXaItoc81pppknDmpdVKbVjLLTIsz1LKWzU1al2e1dHzr+fXzr7w/Yj8l9ePT9j6/jnri/qf8Aw76QU0/oPwTDn686VyrvFslZbVkJqkE6W7OHs21is1vpnOFJvnGXP08ubFLKxRpZz8vZyaZZb8unmfMeP8xlw63ppOnRnlz02tDDoGN7qxjq5hz3UlnF8M1X35O06OXTmwUjXoj25PUh9kyP13GAAAAAAAAAAAAAAAAAAAAAAAAAAAAAAAAAAAAAAAAAAAAAAAAHx/03P3e9eDb4j4Tzfiq8Zzd3GcuG1DHyPFjL8kw8P5tOXG9aNqFa0gr5Tx3yuPlWHV4KOL4d2+Glqk1r5rwHfrPkvkvxb5xZweO6ubm4Vq7RTbKJTWE1VMxBZWwkpEzFa2iptaIlFzt7ufr52rbnsvE0zefm35LMqXx2mlqk1vGSLTtWLSRaWQkv28HfXcrcvjvlGdBebHpwspWZitqXW8WzkVZSzaltSYmKSiui+e2U9OXQZ606Kpa1MLqxV74tqXuOdW8RnbOKWziNcbVyyx6MVotTU1RWIvVV746bdFb487pvnEvRlYWpFkcvVymVJVnGmWpKJKyrF7VVXu8d26deN0dU8u+EVpO7z574JSJqUtWcs+To5NMufbDb5b146RnpnqVlMVvLCNYuVorpbn15tJVvEU1yit0F9abmWWvIRlfbTP8AZb8afuHXuDjmAAAAAAAAAAAAAAAAAAAAAAAAAAAAAAAAAAAAAAAAAAAAAAAA/G31/feR9fPT8XvHdvLp4zx/lPGnHl1ZGNNcym+I8tkuWWzjLHoyJ/pnwn+hHP8ABvPfDDhyuWIistr5SfIvm/wb5vrPiOXt4uV5YvXUrTSIya5kVNpmZEVnKYtGkqSTJlaUxM1tHf183Su+SYZb8mphza5VTC1apNqkWiItE1iLxaoTGUltreQ4O87JjXLKmuBfC2emeeuVUramE2zvW+VYxYztczrZuCYLU013w1L9nL15RpntUw0wrfHXTPTPeqVraM63pWK+IpamVa6ZrPNtnJUppomSpaF6q3mls2Ncts1a8alZvXNxx2w1MqzERTTLUspfSsVtEEE9nF0HWy1XTfG8kZaZ21w0nUxpemLlvS6c3B28mmHF2cGnyvf4X3r8sv8AFZk+Wz8UmPk+3xXevkD4+POPDK808Ky8lp4u1d1OQdjm1y6N8dJac3RlWNonc37OC9e8b80+nf3EwCAAAAAAAAAAAAAAAAAAAAAAAAAAAAAAAAAAAAAAAAAAAAAAAESPyU9c73nPq7Xpm5faz6rbcuXXBw5deJyNZMfJcmZ5SOTcyl5zLzXm+ecX4d4nyfJ1nhadVJcZvFmcaRL5/wCb66J4LxvkvG4MlYyTSicy1L22rFdIVsiYmlFq1N6XyStFdK6139/J051asaSZc/Ry6mPP3ca8cS1IrNcJQ0jStoiSpVkTE6X7vH9+XT05zlBYyrpnpjy9GNUvneM7V0qsXpzplYnOZK6RWzSsxWl41NOvl6NG2Va0tjsWvlfKb42iFZiuOtVyrrSzOmmcUU0qmO2EVhfoptki7PTCwNNKJdqzCTtmXfOciMNebcrW9CaoytSa1Eoq1s5GtNY60U0235d5aU6OWzKLVL0Y8163zrm5+rlOXi7ePor5rxnnCt9LRR06nHXyFz4/xfI/HV42uvEd/d8frNfKo+K7nnMPH6pbHo6LPFdXR2GNvNVrxfXh4uPkN/D+Xr2v/wBA/wAev2FwCAAAAAAAAAAAAAAAAAAAAAAAAAAAAAAAAAAAAAAAAAAAAAAAAAPjvrn+ylFehTT2PfXO08djvSs8euhzr3M8+jM7PnHx75UcuPJji8fjPIcG546vVkYZ7wc/z34d+1Z9Xfqj+uX5GHxOOnljgQyzpNBMTSJVF6wWWjBW1KtNbRMwq9stC800ryHXl0Y1S1qM45682jg6sMXlpavWSqiL1irkRKJLKX0XimV+3i7jydVMVaZk5c+jGuenRx6TBV67RGNdMatW2eU2ziLkLoTFtaaamvXw9lTelq1vhfJLUxjaYzpMGM65SxjrVKZaxWE5bGNL5rbO9EtFWkRpBdFsXScrWa6Yaba2rGW2VscqZWjSlL51EVsRE1iF6lNCmuV8urRGkdXJ1kZzkZxXQrzb5YvVy93DGPH1c25ycvTz9HlPM+K+QRg3rEX1ZZTNNMufowri8X5bnPFZdfPWMaxLnXbOWq1ZdungHktvELPlO3xLzNivl+Kz91vYC9Vb2qcAgAAAAAAAAAAAAAAAAAAAAAAAAAAAAAAAAAAAAAAAAAAAAAAAAAB+XX6ij0OPEe1P6tu54W2lLbc3VBy9XN8nPPcfk/HlfC/JPAxycEophpTTGL6H2G9s/wCtP6SZevj+P37Y/ifp4Di8r4rDxc6YaM4FLTJVMEXULwBDC9ZsIidGlJhtGp5Pfm3xZiLamOOudcdNeeOaulNrUvSqpgnSsYTbLTSYi4Vvlfu8f2HZrlqa1rPO0w1x2wy6MtTM2y0pepjlrjoyvOVStSmSb1ZuumO8bdPNetqq9JqmMNY0yzW2FtSc7XjLPozzeemtNyZjJcLq2RjpnE0vTKYtmsXpfU205pzdWetW0jTcppj0xNZylz4urmSa2oUmFVmUUlYrMBplavIs9RbLSr52rGbSscyY07fH+Q8XlXC+dcVbde2nn/F92HTOKtrYRFoCMO3iOTDRtw8nlOU4nTQ5surnKV0S0WLExZKWtJ3ee+MeTs/Xn2ZPyZ/WbAIAAAAAAAAAAAAAAAAAAAAAAAAAAAAAAAAAAAAAAAAAAAAAAAAAAAflb+qSvQx8f7RPrM7ngKXzWnzz4L/SsubfHgrxPL2+PM+LfCopEE/rJ/A/bjjzMmH53esF7evqE7eG8Z5Hx2Lz8ndxJhKNKkxBGgVOerJW1cpvCptW1TaJi+vPtHlevh6KnO9awy6MY5ubq46yhFRMQXpKq2m2VLRpGWhC9Bfs5PIV1FSdEYuVYjczw6eUrFpjr59KnLTbGppriTFqlkC987Gu/Nrl0qbVdW+1mfRFbNMqRorNNMrc3VzyrUalK6ZLXn6ONFbVoRkrfNbQhNNM9NKdeF4smNNtOfUvjZlyV0wIpplFqxK1i0alSarMSQm1d+ucxTfHSrVvTKMLZmPVz+Rly8X38cZ4dPL0nN5jxPnzS+uhz06qmF9JObW0RjydGOmVEjPakckdFTj4PL+NrJagTJExYibXHfyf2s9oX79eE83gEAAAAAAAAAAAAAAAAAAAAAAAAAAAAAAAAAAAAAAAAAAAAAAAAAAAAPon97B6Mv8APPdY9Vnb6jec8JlX9V+I+Z8KRy68mXDn0Z6R83+Ge1Ifcv8At5zAfEfS192D0otPhXjvNeAjPj7eIrCsQtnU10jSImBNNMk0vVdK2F6Ia1pV+nk6Y8vrTUovzRPPNNMuPt5K5kKV0zJQLqTlNq3yTW0QjTS3Xxdx22jWKRFapJWeWmWWOnP1aWx0plzxaCtLVALES2tBNZraui9d5aaNNS0LYs0nSyldYpXSubjlpiaIajG1IwpvjWaAmJiMrKremlLxJa9Lw2y3iJrbac5rlz53kxRWLRVpC9QRoTBW9LHfbO4vS0b475RlRpHP08nbm8vNvjZTn6uTbn+ReA89p078Nzsng1w6Iy0ytjGemeG+GmNNUUXrVLBjw9/PXjY1qUiwhMk3n7nH1c9rH+6/ZvIMgAAAAAAAAAAAAAAAAAAAAAAAAAAAAAAAAAAAAAAAAAAAAAAAAAAAAAHxz5GPWQ/JP32vyZ1PWc38x4fTn4N8Jc1v0Nr7qfv3lrgEAfz70vfcz9NXU+N+I8z4flrxWXVz7mMEUmY2ImIz1iImmlRMKWVLovE1uqOjLY8tpneJz2yjly6OXSOHs5Y55mKRNSExVpraETWNATpheLd3D5Gt9qovnaNIppho5d+LKevl6IZ65mOWmUqItZCYhfK5LXM0vlrpttS+E9XNddc52ytNarfDellK3sRy9GVk6UrXPEjPHbHbDStsqzOeSatL0Wym9C2uWOnG5otcnn6uHNxz2y1Iys0iJZRCdKrUhNNKhF67NKaE1m2U2QZYdXNV+jDojgpbPKOPr5qv5T4W1fl3d8Buvz6/wvyieety4J24Y9kc2euGWN6tmd65Vi9ei1K7nicPIchkt5Y8P3/rZ+60fkV+/wD5RkEAAAAAAAAAAAAAAAAAAAAAAAAAAAAAAAAAAAAAAAAAAAAAAAAAAAAAAAAAfxP1s/a4ivSq/Qb2T5r8xf0W+SMgAAP5t6Z3uOem/qeB8N5vweNeOprjqczTGJhFK6Vqsy0i6cKaVgtS8kzCLK6LTt4uvU8xW4jLShz5zBnydfDljaIJiL1SE1neLE3pOVqp0aVRp3cHbl5GrSmG1dM62oYZ2isurDpK8++WXPnfPS+Wgoi0Wzm8RpnGWyt9urfl3Fs9IveL5StSWUKrcTK0QWw2yzcl6amfP28u2SosiuVqyLRQt5ptkslNNsZrQmp5enlrOt8jLQjOl1IrMXrExS9a7TaYrq6cbRpF6xotkRz9NC1sNTjy3xxa5652fH43w3qqwosllT2Sz8DvA+974O49EqfZC/KuvofVhXVfj6IpTqrVenm7TgfOvaoj8rP3l/sbIIAAAAAAAAAAAAAAAAAAAAAAAAAAAAAAAAAAAAAAAAAAAAAAAAAAAAAAAAAAAAAAAAA/h/p5+416dWp8f+PfJ/jUvDlrSuSLVM7JyrGsS1ROpCGkWCbVthGmVjSEVPZw+Q08jaIi+W2JzZa0qPH9XLhhFoFortC1atbOcrzMxVDSdKXynyHF0x5OJpVstI2pVnzVw3z2ptFcmVs9MhFU0ESEzBasaZW1y0reydItCNda2iNK2iWuObfPTKKaZqxm0WUy6KZuGV6amFtM9ILRStqkWlTSt8LzF1vplrqTC9YYb4VXn3yqE1wrMomsxpMKxW1Y0sI7d+XoiZrba963ywz2wLzOUU59sStLZniubr5ujJauN3pZrMe7P6UHuTR9zBmAfWL10fbLivQi29oH8atPoxHRzVb5Z809rmOP7jGAAAAAAAAAAAAAAAAAAAAAAAAAAAAAAAAAAAAAAAAAAAAAAAAAAAAAAAAAAAAAAAAAAAH8w9Nv3QvS+0+N+I8t4uPC06Mq5c98qrVUWhlMxWkSqtqzF5pEaTW9TMTVe/x/kzykssNMJpXPTSmmXH1cOUKxpaFsopZoU0imkVNUTS0TE9vL0nkop05Z5616Oetq4M9LVhSqFGVIRlDSkRENlqyTMTmunl6LOln11npjsX1qwhj0aaL48tVy2xssvG5kV0rNq83PF8jFbPabUtFIU01pMVpNdObSa6LFprZpNZKZsqmlorNamVaaxFVq6IiaqmhaY0xdtuXp010pO5XoztlHN045ac/XyVhnrQrltlp4/m7+auKulZa3QdPtweo57Wyfp4MAAAP5v9Lf0aV/L/6gQAAAAAAAAAAAAAAAAAAAAAAAAAAAAAAAAAAAAAAAAAAAAAAAAAAAAAAAAAAAAAAAAAAAB/N/TW9vX1BdPA+I8x4iPE8/keHDmy3x7K53RWtoL0tOVEzpCyKpC0TV5peHk/E+VPLZdGebXHXmspydeVcvNvz5ZxLaL0RFL1q6l8ptUXnO1XimlT28PYeR1hgw0pphmpW16wYUUL49GUZxaoqqIm0QrarSjBvnob7VaWi41tjpFoprUM+mMbVgtTXCrUQUmsxhWVRhpSKzembnXSNxNJLaZaZbXx2IXtVbXrpy56QURaMUIUvWC+WkVvWq3hVqSjfp5+k2ZW0jetsorthlrwdnHpnToxiuWjTj5u3CvH5b4SpmDb3FfWk9zWSwyAAAAAAAAAAAAAAAAAAAAAAAAAAAAAAAAAAAAAAAAAAAAAAAAAAAAAAAAAAAAAAAAAAAAAAAAA/gPqD+3J6i+ngvF+U8Thl43rwl5sduTrKzS1RKka1pOFLXbWmlsqrUq6tqXiYr5nw3k689z2zyjHccnN5Hirj5ezkwymG0RdVIvEImYlFokrpa1EbdnF36dd2sZwwrPO9K1s0jix6Oc6eTRlnnrlpGdq0tXTCs56BehO2c107c2xeyI3tTWspugXrn3y6IzytMY6RnLbO2VlM986xz0zytlbM0RFTfOam9WW1st6tpnJXSMaovSERBlKmVs70qStKp0iIrpbTK0a9/B3VeZtBauCsdFc/PZWNdMsXNMalMtqV4vDs5tKNfnR7IP668XbgEAAAAAAAAAAAAAAAAAAAAAAAAAAAAAAAAAAAAAAAAAAAAAAAAAAAAAAAAAAAAAAAAAAAAAAAAAfWz1FfcD9Pnbx/gfMeFyzymcvGc3RzaRC22ekTFa2qL5aEogvMTCYtCt66PJ+O8kd16a5Q05oc2uJxcvXyYtJh0i1VKzMVRYm9JqaLkXC/Zx+Trq6a6nJl1YGPN04w6Mlc+XVxR0YzUUtWqVmapW8YRat6vnNsLWpbbo35d4mko335ekicuuqUQX0tjm6ZSsyrplpnTRljTXEzptgRE0q6o2yMphbTXowvG057Fee8VjNqy1pMxRNSosiCstFdLUlEIitPIeP7Y6Nuea3rfKKWjauWbxlzZ6ZRWs10paLHBz9vLpT9hvx89wKPvQMAAAAAAAAAAAAAAAAAAAAAAAAAAAAAAAAAAAAAAAAAAAAAAAAAAAAAAAAAAAAAAAAAAAAAAAAAAP4V6eHuMenRp4/xPkOI8fSK5cOO/NVamlbUvVYmhM1vF6TQ1U1iK3iJrLTbyXjvMx0zSYmFYy5enmrh5u3hhExRDRW9YmJg0tS4i4i1LFu/j7o8hrS+kcXRnljz9PONJnanL18mGZJbHbCqzEApkk0tF4yS2NdKXiyLLvtj0RSsxqX5unPTSkWKZ9GZWnRXDki+O0xNMM8defS+doiEyUmLFpixrtnpE7ZzpGUTGacqosikTYx0ilTVQvVNWpesZ2rfR28HcbbYbRrmgpGmels715MctMVpMusgmOXm6+Wv7n7t/r0ew3kGQAAAAAAAAAAAAAAAAAAAAAAAAAAAAAAAAAAAAAAAAAAAAAAAAAAAAAAAAAAAAAAAAAAAAAAAAAH8M9Oz3GPTn25fGbYniYXjg5PIcGWed67LUvVaXoV1z1iEKpvhtEwksmh1+W8b5ONtcdMqcnZjXJz7chnz2rUxWkaqKmazAF0wXjLSptUX8hwd2L5PajUrnphi2pfksmaz1MNc8OfRQnn2yIjfMypeC0RMLRYjTHSujfG8dGLRdjTBn0c+pe9Z0ztRprlrEUlXneZNNytVajHTGIm8ZZSUTMVvGtusrptnahhXWpWtoopaM4jOrVi9UresFbi2cmd6a07ODurbbm3xbRfNM2mehrlHNnvgKI2kHPz9f9tPaQ+7tL4BAAAAAAAAAAAAAAAAAAAAAAAAAAAAAAAAAAAAAAAAAAAAAAAAAAAAAAAAAAAAAAAAAAAAAAAAAAH1y9P8A9mP1lduLCNzxjqyy8fwdXHm5RE7ldJzqaIqNM9Cq9S02nKltMi0LR2eZ8T5erRaMs8NMKw4ezjrMpVYtXJW0AsVvWSJlVbJqu1bZW8hwdleW259cMs7IjDbK3XC2O4x154pF8RRUsvlVs7VgiTRQaljonLXR2ctud01wvGzInUtFYrNqW6ccqY9GeLlz9GZlnNdymGkETRFSxELS22571p0ZaWWtOGblWb6jLTM0ytnGdbVpaLQx0oRaJ0tDTLKUVTu4Oqu3q4dzSt6bM5RXO8RlzdfNVYTUIsU/e/8ABb3ZI/towAAAAAAAAAAAAAAAAAAAAAAAAAAAAAAAAAAAAAAAAAAAAAAAAAAAAAAAAAAAAAAAAAAAAAAAAAAA/D/8Jf1C/LbTl1x7tOanb47Dw3H1Y4ud7Z9JFbDJNTLWYqYaVfXBklJTXHbLu8p4jy1azF45effnrHk6eXTnSqldM8NM5VCt8otS2llbUL5UtKr9nD16eS1mvK1vh2WZc+2ZXK1NM4vQxzvhlS9Z2tnoKEEqWi18pjSa2jWbUrSya3tORrS2ddmNtudplpVF6UyvSarkQZYa2swwvOla3ziImVi0MtIz11NtcNttOfp5YreklsrThXLfFYRNTChWLVkRNKvatqyWrUdPH110b4bV0JoUvQTneI5ufpzjKsqXitdPvceh17xUf08ZAAAAAAAAAAAAAAAAAAAAAAAAAAAAAAAAAAAAAAAAAAAAAAAAAAAAAAAAAAAAAAAAAAAAAAAAAACh6mX0w/tP8YOXvz8/t4TwXnvAV4rO9OasV00ilVZNb5c9tc9MtaaVaVCZoJ0w2jy3kvGeVitqTHPjvyEcHbx6c69SkWjKCShJapV5kTNZqL1vlPbwdh5jTK+WOkamOc51lnpnplW2RnlfAm8UrSIknOal75a4CItplsXvlrpa1dCdc40259Rutnzuk02ia1rTLoySebbCXPDTIpExuRS9YpM1i0Vmr3w1L9eG1X5unm0i1UWpekrLSmZWKzpFECbVic41pbK9Ww2wI35+iu2+OxvtjtGVb51WLc+VM9sNIotSLVHtnepn7CMfuEMAAAAAAAAAAAAAAAAAAAAAAAAAAAAAAAAAAAAAAAAAAAAAAAAAAAAAAAAAAAAAAAAAAAAAAAAAAHB3/wA6r02/jseLryGviuk8f4ryPFXjObfmy0mRjXWgmMjRVpKt6lNCLzJnet48t5Hh8nlSm2BhzaxWHH38WWFZrpWZiIprnpCbZV0ztS8Im+N6tKxPVydteT6M9cXn0i0mWO/PWWG+G3OnOqUvWIQiYtSIJhNVWsqaaUmNLVmtNue9aqq1ztWuuYcbpBZak6RnlOemcxaubLShGWmZOd6mcpItRV9MrnRam2Les6pwxtntXO01jMMKxehWE6VWpSs6lU2yzROmUxavJaYdGWt89SiNKwzlDn6MDCmmelpqNP1r/JP7hHuIjmAAAAAAAAAAAAAAAAAAAAAAAAAAAAAAAAAAAAAAAAAAAAAAAAAAAAAAAAAAAAAAAAAAAAAAAAAAfxn+zfCK9KHn7uHbPXmseL4eiObx1Na0ila0yiSKs6trhNbWwtletqaWvS0Y9GW+Xm/J8nVFebbkrHPfmrHHTDNzz0y1LKwWx0zLWBMTCI0qyL5V0poV8l4/yGnmMtcsIzrO057c8ZcvZy6Vx0wilJmphMVhWrVtETFqxaYvpKGV7U6NLGpVe4zvjHZbLTFjXG+5BPOxS8HNG2PSYwiqRNSlNqRlaJi1Jtkvnppvry6x1Xytm459OFmOetdM5tnVckxZnJalZ0m9bxnMWLZa4UiYrt6+Pqy6M9VRTfIyhrGWG2FZUvkaTNK2+cfBOo98e3h/McwAAAAAAAAAAAAAAAAAAAAAAAAAAAAAAAAAAAAAAAAAAAAAAAAAAAAAAAAAAAAAAAAAAAAAAAAADj7OOvSZ+IfLfim2HXwdh4Tg8v4SKVmtRnrkViKxet1URaKzakbImCRTp5+6vO9HN087jxdPN0kcW9TDHbDLmjSmkEYVtau0TVV0TleixpNNcstEjyXB26eZpFazrFtOjG/NDh3yMubXLDKYvsreMqVtGkFavaJiq8ZW0pNW3x6Kz3hU2pYvz2jDo1y6KppWxbOmmWU6c2hRljWabVrNBS05UstWUyiNc71pvz7G2uMRphtTLDLbDTPG+ekomqW1ziURlN62iLxFWytGkZ6Yndvz9JvTWxFLDOYRTn6sI5qzGk60VaLbHvQfLPj/AMg5gAAAAAAAAAAAAAAAAAAAAAAAAAAAAAAAAAAAAAAAAAAAAAAAAAAAAAAAAAAAAAAAAAAAAAAAAAHF2+Lr0uf538v+G6ct+frjn+P+e8KciaaWhmVtFoZ2Ge1K5TMRtqmuGsUVHkvHeUPMX1jDHk6ufTHm7eMwwtQyjXLKIrahXS1JrVotBa2dzRFctLKG3kvFeUOnSb6YLItybsufl6easeboxypNLbWmK4INCtqTEkxeuU3Inqxtta2eml7Qi2WuGXT08PZWlaWFUaVy1RSs5RnW9arhrlgRpGdbV0Qkvrlcnbn6KtMVq9dKYRx9XLpisql62wpTbOolOQVaJroi0Rkq06+vx3dXTtVF4nCJgiOXowOaulNo1xsbFD3mPnv8E/veAQAAAAAAAAAAAAAAAAAAAAAAAAAAAAAAAAAAAAAAAAAAAAAAAAAAAAAAAAAAAAAAAAAAAAAAAAA5erlPSq/n39U/k2nH3+J7az8P5XxEY4WrFE02TF4qmpnKCbJLa5XyRfLSfOeE8/HftS8c3J0cdW4enCsMtcMoxlFLTMUreejKb1ppnfC6Ba2elLURfy3ivLGmtbaTkrF8OjKM8tueuOmmUWrMQhBSYUtMQRtGdomGtFbXyvpa0quga8/Rym/X47ujakRUlNIrasMrxHLMoxprlStqkRMQGWmlbaRpFy1bKvKIz5t+QpNVTFZysrSNKRaq7Z1q16aFItlV+ffMt28Pbp3Wy3wUthG2KCeffCsq6UrFtXTSctj3Ifth9APv/gEAAAAAAAAAAAAAAAAAAAAAAAAAAAAAAAAAAAAAAAAAAAAAAAAAAAAAAAAAAAAAAAAAAAAAAAAAOXq8DXpo/wAm+a/DtvF9nFqT4jv8ecmelMs6a0qCDShFItOlNEG0VvCaDXz3gvkmL18/Xx5ZZ6ce5SqdOLLbLDGJgzvMQTXSaxfaL1tlMRoTFdCLROWnlPF+ROnSLVlpnWW0I1Kcm/NWWW+EQtXKkK0mGk1mYsmcIlWrK6Gt+fWtNslb52imWmJp0cnaWWFkSZY9GJGW1YwraDCJoVsiJhEWROmumEm8LFNcti8TMcvN085ShpBYViMrVNCYLwnKtLqY6ZFvIeP7q8htx9EWxXiMd+eIx6MKrnegGldsrV7Wn6Qflz+o2AQAAAAAAAAAAAAAAAAAAAAAAAAAAAAAAAAAAAAAAAAAAAAAAAAAAAAAAAAAAAAAAAAAAAAAAAAA+N/JPiJ6X/wv5Z8R28RpneLeK7/HGOG2VVmYKXUi+cxRImCtLVtzVaUrf5N8d+Q5vZx9HNm4Y6U3nnx34qpjpSMaXbVvCJqtFJtmXnO9WRNWmETtjrhp5Lx3cdU0LeqkWqWZc+2OlMNsCKaZSqXrqRMiJi0EzlFioWaaXz0L2pBvVaqZdPNFfLeH8pVr0rhet8qsykpjtz1bPWmXOmtKxSr0vFSm2U2WLWvBSvRkJTpjlrzc1K3r0Fsya3ziYurO6xm0RWZpEUvSo7OToPJ9HFvV4mmTHShbn2wME10siSuuOtexn+0H4B/v5gEAAAAAAAAAAAAAAAAAAAAAAAAAAAAAAAAAAAAAAAAAAAAAAAAAAAAAAAAAAAAAAAAAAAAAAAAAPiXy3wFelb8D+dfBq8dfG+U+P7OI56Xz2UvJlFoiU1pSYrS+GsWvDKctKHlfOeC87m6cnd44pRJzcvVx7nMvSKVidqxeIiUZWpYWtWYlLabUtldE5undxeTstvjpmxVezKdMpa82uO5jlrgTlaIqRtXSlogZXRfNzma6mqs7W1rrGlIvo0ztlTO6Kd/jvJraasqtefUiZiqZ9GBnhrSoztWFLxFYmaroiNZx3idc50nTO5ZWKww0x5sJT0TFhksKXzvSZZJiCa3qVpCnRzb15HfLTKzOS2E2hz9XPHNXamlRpXox0P2N9kb1iPZ3wCAAAAAAAAAAAAAAAAAAAAAAAAAAAAAAAAAAAAAAAAAAAAAAAAAAAAAAAAAAAAAAAAAAAAAAAAAHxD5f8QPS1+F/Mfie3h2PQR4zyHCY0uquOiIppkWTEUtDSZlGk1vlETGnmfK+M8rixy9HOVxtnmYcnZydXNW+ZMwISyrNVKpib53qbILXow0mo28h47yVddJyq1s9ysXyxefPTl1Lcu2FVhUpelqrek0lfK0VvlnYpcrTbK+mtstSsqlK6ZRXv4uxdtM7ZUrem4XpGNNI0zx1zyzibYUx1qVtDa6sRpal41lOmis1FdMDny0yyiqdLRamVItNVmqrERpRMWy0qUrbLZvhueR3x2wmVS2GtYty9GBhEtIzu0reo/TX2o/UX9ujIMgAAAAAAAAAAAAAAAAAAAAAAAAAAAAAAAAAAAAAAAAAAAAAAAAAAAAAAAAAAAAAAAAAAAAAAAAHxz5H8RPSw+Ked8NXxnfn30v47yHEYUvUrE1q9L55TCIWztpKLGkxBFbj5F38XXi6cl65U5teesufo5+k5qWrEIQVCItpLOYvelojSWUWrNTek1v3+P7o6ZprVctMtNq2zxc+Xq56xy6MZMq2zpW1dJibZVtKJmaxas1q9s76X1z1JvCIlWlZZufXza6nVaY56tW1dykWjUzpF6yx6MssadGWGVNGlNKWqbUmLLzVtcbVpfHqyzxvSufl6ueKq3qazfLGa3M7UnS80ki1bRalq1Gd6aU1xk8t2+O7ctJjGL1muGeHXx9Fa2qKWz0vbK59ovc39H/3gMgyAAAAAAAAAAAAAAAAAAAAAAAAAAAAAAAAAAAAAAAAAAAAAAAAAAAAAAAAAAAAAAAAAAAAAAAAAfwj+7/TuvU48P5fw9fGqXyjr4+jkrKs1qkxNXopCaWimta6bRA1mmpjeax8o0jXLKJyjPn6ubTDl6uTTLPbCL0rJReKiVRaENsdC0wwlW9WmummnkPF+Uy6pznFppbDpJmoz5uiMuHLr5pcaa49JFoipSibIwmuggFr1uRrnrtZKETUvWlIjr5ta7ZytlrM5y6Y7ZamOOjTPPTIyWrlWLqpa1IWKbUtToytlpFFX5+jkMsrZloixVFYTW8Z3mpMTOldK3ikWpURfOqxah5Hv8Z5WGU6Rz22zM+ffLSuWlSldcqXpOX9Q94n0XPegLjIAAAAAAAAAAAAAAAAAAAAAAAAAAAAAAAAAAAAAAAAAAAAAAAAAAAAAAAAAAAAAAAAAAAAAAAAB+dX6K/mNXrY/HvkXxzbwvj+7iNuXbmi2WuFaVRCZziJKqjUrdapuRlrW6/LpvnxvM0wsz4+/l05ebp49StJgqTpEWpFsr0LzEGkV1jPWJiyEWvS9a93H2nTF88qXvGlMLZ1fHShHJvli8tNK6kVs0hFyaWpla6MrqtL2prm6X572bTFK0y1rWeetKvFbneWhXQZ1tWGWtK5Y0zildcSYjSFSKWmNrXx3ynbOwvnfauHTzRzUtlE3rNRS1MoWjQvQmCrzFcrQmq11x0pEwdnk/Fd+XRZQZbV0zz2zjHHTOGW/NWs0mPnfvOejN7zUWEAAAAAAAAAAAAAAAAAAAAAAAAAAAAAAAAAAAAAAAAAAAAAAAAAAAAAAAAAAAAAAAAAAAAAAAAAPyO/XH8jq9ez495/45t4jxXk/Gxrza4FsenCq1sLZ7UyytatTMTU2roXpFynRh0Hy2cXC0VhceXoxOfh7uGzK9J3KprUQir0zuLVkvMRlcmLs9Retov38PkV6aXrDLXDcik2lZ6Z4c2HVx7mcWiK1tOkUlU2qiwibQi2lNpa3m25aLtKq2M6TMU1zHkb4s3TSs2KBWnRz5vPnrmmeWlNo0pplEQqZWlqlqa3zvTXKww35ssMrisTMRNak00zLIbWrasTMXiaxOlaTQnK+ddPlfEeUjsogmmmYw6OYzrfInHTImaSf0j3lPRz94zIIAAAAAAAAAAAAAAAAAAAAAAAAAAAAAAAAAAAAAAAAAAAAAAAAAAAAAAAAAAAAAAAAAAAAAAAAAfjn+xn411+B3gfN8G3xjxHl/DxpzbYm3N0UqudqRK2YtEVZGha9ZLInLLu5PIV520W53NFsuLHbmXLk7PH6laJ3IVsKTFRW9am5C9LRKyK2iw1ojp7/G98u0yKViLKqaysOjKOfDo59zKZri5rTqUleqTMQ0ztlKJ00Vk1vTXRaYFE1SNMsLZTFvfvzyb2pCXrFcJpbC3BtzFFZ1J0pYqgXitoptWxe2V610pWs+bbmypBAgvnepmmmloiatWUWvnOV6Wms8tq6ZxatX8n4ryB2XpYil0c09OOXPl04bZU1VkrpH9H95P0dPeLiRkAAAAAAAAAAAAAAAAAAAAAAAAAAAAAAAAAAAAAAAAAAAAAAAAAAAAAAAAAAAAAAAAAAAAAAAAA/GD9n/yIr15/H+Qz0+I+M8l40pS+Zph1Y1kmTO6CM7QaTSxbbHQJZV834P5Bm+SjSMVzbcqU5Ork05ubbKzEptMIq1NBSJFlZyaRJKGV5hV5DXyfjPKxN4xqFc9LWy1xbZrxz8u2epjlpUpbNGkwJmlqreklki187VtpSxrnapQjK1ExVamnbfKdNa2tF8bIjDfExqrGUznV1EXZ2q8JI3x2ytWxdJipjy9PMlKwqLRNM7xFYtIgpMRVrROUwVWt6VWmuZXyfjO08heyMraYxbn1ylzrem5nneuikyf1L3ifSB93/IMgAAAAAAAAAAAAAAAAAAAAAAAAAAAAAAAAAAAAAAAAAAAAAAAAAAAAAAAAAAAAAAAAAAAAAAAAH5P/AKwfjHX4GeO8twZfEeLs4OqueuZvh08+WdqRpatqkoktaBa1bxFqivyb418oy6yubTn6eNObPfktwx2wkpWWhWdImtBek00ysXtlrCYvFppeLREmnlPF950U0qYr46WVnCaaY1jS+dZU0zikxfCaaZbRpWdpRbKL0uRrnrlbbGZbTVqWKS53hZpjpU33w6ZdIllGd6blctebZhtXmxppaKTCpi8VOd4L7Z7Yqm0Ck0rPDbmTNTXSq+ZFonKK3oTE10tFlVtCrzNeZlq0xzvSo6ebdfL647ZTTPTKuGuMUz0puZZ7Y9BWI/t3u5eld7qMBkAAAAAAAAAAAAAAAAAAAAAAAAAAAAAAAAAAAAAAAAAAAAAAAAAAAAAAAAAAAAAAAAAAAAAAAAA/LL9TfyGr19fBee+L6eC8d2c1RTTI0570isWirUtAmBOudi18dyEVL/LPiPzTC2FqRz59mcvjsenisyx0ri4EdYJikTGkTS9WrepN85idDK16CdItWnd4/wAhF76ZYuBYrE6WRy9PPtSumJlnrzQhYmoL56Ct4yWrO15icNZjQrOisoVqIi5K1Y035upevPWuLnl1c28xltltjTSmERambmusvnNV0ztQ31x1jShuUvWxz82uEUtleNKWisbWpstVgiVL1rpN4RozvlQFaaU0ztW1eW7uDoi1JzyvhfPNnLaupz564dEImPuF7jnqm+1lAZAAAAAAAAAAAAAAAAAAAAAAAAAAAAAAAAAAAAAAAAAAAAAAAAAAAAAAAAAAAAAAAAAAAAAAAAAPx0/Yv8cq/Av4f8t+I6eCrNSuG2BWl4qIiREwReJJ0pJeY0FJrlb5j8S+YRTO8c2XLvhbyc3Rh0nPS9MKomqwVTSjTOxUXraGmdo0vnclFqtNdI08j4/ujWts81W2ETrjfUjk6ctr4b4Yc/P189Y3mamhBaSVoypojbTTK3NbbHVZXzsrS0aUTFXaUwv0cnfLe1NtS2EinPvlplj04xWlmbkmNTWk3xcdKaVa1NJLWzdGuGtcOPG0S0RG5abRlkV0upNTENIuYLTWExeq1vSpztBmVrynd4zyWU10pllSbS0x2w1M8tseitoR+u/sz+tL7LWQQAAAAAAAAAAAAAAAAAAAAAAAAAAAAAAAAAAAAAAAAAAAAAAAAAAAAAAAAAAAAAAAAAAAAAAAAA/Gv9lPyer12fh/yr4dXj89efRza5FJgVmRMTQ0Kltc7F7RcpWax2fKvjPybCmN6xSk45vJy9GG5hnrnlSmkbUrMaWqgIitqxcUaGk0vlbTO8RbO5r3cffV66YZUppWqbhjEKnO2GGOOlaxtKrRaIreJqSuUzXSo1iF1vSyaZzmLSqhYi1so125OutkbZtEopn0c1Z52WZV1zzcomdSb56y1TUvpWam8EUtGbwY75biai2elIikwSm2kUtBKmhN6ThMVrWsKaCcsImOjs8l4nyWXXjNMs01qme2VUy0ppnloP169mb1u/ZEyDIAAAAAAAAAAAAAAAAAAAAAAAAAAAAAAAAAAAAAAAAAAAAAAAAAAAAAAAAAAAAAAAAAAAAAAAAB+W36k/kJXrv/ABnz3x3bn5+jGMKXiua9NStNaE2mhWyS857lrRbKlL1PIee8J5uHP3c0Y03wzrk5OjCznz25iaWp0lr0EKzVZkWRUaQNL01iJTEytlr5Dh79LRfEpnahOuVsstKzVMN+bLHLfPalQtEW5phU1iGlrUvC1Va6ZbArordFJhGmdlsbV0TXXHWWb3pz1lE0swi1dSmWtLMpVNLNJc5hFtFgRZGW3LXLW1KrZBCbxSsggK6KzaBF6kXtUmLClbUqlbU028x4XzWFrQjGmqM+fp5ts6WppSLRH7vewF+I37c5BAAAAAAAAAAAAAAAAAAAAAAAAAAAAAAAAAAAAAAAAAAAAAAAAAAAAAAAAAAAAAAAAAAAAAAAAAD8Dv3x9W3T85vD+Z8NXJnfmyzovty9HPsTMXiYlWQL3ptEzSYrltlXmvOeI8vlXDo54wyvQ5ebo5SmetDFXXoomTJpmTWWVoTolYaRbK81ZXRetvIeN8lm2iaJg0zWaXzNampXl6eU54vSq0mCdMrRpSLZXrWK0VvC9ZNdcb1NUaSiMpQNGOmltazHRvz6G2VrZuWemURlNCmWudkTSc2+tKaSI1vjpFkTZTn6uXTny1x0tCKlemUKzUxZGc3pVlLk3zjK985L0tc54vntWmudT5vwflMvIzWvO1pNSmOmepTDbm2rfPWvZs/XL8jP1zwCAAAAAAAAAAAAAAAAAAAAAAAAAAAAAAAAAAAAAAAAAAAAAAAAAAAAAAAAAAAAAAAAAAAAAAAAAMPS59xL0t9Pjfg/P+A04Obp5Mqq3MLxeraY6Fq2pTKRfWtixEVreted8hy+Q5nLphGOXRyaZ8+mNUpfKqxYVFREAreF87VZEml89Im+emS+dq37+DsjqwvXLHDbOpvXKOnLUvNltnqc+W3PpRNTSKsLiBbSyYwvWJ2vrQaZ6ZRawVtS9REjWazLvrlrqWtn0ZvNl04ZZJxqKWJitEusRaIiJpa6rTS9lcOjljjrenRF62il6zFZgK2roTUsRE3RVprOE1m1Uz2pWNb10r5PxnceUnOMtMIRXHo56pntlWFok9hf9yfXe9iHIIAAAAAAAAAAAAAAAAAAAAAAAAAAAAAAAAAAAAAAAAAAAAAAAAAAAAAAAAAAAAAAAAAAAAAAAAA/iXp0e1l6o+nx3wvmfCacfN18mFL0bTfOSVpK01xE1k02z1EIFLj5F382vOstssuTl6uTrMsLZGeWuZUsRM1rNapfPQIm8TfG40rcnSkxa+cx0dnF3xpS1ZcK2pqaTS+LbnuK4Xz1OevRgc9NqdEyjLbMJtA0rFsIk2vOexalmaRayNKyQ0rEWTVunDY3mlsaxpaEzy1rZjnvlE0sqI0os3xtZa9L6XrFsWOTp5o5iekzvFalDKsWgReIiFdLK2LVXLIqXsrCtkZZ2nop082keXvloThpUpjpQyiyuS8VP1b9oj08vcNyDIAAAAAAAAAAAAAAAAAAAAAAAAAAAAAAAAAAAAAAAAAAAAAAAAAAAAAAAAAAAAAAAAAAAAAAAAD8z/Wj/f31/NvBeD834auHm1yJreom9SbhXHTItfPQ06ObeJpfMiSvlO1Y5I5+jlrHl6+auXPbGsbRTLNMbRN8hMRSUkynJes1ea3ib1tkmumm/bx7R0ZaSctNKZt63tEReNTny3wlz59s9TKLRopMVfTHSJkJiLZV1rGWtq6WzNWVbRPSXhEZzNTS2Wtb3pc6WVsIrNtMc+nmjKt85YpvnVFlkXpJa9qVaNIyy5OrA5ovBWbZROeue0TS5etYJIqyNcqTF6Xy2qIi5QplWlo2z0pB5rfm0yimuZGN8zO1dNOXPrxP6D7znoo+9dlIyAAAAAAAAAAAAAAAAAAAAAAAAAAAAAAAAAAAAAAAAAAAAAAAAAAAAAAAAAAAAAAAAAAAAAAAAA9dj8jvvx9BtvEeE8t4Q4qoql40F40IpahWqCEyabU2IzvJSI6I+VU6ebjc8+jjtx5Ori1nPn1ypjrSsrRbSawIrrSK2hVtKThaYmtEXwmLqi6NNOvHpqZtBz4XYul60xb2pvc8tNuWsqWrWUXjSk3oWmJitotFZIuildOmOubMVmpmL2VmliKmml89IvpSx15V1rKmqOeNcopl0c+bpSL2YaVvUCrXpNXm1csePv4IyizSItQmtstLWzvCgaUTFlJi8RarRN9KWz0Jx2yIpbMqhXmdeTpwmL0jPLp482s1nrIx6cK8h72/oce9jl8sGQAAAAAAAAAAAAAAAAAAAAAAAAAAAAAAAAAAAAAAAAAAAAAAAAAAAAAAAAAAAAAAAAAAAAAAAAzPTn/gX9A/nG3h/C+T8VhzUvToaZ2NbxoZZaYlayE1k6NsNoIgdPJ5GPkuG3Hyu/D1c1cmOvP0mNIgzpfLQCJi5EXpGdr1q1q2yaUvGk1iXSK6bkSsb9vj+/ldee9DGtqVe2WmLN1bM8tuXUyi1NqLYxIqb465XrMZXztGlkxF9sZLzVpM11ik2is7KlrUsvTbLWOjXnvuRakYYxpSs6TmSlEI0MpSs6531EEZcvTyZUQqItG0UvkSlFotFVtFoqqq8wNJrOQnStbwViIK0K8h5DxndheIpmzy9POZTavSTnfOp93T0ivd8j+wjAAAAAAAAAAAAAAAAAAAAAAAAAAAAAAAAAAAAAAAAAAAAAAAAAAAAAAAAAAAAAAAAAAAAAAAAB8C+e/VCvU0+L+X8Jt4HxfkvE5UraNL6NCq0mWNqlEwVuRvrnqVici3l/Defy8xya1ww59c+rHm6MMuTLbmrTG1KKXqVZhMRRFimsXhemkWrImZnRrnrhHd4/v53TLXFcbxWyZpaOmkVrLO0amGe2emc1gImrWzvlM0GlazE6QzbTEWaRDTSImpi+cFmRYu5TTtnK8RKu5bm6OfKlLQKXoL1pLpQTaa7RnNLxy8vXyVWlo2RMFZrBKtzO8QTKsXVtpFlavfPTIrfLK8qrSaVTPTPTs8h4zycXiGF+Lp45c9K36yIDt97D0Yfeyy6BkAAAAAAAAAAAAAAAAAAAAAAAAAAAAAAAAAAAAAAAAAAAAAAAAAAAAAAAAAAAAAAAAAAAAAAAA+j33h/NSvWi+Oec+M7eM8V28UZr2rbWNIwmaVllpgWqRakzW+3N0Ctoyr8k+MfJ8uzLox53jrvh1mHN0cmXNn0Y7UrDRMQWqkhIpF5NEMl89qsiYtbO+lrUnDTr5OvF1w2yM6JqmkbamtZylxrplhhnpTpMxpMIIrcWUvS+WuV87zhatb0mNNkXqLWjLPRSIuaOjHojS+PSRnesUrauVMNctq6TQVvTNvSL6LXqWrpPNy8W+G5St50pMxGNdWlVmUQRNJmpUtU2ppRXSJtW2FYvFVw6MdM4vnpt5LxXlItaZwry9HPWS19qZdGB5H3uvQ194/L+mDIAAAAAAAAAAAAAAAAAAAAAAAAAAAAAAAAAAAAAAAAAAAAAAAAAAAAAAAAAAAAAAAAAAAAAAAB+R364/g5X4r/EPkXxbbxvJtzxPTlsazF4yx3xrlprlVqhathvtjsVrbEt8s+H/NMtOfTTnfH4dvFqY4a4RyxNdMWjbO8RCJoWiFXrF8rTWw6MLl4sxVojU0hEadnH3S3ztUxz2z6S22W+FFs6zw1yjHPXPTOWkUVnS0TYpaYitotlpUCay62DTHSu5ZW2FGlLZsrZtrz7Vp04dGKpfJIptnLlhrFla3iWsTESNy1Vtouc7yc3RzQpaNSITWaYqa2jJWzZEaZWjLSWyjU0RaLDCRpnlrXTOl66R5XxHl4utbnc+fpx3METpNL0J9yf02PbKj9EBgAAAAAAAAAAAAAAAAAAAAAAAAAAAAAAAAAAAAAAAAAAAAAAAAAAAAAAAAAAAAAAAAAAAAAAAA9Yr2dfUy0+lnxnz/AMa04ctqRr0NIotXTLm35SmetC01gsmDXXPQtnag+b/CvmWE00w5sOLp4+jPn1wMstKUoiITSrL0qtotUSgsrrE6UvFppbLRW1IDXs4+vFvMW05DKzbbHfFrTTHbPLTOzPDSkZ2tUtFbVeAmtq5XQqUNLXrfDSYmWszFREqnO9UtfLSLzMVp1cm2bstkkUmu0UMqReubFdKWXitK0U0Lypm8WGuVU0znUqhURaCITVZlU0llE2pV4C9q3yJrE3zaM5roqqV8r4ryJ2WVwc+3PWDSmkznYj2dfWI/f2P3gGAAAAAAAAAAAAAAAAAAAAAAAAAAAAAAAAAAAAAAAAAAAAAAAAAAAAAAAAAAAAAAAAAAAAAAAAD0zfck9J7T+f8Ax7yfhqreZrW8WGOmJTm6eWKUsqsxoZ6xBtfK5fHbA6PmfxD5lzuFLMOHHbj3M+bbiLYdGWmMa41GiIRelJqLLQNM9RaLRoiS8VFkI06uXojqpFTOu2Ut9JzzazcnNj089YxOfSIroUlBpS0xetqEWztomYLXz05ryiVaI3Ka00rNahOkzFdK2L656F5rquC0JjRYqnOKXszYjShaa1Nsb11OHHbLQrJVKq1kLZ3KxelTfK+UItS9Ll7UQmBCbVXPWpSmtKy6ue8ebU153Dn2x3Oe8KhEVX9kfxy/S89qscwAAAAAAAAAAAAAAAAAAAAAAAAAAAAAAAAAAAAAAAAAAAAAAAAAAAAAAAAAAAAAAAAAAAAAAAH8c9OL23fUb2+FeK8x42sLoLzUX5t8ox598StIVFq3F8dTS+WhbO1TyHyn498h53JOfO83F28m5w0tjUZzXcrW2dWTEImIrpWxTWltLXoy1mqp1pYsrfnaxeiW7OXqNmWixlpni7RAnPStmHL14VzRpn1kpzLItla1BpldFRslOUzW5si+NVpZvN4yVaLRWql4jSLZLWitlqEwplCtlxz1qRFoLImFUmvJ089nJjrToq0oTRnRCLXXwyprGmYppSRaJq6LCJmLxbPKc7zpnntkUtEV5jbn35sMtMazprhpadcKv97Pon9jT3TRzAAAAAAAAAAAAAAAAAAAAAAAAAAAAAAAAAAAAAAAAAAAAAAAAAAAAAAAAAAAAAAAAAAAAAAAAfQ71ZfY+9cjb4p4vzvh64KdFMKXqJ5ejGsefTPSqoiYsRrnY2vnMWpaK8z8g8J5flbZ2xw5uPpx04ubpxrCl8ukvWaVetqwrpQiZEoVpfHTLREVoiTZW3KqWirb8vVV966JTLSsuVrRGtbWjj5unnrCNKWIrbal4ZXVGudkVvWNJm+I0i9bK2xbULITGyLMIvlat5z3gtK743EZ2pZfOtoZ6UzaRE6lb0sV1x1ltz9PHZz51jS5WtMbyZ1TVpivNBbaislkaFb1Ve+V4i8TEwmlZkrntnlnCNvJb4dMY8++NUhWL0tFT89+A/0s9460TzAAAAAAAAAAAAAAAAAAAAAAAAAAAAAAAAAAAAAAAAAAAAAAAAAAAAAAAAAAAAAAAAAAAAAAAAfj56/v7d/h5t4XxfkfFRjREVz0yquWlNOfPShivBFbULaZbl9MrxKJr5B5Pi7eKcZpXLxdHPpz4bY4uNNqdZnEohaKrF6wqvUTataElrV0yWhWl6X51naSm+c2de+E1rz744Ret1tXPXU5+Tswl5F6WUmabaLRlF4ZWlUi0TUoS2Z6VbYKxJIaVqctKY1FpWTvnTU6YrpLprTSMZmpjMSjPTMnO1IqvSm+d4ni7eG3HLSm5E1mrVUqFbkonCsTUppWNL3zRMpq16aQZ2q9bQXiJwil67Yxaa37vHeRywppyVas1LTncn518H7698lwd/MAAAAAAAAAAAAAAAAAAAAAAAAAAAAAAAAAAAAAAAAAAAAAAAAAAAAAAAAAAAAAAAAAAAAAAAB+Fv4ift/+He3jvDeX8dl4yNIrLLVGFNcNM8kFYvjWkV1jKb0q+2WpXSJPlfVzdnFTn0aeN5uri058evlMYZ6WiGEoir1XrO0TSLxF7UmtJrpEXrpC2dsllNLq0jvvWS8zHO42vFV0rUz5tOfUzpplSy2kXi2S2F8ppaumlqWiCsNqWNL4Wl0pMJea2WtbY6lprvS0WrSYHRrlOLM0HMtkl4vGdYpvqYzEaX6Obqy5+Ls4NTOsqV0zyvEV2rMTUSZU0xuRSzSb53i6itL1RNbULXMkrFaXgplrTafK+I8nllz9GEZXtWKXrrtTyHF5Ove28hx9nMAAAAAAAAAAAAAAAAAAAAAAAAAAAAAAAAAAAAAAAAAAAAAAAAAAAAAAAAAAAAAAAAAAAAAAAB6535T/AKFfndp4rxXbyZcWO1SkaZW58nVzbnOtUiqCazJXXK5rbOxpWR8115r81OfWhy83VxxzcnVydWUoJrakSkQhV1EXi6LIvV1NStouRpW+SLSViWnT0c2+G2U45VTatqUtLzcvZy7mE3zIvS8KzNTFoqazOQiJQ2nStsFprVkTDSumdZ01z7ZrfPWJlEdDPTLa2Wul8bRFcdIM7xMuUwhlelm98tjl4e3j0zoktFoiue2OhamkoETNcEJq8VvlM100RZVdKWibUmE000ggrhpkX8j4rykTh0YGcTJWyKt18Xk697TyfJ18wAAAAAAAAAAAAAAAAAAAAAAAAAAAAAAAAAAAAAAAAAAAAAAAAAAAAAAAAAAAAAAAAAAAAAAAHqt/Q/8AS781DwnF2eO0xig15umkcfN0c+2eOmZMIIgJmBpfPYkk+ZtMOKmWldMeLo4jn5enm6KokikyRW9SYmITFotF6ltazldYJtFWQ00Zsr53nLffDqqKaWOeLJbVtEc2HXhucxJWLZxabSUmGkptGV75FqaTEomJtFa1qVqyvkib1jalzSaxV9crF+jl6S+G9cXnXgoV1L47YFqRaNNMta4uLt4io0WrOTLXLS1NsSE2KQrUwVO2OmS0zFohpZGkRKpe1ZGVqVSulKp3ce515dGGGMzNUk0fKPi39JPeQRPMAAAAAAAAAAAAAAAAAAAAAAAAAAAAAAAAAAAAAAAAAAAAAAAAAAAAAAAAAAAAAAAAAAAAAAAIPVh+gn94/gkeH5PJeO2xdOhz49PLlx4dHHtWkKszqXmgtbKxux2J1z1j5jj058ryaRWuXl7eI5OXfHrM62jKItWkWgjSoTKJU0q80vle1UXTFJlo0hE53c70b471E2mK0y0i2lU1jx9WW8cqaaREXylWQrcmmlarCdLqTlszkjbKdtbU0jK9NYVtGLlelrLTau19cprXp5ernbc8iK3pZjbXKojSsZTExpe2EvHh0cm5Wk3qmuOmU5GgrWmaYpFlUvFRrlpV746YTat9LTE4VrrSojXm02nMUtWpaaaHk8NJ5uHWqoreu1vsj9bv0kr2tBzAAAAAAAAAAAAAAAAAAAAAAAAAAAAAAAAAAAAAAAAAAAAAAAAAAAAAAAAAAAAAAAAAAAAAAAP43/ZPqDXqceH8l4w8Xn0cEXnLSuOnXzVycXXyVkmlVvArNqiVDZW5fo5+vL5plpz87hScyfF9vEcvN0YdZRFSc7aRm0pV6zmWiZNKxMX2w0yvfHarEywTZM1Fo1pzunbx9Vm0Z1aimudze0UzqnPvlGPN04blb1akWqytpnrLOc0sham2iY0i0MtItMWiwEk2znLO1Wmk0uWRtUb4axpFc9L5yisGStoKKdGlc9KHFhtzVeKiazeKZ2aUvWImJgiIESUvSxe+euCStIlCIaSrYw1iSM9cqjSu5rrjthzLUKzDaf3E/D32K4/a0YAAAAAAAAAAAAAAAAAAAAAAAAAAAAAAAAAAAAAAAAAAAAAAAAAAAAAAAAAAAAAAAAAAAAAAAPzz/Qz8169Zng7vH14rDr4Ija008f28enBzb80Uia0pappQJUk1muhPVz9p8v5evk4OfO+emeWuEcHN0c3RXO6pztUvWQzvSpmm8TEXi8Lxa6C6ovBC1byxaLZR14X3NrXzJx3oUXRTDSmdY822W81iY2kiNJrfJMQKWtUTNC1oFtc9RS9C9qTkTnpapU6UGl8rxrrhfN0tFNSl9MsXOutdKrSmNrVqc70ji5evnrO1L0ms1nFs6XrYVIhW1KgmLE65bZWU0yjTORnOm1qSjG+mYiI0tbPTLfXm7DLLoxjKJtpX2QvW+9ok/VAYAAAAAAAAAAAAAAAAAAAAAAAAAAAAAAAAAAAAAAAAAAAAAAAAAAAAAAAAAAAAAAAAAAAAAAAPyQ/W/wDCOvxT8V53xteB5OquWHTnrm8/B1cnWcPJtjFK600ogStUrasm853L+V8T5yPk/Jvw8LjXfDbky1zTx+G2G0TOYi+ek10qE1iLxBbStovrkNkzlJQlFqi0awmBffLoNIsxWM3siklzy3zOWm/NZkvXaVb5L1ipmKxYkmUxW9bDTPTRCcpqmXTOWmTTPU0vleLbc/QEaZX0mssmOoi+CzfO2UQtE8/Xw1zc3Rz6kWRpBFTltmZXm1ZpqCBFqhFi+lLRaa1jqrleItFam4XiliudpqmmWhv0YblI0wihTSfai9Vz2q4/S8YAAAAAAAAAAAAAAAAAAAAAAAAAAAAAAAAAAAAAAAAAAAAAAAAAAAAAAAAAAAAAAAAAAAAAAAPWN9nL1HtPq3SXN8Tr0YaTejF5ubXj6zx1L46XziBEiysGkAWsT5jw3nY+TeO6+Xjacu1Dlx15dzDLTGq5aU0jTHQUIlMFLFaTMYa3ppVppObKtoi0NTSaaFNLB1cnWa10yyLWrJaFnn1wimGuVY2iNSl66RnK1XorF4TC0V0vFUbKaiIsRa15c41ySK6RbEosm+eul2WuXdWuvPdMt+feb8+mSXrbJY1w1k6OTbil5+fbHpEXpEXrGloiCq+dE1KzAK2LIF1bFr53i1oZaYyqNaQaM71NJREprqtSY0w2oYXUq3tP+q/7Xkfo2MgAAAAAAAAAAAAAAAAAAAAAAAAAAAAAAAAAAAAAAAAAAAAAAAAAAAAAAAAAAAAAAAAAAAAAAM/TL9u7049Piu+Gh4Tj8hyxjbpxy8dwd3i9uPO1dKokZ3ESqXmkmlq6jz3gPkuHn/G9/Bi1478xHLrj0nPlrkVzkU0rUhFqnO4ppDLeq+VrU1qbViLyrRFydIvE2QrXDps6LWpi5V1w6SJiNJjSuXNz75RlXSKytXQrWZil62I0pYi1NIhapqqLRaprvjaL4WW1i8GN7RYLDWl9L65bcrN4aYV1iylNMqprnqZ464VxQoWrNozi6q0vBWmkaVIKxeBWRBMWvSY0vlMaKTQVrWmkTFq1eaMImLbdVVotEwY5XoT7X/qg+02fp6MgAAAAAAAAAAAAAAAAAAAAAAAAAAAAAAAAAAAAAAAAAAAAAAAAAAAAAAAAAAAAAAAAAAAAAAP5J6entp+pZt4Pi8n4iMPHeV5MuOmmMvjPHdvjNzAaUTAQELEIuTpFifkvxv5PzvluLt5MObm25TGusdZwY75VjVFQlGabk0CyLRqprV9KMFq6lYRpfTHaJ1o53SrSqaU1ra9NckzlpSLzZHP08VVx256pF86iaXyUrEWQrW2d4iLCZVrWIsTWts3UJOla6RFrmK+Za2c1foymN9MdsatVCTnpy1rhbOy+2V6z5ejl05s9MospekBNL55TneKpExU1KREkotC0TFrZaVM1uTC8U0rYReolERN8q7LN9OdW+XPlrnWvs2esr7IR+yQwAAAAAAAAAAAAAAAAAAAAAAAAAAAAAAAAAAAAAAAAAAAAAAAAAAAAAAAAAAAAAAAAAAAAAAA+nXqs+zh6xm3j/Eeb+MHbx7Od4uDyfidzh8R5PxemVb0LKwEC0RJNqXJtGpb5L8a+S4vk+fq4JOXl2yrGtbaYY60Oat6ExW5SNM6tWbkRS8aTeDZDKbSiJpbaLzBrtS3NN6RLbVQ6FdZJirVz0i9ZU0wkzy6OOpxTVsyM0NJtS+S4CahKLqzFk60vlMt4iOkXpMVVuTnI01zZab8nZLKJK01xGetJJmttsePXDSnPfPK1NGkznYthtlkpetRW0VUVMQEguQmZIssVsmJvnNXWmKSvFKyNu7h6dLY1ywlWOi/s7+sV7N0frKMAAAAAAAAAAAAAAAAAAAAAAAAAAAAAAAAAAAAAAAAAAAAAAAAAAAAAAAAAAAAAAAAAAAAAAAPzu9aL2L/XH24vC/IvARrzdPJi8vL5LxWp4nx3kfG7Z1Cc7iEWKoFpi5pemo+VfFPlGXkODyHiKwxjEtNEZV2zOSLZVF6WqIgJApuXiLQ1y2Jgib00iZrJtbLSK3tbNraLRe1mpec9NKRa0YVvJy02xlwrtjZFYrVaxbSbV0wE1E2roKxfSjF2pN4jbO9kXY6a00ri0ia9JS9Zreaa4TfOx0zhvLFYxictZspPTlXFy9PPpzwjKZmlK2tUY64F4TVERQgsgImSysxdWxNqaEWhF75TVkxUzW0Tjrma9PJ0xTLqiObTO2lv3g/B79Yz2cxgAAAAAAAAAAAAAAAAAAAAAAAAAAAAAAAAAAAAAAAAAAAAAAAAAAAAAAAAAAAAAAAAAAAAAAB+Unr4/vR+Bm1fA+e8CW5ezkw4/FeQ8ZXjOHq4aUtGkSqWiJEBa+VzbTLQ0+U/Evl2HV4/u48vE5dWGla3qWy3wOXLTm0tNLlU1qazAvF4tN4i0o0JmJ2pbCdcZl2tS5aq8Z75bROtL7l6XFdKzGPJ2820c+2OWeetTKmuWlCxcvlEghGl6xBrfO+V5pbGrzGms0TaqLxjWUS6ZUmDS6TVW8bXzuTlpXKuVqVvSYOXj6+TbnoVpEzzVmK7TlrkRak6VpapM0kIsLVkWrIvXUWhlaaaRWyarpM6Vm1SudrRHTx9ZnrSxNNJjL9Gfzu+0le5SMAAAAAAAAAAAAAAAAAAAAAAAAAAAAAAAAAAAAAAAAAAAAAAAAAAAAAAAAAAAAAAAAAAAAAAAPwl/GH9LPzZ2j495/43Xf4bzHiObi8V2cVeK5t8NqSCARAqvUm9di010J+V/Ffk+XfydXj+d5MOihz00pqZqK4sumtYrxpWJkhNTW2F46Jw0q0wi162yXrpE6xBpbG2bppnaWL1lNldNyumUGuuc4uMTbU5sdKVlh0YRVORXSlTVW+llbFqwqZpYma6YReYLa5W0mZS2pclKTGlb0mJUG3Rz2xrvmreaNsorlrMUi1K5Ofq4a5rxXa81tlWZrDO9dIrfItRaq2rYLoynSTGdKi9IrWazlpfG0XvERZNNLVlWlJiM+jn1NJmDa2dMtv7h/C/6zt7u4wAAAAAAAAAAAAAAAAAAAAAAAAAAAAAAAAAAAAAAAAAAAAAAAAAAAAAAAAAAAAAAAAAAAAAAA9T76of0j+XVl8X+QeE08nw9/Fxvg/HdniNzizvj0TW1RC5RASFtctDaaXI+UfFflh28XZxcWHN38K8tL47jOcajK2VXFIWjOm0FZrerJuWmuuE0tEXmt6tMxFt8NsWJJqdsms7zW+pDVLNenmTJaua5OjCsM7V1M6aZmdouShS1datneYy1ihozvFkxlspfSxQ0tjYzuvWWe2WmmdqR0Xw2y6tefepqgUrYtnfAy4O/ll47VjcutXCl0kUvhV8k7Z01FJtBE1Gk42jSc7Gta3imtLE3iKbY2jSaTlF66bJVildM67Jxub0jTFp9i/rv+im57XAwAAAAAAAAAAAAAAAAAAAAAAAAAAAAAAAAAAAAAAAAAAAAAAAAAAAAAAAAAAAAAAAAAAAAAAfFPlf1wr1IPD9vPzZeJ838f28vyXzPi3hvK+C0pWt9ITQICsi1s7ltMtjWl4yz+X/ABH5edPL08eXNxd3GUw0w0yTQxprnVqTYpFq1pOdsGmd9LxA0VkvbPWJmuuUrJWmepF66Zs2zk6oyvqTfLay0aUrLDWkUppz5uVNaFMrRuRJFYvSJ0x12tNYwpaLVFgvel5bzXdOe9q1GmWtZ3peMq65VNNKl75amvXn04uGjOyLY20tz65Rhy9nEYIbaxmypGuVTnrWlLRVK6IzVklCpprBle8FtMdI0WZVJ2i+dzeDKJi1WtW+VMt6GcxO3Tvy9eFP2x/FH9wa9ggZAAAAAAAAAAAAAAAAAAAAAAAAAAAAAAAAAAAAAAAAAAAAAAAAAAAAAAAAAAAAAAAAAAAAAAPpN92foMesHz9HjsLfHvO/G9vK015ub4t4Lznh+7K9LVFLQUtIiKyTNbF+nn1i0URHzL4f8qOzDp48s+Dt5Tl59stsaxBFLUJSIytpWd0RN87Re2WpactKteumVdLTixfO0WtW9kq621mJjSbWsjbK8u+VpM8OrOObHbPTKmmUmSKaWrNK0igm+WhoqxWmcVrGazTXC1a65o1UkugK2rVufbErWZ2trntzbdPJ0S3pAmNablMejlMeTo5jlN6grFZtXSK6ZxNLUImIFbCsFSiRekmk0sWvS2EXq0WrB0XwvWlLTF0a4Za1tVZ3jTk10io/W/8AI/7uHt6DmAAAAAAAAAAAAAAAAAAAAAAAAAAAAAAAAAAAAAAAAAAAAAAAAAAAAAAAAAAAAAAAAAAAAAAfnB+j/wCQ5+APjq2ifjnlvBbeZ5Ovmj4r4jzPiqoRpStqCYAqWhctaty0Vkt8t+H/ADfK/jvM+Jwry65Vxc3Vz1y1vXSItWoiYJtiLxGhGlLxTfLojK8TGl6XyvNZVpndNJreWsXaVs0k1V1lpra8ukISvLviY49OO5jz70rCVCEqhEE3tYrWYhW14i02K3KtrXXTHWs4Z2tNRWYK56VMVq6aa46xtvy9JurmaZ6jLn6MsOXx/kOHqztXTK2V6RF6xpWLUJprSK1maqmpCYogL0sL46Gk0uLRphlHRhWlo0qUaDbn1wtam+k0r0Fs7Vjl+zX1l/se3u4DmAAAAAAAAAAAAAAAAAAAAAAAAAAAAAAAAAAAAAAAAAAAAAAAAAAAAAAAAAAAAAAAAAAAAAAfh9+4Pry1+SXH38dY+O8n4avK8WuZ8d8F5vw0JiNKVvUmqotapW8QaRTUrpW4+ZfD/mOW3F5Dx/NTk15dXn5t8NTHPXOkRFXiKkoFZmSZrY0nLTK16TGl8r5aWpbSbVto3rflbxUReVW2peLROprSFZZ3vHJzdnFZmpGkY9GBWy5lN86ldVZllM10Jmk1at6l9sNaWaYZWrNTlpWq56RlzzaNraZ6Gu2eh2DDGu2RHPvy1hweR8do1ysXpNYitlM9MyazSJit9M01Fbitr0KzegRoUvbTKmszhVFtG+WtLJqmi2FrUvtbat8oiMzi/sH8c+wOnutjAAAAAAAAAAAAAAAAAAAAAAAAAAAAAAAAAAAAAAAAAAAAAAAAAAAAAAAAAAAAAAAAAAAAAAB603ss+r0fQTl7PH6cfhfLeF069cqYeC8b5Txm1E2MYsM0CSCIkTfOTa/PodHzH4X80y28X5bxOWPJ2cNc2XRz6YUtSpVglaSEBW1S8VktfOTa1GG6ly8xYsi1aEYussk1tNY67YarOueou0Tlm2U1jh0YnHF53Mctc0ggmk10vEWKyvhKVXK6W0yuNFqtNJ5rZyqIVi+N89srTFN66ZTvjti9ib1jGuJXn6uHUx4ezjilqadEwoIBlaCaWRWLZ1CQAILUiwuF9M9MptlrlbO14z3xvprJF752zdb4balrZ2lWzy1PG/eD6Rfpxt7Uw5gAAAAAAAAAAAAAAAAAAAAAAAAAAAAAAAAAAAAAAAAAAAAAAAAAAAAAAAAAAAAAAAAAAAAAHqve1D6q59JfHd/NXgsu3mOfC1o8NweU8f0Z510KVvmRTSpWqCEyJvJW2uxT5n8U+XYX8b5PxJhx9WGbzRaupyRrntFVImaXIreazbTGdip6MN4ppTTK+uFze+OhfXntGt6TV6U1yjn7tpfH6eQrEX58Nzyd+TfNjGNc3Hl2yrkrfLpnOmucWyBW8VWyKtpzTl0Rz66TfO0aWzvFtKWNIztVkVlspXK2W1NTK6RpnZddefpk6duXszcq7UMuTr5dzi5Ozl0yvMmUmkUm5TPfEIoXUgWpYit4KokTepNqWi1qyWmbDWjCtog6s7TVrRQ0ms5Z2lpbK+Vc/wCzn4z/ALjV7CwwAAAAAAAAAAAAAAAAAAAAAAAAAAAAAAAAAAAAAAAAAAAAAAAAAAAAAAAAAAAAAAAAAAAAAAepX7VXpp18S8d28B4zLv8AGHiOrxvktObxXmvEnPTTKpgK0vUi9ILXyqdeVZL747xr8n+O/N8Xl8P5nhy8Xj0ePsvS07cWfRjpnZQvWoTkL6ZSJnSGtdCldRa9rxF14tMSXb9mb4m2xKX3jTW2ded7NvH7jl8/lL4Z5fCzx3P38NnDTr59scdYM46KGFd40yX2jmnosc07ULV6oxc9NN44776anHTyjTx1ewc9Othx0689sG9Iytatbb8t8vIdPB5LF054lefm7uHU4+Tr4+klaIpF40ratSc9sSaWgq0oRGmcBVLTU1jPQIsWms5W0pYibCK7411stCS8TUy1tFjTg7vH6R+7f4RfuzXsBDAAAAAAAAAAAAAAAAAAAAAAAAAAAAAAAAAAAAAAAAAAAAAAAAAAAAAAAAAAAAAAAAAAAAAAD6JesL+3f4eaeD4ujiOfxvX4zTx3kPHeVjHx3lPFRxUvTSF8ScrwVWoQUNZtaLb59EdXzv4F85xeLj7fGHLyxjub45wY4o0rXapSZkrEiu2Uk3rY00y0LRZlbamlWmlxvjplptnJn081juz5dtOzLprlTLfTKumtMU5NTHi35ukjKeXauVaR0UrnGlYgicrVpNJF8960GW9Ghjth0aaqxlM546dDlmG3Crqnl1izK55G3N2YvH5rj0Ja5GXL0Ypwc/ZwlNKX2rXTLSs2rEVmKQQqEVkItWldKiQi1BspcvfK8WsmLFRrWa2mrCYi1L1mr8XTjpn+5/4XewDH7ujAAAAAAAAAAAAAAAAAAAAAAAAAAAAAAAAAAAAAAAAAAAAAAAAAAAAAAAAAAAAAAAAAAAAAAVPWM/PX+v8A8M25vB9tcvFR5rgPFdWdNNeHu5Dx02yrGbaGNZBNRCw2yvHTplpHT89+A/Pa8V43yHPh4rm6aaZTrzHLTWmmcxBN87kVnMMKHZPDB5LPhk8hbj0jsnn1rotTTKN8tMr2zGm/DnHk9vD308l5LwndXdfPyVZV1jk4qdvMcXJ2cunPz74GElUpqikTnpGmataRWL9XJ25MN8tO6M5yz15dNOycLYVy0562ym1Y2rod3H2cObW1b7ndTTQtVQ761thy49PJXHx9PPFbyquOmeiKW0RNRW9MordVItJREiJrV4raK6RYm0WqdItlWViUqjak5bVvObnayzSMt656axpz+x364ntQH6dDAAAAAAAAAAAAAAAAAAAAAAAAAAAAAAAAAAAAAAAAAAAAAAAAAAAAAAAAAAAAAAAAAAAAAB/Bv7z+Xdeun8X+S+L2+N8vV4PLy/HWmVqcdduvn0yPF20rXNeskVULxjYuyuRKCbVudH9O/mH9W5vBcfZzYvi8NLdJzV2zriy1jTJPGdOWFjONoJhBMSJvUW0poW1zR0XraL3y0NJxVvpxb4a5xUraltO3zfxTQ+dU+OeZw1yvgcXL5Dl08fG9Iwy6uXSJzvlljvz6TGlzmtZVujn0yvSYOi2CGmG2m855xal40tbO2LWsWs6ca1KaV2N98OnTeI7cuZlni34t+fTl5t+ayb1ZMtsCItXqnK1zKbxFK3iqWm5i1uc1tKmdpiFq2hMzpfXKYvel6itqxMzQ125NzfSu3NzxedOa+G1c/uQ+nF7zZ88GQAAAAAAAAAAAAAAAAAAAAAAAAAAAAAAAAAAAAAAAAAAAAAAAAAAAAAAAAAAAAAAAAAAAAD8BP379XbT6EcXZ8f08b47t5uaNuyM3x2HXwbnRlGdeOS0wcwvh0XM6b0M5vJWWhlrS5r8j+PDzGXDc6d+feMmm5yR5WT41y/JPFHHn35Vz57QYzrYxr1ZmTo1MHkKmF99Tj06do5K9Ijbn1hfOYrXeI5adEdHLTvqeP16qxXt5Zjrnxtjtw8fB5Hjwzrrz46GzKtaM0VnS1Z9Odo01rEX0z00ra9MppqrCmuZS0SRZQ1y0oRLKu3t8NB8o6PC+XPI8yvG8nL1R0nheXsyIWnLGnVhpReulqTzmlue8TSg1rFK1ZDemcm7HQnWLRnOt6wdOMTaaG0V0M0imltSvVrfDk5+jHbLTBHyz3qfSf92YDIAAAAAAAAAAAAAAAAAAAAAAAAAAAAAAAAAAAAAAAAAAAAAAAAAAAAAAAAAAAAAAAAAAAACPUB9uz0xdPinxL5N4I8LeOY+ReP1www8F5vwXRSOTas+PXIpvrJjfWY5nTnVWklJ3oNG5OzQyr0DotfoM+3m7i2Hl/H4cPhfPeLri5evkOaFtKTEFq2oW6+TqjZapfbHWmrOO3mrrFNb7HDXqzIjK8a5b3zeF05dJz6dHTl4/PvxivP2Vl4G1ekyz6pxfH26s45sOvDUwpZtWvRBkveIvXojG17VlGkVGXVWMYtkQlVdK3Jx6KFaaZEaKHZ8x+FfNcI8f5fmOLn6+GvGVlpOlJyphvjVGtzGvTz1WIEZ65lmWpTPehna0CJsXtSxpfBHXpw6nXpywaI1iHRnF+nl7ScOnjLYac+3DTXI+xPuu+o/7cGQZAAAAAAAAAAAAAAAAAAAAAAAAAAAAAAAAAAAAAAAAAAAAAAAAAAAAAAAAAAAAAAAAAAAAAfzD05fbK9TrT4/8X+X/AArTxzxfiT5V474/U8hx0kpa+pXqnQlIredMss971jrNiue01GjpK9PL1Gelhv08/SZ+T4vMFefs5ubm8L5nxPR43m7eGOWNuuuGv2I+xx+dFv2D/vkfgH2exB5yPXNp7Fn85PwZ6/2S+AH5UV/Q/wDjNfVx/XP5nl4bprpprbPSOfHvxjPbn2zYz0rZppXqJiulczyXOeMw7qHNHVbN4Mu/mTl5e7m25KdFNKW1kzvekTe2kY26Iy5G8VjPZXN4a7xZz2vesb7XrldExxV6+cq2vpHzH4l8lw6qX5ow8X3+O25q3roaDLn3wLzW0Z49HPSkQWqqVWobRW4mIJiZibJK3oNEQTsgvpTpwno55rqp0NOeds8uXnvz1njLT9Z/Z99fr2BcgyAAAAAAAAAAAAAAAAAAAAAAAAAAAAAAAAAAAAAAAAAAAAAAAAAAAAAAAAAAAAAAAAAAAAA4/oJ+g49ej85/cvaehd4X3zP5UekO90H+dV6gN/bD+Dx6u23s1eZPWGr7MPxKvXOt7CGJ6+2v78eRy9fWfYC+ZHrlz7K39Br1bI9t35Sen1v7mfy2vSo8p7tPyuPR+8n7v8npEdXu3VPTC+ce4NJ6o/X7Vo9Xj+1ew6PxK/sn6oo+mv2D/o4CAAAAAK/Dfmg+sv8ADP0NH43fwD2EFeqx/N/bvR6TX8y96/4TXpCU9vb68nrK9f7wfWOPzB5fsl/BjwmnRwaa89VVMxS3LlXg6+esaa00rpFTbLfMtvjrErTlnTeCqEYN6xWl6GuuWlTnfMz5uzl0vfRWXXjSvlkeB0jbx/ZymVLKXoiOXp5S1WNb+N2g5XVJzuixzR0WOS/VBja0FtueDopWS1ouRpNxZaNdVoja2pxT3cZhN8q5aVzpEj2r/wBM/rB9n8AgAAAAAAAAAAAAAAAAAAAAAAAAAAAAAAAAAAAAAAAAAAAAAAAAAAAAAAAAAAAAAAAAAAAAAAAAAAAAAAAAAAAAAAAAAAAAAAAAAAAAAACnw/5mPo99av12V6/Pwn2PB60H839qdXqM/wA29y8elx4T3Yh6R3yH3T5PTd8p7hyPUo6vbNV6hXivcKHpufEPdSR6VvgvdvHo8eL95qtei/xe9Z449Kn+9+3bePV8+YeymPXM+OeysPV/v7Po9Y34T7VCvT2/lHuwD0UfAe9f+b9erb5L9ePy2r4DxeT8acVL4kZ75GWtvKni9fvj+vh6znlvcZ/vselN/Uvcz1j1G/lntcD1dae0aPU6p7ZA9S7+Ue5QPSl+Ae8zU9F34n75vxk9EfT3hf5NXpsbe3b8JPVNv7Gf4jH8O2pbmjl359q01x04LXucvzH4r+gR7XPnTmAAAAAAAAAAAAAAAAAAAAAAAAAAAAAAAAAAAAAAAAAAAAAAAAAAAAAAAAAAAAAAAAAAAAAAAAAAAAAAAAAAAAAAAAAAAAAAAAAAAAAAAAAAAAAAAAAAAAAAAAAAAAAfHvkI/Nz82vZIV6d31r96Wtei5/bPc3ser/8As7940RJAAAAAAAAAADwHnx+F/wCJHvD/AAOvR6z9nT6d6fiXT9bPuYfgN+lvsQf0CPxg/Un+rICAAAAAAAAAAAAAAAAAAAAAAAAAAAAAAAAAAAAAAAAAAAAAAAAAAAAAAAAAAAAAAAAAAAAAAAAAAAAAAAAAAAAAAAAAAAAAAAAAAAAAAAAAAAAAAAAAAAAAAAAAAAAAAAAAAAAAAAAAAAAAAAAAAAAAAAAAAAAAAAAAAAAAAAAAAAAAAAAAAAAAAAAAAAAAAAAAAAAAAAAAAAAAAAAAAAAAAAAAAAAAAAAAAAAAAAAAAAAAAAAAAAAAAAAAAAAAAAAAAAAAAAAAAAAAAAAAAAAAAAAAAAAAAAAAAAAAAAAAAAAAAAAAAAAAAAAAAAAAAAAAAAAAAAAAAAAAAAAAAAAAAAAAAAAAAAAAAAAAAAAAAAAAAAAAAAAAAAAAAAAAAAAAAAAAAAAAAAAAAAAAAAAAAAAAAAAAAAAAAAAAAAAAAAAAAAAAAAAAAAAAAAAAAAAAAAAAAAAAAAAAAAAAAAAAAAAAAAAAAAAAAAAAAAAAAAAAAAAAAAAAAAAAAAAAAAAAAAAAAAAAAAAAAAAAAAAAAAAAAAAAAAAAAAAAAAAAAAAAAAAAAAAAAAAAAAAAAAAAAAAAAAAAAAAAAAAAAAAAAAAAAAAAAAAAAAAAAAAAAAAAAAAAAAAAAAAAAAAAAAAAAAAAAAAAAAAAAAAAAAAAAAAAAAAAAAAAAAAAAAAAAAAAAAAAAAAAAAAAAAAAAAAAAAAAAAAAAAAAAAAAAAAAAAAAAAAAAAAAAAAAAAAAAAAAAAAAAAAAAAAAAAAAAAAAAAAAAAAAAAAAAAAAAAAAAAAAAAAAAAAAAAAAAAAAAAAAAAAAAAAAAAAAAAAAAAAAAAAAAAAAAAAAAAAAAAAAAAAAAAAAAAAAAAAAAAAAAAAAAAAAAAAAAAAAAAAAAAAAAAAAAAAAAAAAAAAAAAAAAAAAAAAAAAAAAAAAAAAAAAAAAAAAAAAAAAAAAAAAAAAAAAAAAAAAAAAAAAAAAAAAAAAAAAAAAAAAAAAAAAAAAAAAAAAAAAAAAAAAAAAAAAAAAAAAAAAAAAAAAAAAAAAAAAAAAAAAAAAAAAAAAAAAAAAAAAAAAAAAAAAAAAAAAAAAAAAAAAAAAAAAAAAAAAAAAAAAAAAAAAAAAAAAAAAAAAAAAAAAAAAAAAAAAAAAAAAAAAAAAAAAAAAAAAAAAAAAAAAAAAAAAAAAAAAAAAAAAAAAAAAAAAAAAAAAAAAAAAAAAAAAAAAAAAAAAAAAAAAAAAAAAAAAAAAAAAAAAAAAAAAAAAAAAAAAAAAAAAAAAAAAAAAAAAAAAAAAAAAAAAAAAAAAAAAAAAAAAAAAAAAAAAAAAAAAAAAAAAAAAAAAAAAAAAAAAAAAAAAAAAAAAAAAAAAAAAAAAAAAAAAAAAAAAAAAAAAAAAAAAAAAAAAAAAAAAAAAAAAAAAAAAAAAAAAAAAAAAAAAAAAAAAAAAAAAAAAAAAAAAAAAAAAAAAAAAAAAAAAAAAAAAAAAAAAAAAAAAAAAAAAAAAAAAAAAAAAAAAAAAAAAAAAAAAAAAAAAAAAAAAAAAAAAAAAAAAAAAAAAAAAAAAAAAAAAAAAAAAAAAAAAAAAAAAAAAAAAAAAAAAAAAAAAAAAAAAAAAAAAAAAAAAAAAAAAAAAAAAAAAAAAAAAAAAAAAAAAAAAAAAAAAAAAAAAAAAAAAAAAAAAAAAAAAAAAAAAAAAAAAAAAAAAAAAAAAAAAAAAAAAAAAAAAAAAAAAAAAAAAAAAAAAAAAAAAAAAAAAAAAAAAAAAAAAAAAAAAAAAAAAAAAAAAAAAAAAAAAAAAAAAAAAAAAAAAAAAAAAAAAAAAAAAAAAAAAAAAAAAAAAAAAAAAAAAAAAAAAAAAAAAAAAAAAAAAAAAAAAAAAAAAAAAAAAAAAAAAAAAAAAAAAAAAAAAAAAAAAAAAAAAAAAAAAAAAAAAAAAAAAAAAAAAAAAAAAAAAAAAAAAAAAAAAAAAAAAAAAAAAAAAAAAAAAAAAAAAAAAAAAAAAAAAAAAAAAAAAAAAAAAAAAAAAAAAAAAAAAAAAAAAAAAAAAAAAAAAAAAAAAAAAAAAAAAAAAAAAAAAAAAAAAAAAAAAAAAAAAAAAAAAAAAAAAAAAAAAAAAAAAAAAAAAAAAAAAAAAAAAAAAAAAAAAAAAAAAAAAAAAAAAAAAAAAAAAAAAAAAAAAAAAAAAAAAAAAAAAAAAAAAAAAAAAAAAAAAAAAAAAAAAAAAAAAAAAAAAAAAAAAAAAAAAAAAAAAAAAAAAAAAAAAAAAAAAAAAAAAAAAAAAAAAAAAAAAAAAAAAAAAAAAAAAAAAAAAAAAAAAAAAAAAAAAAAAAAAAAAAAAAAAAAAAAAAAAAAAAAAAAAAAAAAAAAAAAAAAAAAAAAAAAAAAAAAAAAAAAAAAAAAAAAAAAAAAAAAAAAAAAAAAAAAAAAAAAAAAAAAAAAAAAAAAAAAAAAAAAAAAAAAAAAAAAAAAAAAAAAAAAAAAAAAAAAAAAAAAAAAAAAAAAAAAAAAAAAAAAAAAAAAAAAAAAAAAAAAAAAAAAAAAAAAAAAAAAAAAAAAAAAAAAAAAAAAAAAAAAAAAAAAAAAAAAAAAAAAAAAAAAAAAAAAAAAAAAAAAAAAAAAAAAAAAAAAAAAAAAAAAAAAAAAAAAAAAAAAAAAAAAAAAAAAAAAAAAAAAAAAAAAAAAAAAAAAAAAAAAAAAAAAAAAAAAAAAAAAAAAAAAAAAAAAAAAAAAAAAAAAAAAAAAAAAAAAAAAAAAAAAAAAAAAAAAAAAAAAAAAAAAAAAAAAAAAAAAAAAAAAAAAAAAAAAAAAAAAAAAAAAAAAAAAAAAAAAAAAAAAAAAAAAAAAAAAAAAAAAAAAAAAAAAAAAAAAAAAAAAAAAAAAAAAAAAAAAAAAAAAAAAAAAAAAAAAAAAAAAAAAAAAAAAAAAAAAAAAAAAAAAAAAAAAAAAAAAAAAAAAAAAAAAAAAAAAAAAAAAAAAAAAAAAAAAAAAAAAAAAAAAAAAAAAAAAAAAAAAAAAAAAAAAAAAAAAAAAAAAAAAAAAAAAAAAAAAAAAAAAAAAAAAAAAAAAAAAAAAAAAAAAAAAAAAAAAAAAAAAAAAAAAAAAAAAAAAAAAAAAAAAAAAAAAAAAAAAAAAAAAAAAAAAAAAAAAAAAAAAAAAAAAAAAAAAAAAAAAAAAAAAAAAAAAAAAAAAAAAAAAAAAAAAAAAAAAAAAAAAAAAAAAAAAAAAAAAAAAAAAAAAAAAAAAAAAAAAAAAAAAAAAAAAAAAAAAAAAAAAAAAAAAAAAAAAAAAAAAAAAAAAAAAAAAAAAAAAAAAAAAAAAAAAAAAAAAAAAAAAAAAAAAAAAAAAAAAAAAAAAAAAAAAAAAAAAAAAAAAAAAAAAAAAAAAAAAAAAAAAAAAAAAAAAAAAAAAAAAAAAAAAAAAAAAAAAAAAAAAAAAAAAAAAAAAAP/8QAVRAAAQIEAQUJCwgIBgEEAQUAAQIDAAQFEQYQEiExQBMgIjBBUFFgcAcUIzJCUmFxgZGxM1NicnOAkqEVJDRDY4LB0RYXJTVUokQ2g7LhJmTC0ODw/9oACAEBAAE/Av8A+gqBIEKdQOWO/WtMKqSQq10Q3PBXm+wwl1B5fuQkgQ7MrWspCsxPT5R9UNyzxVqzU9KtKjAYb6L+uAhA8kRYQpptWtAPsjvOX05qc31R3vMMaUrK/jDU2fLEAg/cdWtKEkmHVOvnNA09HIn0mGJVtrTrVbSo6+IW0lY/rAWplebCVJUm4+4244htBUo2A1mGXlzTmr1DzR0n0w00htNk8VNS4dSDyjVCFOJFxpVyjphiqh2YKdWj84Qu5ty/cZnXC+/uSfFQdPpVyCJdkNN25eU9J4yYQU+ETya4qrB4EwzynT64lX1qO5O8FxMIJKdP3F5p3cpdxfQNHrimSu5NC/jcp9J18cpoNvrYUPBO+LCJfOb/AIzIKb9I5Ips2JiXSfKtp+4vPlKlstdJz/wwgWSBxzzLbgAVD1Ol3bZxVcC17xKyEvLE7nf7i6BulSfPmhKB8fuUSXy8z9qfuUSR8NMfaq+5RKnNnplH07+8fcoeu1WAfnED8vuUVa6Fyzvmr0+owyeB9yeea3WVcT6IkHVFtvO5RY+sfcosWZpTeoK0pPphtWcgH7k86xujdx4ydUSz5GaVajoPr+5RMM5i7+SdcMLuLHWPuTrQFptCCpp3czr1o/tCFhSb/cnqMqXmrp8ZOkRITh0hfjDxv7/com5UZwcSNN4k5gKGb7v7fcoca3JZ6DDThI06x9ydxAWm0NZyFZvKnV/aAoEX+5POpVmZ6dYiVcCk3Go6fuTrF0ERIOHdXW+g6PUr7lDWiczv4afj9yhP7Qfsk/8Ay+5OrxTC+Dnq6GUfH7kilBIuTaJitUxlJJmEm3INMTGM2LkNME+kw9i6ccukNoSDoiZr77bdswHPZR+RiTxo0c0Ps29KYl8QUp7U+B69EJUhQukg+r7j89V5CSHhXdPmjSYnMZvG4YZCfSqJqoz00TurylejkhRtqgqMJWYedzw36E2i1otoiSqc9KKBaeI9EUvF8q+AiZ8EvzvJMJUlQBBuDy/cbnZ+Vk2s95zNHxiqYqm5gqQx4Jv/ALGCVKN73MFUExnQYEXgwcl4pNdnqebJOe3yoV/Toil1iTqDd21WV5SDrH3GazXZanI08J0jQj+8Tk9MzjxceXc8nQPVGjIbXgmLxeLwDAMHJwckvMvS7qXGllK0xR8TSs6Q2vwbn5H1fcXrtcZp7NhpeV4qf7w88488pxZKlKNyTBVAXF4MX3oMXi8DJeE+uMP4ovmS00r6jn9D9xWr1VmQlis6VHxE9MTUw7MvrccVdSjBvBMZ0A5Fb4ZbxeBaAIw1iAnNlZlen92v+h+4nOTbMpLrdcOgfnFSn3p6aW6v2DoEGLwcl4vktFshyiNF40QYEAxcxhmv99o3B5XhkjQfOH3EVKCQSToEYgrBnZiyD4JHi/3gnXBOQ762/vAO8bdcadStCs1STcGKDV0VCTztTidCx/X7iGKq7bOlWf8A3D/SM63thSoJi8X3loPEDLnReLxS6k9T5tDyP5h5wiUm2ZqXbdaN0qH3DsQ1gSUuUJPhVj3CFkquTClaIO8G9tBi+8ECDkGS+TC9c7ymdycPgXD+E/cNqVQakpZTi/5R0mJ6eemphbizpJgqGQ5DkG8Ji8XG9GUwBktk0RhSvpebTKPK8InxD5w+4XMzDUuwt1xVkpGkxWau7PTSlE8EaEJ6BGi2iL7y0AQMl4vvBlBynftuLbWlSVWKTcGMPVpFRlNOh5Hjj+v3CVKCQSTYCMR18zrm5t/IpP4vTkvvhvr5L5Lb0QTF4tvKdPPSU0h9vWNY6R0RTp9ielUPNnQdY6D0fcIxPX92JlmFeDHjq870ZdOQxeBvL7228PEGLZBrig1pynTd9bSvlE/1hh5p5pLjas5KhoP3BsSYjuFy0sr0LX/QQTF8hyWi2S0ZsHeiLiNEHIYvF4vvQfRl5IBjDuIF057McuWF6/o+mGnW3W0rQrOSoXB+4GpQSCSbARiDFG65zEqqyPKc6fVC13jOi++GU5LRm6IDajqjN1W0+iGKJUX0goZPticp85KHwrRT6Y0WyXi+U68t4O+w5iJdPWGXblhR/BCFoWkKSbg6j9wF99lhpTjiwlI1kxXsSOTpLTN0M/8AyhSovkAi0aN4IvCjlAMNSy1EAJKieQRJYUnH7F3wCOjyjEhQqbJp4DIv5x0mAhI1CH5dh9pSHEBSTyRVsEuJznJNWcPmz/SFpWhZSUkEaxlHFmLxh7FDtPUGneEwT+D1Qy8080lxtYUlWojt/qVVlJBnPdV6k8pirVubqLt16Gx4qIUY5MieIvBhKVHUIlpB95WahBWroEU/BzhsqYXmDzRriUp0nKJs00B6eXfVSgU6oJO6N2XyLToMVXCNSkrqbG7t9KdftEeyBltk0xeBvDkEULEEzTHfPZJ4SP7RIVGVnWA4yvOHw7fa1itmWu3LWcc6eRMTMxMTDhcecK1HlOQ694kxfe2hKSYk6XMPrAbbLh/KJDCaeCZlX8iYl5SXl0ZrTYSPRxVTw7S58ErazV+enQYqeDqlK3Uz4dHo8b3QbpUQoWI5DvNEHeXi+W0U2pTMhMhxlXrTyGKPXJOpNXQbOAcJHKO3qdn5STa3R5wJHxis4ompy7bXgmf+yovkJygQRFoGS0BKenJI0ienF+CaJ9PJ74p2Dpdqyple6HzRqhplppGahASOgcdUaJTZ8eGZF/PGgxU8EzzF1Sy92R5upUOIcbWULSUKHIdEXgGCReL5TA3nTDMy9LvJdaWUKTqMUPGLE1mNTI3N3p8lXbuSALk2EVfFrLN25Wy1+fyCJqbfmXS466Vn05TktFsgi0aYEZiop9AqU78m1wfPVoEU3B0gxZT53ZX/AFhCEISAlIAHINin6XITqM19kK9PLFTwK+i6pNzPHmK1w8xMS7mY82pCugiL5L8QReNMUbF87JIDbnhmh06xFKrUlUGs5tWnlSdfbpVcQSMgLFWe55gip16oTx4a81HmJ1ZbxffCM6LcpimYcqM3Yhvc0eeuKfhamy1lLG7OdKtXugAAaNmm5CTm28x9lKx6YqeBNa5N3/21/wB4m5Obk3M19lSD6Yzr5L707xt1xpzOQspI6IpWN5po5k2ndE+dyxKTsrNNBbLoWD24VGryMii7zmnzRripYvnpngseBR/2hRUTe9ydcAb228EC6joimYVqE1ZSxuSOlWv2CKdhymSdlZm6OeevTtcxLS8w3mOtJWnoMVTAjC7rk3Mw+YrVE/S6hIqzX2FJ9PIYBi+9OTli+STnpuVcz2XCg+iKNjdtdm50Zp+cGr2w242tIUlQI9HbZUKvISKfDO6fNGuKni+fmbolxuKOnyostZJUq56YsIOaIuYJyiL5LGG2FrNgCSeQa4p+Dp5+xeO4I/7RT6BTJLxGrq85Wk7e6004gpWgKB5DpiqYHkn7qlVbiro1pio0Wp09XhmDm+eNKYvvBGiLQcpiQqs/JOBTL6h6OSKPjWWfs3N2aX53kmELQtIKVAjpHbM9MMMIznXEoT0qNonsd0Vi4az31fRGj3mP8wZ1c0jNlUJavpF7q98VHFk8+LM+BT6PGhRWtRUSSTrJ0xpEaYVB3pjWYZaW6vMbQpavNSLxTcHTbllTS9xT5g0qiRpUhJJsyyAfO5eY1JSpJCgCDyRVMF02azlM+AX6PF90VTD1VkNLjOcjz06RF4vksYGS0W3lPrVRkCC08beadIilY0kpiyJkbivp8mJurU+Vlt3cfTmclje/qj/MNO7KtIkteTw7KikYrpVRc3NBU255q+2CqYmpFPJS49nOfNo0mKh3QJty4lWQ0POVpMTc/Nza8555Th9JyyboW1blEWEGLwd7YxLyz8wvMabLiugRTsErVZU45mj5tH94k6fJSbeYwylA9HLzOQDFUwfS5y6kJ3Fzzk6vdFUwtVpG5Le6N+ej+sXi5y3ya8mnJfTAcujNOqFHTohKylQINiOWKDjhIShme9jv94Ympd9sLadStJ5Qe1ys1+QpbYLxJWrxW06zFWxlVp7OQg97teajWfWYOvesultYIgLCwCOWDryXEHJaJSSm5teawypZ/KKfgkaFTjt/oI/vErJyss3mMtJQPRzZVMLUqeuczcnPPRFVwjVZPOUlO7t9KNfujTexEGCcl9OWxyXg5Wph5o8BxSfUbQ1iCtNWzJ5333j/ABlX7ZvfPtzYkce1Rk+HSl5PuMUzFNHnyEoezF+YvQe1adqchJIzn30o+MVXugeTJNfzr/tE1OTM08p15wrWrlOS2+lX9zVY6jGuLxYwdA0xTKDVJ/S21mI+cXoESGB5RtWdMvF76PiphlhllAS2gJSOQc4VPDlLnxdxrNX56dBip4KqctwmP1hHo0Kh1txCylaChQ5CLReLxe1sl40QviLxSMXVWQKUqXu7XmL/AKGKRXafUmQppzhcrZ8YdqMxOSksm7z6Ees2ibx1RGb7mVvH6I0e8xU8bVeauls97o6E6/fDjrjiipaio9JN94DCt9KPeQo29MLW2jWqKO01UqiiW3YN3BOd6opuFaXJHPtuy/Oc029XOhIEYgVhvc/15xAVbR5/5Q+uV74cDSyW87gFQtogRy7xR351ZW3XG1haVFKhqIinY4rMvYOKTMJ+nr98UjFtKqBCM7cXfMX/AEPabWcX0+n3Qnwzvmjk9cT2M63M3AdDSfof3hxxxxV1rKj0k34jXv3LnlyUvFtbkBmpe3RHmucKJfukozRu0ib/AEFf3iQxnQZsDw+4q81zRDMzLPC7byF/VN+b35mXYQVOupQPSYnsdUVhJ3Ml5XQNUT2O6zMJzUZjQ+jrhxxxxZUtRUo6yciVqEJeSdeUmDxl4pOM6rJBLayH2xyK1++KViqkz/BDm5ueYvR2kTVRkZVN3phCPWYn8fyDVxLtKdPSdAio4vrE4CN13NJ8lEEnigYI36k7xp11pYU2tSFDlSbRL4nrzCiUzqzpvwuFEn3RKii27sNuekcGGe6DRVHhIeR7LxL4mob5AROI09OiEuNq8VQPqPMy3Wk+MtI9ZiZxNQ5cHOnEG3InhRNd0SST8hLLX69ET2Nq5MXzXAynoRD8xMPG7rqln6RvvwSIS/0wq29Ai/EXyUnFlWp6QhK90b81cSGPKU9YPhTCveIlpqWmUZ7LqVp6Qe0Ot4mp9L4K7rd5G0/1io4zrU2SA5uCPNb/ALwtxa1ZylEnpOniRvQYO+1wRxDcw+jxHVp9RtEviSusIzUTzlvf8YZx5XkCylNr9aYa7o7n7ySHsVDXdCpJ8dl5PsvDOMcPuf8AlZv1haGKzSn/AJObaP8ANCXWlC4Wk+2LjZ85I1kQualkeM8ge2Ha9SGhdU4377w5jWhoHyij7ImO6HKp+SlVK9ZtE33QKo58i0hofiiYxRXXtc4oerRDsw+747qles8YBscnPzkm5nsPKbV6IpmP51uyZpoOjzhoMU2v0qf+RmBneYdB7PpyvUeU0PTjYPm3ufcImcf0hv5Jt132Zvxidx7VnrhlKGU+8w8846tS1qKlK1k5Bx/JGrfGLccl51OpxQ9sM1KfZVdE06k/Wj/Etd/5zsJxXX0/+YqGsb15H71KvWI/zCq1vkWYT3RKlyyzRhrujcHwklwvQqP8xmP+Er8UDuiyX/Ecgd0Sn/8AGcgd0KmX+Qdj/MKk/Mux/mDR/m3vdH+YNH+ad90f5hUn5l6P8w6X/wAd6Fd0Sm20SzsHujy//BX+KD3R020SB/HDvdEnyOBKtp/OD3QK1fQln3QvHFfV+9QP5YexRXXdc4r2aIcqE6540w4f5oLzp8oxnKi5420W2S2VKlBQINiOWKbjWsShCVnd2/pa/fFLxfSJ4AFzcXPMX/eAQR2cTc/JSiM595LY9MTePqU1fckLdPuEVfF9VngUBW4t+aiL5TkHH3i1+e7cUePtkvkpuIavIHwMwc3zFcJMU3ugSrnBm2S0fOTpESc/Jzjeew8lweg9mlQrtKkPlphIPmjSYqHdCNiJSX/nX/aJudmZt4uPOFaj0745BlHHEcZaLc02i28zsgG+0bFaLZWZh5lee04ptXSk2inY9qbFkzCEvp6fFVFMxPSJ8AIfCV/Nr0Hsvmp2UlW8995LaekmJ3H1Ka+RQt4/hEVPGdYnLpSvcEdCNfvgqJNydPTF+JGwgweIzYvF4vv7ZNO8vF40bDfLpyWi0WyWy3i+S/MF4puK61I2Sh7dEDyF6YpuPpF4hM00WD52tMMTLD7ee06laekG/ZVUsT0eRvnv56/MRpMVHH864CJZkNfSOkxNTk1NOZ7zynFdJMX4k5RB4s768Eb/AFwQRF40ZNOS8X4m0Wi2W0Wi0Wi0Wi0Wy24m8Xi8XMaYuIvGmM3e3y32q+SUnpyUXnsPKbPoiQ7oM82QJllLo6U6DEljahzBALhaP0xDbja0hSVBQPKOySanZSVbz33ktj0mKj3QJRu4lWS4fOVoEVLEVWn/AJWYOb5idA2ccYII4giLRaNMaYvFxl05LxeL5LxfjtGS8ZwjOi8XjTk0RcRcxpjNiwyW342y2S8XjNil16pU5fgXuD5h8WKXjynTGamYSWF9Pkw2624gKQsKB5R2QVLE9HkfHfzl+YjSYqOP5926ZZoMjpOlUTE1MzLme86pxXSo34kbaDBHEEb20Wi0WjTHCjTFz0ReLxnRcRcRcRcZLiNGTRGiNHTGiLiNEXEXEZ3oi/oi5jTFozYsOJGvbjvbb2n1eoyDgUw+pP0eT3RScfSb2aibRuSvPHiwhxDiApCgpJ1Edjbz7TKCtxYQkcpip48kGbplkF5XTqTFSxJV564cfIR5iNA5hPE3gjiSOOtFotFotFosItFotFhFotxtuLttJ39t7Ta9U6cfAzBCfMOlMUfHMlM2RNDcHOnyYbWhaApKgoHlHYu/MsMNlbrgQkcpir49aRdEijOPnq1RPVOenV5z76l/DZTtANotxNoKeY7RbiDAyDmK0actslKr9Spx8A7wfMOlMUjHFPmrImPAOf8AWErStIKTcdimIMWStOu23Z1/o5E+uKjVp6fez33Sr0cg2QbYI0HirRbb7cYeZrZdcHJSMQ1KmrG5uZyOVs6ooWI5Gqt8HgOjxmz2JYqxUJVKpWWV4U+MvzP/ALhaypRJNydoO16It0cVoi0W5m1c0XjRGnII05JeYel3kOtLKFpNwRGG8RN1WW08F9Hjp/qOxDE+K0SoVLSqrunxleZ/9wtRNyeXXzqDB43NjNix2G0Wi3G25t1ZNeS8U+ozMjNNvsmyk/n6IolalapKBxs2UPHRypPYataEJKlEADWTGIsZlzOYklWT5TvT6oJN4JyCBB5yvktx+iLCLRaM2M2LRaM2LRaLbDp5uTBy64MC8U6ozshMB5hzNUNfQfXFArsvVZXOTwXE/KI6Owuam5eVZU68sIQnlMYhxRM1Jam0XRL8ifO9e/PH35lvpjXFuZ7RyRfZjtA1wcgyaI5YEUupzNPnEPtK0jWPOHRFJq8pUpYOsq+snlSewmp1OVp8qp55WgahymK3XZyqP5zhsgeI3yDLeDlHMFtnvktzHaNEX5ztF8lhlpFWmabNpeaP10+cIkJ6XnZRt9pV0qHYPVqmxTZJb7vJoA6T0RWKxNVOZLrp+qnkSMh3yYPOR318lhFjtljFsl+eBGqCMmmMLYgVS52zh8A5446PTDa0LQFJVcHSD2Dd0Gez5mWlQrQhOeoek6t4d6nnvTF4EWi0WOxWi0WiwjRF4vF4tzqN4YHRAggwMmAay4VKkHDozc5r+o7BVKCUknUBeKvOmeqMw/569Hq5Iv0wd+mDzEdtvF40Roiwi0Wi3pixi2S0Wi0WiwjRkJi8XjTktzwneE5dByXikz/eVSlZj5tYzvVywCCAR2CYunu9aI/Y8J3wY/m15DF7b9OQ86DjLZNOS8Xi5i8Xi5jTGmNMWi3P6d4ct4MZsERhGod+UKWJPCb8Gr+XsE7oTw/U2vrKgwYMX3ych7DRxA0Ze5xM+EnmL+asfDsExhN98Vt7Tob4AyGDkB3qYtB7DDkGQ5THLGiBrydz9wiuOp85k9gb7iWmXFnUlJPuiafL0w66fLWT74MHiE7QOr52c5BxCcmBHkIryb+W2oDsDxfO97UZwA8J3gQYPEiDzOOtCd8cidWSnTapSel3x+7WDCHAttKhqULjsCx/N50zLMA+IkqPtgwYPECDkPMo262/PNZ2cwIGUxbfYceLtDkVnXuQ/LsCxHN981eaWDozrD2QeIGQQeYj1jtxJyJyGBl5YOXBS87Dst6M4fn2A1SaTLU+YdJ8VB98LJKiYPFCD2HGDCNW+Trg5e57MZ9Keb+bd+PYDj2czJJmXGtxVz7IMKPEiEwch67HZzA1xfRvU7zucu/rM6j6CT2A4wnTMVh0X4LXAEHi05Tto3h6qnZzk5N7qTvMEzW4V9kcjqSjsAqE0iVk3nlakJiYdU46tZ1qN4Jg8UOxEwIGreHeUt8MVKUd8x1Px7AMe1Dc5ViWGtxWcfUIVB4tOrmQ86228bSciDoyjXB3nJFJmN3pco75zSev+MZzd609Y6G+APZBg8WjVto66HIjXlTvsDTW60BtPzS1I6/VGaErIzDx8hBMOuKcUpStZNzxqdWQ9hA35yCBk5N93OH/AAM810KSr39fseVHcpNqWGt03V6hBMHjE6uxE5U6oMHfdz5/MrLiPPZP5dfsT1Dv2rvrHiI4CPUIMK4wZDzEeqttoOVEcu/wo9uWIZI31qzff19rc8JKlzD3QmyfWYVkPGdGQxyQdvPUwcypgQd9LOlmYZcHkLSr3QhYWhKukX6+d0CbszKy/nErPsg5DxY7EzkEcnEUF8P0WSXfW0n8uvmKJ4zdXmFciDmJ/l45HMh6hjm88RgOZ3Sh5nzThT/Xr3UZtMpIvvHyEEw4tSlEnWTpyHjEQexRA08T3OZjw06z0hK+vePJ/c5FqXH703PqEGDB4xGqCYGQ8036zmEcTgZ7c6+2PPQode8bToerBQDoaTm+2DkPGDVkGQwOxAauJw3M971uSX/Et79HXqcmEy8o88fIQTE0+t59xxXjLUSfbkPGDXkMCNO1jjh1o5YPEtLzHW1+aoH3Qy5ujLa/OSD7+vOOJ3caUGhreV+QhUHjUeNkJga+xJOvi8OzHfFFkl3/AHQv7OvOOJzdqtud9DKbe2DxzeuCcg17eeuaeLwE/n0PMv8AJuqHXiafQxLuuq1ISTE3MOPzDrqta1EwTkPGN5eWNfYgYGri+5w/w59r6q/6deMczu40tLIOl5X5CDB45GreaewYb8bw8XgKY3OuZnzrRHu09eMaT3fFXU3fgsjN9sKg5DxidW85N4epN+oY18Zh6Z73rci5ybqAf5tHXeafSxLOunUhJPuiZeU8844rWtRUfbB48DRvBq3h7DE74b5KilQPQbxKPh6VZcHloB9/XbG05uNI3Ma3lZvsgweP5OIO0255PPByDVxuDZnd8Pyv0Lo93XbHk5n1FpkfukafWqDByHjBr3o3h7Ge50/enzTd/Ed+PXUkAEnkirThmqjMu+cs29UGDxyNeQ5RfsMGUcd3On7T0215zYPu664jnBK0eZXylOaPWYUYOU8Y3vRzqeqx3g47BcxuOIZf+IFI664/mbMyrHSSswYPGnIjVvBtA6nDmrk46jvbjVZJzoeT11xfN7vWnuhsBGQnj0jg9aL720W5jOwhRSoK6DeJZ0OyzK/OQk+/rm86GmXHDqSkn3ROPqemHXFa1qJyHj+TejIesAEJbUToF4l6BVXvFll290MYKqKvHU2n2w1gdvy5r3CE4Jp3zrkf4MpWjhOQ5gumkaHXBD2Bhbwc1p9Ih/B9WbFwgL9Rh6TmWTZbSh6xFuYeXYMLP7tQJI9CM38OjrniyZ3CiP6dK+CPbC4PHp174dWTv7RIUOoTh8G0becdAiQwZLIAMw5nnoTEtT5GXFmmEJ9mmH52VY+UfQn1mHsVUZu/hs/6ohzHMmPElln1m0Kx0vyZNP4o/wAdTf8AxW/eYGOnPKk0/ihvHMkfGl3B7YlsR0d/VMhJ6FcGFJZfRpCVpPtifwnTZi5b8Er0aoqeHp+SNynOR5yYII28a9g7n0xn0h1r5t0/n1zx7O3dYlgdQzj7YMHj24O9GQ82DnGnUmcnnc1pHrPIIpmE5KWsp7wq/wDrDj0vLt3WtKEjp0RPYzkmrpYQXT06kxOYnq0xfwuYk8iNELWpRuSTxErUp6VPgn1I9sU/GrgITNN5300xKT0nONZzTgWOUf3EVfCktMgrY8Gvo5DE3JTEq6pDiCkjbk7B3OHhnTzX1Vdc6/NpmqtMuX0Z9h7IVsCNWQ7wRbIeqF+KAMUHCy37PTHBb5ByqhpmXl2s1CUoQmKvi9hnOblfCL8/yRE3PTU24VvOlZi+RKFq1JvEhRp2eS4WkXzNemFJKVWPJFKYknptKJl3ckHyobwpQ3WStEytSfOBFok5Dvuopl0L0KXYK9EPYGmB8lMIV69ET8i9JzKmXLZyYsckvNPy7oW04UqHRFHxa27mtzfBV85yH1xUKdKTzGa4nk4KuiKvR5mQezVjgnxVdO2p2DudKH6Tmh/B/r1yxDPd50l9weMRmp9ZhZg7ANUHeCBryGDz8NrSkqNow7hgICZiZTwvJR/eJ2elpNguPLzU/H1RWsRzU+opHAa83p9eWk0CcqFyiwQNajFXolJkJE/rBVM8gjBDyc+ZZI1pvEpTGJedddZ0JcFlo6CIxFK7hV5lPSrOHtimSTk5ONtI1qMV1qaZpjclJMKUCOEUjk/+4wbK3qLyiPk0fmYrMzRyJhxE46iYHIkkXUIpcu7UKm0hZKs5XCJ6InpejrfblnZTxhwVhOj3iMQ0n9HTmYDdChdOWh4kfk1JbdJWz+afVDzUpUJOxsttY0GKxSHpCYzTpSfFV07YnVsGCn9yxCx9NKkdcsfzVm5Vi+u6jBg8eNe/TB2cdQwIwth2yUTb4+on+sVOpS1Pli66fqp5SYqdUmZ+YLjivUnkGQJURFGosnOUmacN91R4sYNnQiYclVHQvSn1xU5ORSh2WZkFOvrF87ovy50SbT9DrEuZnQCNJGnQYnMSplay45Kr3RpYGeOQmK5VU1Gc3UNZnBA1xT6jMyMxurNs61oONaz/AAx/LFMxBOSMy84Ale6+PeP8YSLzKhMU8EkRhObprD0y686EKtwbxh+rvT6Jsq1IXwfVCETVeq5C1WA1/RSIXQMObp3sH7PeuKpTnJGbUyrTbUekZKDXnZF3MXpZVrHR6YnJSVqUnmkgpULoX/WKhIvScytpwaRtY1bBRH9wq8k50Op65YqqBm6s95rfAT7IMHj0ZDvRrhWQ7KOoeFaJ35M7q4PBN/meiJuaYlJZbrhslAisVV6ozanFaB5KegZKfSJ6eJ3Fu9tZiiViVk0Oyk2wChStKrRSZCTY3RyVczmXhq6Inc+Rq7mZoLTtxEzjiYU1ZmXCFcpOmJucmZp0uPLKlcRJ1GclN03F0pzxZUYOnGmaipLirboiwMNYZf8A0yqYWsbnumeDfTGLZxmYqh3PSEJCb+nLhSt7ksSjp4CjwD0GK9SET8toHhUDg/2hxtSFlKhYjahq2BCrLSegiJZYVLtKvrQOuE7MJlpN51WpCCYeVnuKUeU32FsaIMHep1wYMHZRtd9t5N8d5JSrkzMttpGlRinyrUpKtso1JHvMYqrZnJostnwTR/EcjIQXUhRsL6TCpVxuQaYkM0JXrcvqHnRUMOrE/uEoovqzbr9EStRqNNfWG3Ck3spPJE3NPTL63XVXUrXxd4/StR3Lc++XM3ovkpFDmJ9fmtjWuK3RHKe8PKQrxVQCQYw1V+/ZTNWfCta/SOmMX0j/AMtsa/lP7814Zm++aHJr6EZp/l0dcMbzwapiWR4zyvyEKgwYPHJ1b9OuDBg86nmLB1MzUKm1fVRGJap3lIWSfCO6E+iCbw22pxYSnWY/wa+mVK1TCAu182KJWpmnFLMyhW4q1X8mKjWqZTmHO9Chbrpvo06+UwtalrKibkm546X3LdkbpfMzuF6oGJaNLuMy7I8DbxhyRUKtJ97Tcmol5IN2HOjJTJ9ySnG3k8msdIhJYm5UeU26j8jFapy5GdW3yeSekbQNexdzudzpOZlz5C84epXXDG03u1WzBqaRmwTF4PHDXkO+TB2w8+S7KnXkIHKbRJyyJeWaaHkJtGJKh33Ul28RHBTkp00JacZdIvmqBhNSpMy5uzIL7oToSBpEYkXnUHOmGwhwkWHRsVHwyXEh6a4LevN6YxAqmGaSJNIzQOFbVfJg2pXC5RavpN/2jFVO75kN1SOG1/8AGDs6dexYDf3OuhPzjSh/XretQQhSjyC8T0wp+bfdPlrJg64MHjka4O+EJg7ON7y86nf4Qkt1qO6EaGhf2xXJzvSlvrHjWsn2wTc5ZCozck7nsrzTE9U52dUC86VW1DkgNqVqEZp2CYrNQmGG2Vu8FIto5fXFNocqimPTM4PIOaP6wYkppctNNOpOlKrxLPtzEuhY0pcT8YrciqUqDrfJfR6jsZ3iNiok13tV5N3odF/bo634mmu9qLMq5VDNHthUGDx7WuDvhA1QdnGyDm3BsvmSDjnnr+EY3mfBSzPSSrfYQl0fotSs0cJfR0RMUOlzHjyyb9I4MP4MkF/JuLR+cP4Jmh8m8hX5RUaHPyCAp5Fkk6DxtLMqJ9gv/J53Cif/AEVUmQjv4BI5ARFcpktJLb3KYDoV7xkwZPbpJrYJ0tHR6jGNZIFpmYHJwTxZ4xOrfji7mKXMiZp0q957aT1ux9Ofs0v/ADmCch49vVB3wjkg7OMh2Ic2DXFDY3GlSyfo398Ysf3SsOjkbskb6jYp7zlksLYzkp5Rr0xLYpo7v70o+sIZmpV75N5CvUcmOXvAyrfSSrLTaPOTy7NIv0nkEMYGbzfCTWn6IibwO8E3YfC/QdETUnMS7hQ6gpUOQ8RJUioTYu0ySOnkh/CtRalluqzOCLkX05MLzfe9Va06F8E+2KtLCYpsy39C49YhWzJ1bHgWa3ahITytLUjrdiCeM3VJlfJnWT6hByHj0+LB3ydcGDs42u/MrIu6kemGEZjTaehIEVd3dalNL6XDxGFJTd6iknxW+EcmLZ0TFUKBqZGbkp0muanGmU+UYkpNiUl0tNjgj8z0xcDWbZMQUpE9JK4PhUC6T/SFCxOTDtNZnp8NuXzM0k2h3BMgrxHnE/nExgeYHycwhXr0RN4eqkvrYJHSnTBQRrEUGcdFBe3PxmFX9kJnWX6gGw6Fofl9V9UTTW5TDqPNURDSyhxKhyG8SjoeYbXyLSD74rEtuFRmW+hZ2Yatj7nU3mzM2xfxkhY9nW2rzfetNmXfNQbeuFkk6YMHjwNPEI8aD1Yk03mWh9IRqT7ImTd9z6xyYboTFQS6t1RzU6NEVymfo+dLWdcWuDvcJSW4U7dLaXT+UVCbRKSTzyvJH5w6tSlqUTpJvkwW1nVMq8xswIxBVH5moPDPOY2ohKfVGC599wPMLUVJSM5PoyVhsIqM0Bq3RWTA7X6zMr6EW9+RUGMYsMCUbXmDPz/GiSqk1KIfQ3azosq8IdWhYUlRSRyiCSTcnJhh/dKOx9G6fdGMmcyqlXnoSdm5IOxYXnO9q7JqvoK8w/zdbceTWbJsMX8ddz7IIg7A3ryHfNQecOTmiR/a2friF/Jq9Rh75RfryU2rzsgpRZX42sHVE7Ovzb6nXVXUd5TpVUxONNjylQy2htCUJ1JFhGNp7gsywP01f0y4Ga0TTn1RCjZJPQIfWVvOK6VExgZv9rX9UZJ9wuTj6jyrVkwO1+qzK+lYEOqzWlq6EmP0vUm3VFEy4NPnRL4wqSPlAhweq0V6vN1CXYSlCk5pJVvcFOXp7qfNc+MY5b4cov0EbOdibWULQseSQfdEs8HpZpzz0A+/rZjSb3arlAOhtITCoJ2BriGtRg7QOoEqrNmGz9IQCCkekROC0099c7/BkjdbkyR4vBT7YKglJJ1ARVZ5U3OvOnlVo9WQRg1rNpSlec4fyiqObnTZpfQ0qDrjBbWbTHF+c58ImV5ks8roQows3UYEYQazKOk+ctRidS4uUfSgcJSCB7Y/wQ/uemZRndFoqVHnZFXhUaDqUNW+wMeBND6sY4H6rK/WOyjXsuEZndsPyh80Zn4etbriWmlrOpKSfdE3MLfmXXTrWomFQdgb8WDv0eLB6kDYEeMIkXM+Tl1dLaYrrYbqs2kfOHfISVKsIpMmJWQZa5bXPrMYpnu96WpIVZTvBHq5cvLGHWtzo0r6ReMTO5lEmfpWHvyYYbKKLL+m5ivOblR5s/Qt74VrhMUJrcqRKj6F/fD7zTLSluKzUp1mJWtU2cWUMvXV0WtE3LNTLC2lpuFRMMqaecQdaVEb3A3jTfqTGNP9tZ+02VGyCO51O3YmpbzTnj29a8WTne9Fe6XOAPbCjCthTqg7/kg7OOcRsAMYaf3WkMfR4PujGUvmVPP+cQN9hiR75qSLjgo4R9mTF0/u9SLYPBZ4Pt5cqPGiRb3OSl0ea2mMaOhNMbR5znwhOsRS29zp0qnobTGMXcykZvnuAZBEhjRtqXbbdljwU2ukxXsTMT8mGmkLTw7m8UZaxVJbN88ZMQACrzY+nvcDpNpo/VjG6h3nLD6Z4g8ajZcHzne9eluhzgH29a8ezt3peWHkjPV7YMKg5DxqdfEDX1KGw4JmuBMMX+kIxpK7pJNO+Yqx9sWimYf76kHZlb2YlN7em0IwjJKlUDdVB9SM6H2lsvLbVrSbHJhKR3Gn7oRpdP5RUZsSki895qdHrhxanFqUTpJucsonOmGk9KhAFhbojHK1fqieThGJdBU8hPSoCEJzUJHQAIx054CUR9JRy6YMYcRnViX9BvkrTmfVJo/xDkw7SqbNUxRWkKWSQT5sPoCHlpHIo5MGItTFq85z4RjdzhSifQo7KNWysuqadQ4NaFAj2RKvpflmXRqWgK9/WrEszu1bmz0KzR/LBgwePb1wYO+R48GDs46hYbne9am0o6lcE+2KjLCZkn2vOSYWkpWQeQxh6ckn6Y5IvLzDfRE3W6VLzyc9ZUWmuDm6RpifmO+pt561s9V4ESOMnGWG21ywIQLaDaK/iRM/LNtNoUgXuu+8aXmrSroMSM03NSjLqdSkxVaUxUJfMXoI8VXRFMwmxKzAdW5umb4otkxrNpcqSWx+6Rb2nJhORlpqeWHk5yQgm0f4aopH7N+cVeXQxUJhtHioWQIwiznVPO81BjVE4rOmnj9M5GZuZYCg26pOdrsY5YEYdZU1SJcHl0++MZP59SSjzEc14HnxMURKPKYOZ/brS+6lplxw6kJJ90PrLjq1nylE++FGDsDQ4OU71oaYOvaBsw5sSSCIo86JunMuctrK9YjFUgZepKX5LvCEJuTFLwjfNcml6/IETtLp83JzEvLtBDjGrRphxBSogjVv8O4hVIK3NzSyr8olZ6UmkZzLyV/GL21xWsTy0ohSGVBb35CHHFOLUpRuScmFptMvVms42Srg+/JWcMMTz26oc3NZ8boMUiiNU5tfCzlq1mJ98MSb7h8lBhWkneSzSnn20DylAQygNtIR5qQPdFXme+KjMOdKzsg17PgKfLNXLPkvp/MdacVzBZokxbWuyPfBgwYPHo8SDffsjXB6t4OqOZMql1HQ54vrjEdOE5T1WHDb4SY1GJSa/SFHQ4lVpiV0+7+8OYpd/SSZltkJ4GapPnRVJGezO/nG0pQ+q+j078Ql1xBulRHqhc7NLFlPrI6M6L3yhRBvFCxSw62lqZXmODQFHUqM4EXBvDriG03UoJHSYxNX0TI73YVwPKV0wlKlGwFzBFjpy4Sk92qYXbgti8ViaEtTn3Po2HrME6dkTr2eSmVS04w8NbawqG3ErbSsalC460Y7nm9xYlgeFnZ5gmFHKeO5MhynK34sK2gdQ2XVNOJWk6QbiKbPtzsm26OXxh6YxNSu9JwrSPBuaR/aEOuIvmqIvrtFIklTk+y3bWdPqjEzc5NvNSsswpSGhpsIn6XOSK0pfRm5wuOObnptscB9Y9Rh6bmXPHdWr1nJhSTaSHZxzU3qiryE0Vd95gzH1HNA1wUqBsRaBGFpLvemhRHCd0+yMaTw8DLA/SVsqNe0YOnDM0CXudLd0H2dZ3XEttLWdSUkn2RPPvTM06+s8JxV4UVCCYvx7Y4W+OVPiwdoGyjfaOacL1jvSZ3Jw+Dc/I9MVKQbnZRbSuXxT0GJmXcYfW2sWUk2igVdqnPOLU1n5ybeqJrGs6vQy0hH5xTqfO1tZdm31ZidR/tFZoUzT3PObPir4i+/k2kOTTSFGwUoAwHv0HPmXVw5ZzTphzvVxTc5uoUy0glI9PTFQme+Zx521s5V4okgqcn20W0a1eqHHGpdhSjoQhPwioTa5qbddV5RyDY0bR3OZzhTkt6ljrPi2Z3Giui+lwhHvgmFwbRbj2RpyHeHKIO0DqIDGGK130zuDh8IgaPpCMT0Xvpnd2k+FQNP0hBFokGWnptlta8xKlWKofekpVDco4hSGFIzQ5yROV/cEzUkq003qQsx+h5zvDvvN8FeLcXaGKVNuyi5lKbtoOmJeQoNRYRuCtwfA1emMUSTqqXLuK8drgqtAmpkMloOqzDrTfRAjDVL70k90X8o7+QjF1TzW0yqTpOlezI1ceeJwfOd7V+W06HLoPt6z47m3DMssA6Epzj6zClwo3ymCONa1b45OXIdoGzDahssrMuy7yHG1WUkxR6o1PywWPHHjpjE2H9KpqXTo8tP9Y1GKdiZKZNcvONF5GbwemKZJKnZ5DSRrPuETzTLtMm5Vr92jNtFepUhIUyWTb9ZUdJvHLGaocnEUyS78nWmM4JzzrhdNoVMazVNF91Q0C1yYw7VBKzi2HB4N02seQxX6aunzt0aEK0oMLxHUHJFyXcIWFeVy5MNUjvl7dnB4NH5mJ6bbk5RbquQaBE1MuTD63Vm5UdmTq2hlxTTqFjWlQI9kMuBxltfnJB9/WavTnfNTmHOTOsPUIVBEEHYG/Fg7w5U+NBhW2X2Ic4U6oPyUwl1s+v0xTalLz8tuiP5k9EYgwyRd+VTo8pHR6oKSDpinVKYkH90ate1tMYVqqM+d3d4Aq4dzFaqJnp9xzydSfVDSs1xKrXsYp5lqrKZ8xIJQBy9Pqhymyc1XTLSq/Bk6Fa4dwM/+7mUH1i0O0acbqPelhupI5emBgeo2+Uah6nTDU53utPDzrWhOHaFJtNonHvCr+laMRUL9HLQpCs5peow06tp1K0mxSbiE1TPpHfzbQWsI0j4xMzC3plx0+MpV9ET1ampyUZZdA8H5XLkpVNdnZgISNHlHoiXYYlZcITwUIEV+sGdmLJPgkeL/fZ+Ti7cdg+bMzQJUnWi6D/L1lq0xuFMmnOhsw4bmDkvvrcVyQd4cqPGyHq/TalMyL4cbV6xyGKVV5WfZzkGyvKRyiK3hlmbu4xZDvRyGJmVfl3ShxBSRlw2xTnpz9ZcAzfFB1KjEEnVpiWzZYoDWbpSNZjBzQNX+qhUVVyjDvhffTjb+nxVHX6ooLi1VyVKlEkua4UywaiFd9rzx+5ztHuisTeZilDjibJbUj3DljEdEmqhMMPMEKTm21/nGLlIZpcjKlWcsWv7Bkkq1Oycu802RmuDTfLS6LNzqtAsjlUYkZCXlGcxtNhynpjEle3UmWYVwPKV07Gd9baO5zNXYnGPNUFj29ZcWuBFBmfpZqfzgwqDBg8cnXxKPGyHm4c5S0y/LuhbaylQ5Yo2KZeZAbf8G508hiep0nOt5ryL9CuURVMKzkuVKa8K36NcFKgbHI3Up9pGaiZcAta2dFJqz1Pmd1QArg2IMJxnLOJO7yAP/wDvTEtPJaqaZkN2Aczs2KjX92q6JtkFOZa1/RFbq36Rmw7ueZwALRKVypyqMxqYUE9GuJiYefcK3FlSjynLKU+bml5rTRVFLwi22QuaOd9AQossNac1CE+wCK9iRT92Zc2b5Vedsh3g17VgGZ3Ot7n862R7tPWXHC7UYJ895P5aYMHKeOb15DvDlb8bIdoHP54oGKRimblc1tzwrf5iKfVZKdTdlzTyp5RE9QqbOXK2rKPlp0GJ3Bk6i5YWHR0ajExITjBIcZUn1iM3eWixMS9Lnnz4NhavZErg2ouaXM1senXEphKms2Ll3T+UIaaZbshIQkdGiKjiWQldCTuq+hMVKszc8eGrg30JGrZTvEeNktGiLDJbJpixix31+KoM33tWJJ3odF/UdHWXE24foSbLib2Ro9cbp6IuIMHj2xvLCDvG9pGW+yDnVp5xtWclRBHKIkMYTzOh7wqfziSxPSpkfKbmroXAU24nkUPfExRKU/48sj2cH4QvCFHVqDif5oOCqbf5Z38oTgqm/OumGsJ0ZH7tSvWYapVNatmSrfugqQ2nSQke6JnENIYHCmAT0J0xOY2GqXY9qonq7Ups8N4281OgcaOOb1xfYbRotFotlvkBsb9ESD4ekZdweU2k9ZMczoapqWOV5X5CF8EmDAWq+uN0B4g79A0ZdUKXvU7SNnHO94ZnJlojMdUn1GGMVVhr9/n/AFheEY5nLcKXbP5R/jtz/hp/FH+O3P8Ahp/FDmOZ/Tmstp/OHsV1l39/m/VFofnZp4+EeUr1mL7aiLRbJYxpjTGmNMacl4vF8t99yZbZMHTG64elPoXR7usmM5vdqwtN9DQzRCoOXTGdGjixA1DJohSoJgHeJg9SBzLfIdtRq4+0WGS2XTGmL7zuePXpb7fmO/HrHMPtsMOOrNkoF4n5hUxNOuny1EwrfhfFNi6shhRhRygxfIIMHZx1jGwo1bVeO55NZlRmGfnG7+7rHjufLco1LJ/eG6vUIXeDr4gG0a+IaHLkUYJ3ogZD2GJ8XaiIwrNbhXZNXSrNP83WPHlNecQ1NIFw2M1fo9MKg5DvwdMEb9PiiCdEKO/TryHaB1jGwhQtGeIunaULLbiVp1pNx7IkZgTEmw8PLQD1iUlKkkEXB1iMT4PWznzMmm7etTfKn1ejiwd8gaYELMHfteNB2kdYxxhyHeDe6cmmNMXVGcYuqM4xnRnxnCM4RnCLiBxGE152HpD0It7usmIsFszWc/JgNvcqPJV/9xMsPsOqbdQULTrB4q+9CbCOSF5DvmfGgiDtA3pyHmwbUdmGy2yWi0WjTGcYzoz4zxGiLRmxmxbKI0xwozoBy4JdC8PMfRKk9Za1h6QqjVnU2WPFcGsRWqDPUp7NdTdB8VwajxV8qRy5FZDv2WCGwo6M7VCoJ2gb884352G+HFEb25jOMZ8Z8aItAEWyWg6ICsnc7evTplvzXfj1mmZZiZZU062FoVrBjEOCH5XOek7uNcqPKTxadcK8WEHRB0mFb+TllzEy22nWTFUlm2dCNQ0WhW0jfnYB1XEHIcqYtltvjxVzGeYzzGfAOQpgKjudTNn5tnzkhXu60Yrwch4KmpJFnPLbHler0wpJSog6CNfEoToycsXyHe2jCFFO4OTLgtn+IeWMVSjaGErF/HtCtpGzjmA88HepgbQFZCIwC4RX0DpbX1pxRhFmfQt+XSETP5Lh1txtxSFpKVJNiDyb8C8EWEJgjKd7R5BU5UGWrEi/C9UNyj6WgEoSgJ1JjFb7llsLHilKr5DB2ccyHmm/MwhOvJybQDk7nsqV1h53kba/+XWrFWFW6k2X2RmzKR+OHG1trUlSSFA2IO+aGm+Q6IveFb4axGD6CmQkQ6seGdGn0DJjdi01n+ciDkPNw6uCBkvtIjueob/RDqwOEXjc9a8WYUTPoMxLi0wkaR5//wBwpKkqKSLEHSN6gcHJog6DF777BmG1TswJp5PgGzo+kYGjJjOUDlKU7ytwYO0Dn+3Nwg70ZbbSIwVLFnD0tf8AeZy/f1sxThFE+DMSwCZjlHnw8y6y6ptxBStJsQd4nSmFReDvsMYeXVpzhaGEfKK/pDDDTDKG205qECwGXEbefRJwfQhUHaBs46oDfCDlOQbZSac7UJ9mXR5Z0noHTDDKGWG2k+KhISPZ1txFhiVqrWcOA+NS+n1xOyUzJzC2nmylacrS7GFQd9Jyj83MtsNJzlrNhFHpjNOkGpdHkjhHpO8nUZ0m+npbVDqc1ShB7CTA2yWln5h5LTTZWtWoCMK4ZRSmM9zhTDg4X0fQOt9YokhU2Mx5GnyVjWIrlAnaU/muC6D4jg1HLe6BvgCSABpjCGGhTpfd3k/rDg/AOjev/Iu/VMOeOr1wYMcmyjfnrWYG9vxl8h4ihYan6q5wBmNcrh1eyKNQKfS27Mo4Z8Zw6z1xmpWXmWFNPNhaFawYxFgqZk856VBdZ6PKTAEA5TlwThm+ZPzCfsUf/u31QVmyEyb2s2qFQYOzDaBzNfnQwmM4CM8RcbMhC1rCUpKlE6AOWKBgFxRS9UNCeRka/wCaGWWmW0obQEpTqA66YiwWxN570pZt7lT5Kom5SZlX1NPNlCxyGAbjeYTw+anO5zg8A0eH6fRCUpSkACwG+qaQadNXH7pUeTB5vHVo73OMBcZ0Z0Z3F2g5W23HFBKElR6ALxScAVGYGfMq73T0a1RSMPUumI8C1w+Vw6Vdd6nR5CotZkw0D0HlEVzCE/TypaBurPnDWPXEpRarOfISbivTaw95iS7ndTXbd322h0DhGJLAVDYsXAt8/TOj3CJeWl5dsNstJbQPJSLDf1LRTpr7JXwjkg7OOso4k8bL06efF25dxXqTDrUwwrNcbUg9ChaM6LxfiUNrWoJSkknUBFGwBMv5rk4vc0eYPGiQpFNkEZsvLpR6eX39gtXJ/Rc5b5pUDVCtnG2cnUkcSd6d/hDCcl3kzOTKN0W4M5KTqSIQhCBZKQB6Iflpd9BS60lY6FC8VXueyT6iuUd3A+YdKYncGV6UBPe+6pHK2bwQQbEWPESspMzT6WmWytR5BGH8LydNZQpSAt/lX0ersHrYJpE79iqBqhUHZhtA6mjiBvjv8OKCqFTz/ATvarh2l1Js7qyAvkcToVFbwdUqcFOJ8MwPLTrHrG+l5d6YeQ00grWs2SkRhygM0uTSDYvHx1/07CKwP9KnPsVRyQYOzJ6yjjjvhGEVXw5IfU/rv61gWQmyXJY97ucujgn2RPYPr0pf9X3VI8pvTCgpKrKFj0HJTaZOVCZSyw3nHlPIn1xQMPSlJYIRw3VeO4eX/wCuwmqi9Nmx/CX8IOrIdmTtPJ1aO+EYFXnYcl/QpY/PiZqm0+aSQ/LNrv0ph3AuHVfuVp9SzFPpslIMblLtBCfj6+wqeH6lMfZq+EK6IMGDsqNoHEnYxz+d8IwB/sA+2X2K1M5tPmj/AAlfCDBgwdlTtA4k9VDvBGEJRcrQJVKtarr/ABditdVm0adP8JWRWS0HZE7QOqp4g7zDNK/SNXYaI4A4bn1RAAAsOxWvFIo07f5owbwrKdkTtA6unedz+kmXpy5pY4Uxq+oOxbEf+xzv2ZyKg7MnaBzEeezlkpZczNsspGlxYENNoaaQhI0JAA9nYtiEf6JO/ZmDrgwch2Qb2+xjmG/Phy9z2m7tUnJkjgsp0fWPYvXhejTv2SoMKg7MN+dhHEnqocuEKaJKiMee7w1e3sXrhtR537JUHIdmG0Dq6clHkDPVOWl/PXp9XLCUhKQBqA7F62P9JnPslQrIdmG/OyHejZBlHEnnU5O5zIBT81NEeJwE+3sYrgvR54fwVQqBBg7KN+di09XDkwhI96UGWFuEvhq/m7GK2P8ASJ37FUKgQdmG0Dq9RZEztUlmLaFLGd6hCUhKQBqHYxiF7caLOK/h29+iFQIOzcm0DfWjV1X7ndM+XnVD6CP69jOOZktUcIH71wD+sHJyZDB5rHV0AkgCKNJJk6XLMDyUC/r7Ge6E7+xIv5xg5Cchg7ENpG9ttd+fQopUD0G8MqzmWz0pHYzjl/PrObfxEARfJbIrYhA3hyHaT1KHG8kUt0O02UWPKaR8OxnFBSa3NkG/CgwMqtiEDaR1ewTM7th9j+GVI93YwTYGKm4lU/MkHW4qLwAYzYJg7GNpG9O1mOTm0bB3N5jwE6z0KCvf2MOlIbWVas03iY3Pvh0p1ZxtkvB2VO0jmHk597nsxmVhxv5xo/l2MVLRT5r7JXwg5AdMHZU5Tsw3p2wbMOZ8LPlmvyJ6V5v4uxisX/Rc39mqDkTrhWyp2lPMI3l9iG0jjpJwtTcusHxXEn84GrsXn0BUlMA8raoVoJgwIVso2lPMI59BsQYllZ0uyelCexd225Lv5piYtu7thbhHRkEGDsY2obwbaOfTEl+xy/2afh2LumzS/qmJg/rDn1jBynYhA2oZTtw4o858sSv7Mz9RPYu4CW1gdETgtNvj6at4djTtQ5hHNw2Cnm8hLG9/BJ+HYu8SGXCPNMTN++HfrmDsycp2ccwjm8cfQlZ1GkT/AAU9i7ou0segxNjNmHR0KMGOXIdjTtQ5hGzjmfCy8/D8gb/u+xdz5NXqMVAoM4+U6s87w7GnahzCOfsEuZ+HZb6JUPz7F3RdpY6QYn2i1NuovexOUQYOxJ2odX8B/wDp5v7Rfx7F5k2lnvqGJgkuqJ5YOrKdjGrahlPVzufuZ1Ct5ry+xeb/AGV/6ioe8aDlOxCBtQ6v9zhy8jOIvqdH5jsXnf2N/wCzV8Ieg7KIHXnubOeFn0ehB7F50Xk3x/DVDsHIIOxJ65nf9zpZFUmR0s/17F5kfqzv1DDus5Rsad8edxzeOO7nyv8AXFDpZV2LzptJTH2avhB1QdlTkvtA5jHNwgcdgNVsQI9La+xee/Y5j7NXwgwrKdiRtY5iGQc2jjsHOZmIpP05w/LsXm/2V76ioOiFZBsadrHMQ59w64G65IKPzw/PsXnTmycwf4avhBN4VkGxp1bWOYhz7S/9yk/tkfHsXrjm50icV/CMEQqDsg1bWOYhzeOOpx/1CV+2R8exfFjmZQZv0gD3mF64MHZBtY5iHN446T/a5f7RHx7F8bm1DPpcTDnJkOyDax1RHHSX7ZL/AGqPj2L47NqOj7UQvIdjG+OzDnw8xyX7ZLfao+PYv3QFHvGVHS5HJkOxjXtg6vyAvPSv2yPj2L90A/qEt9pkMHY0696dnHPh2YcbTlWqEoeh5Hx7F+6EP1OUP8QwIVCtjGvr3IJvPyo/io+PYv3Qv2WTF/LORcHY09e6b/uEp9sj49i/dCCi1J6OVWRWqDsaN6etI3x39NANRlB/GR8exfugW7xlftD8MitUHY0at+es442lC9Tkvt0fHsXx/mfo1jRp3XRkOrZE6ufxzeONo/8Au0j9uj49i/dBztzkui6sitUHYxq2wcxjnAcZQE51akB/GT2L47zf0ejR5UaLQTB2NOrn8c+YWQVYgkLfOX7F8frPecsnpWYMKg7GNXW8cZgVvOxC19FCz2L4+0sS/o0mDBMHZztA5pPNQ4zueD/WXvsD8exfHa0oQyOVYheuDsY17w7SOqY4zudn/V3/ALD+vYvj9Cdyk1ct1CFwdjTr64DjO54P9Yd+x7F8egd5S314VywrY06+uA4zucj/AFOa+x/r2L47H+mNfaQqDsaNfVc7SOM7mzXhZ9z0IT2L4/fSmTlm+Urv7oVsiNe2jq/3N0fqs8vpWnsX7oLl5qVR5qD+cHZEdQRzgOL7nYP6Ie9L3Yvi6dMxV3hncFHBEHZEdcRxfc7XekPjoe7FlrzUKPQLxPPF2Zdc85RMGDsaOuI4vubOHcZ9H0kHsWqBtIzP2avhCzBg7GjriOL7m7n65Oo6W0nsWrToapU2s/NmFwdkRqynrcOLwBMZlczL/KNEe7sWxcrNoUxp12gwrZE6uuI4vCj6WcQSJPKvN/ELdi2OnSmkoT5zg/KDB2Qah1xHEnJIqzZyWPQ6j49i2P3rMyrfpJhUGDzeOrxyS37Qxb5xPxhOodiuO3s6qJR5jY/ODCoPYKOKQrNUlXQQYZVnMNnpSOxXFrufXZv6JCfcMhg7ENe8I2sdVBxcl+xy/wBmn4ditVc3SpTa/OdX8YMGDsSde9PUG/No4ujOqcpMmo6y0nsUcNm1HoBiYVd1w9KjkMHYka+uY4ujpKaVJA/Mo+HYpUFFEhMq6GlfCDCoOxoy6OuA4pAupI6TEskJl2gORA7FMTPFqhTpHmW98GDB2NHXMcUwLvNjpWIRoQkegdimMFWoEx6c0fnBgwdjRq24czjm4cU2qziD0EQyoKZbPSkdimOl2ooHS6mFQYOxp1bw9QRsR5npru6U+VX0tJ+HYpj9f6lLJ6XLwqDsg8Xr9hZ4uYfkCfm7e7sU7oL15iUb6Ek++FQrZBq3x68YGUTh1j6y/j2KYye3StPfQATCoOycnXQcV3PHs6juo8x4/n2KYnWVVud+0tC9oPXFPFdzZ39vb+orsUqTm6TsyrpdX8YVsg3x63jiu527m1WYR57PwPYm8rNZcPQkw/46vXCjsidfXUcVgRzNxC19JtY7E6w5udLm1dDSocg7InXB3h69YPVbEUlp1k/DsTxKrNoc59SHIMHY29e9O1DquOJoL25VqRX/ABk/n2J4xe3Ohujz1JTCxB2Rvbxkt1VHEyd+/Je3zqPj2J48P+mMj+LCoMHY0ddhxNP/AG+V+2R8exPugOfqsoi2tZMKg7I3y5T1zHEyZKZyXP8AET8YHYl3Qj4SSHoVBgwdjb1cwDnc7eOJQbLT6xDJu02fojsS7oXysl9VUGDsiNXVY8wDiU+Mn1wx8i39UdiXdBUN1k0/RVCoOyI1dVjzQIRbPT6xDVtyR9UdiWOnCawlPmtD84OQ7Gjxd4evQhOlQ9cMCzDY+iOxLGbmfX3/AKKECDB2RPi8wDquOIb8dHrENfJI+qOxLFotiCc/l+EHZRq3p6onmEcRLJzplkdK0/GALAdiWNR/+QOfYogwdk5Ou44ini9QlR/FR8exPFzufiCb9ASn3CDB7E8Ps7rW5BP8ZP5diRNhFUf74qU255yzBg7UdqHV/ArG6YgaPzaFK7Eqw/uFLnHPNaVF+GYOyDenroIO+7nDI76nXOhCR7+xLFToboU39IZvvgeOYO+PHDmEdX+5uB3pPH+IPh2JY2Vahn0uJj95B2ROuD1VPNXc4/2+c+2/p2JY5t+hh9qmD8pB2ROvsA7n7aU0Qq8509iWP1fqUoL/AL3+kHx4VvTx6PGg8x6OrmAf9gH2q+xLHz95mVa81JPvg+MIWIOxt+NB5hHV7AP/AKeR9qvsSxi7n1x76ISmFaFCFwd6YPGt696eqJ5qwB/6fH2y+xKtu7pVpxX8VX5QuFaoO8PHta+wDAg//HGfrufHsRUc1JPREwsLfdV0rJh2DB2Nvms8xnnLAhvh1n0Lc+PYjU15lOmldDSvhF9EOZDlMHj2+vI3+AP9gH2q+xGr6KXOabeBV8IEOeLHJeDsbeU8wDq73PHL0Z1PmvHsRxCrNok99kY1QvxYT4sHeHj2+ZB1VG/7nF/0bNfbf07EcVqzaDN+kAfnBhWkQjVBO8PHo7AO56m1EWba3ldiONFWoTvpWjIYTBymDx7cHrwN/wBzx7OoziPMeP59iONrfoQ/aohWRPLkOU8e3qOQ9fu5s+c+eZ+qvsRx5/tTX2wg3vkT4x3p49vVBg9fu56u1bcHSyexHHx/06W+1/pkvA8Y7wwePRqgwev2BVWxEz6UL7Ee6Af1ST+0Pwy+VBymDx7fi5D1+ww5udfkD/Et7+xHuguHd5NH0FGLZD4wyHIYPHt+L2AUM2rEj9snsRxw9n1rN8xtIynxhkOQ7A3q7AKRf9KSf2yPj2I4lc3Suzp/iW92QwfGGQ5DsCNXXob7DzW61uRTb98Py7EDoEVF7d56Zc89xR/OAch1jIqDB2BvV1WPNWBWs/ELR8xCz2ITisyUfPQ2r4QcloOsZDqgwdgb1dVjzV3N2U98zrnQgDsQxAvMos6f4Rg5LQqDB1QrYW9WQ80DqqY7m3y8/wDVR2IYvv8AoCZ/l+MHKrIYVsLfi9fzHc8mMyrOt/ONfDsQxorNoLvpWj4wqBkXAgwvYW9W8PXsxg53MxFJ+kke8diGOFAUX1upyCCYcjkgwrYW9W8PXsxhtWbXpA/xR2Id0BZEnKJ6XD+QgwMioGqDB2FvxYJ6/GKOf9VkvtkfHsQ7oKznySPQo7xcDVBg7C34sHr8YpP+6SX2yPj2IY8cBqrab+KyPzgxbIuBqgwrYW/FyHr9Qk51ZkB/HR2IY2VeuL+ojITF4XAgwdhR4sHr/hBndcQyX0VFXu7EMXqvXZj0Zo/KDlVqgaoMHYWtXX45MBIJxAk9Da+xDFRvXJv639IOTlg6oRBg7C3q5gtFurpydzkf6lNH+F2IYpFq3N/XgwYtBhGQ7C3qg8xWiwi3Vk5O5t+1T31E9iFfWF1idIP71UcsHVlB2NOqDtY4oRm80DfHmvubIG6z6vQgdh849uMq855iCYcWStRPLpyHIdkSngwRpi0W2/RFsl95YQRFslotFt7aNHFX3tslotFt+Ob+XJ3Nr7rP/VR2H4wmdxojgvbdFBEKynIMp2AahB5ltF4vvzsA3t4vxWo74819zb5ef+ojsPx7McKVY6LrML3hMDKdgGqFGL8wXgby0WynLfibZbby2zHmzubIGbPK9KR2H4smN2rcxp0Isn3QTBVF8lt4ePEckHZLxeLxeLxfLeL5L5LZdO8tzLaBHLvTzQYGTuct2kJtdtbg7DlEBJJ5In392mphzz1qOQxaLb08eI5IPHX2S/NvLzacuAW82gA+c6vsOrkyJekza/4ZA9sEwcl4MCBBgQePEeSOMvsN+ICoSrmQ75UDmw5cKspaw/IgfN39/Ydjt/NprLd/Hc+EKtBtByE5L5BB39+IEeSIPMl8gXGcNovsHJFovzba5int7nIyyPNbT8Ow7Hj96hLt38Vu/vgwqDryWi0WtkEHeni91jOjO31oPMFzGdGdF4vvbxeLxeL7+2W2S3FXjOgK3lotxFotzHKo3SZZR5y0iEJzUJT0C3Ydi5wuVyZ+jZMLg23pEX3t+MEWyWyWi0ZsZsWgpi0W2G3G25mSYtA3h5oGSiJz6xIj+MjsPq7261ObV0uqgwYMCDkOreni7cQIGU7SMlsttjvxV8t95feA6t4ch5ovkoWd+mZGwv4ZPYc8SGXCORJh3S4onlMKgwcl8l8l40RfYhB3p2YjeDiLRbJyczHmK2+OXBbIcxBLX8m6uw6qPbhTppzzW1QSbxeFZLxnQVRnRfZRlGW0HZLxfi7cRbJbircZaLZbRaBlMHmO29OXuej/AFpej9yew7En+xzv1IVBhRgqi+2DKYO8CFHUIlaFVpn5KUcPshjBNfdPyAR9YxL9zyqqV4R1pA98Dubj/n/9IHc5lv8AmK90DudSVtM057oX3OpW3Bm1+6HO5yq/AnR7Uwvud1DyZlowvANaSNBaV/NCsFV8C/e4/FDmHK2g6ZJz3Qul1BoXXKuAfVgpI5Mlt5bm5J0ZDB5kEHKd53N5fwk69bkSnsOcbbcQUrSFJOsGJ3BVDf8AFQpk/wAM/wBDE73PJ9N+95tDg6F8ExO4arst8pJuetPCH5Qpl1HjII9Yi0Wi2xWi0Bp0+QfdHe0x80v3GEyU2rUw5+Ex3lN/ML/CY7ym/mF/hhFJqKlWEq7+Ewih1Y3/AFNz8MDClcKM7vVUf4QrueB3tCcE1wn5NP4ob7nk8bZ8y2Ib7nMv5c4r2CGO5/RkHhrdc9toawnh9v8A8NJ9emGqbINHwcs2n1J45yRknfHl2z/LD2G6I8OFJN+zRDuCaCvU2pHqVDnc7kvImnB7If7nc2Pk5pCvXoh7BVeb1MhfqMHC1eAv3kuHaZUGyQuWcH8sFChyc2JNoHGnarxffYDltyoSV2+VWVdiTstLueO0hXrF4codHX40iyf5YVhigH/wGvdDmDMOq/8AFt6iYVgPD5/duD+eF9z2jHU48PbH+XVJ/wCQ9+Uf5e0e3yjvvhXc7pltEw7H+XEn/wAxz3CD3OWuSdP4Y/y4R/zT+GP8uP8A9d/0gdzhu37cfwx/lwj/AJ3/AEgdzqT5Zxfugdzymf8AId/KGsB0NHjbov2x/gzD3/G/7R/hPD//AA0wjDtDTqkWvdCaNSU6pNr8MJp8inVLNj+UQGWRqbSPZGYjzRASByRYdEZqegcwO0+Rd8eXbV/LExhWhPa5RI+roh7ANGUeCp1Hth3udjTuc570w/gSso8Tc1+2Juh1WW+VlVj2XhSFDWkjLp5lvxV9sMW32Gk5tBkPsh2pvSMm8LOMIV6xD+EKC6u/e+b9U2ia7n9PV8i+tHr0w53O5q/Am0EekQrue1S2h9qF4ArQ1LZPthWCa+L+BSbdCoOEq/m370VC8P1lJsZJ33QaFWBe8k9o+jH6Gqtr95u/hj9FVLOt3q7f6phuhVdfiybv4Y/wzXb/ALC77oGFa9/wlwnBtfP/AI35wrBeIAm/e3/YQcJV8f8Ahqj/AArX/wDhOQvDdbQNMi77oNFqw/8ACe/AYNGqwH7E9+GP0XUv+I7+AwqQnki5lnAPqmO85u3yDlvqmBLTChoZWfZG4PXtmK90IpFSWlKkyrhB1cGG8IV9eb+qEX6TDWAK4pNzuSfWqE9zyrcrzMf5dVH/AJTX5wrue1bkeZj/AABXf4P4o/y/rnSz+KP8v61fxmffDuBq+hN9zQr1Kh7C1eaFzJL9mmFUeqpFzJPW+oYWy6jx21J9Ytx1jCWXFGyUk+qGqbPPLzUMLJ9UHDdbBt3k57oTgzEBSD3tr9Mf4Gr/AM0n8UDuf1z+F+KFdz+u2/cn+aHcD4gR+5Sr6qo/wPiH5hP44VgjEI/8cfihzDFeQbGRc9kOUCstgFUi9+GHKdPN+NLOD+UwuRnEeNLuD+UxmL80+7YJVhT8y00nWtQT74l2gyw02NSEge7tqtGanogNtjUge6NxZvfc039XGvS0u8gpcaSoHkIidwHSHlEt5zPqioYAqLV1S7iXh0alRMyszLLzXmlNn6QtB36EKWoBIuTEhhCtzdiJfMT0r0RJ9z+mIZG7qWtfKQbRKYZosqODLA/W0w1JSbWlDCE+yAhCdSQOLsDBSk6wI7zldPgEafRCqTSyCO82fwCHML0BwEGRb9miP8HYezbd6D3wvAtAI0NrH80T/c8klo/VnlIX9LSIqVInqc8W327dCuQ8VgyVL9flzm8Fq6z2/TErLTCM11pKx0KF4nsDUN8HMQpg/QP9InO53UkX3B9tz18Ew/hLELX/AIKj9XTD0hPM/KSzqPWkwmQnli6ZV0+pBiXwzXnxdEi5b08H4xIdz+rvLG7lDCOXyjFJwlSKcsOIQVujy17RMSzEw2UOoCk+mKzgG+c5Ir/9pX9ImpWZlXS280pChyHeyVPnJ17c2GlOK9ESvc9qzmaXXW2vzMI7nEhwc6cd9OgRT6ZI09jcpZkITy9J9Z+4EQDt03T5KcRmvsIcH0hE3gCjuklpbrPqNx+cPdzmbBO5zaFD0i0N9z+sF2ynGkp87XEj3PJFGmZfU6ehPBESVPkpJrMl2Utp9H/8ovf/xAAvEAACAgEDAwIFBQEBAQEBAAAAARARISAxQTBRYXGBQHCRobFggMHR8OHxUNDg/9oACAEBAAE/If8A+BUN0aQnyHtmsd2NX3TKvLoexvX9kKBtukjtwlc+i4L96o/5hFK8XORsCPY8CEWK8oyvkeXr7CQaXzx9GzGse5VV6oQWna/Y62ukjM0u3efd8GJcbdP+dCuNZ+otLN8d/TyXg/Y2gevbOEhIdkt2/wDqCkFK22+W3y+kkWH2yGhdC9l/JmgqpT+qxLmwnHdeP2MpeZTH33wuROXO7qQ29gG0+k1LgrYz/Iy1V6ad/wCQg0p8/sXw3nG8sJfU5dS33Mzda+Uhu2yfKN3eM28lvUtzsV7P9i7Zvcb0/wC2fdz16yWNnaa4Gj7ENG0NBEvGX+xdm+r2pn+yhcn+kl+yj/ZcL9lC7/j+yiVH/Yx/ZQqAsKv7Bal7rH7J10G7lhs/soPd7NteME9w3XZ/snpt8sKWsvp9/v8AsouF3cDK18ndd/2TsDDgxJW/IEJP2Tq9l+Df2H9kzwvx/ZRsALf71Nyksq3Fcv2TtJpplgXr9vJU/K8+f2TsrexfNve5BTTn9k6qJzo4kKXxe6/ZOl1yhFxVm9Bf7KKutu5/Wv2TvYb0P5n7J8fRY1Lv+uL9kbIki5botPCrbX7CFSeWhVerg7EHF7fa78l+vc6/sU6t268Qloj5a/2P4jduZ9hl28fb+iHl6wpPZFB2suirRkdtEy2ZIzuVu1p+zKrf9LwILIWkdpr9jdF3AufQi3nvcPrwWw7N28tmR29xiSoezIlwpW5lQhfn2Nh5UxYDAcr/ACtvP7GaTupX58BhRuzh7IcEk9x7jIFJ4NxYw2EmdGDozQskUllZGGAw0bIKsN5fL9i7WxKeh5g4wAmh3JZ3F4ReaKdGR9odqLDr6ieS1vA1NZLsWck6T/8APv8AsVY6sLlYtAM2cFGRmwU1dj23EZUvYShWRdjAVhmuy17nh4Mf7E6sCvbluyH174vx2ii5LMUaEEwx1hWDIW+IYTcJFUlgZLiCp2nTT3PxWVfz+xFFZIbbeySHHtd3cYwxTHHuJVCEbh4GKhMsTFgMMXGPsO3JEeGhCaqfl9nh/sQyM8bJdHLD7xFiLf8AgwxLcq+DcIX4HbGKH6ifeF4EzkKxQzArbj7Jkasn/D/YdxUz9Ky9Wd23yWL4GTY3uNlnEW0WNrYpQ2YciuhvJk4uXRRsT3ElUYzWByP98v07iaa/YYzrO32Yu7f4UUkqG8DKzYwEK7EngSouRZOSmLFbCDh5WwmobZbvBgUNN4OPVfsLTCvgryO/wN2N4csjexteheRloERaoZtY3Y0imIUXX0EbF5Z7GVcGXxHsZLwcjRyxDdNGXVRS/wAPD/YSiohbb2RY9rC8u7+BVlsePsXk4EZ7wg44GzkXkX5PwMHuFXYzdF4r6FrbwIqMon7DyGOzNjdab4O8Pq0kVu37B20keP8Anl2eDDbxRwPKNygglRwW2Mv1Noe5YqmoTgkr9h9x3CSeLGlmNg/UWxu7/onZMpeDs8oTptEc/sGVhfZg9uC2KNoapCsVEmJzcJge5dsQjdmC8PyeIvwNVeLFT2F6CjGmWr4FtucsSnnZ3HY3g8DDksKwx7u0RfQJ5TT/AGBoqIW29khtkspH2+BYq8D/AODhFioxQkjAsodUxoWZYbY2M8l+wSlLworSh7UtFtg9i09naN/dGzAtj3G2OFe6Y/BlNqMVjsYZyeomh8P1afK8Czq6aMpp/sBWSOwN6R3ez9fgRmtkjIoaJBoXkTZ7wpUFlMe23Km5Ui2xOzbumf6hJTnqQT0hISXGmyO9QcvuLVyJmGmu5t3E339S74FdDdnvY8ehbTyOqZmhZKNxjcy6f3zy8PAkQ1tWmvn+75/H9suZcw7L18nHYw7spyJlclDsSyK7LfAmMhoKfamzdH1rTb1Z9+Lt76vayknoOJigXZsmn9BuR0UeA7zYnQ3DepbWfuYz6C28Gx0hpY3E3K5nfv7+YrPyrluz+fmwuf2r/wBrY/pV2fjsU0N4Fv6jTqEIZbOLLW5yPDcq6HqY+Fh6sSWyf4bPShz89JIN3/V7myp9KC1Vimimh3Qm/Jbbp35PQbhY9B3ZfgwN0b7o3D5q72z5Fvdxv/C+fTD5b39CMsHcfkY9yrBXkv8AA20hORwcWJrHA8YTyJSX87VCr2Bl/sXEvwV1nVewr7obc9Ww/wBj3dZXZFPIvsUGCmTdHeGz0LVlvuNtFbjIYpDKhm0l/pTN/ns/II3bxR2aJt/pj6X7tvTsb0cDUh5jjRbRZlEMbu5j7DJWL/B7liHbeE9jbzMikvgm7sfavoz6Oq+18jWuu2KPc9RJs8F0hstUX4N6wPsN5eDcXwJIJX4FsfhjWmkdbB89Gbst+ffsPy7W6vd3H2Q1k7BvZbrAzFWWKmxMFC6SpoT+GCvouTC+em9AgJEktkvhnLwGyvRn+6PQMvith+j5FgTQmxWW2w9zA3Zmym5bos52EStTTahE8L4X+xSyrw9vX54N6Pbmf2Lpdnbd78DSzMWzfJbuNqqG4yJxqh0clEYxGyrR5ClPeD2XHxbI4OGz6lHP6PgZ+yd/pMwisrY6sZbL8CWroxwj0CF23WD1Z839UMVG2lZBjJrDa187LYlccz+xkNsd/wDoVoc9ztv1sdfuMzyLuDooQqmPKH2hVxASrb0RncOHl/bgWpqX8fm625NH9Sw1/rf6HHxGU9xK08IuvQTHsWbRdKo9PIrQmnhoxQ2y5KIT3W3sVcw0R5RbMtfOZ1V26Cfcw+XiN3s2s5fYP+Z7r+o32Qix9wTT+RBvEOEkbBJ4LE1h7XBT56rer4O+Fmy/u/8A4e/lRlaZvj842zDV0D/u9hWyuTgcso/kp9CqwyvcbZofoYpDey7oXT2zmfYWfeC/ofU9cvYKFff0yPVUYCJdaV+jVp/OCnFf9PsLx97rft732LFjYZKrn8oxJFNoM8Dmh2WKL84b+vY9f0M+5W+WqZ9T5/8AjoGmrT4M3nw5epxCW2X6OBZWxesJ9hYVsdkXyKt2w1TPsFliRYDcg+1sorsWw+Y1aTDTRYxjCztYItfNzuMUn9a8nqphi/zsYer8wriz3Kl3RkrQuodxjdhXZtO+emlh6vYr3r0l7hK7Ap+e/wD8zfOeDPlcjemOLBeQslCuOREqooe6ODLAW+WOhqdj32GqQ9nmLo/8/wCAwoM8/wAxhtt7Fimv8fyhB1vkvTv81nFP7N5eiG59v/gbh4P4PA8MaNGaoWj/AMQh4WN9komVjpIdJv8A8U7ln2tkX/obBXE0v/oP3+P77iGxdvB9uTczRefcdVW4rWKwN28C2WjIbLQ3kvAnGcFMvJ5j8CeS2katyrm030+aLaprthaqP4QVJtHYVvKb7lnBg4hHuPuWdosTWK4b8GTQIcjdFfoXkzF46vYbI2/+hmUmTz9lbfTcZnIVofBtdzFbYE1Q2yOnzQuX2L2IaLwLeys0O+8KWBPA93Nt00dx4rD6Ze43x39h/M11j/Pj1BM6XC0/5D25eU33GNu4W8MfcwhTTaFiLzuMQ6rs6E2naPovkXvuj17z/hCzd3/F7CYkvNp/D/56QF3akUr/AGTl7scPQS/uGjBti24d4Yyxp+C09ngTXYTnOTJ6EhUvUbuENFOyy2D0HINeBX4ZnI9nyJprHzHZqTxl+kJ6v2gsfcett23uJw6OZvGw1DE/DHNG8dqhG6KHgqKNtKDjfYvA9yxN+5Q1vOUUvzrKzz2Jv5i+0/gf/wAb7Koh8vuTb7C9p33eoxV0vBn6s8rkZ+RRRU0N8MQ9vuhmeJYlmJsWcnE0mUegt/QQRu71ej4E72ctfjE1nd18w1uRrvPdwhWtvre+8eu6Tb7jcurFsOFmGIZWC32EadjhRRgU6lcfcx/wEJauybJbyPfP9jF9X/2E/I9gWvs3lCz7KX5FBM8IxM2afw72y9z7tKn0vn8A7Nehcx3s4P53wuap8G2tn53HGjkooqbytC3wXRzeqjAkhqtiy3wPDW3b7+qF5T+iTv8Arp/L5i0Pw/LGb4nsB1xkpffYzmFtW2xOD0IsowhYMDoyKkPuJ2KsbP1GYnJDqzM8dDkRivS3Rh+Dyn2YsXi5NsfnmmMlYVJpc++RR4ivKFb192IX/LH/AESLqtffYt78bwZf40IJi/hDRsz2Qv8AxhTOO12Qg1TPYXmR5FVdeWw7gveXdelKOq/agbW5W1sXtvzy2Yt+Bs7nEJxg43hFnBSPSShKhzsUxt7DrZHBctjMiLWgmMCbJHTQuWrg9865a+nIQGnafK+XF6c2vV+hRO/q/MWMDky/Vn/oqzIwoJlnEcmCzkfEPcai0YFEMXneMFmYwxqopGYvycFRzqxFl/zF5hM/o/sbF/Uf8lt3CFtHEcD2LwLfRZfgyY7l+DIhQ6HQkoZwLcVDCc1gpTZyI2RgQ1iFNWIN2siTZX/zHsLF/gP5Qu+rtXquPlosf+zdIbpr4/pDZ/btt6LgbLE3DuW44jkc6F2MHENwmMTawWm4npqxqhblFSZrctl52LU3F40XHMYP7P6N4Rf86Fv7lfg5ODMp4njcwX4MluZUNoeA7YlK9G4uC0QxcYHbMVHA7oYzYQyxUOUg2LE8CsleY32P81o+o6U/8fPyvckJ2RbLx5flKTm/+wO7DbdndycIrYdjUWGYFosxYioe0qFLcW/U3zyKMmBlJ7jZFkI0lUUUVmFM3MyX4L8FOxwLFowe8VieCtXuYKUXFDPeFIKoPJsMNhtcsTPZCTmhiQvI3nBgRyYE8mKipVTyXkqLaQ2U6K7DtCfkrjdM9qBP2e407eD/APMRGBwk+VLaSbbpCVEICSm2O8vTui0OWUIvMG5WKKzHEe4nDOC0ciikK24zL5M7iLxodQrzRZ94WyliCZvoSOSpNxRWYMPMyh3SUikNCkUqEhbFRRQ0K2NYH5GTctwim5EMJHENjgkMJFmLhqLOGUOFtNQzP10UMwZT7i9g3e4kpzvx9Dnfktnf+BfUQ3K0y0/lI3dxaj/d3vyNnR/x63G8xuKG06OTYsxHEO45hCvSRc8SouirGb3ZZkcIW81C0uPqLPphtdzN7li3RYWZtLRQSZLRgwKrLVlmJsbjBYtC2wNI2h7l9x4LPGU/Iu4SDnGg9obijGxC3HKinprMKKO55LE/A7ENicZGUU4xRkbBHbu/O3sWTDHO/wDAptVptp/T5PtpK26QnaWr/FwK/wDVa7DS7N7Ass3Mwyy4PYwLJgThwpyY5jJnBgUMuloSOC4z0WGC8ii2YlqtFCkLdyu4sXEekre1FOx6worBuWu55C6blruX3F9xYXfc8o3tuSSC48J6y3cUSoZkooyVwUw7m0obVHroyc7xzK30rcud4ock2L3EMeJsthOthNN5GioEd1v6jJd43Pf2FTBti014+Te5Rh9IpfXP/bL016H/ACObKU7j3Q9zIhnIhCbMjhStzZwtjJkrQe2mjmOwRxvCLLjiKVS89KioegaFCnYrBTsUKwUKFKKRem8QoTCSRjidjlDeY5zt2Gy2hTzD4OZ405qczybIRshj5hWL7ieBNPj2Gs4ETvbJezM/t7/9CcZYdafyX3PkNpC7xn/Yhve+E3h6IuWIZb1UIZxCEOSE4XEMUbFxzCQxVRbvRwPJzB2aGs01kVoucnmGjGI5OOhZzFi0YmhRiKKK1pyqc86UWBO43RsyO3pU2jyUUZjfQn4iypt2PKGIWw9xlF8GRVi7LfK9ylG1HJ1vlBsrZy3m/UVFesNO0/kojxxtYXR842eki9NTitKYhD0GNjhI4EPQtxeRKHuNFQkYnMWYaGpmDI1TztCZyc6LKuxuiug1c7/AcxWRClFasnJQ1lctQj3jFiFXc5lljHpQlkrRzDMaLQmMsQ7GdjbYSQ7EJ9y9rldv6disPRy8+q7r5JXSlUp/QHSmLbe7ZeDnpPeHK0cF4HUkeo6NxnIt0YRaoxcbDzFGaLnlnAjJubCbDr3CztuXkssWnKLfVfRelaUilpzosruLOC1Zb+R3YkkXwK4ew5qHpcXWhCrTmGpTelQyRSDrgpQ12C2FABbsmYrSK83yQl2Vml7A9YbbWz5bGxNFZGo5+AUsVCQozGJ/As4Gbj0KaOS8GCopp4O5uJk5zGSzjXSGvcvE1jrUZLGZQ7CcWziMQ2Ys5Me5uyeCnyYFGS4ycnJQ3CcMoY9VqcGEWjA5UNmZrInTLtCyN1YhVZYrIuJv2Tu8G2mDv8F8jVv3tikkXfbKMP8ApH2bbbc1oIcl5MzbMxkejKitCHuKMVG53MQ7spsSyYGb8mT2hF6bhpiY0iy3MP0HTY58jTRiGdoehOMCXZFViVwYuLzNxUrZQpWWi0YnMo8GCzwIwUz7CpDbexiNxF3GJcIwK0IyWbw+grKGj2Gh3rY94ao8oJux3uvoVhnBZPfAzcjTWwcPZDh8Fyv/AE/kWoyFtn+yP/Tfl8v6ljbobzC3EJ2GoehTeixDgUs5EWXjRk4ODZQtxxZyYi54FoUWUzIVYuth7xcYFGcHMWJFNTiGOzJbNjaMvmORbSqOYsxGWUjLwUsryO1UJPvCMRjsPR4GI94sVmTEYEhwoUIvENs7DHvKMQxnBxtMwMymlf1MkMMVomePuj1up7B/ImuB6i9kXKvYHh/stDHTStL4BbleZY1mKFNiRe4pXDceJzFOEozNeD2E42eIqm85GX5UMRZiLOT300y9i5sbjMU/tFxkdWXwZONxX2OVspEOzK7mEodMua8ythj0YFG5csdUUOOYUcHBaLhoZfaLcuLHuXDStxMsF5xsNi/kVp7Q73VpcPZZnF96PlPyvkPbc1VHd+yFFJLC/YSyh6GxGx7jFHOlaL04XByUZ08jNzgoY2Oi4wZ0YHo4EUNozRwc7mG5aHV2Z5LH5RVmUNiZbjiFvFuLzCsXJyOp5LRyZjBkKXkSSNtUW2sFQh10EIZQ43MCss9zMOhjnGpXFQx6bh3PBzDVjLZl7Ik3tZXeLjN1d72iVy6Qymn2+Q24sr3vvYt3sbbllDbRtGNZHGbNx9FTRiHuYo4jFaMi0OOJU40ZOTgxocdjByXbwJOTZuNMHrwMKzsKj3KdGexm9jjYz954MiTsp37jXk53MHoL3QmrdQX2FKo2lnQ+RjRgwo4MReJ5m4qFo5M3FDjJUULoOKmxOGM2D4FCjXuGd1WTeDoruXL0Z74r5CrtqYZ9kjPOnO/C4X6CS+HmDh1cZ0bHoejOjAi9WCjGnJTMQmlqI4jiOBzwZM3p5Kn1MGWW7K5Ntl0Gm7G4Vrdm/c3jzFu/BT7lq3NzyeorXJg2F4HFDI3LFPexJqxehS1XM1cWMsscZlHYUYHF50Ys5lRUY08GLhvccGKGbDVZW4nt3EwbSY0M6Ya9XH2jmLTVp/ITZB/vPQ7iW2Xw4HnYbhzzHdiaMaMa+YvM405KncV14juPUos4K01otFRvPMW4wMU97ErGbLJbDath2GTE3YwbFi7FlN3Nm5S7lKxuLGXDKKFLKnmUnRmNyzvFRwWWZMzuPTiLlFlxkaioZeDFGBjQkUzcIpLNmWR7whIqtiexmVX7+37fITC3nY+2iYPxqpke0FsPo1oViqjM4Pc4FtGBQjIjYc2YFCc411DLEOKitNVxGdC3i9Fy9HGn2MiFrU5s5FKouKUvYTxodbD0uzjRe4psfccK4xDHsPk3EPybso3G3dUIN2NorbwaW+75CNVyWvY3G7Gkxab2OkOBnEY6zhqMnIzgyZhRgZnQqFNIrzFllmbjJsWKGimWXNCXNQ0ZMyih8CHUeDeVorTelGDmGZLKyKHuYLLOFooRvCGNjm4c5jYRuPeGtCRRe4wjYXBRSkOqDkVI/rtfINrdNPss3kGfuNmBsDhoTmoMdw9S1qLMFXDNhnvorMdhbDodD20oyIxQ6vaHNlzcYOZRzHBUWYOSpqXHMZ18QjgWxUMW5cN60XFPQpvTeIOeBQpyZm07K1PaVjulovA3COQ+4j9/q/f5BvqRqT0e4+8WxyxO53x5HOerjRi4xQmOEe4rM2caH0DNp9xQxlaa0ZMijJcJ5j3h6cl6eZ4LnJzpS041cixL5hTxDqKmxxkwOKh7aVLHuMJmIwPODYcFi2bkPs95NqIeg/kFwGT87fwPBh6NmJRuNsUEijI+lQoocKtHGhFji9ODGIyKWWIrW4wbCZajk5lQpc6KbRuUcak4rTg4NpoUo4KhGKi0M4lbCGkbRaFGTkcXmO4haHzGBDsscHzJ0dgsBlnAzuN8tlv7PkFlU+jYiDsYyhuHsWFCxXkd6H00ypcvVwJ4RwWUjmFCOR2VKQlotjPJvLO5zHJWjPbRxDmo8aKOB6blnAsFDOT001L8C6CcXmEMZwdxKbQ1NxzDYeHKlya0IxE8DeBiupshIZl7/pfIFTmwPVsc7m22PljbG9WzEb4cj04jGi9FwuMDHQmVKOZsVRRW9jQ5UUclRgcqoeTk4oqpubODLhi2MjhcwzbXkyLXmxRk3jMI99GdShi5EXCLEMQ1VjUpTztFlzbuOR60g2RgWXcO3CXMxjflr238gbEfYxZpDG4d6FDnorlUcjNtS0oU8nEJDo9p2oTZZSGMs5j2MG8K2ZMuaNxxiHHJs44ONPBR7HMXFKXFOOYuVDLmoZejmEbnIhDos4lwpxY45EPcTRxC0WewxLAziKhy1B6DYJUjFDsZyY3cuz8On6OvkDw/Hs7j+BsZcPStxRq7MG6XpzrRgRY2ZOdy2ZNkZGcFwQ2YrcaM6Ki4utfc2o/kejGRRZwcFlzyUZinpRbKxoRWjJeioXUW0bsQ4UpHI7YmhGDiHKjbTsPQgxPAXA1mGKSzKORflfIBv9Mv34Gq5bP1MQw4qLenaO+4x9PacasDu3GYwbRQhKKHPIozUOOwmr2LN9O5mai5ZRnEdocsTLFZShGJpGGMcVmc6rZ20oUswWWKOTnXWBj0Ixk4OYss5M6nvL3KmZMbGCs0NieBwtm2E00n8gDCesG8j6DHdY7DhmeqhFw055KxG5mELYzZZuHFQrs7lI5h76MDhItwovXxPEOaNhN0VjRejgzDQjA4LLFOIxuczUWOio4HHct3KMGZ2Uh0ZHD6CvnStx1Q4vWjMjRuOwjIzVv781n9ft4h/kGdDbz218xv+BmRHuPUtaMVOYzNGBSNzkW7hoehCLOYVdz8RmLLhRQxs3MGYaOehZycTbHcYnmKMd45m9GKh1DOYe5ei4spzepQhjvWqitHBYxKLzqUOF3GzkczxGas/crX5/XzSqr/AF4HfW87y8l7pjqx9Fj0adGAtnD1YMxzqsUUNDzCLEjIjH0hp2bD1XPsbw1kvA99KeJehsyWVONPGrF7DyzgTjiGh9Ch7xcWOypxY9i+mzIoehzmLEpuGMPYYlDlRixhijzCEZXw/sr+P19Z/wDyP3F0YuzedjE99JdjoQ99OJwLWkqjIvTX3EZhjHOIUOODJmciGqejjRgReJwcFuLjeMwivI8G5zGSh9D3MaHDHqY2tC6SHODieJQtL3FVDN7FD0GNcHYcRmLYi3/vb/XyWy2fyP1KdzlHPRRtRiop4l9WyxQrhvyUxls5hMVjZeB1zoI5Fp5ijKeipuHsP1izELfRnRihmDJzFCUWOaM67EblxkajBsowb6LjkaFpQ7qLDH0MiNtDhzcKxBjHMMN6n4snv7a/XvOr7Jod273sfI3TSEPppmHoXTS0UXHMYMFGR8wdjOJRc4LN1FlM3MUcGKMFwyx7QovobGDM4HQo3nYxqZycwh+mmx9JnVk50PfSjk5lFlaGZKxoY4emLuxs6nlZ+uLFE2Unv+vKMeyfoR9ZxB6a03tDh2cmR3HEYjkoRxFYi5W0XCehCE1DGMerE+0ZEKsmBGM6cRiFY0MWjBgyKMHAtjLKEXPJ3wOKqK+svTxCMSttL1ZnJeNhOaHzLlCKlHMZFDi9bcLGnyKM41J+qV+vLbbW8C9xjY9DLMHMWJmxtUP0HZyN9LOrAjM3ChG5Qtxw2jY2FOYUO47mY2KKMxU5njVtNRyW4ycxUUOcTybrWoedDJyMY9PC0cnscQqGMe/RRzK3HrYyjkwWlTX8/rX67bV6j14HHZTby8j2Ghsbh60xBbI7j3KY0bS4vTjQpyLc3UowIuHsNPQjMLMWbllTiLwVDdxfQ5h0JjOIo9taO5iFVS5ZQqhHJSOBimmISqLLHCc2IzpvGh3rehDYrsSGoeljGWKOxRnTXa2T2x+u3b3N3yMx9eNOxA2PQZgxLAzGm5vWtGDcSnO0WN+BjvUoUFPcXRcbChQxvX6FzzGChmzEcji9GIvabWjJWDM4ih6lG5wcRneXY9CipWllMvSsmILhsehRUNv8P/z+u7nafuZY2S+42Z5mtKNgaKKzEGseEx0NdPIznRgoxo2KOR5GNj1JGBJXOI4LORcxiLi32Mw24WjM8CzCMlRRmayPEZZU4MGIRelGSxmZq+BxRWlabUKOBmOrbh6HsKGYF6OZQlztR/11bCn0tDALYXnIbEwPeHuN9DaHDlgY4hrJvpx0N5U2YOdBbQ1ucD8akhFVNMSucUOhIZyclIwcliwWIS0Wjk3inCcZLyWMvpXl67GcHrKMRcuOZT1suWs66EpWl7nIx6N0RRDlb6XrP7dYlB/Qr/XN86qv6zHW5s2L8j0cRRmEOBqae8UUOG5cLRxpzqoQhoe8Nj1XtKKiyxlFFmIqLMzgRhRU2ciZnRiOChbF4ivM7FnBmN5U86E4vAsplQo9itKyO4RsI5EXDOOliL1ooZQt6FKitzdc2n1Yv9cppY33suNxcvU45oGvJsHscONxoqPcs56V5i5yZswVHYRSzmVpRZccj9BxQtL0Ie4pzKe53yPRybRRmEcj0Xo40vBcYLLhXqcMQhuUjmMiQ9xofwTKxDFw2PQmxDixHMj9ief1wxin32Q0W3n3Yxoe2hRtowZGODozC+6bGP4JQrjlw8GdoersWWIUYEXpsW+hw2xCsrQt54E5oqVOBbzgvMZMWXkcLzOalLVgzoalFacKK0PeHo5hShlMdxwMUOCGhFeTcoVDKhDsnFK/XBu2Vf12OykOL0uEWNxvYbHZYyPcwMccFrUuh7iLxKZaMHBcPnorQ9DhFl6GLRwOPQvBWIqForJUcoZUe41DKnic9CsHM8RZZjS4yJwj3hj1XnUuKGcSrAzd6Fi03G+Me5/rgektWL6mMhjHQOXvO9x7DYs5GB3Y95Z13GJxC0ZE3qY9xxWpCFibi4d0VNdxlzgTQ9DOY4M7l4ijKlvQQn3Rg7ljOBFxcVUVPMIyZhekUZips5OC1CqVoc8wtSlDNhsW0MWy/WaEtOIU4dJ6F+t1j+W+w/JVgscbh0XLjBnTiDiiyFw7GfVULRUKFDexatwxmehexwJMvOl0cw5RyMqMwiimZjAhxmp5FU5KFvFQ0VQorVxF6qmyzM3OYW5SoqMjHL6HMIVnMsSxDOUcamdCh7qT2djJrVv6L/W1q7Fp4ZY+Cg9zA+kysoS0FVD2KfYov8HkoyYlsX5HYy+lijM1DOBZHcYMzQoxOcSo5lGKjiEVmLisCG0ZxB7mI3PY4nMcFIxQu5kxospsYy9NC08xmNtXJm+hm5Mop0ULeHpRlW6t9/62Tte4D5PIvMHL08TtjwWOFwV5Gsj0G9N9FQmI3c4Lelw9aL0UbFYjmbnIlDiy9COC1Khji+TBSuEdx2ZihxzocutGYzFyypRg3FFlwisan0Fc4LFljGcjn1FYrOS7GMcYLN2DS8L+tXsUkt+xcvffYRah2MfUTEY8L1gvgeIeq+jcXCmpdYLvgdQ5xrQ7KijBRwYuGcGLGMULcuEZqU0clmNPvGXCHYxzwUyx6+YvSi44hjOYqOJSOZu4xe8Xkeu5QhwzZDZvGWcQpUMZYty3nt/q/wCtbHfxtNgcfOljXcLmxj3LuoTfJVDWRsY9XHToU25pWMerjo7mWWWy5YsYxw9Sm4ooqNyjifQzgsQxo7FmBxyXke2mjBlzmFjTxKhlopiWDgzgs4ljnjoJnEqxO16MCjmXcZEMR4+oK/1qtE1aR4WEYP0m9tXGtvDY7OYLuix9zsPMc6L6WJ3FiHhFy2Pc5hwtNafxFTydhmKHHOtGB7nEYm5yJeYxLOIyMRsVODBlwjgU7OWRll5lxiEcCFWSh1CO8MaM9Zl0oYlDJRQjkxDMjKjLFZr9XX61oCeEe243uZhlj6sbGxCNro42M+Bj6vsYKhSi+0bTeB3D0LUngsW+hIe5eIvBYxiYtKEOL4FGZobM9o3lcDKc4yZG751VDlHoinSKKNsKhDHKRYhISehQ4Y99HJWpQ9zYIY7qEOoqKHDGVClbqT2yKDsp9l/rPFS0+yx92T+7GzKx7RY66LEsmwwOEb2UUUPp8FCjOlCSnMOhsfSoWiqKORxWlFSlN6uCkLReTc4KiyxqKHpU9pyWlOb4Fa7jlqn3ESfhXb8FNXf77iG7voj035R+EQy39Aq/wOKX67LQvyIbLgaKEpqyxRcX2i0PksvUtKuFvO6a+KhaMy9282v1mNr0pI5k43Hr40rZbGNwjeK6KGP4C9FxmbMjG705niVUZEvubMQxa1to4lC2jOq2Z7Q5zouFDoUMaUJmxHf+UMjFvLiX1Fqic5fUxF9L0V5Oy7r+5c+1g/nh4Ev/AGDH2DUY5/3FyY79zSsVJP330jx7/l/waZWhCKRgwby/QZkrSrmtGRaasGC/Eo4MmT2HHIrP/ONn+s/9kWRvsSHcubL0OEzY0OFwbhPEHK6VStFRQ1koTORj3GhdFCFoI3Yo4hQ4zoxHIjjaeRzjRtGzOYe5WIddjJRsxxRUJCo6+79xiBRdrh/ZUN2LJfYq/ZK0zI0tD5bs7wrPMcme4uvxywfsIkp6D+hanV5EFEu6/wDajuFiOJXoJzgRgqOOr7i2ncxrIyj2jmbZa04O6D/r/WTwhA3bszxgWp9h308xzFUW4OEbh9w6OXwqL7HBmHsMt8DMDc24xNsUYGU5aODiPYUrHQV50VUodxSLiho5OcyVz2GUUZG3S3E6rd/m7CmgnGF7serJGO4/k89CvC9EIIvrqdlYqUq3dF+R0VTan7GUyr/AWeF5hKEopMfmBE/ZTK/0qune+RqyOzaiY2ow621/kRSs+Dv5LwNdjYdkKOBGC+xxoxDse+tmdDFtPOMF3FHBjopObtK9v1ksJX2EnmvyNgY30L1XVYM2lzma6xfRTFiVVFFjH0kJ52LZsoxDLZiLHdamXGYaNi2duhcLTgtjKEOVBFbZ3Nx/HkIyI2XLdkHTu/CvI7sooG2pvCF4+I+fbhFXLqXHbDQ5dUg25S/oZxPsGYmLkPsu5R4i8wu4dld6+wIXa1VsDYdZ0N63TfJTWpxacJdwRuut7159DInk7Jc7g31qXx5Xkc/pvT+xpCl2YLnuMZiMRWt6EFGIse82LXW+PrSv+P1k5dvJ+mEOON6HPOtbWGMbEI3DMfIxy+i+i5w44MWO4Y4UqK0IR504Ho5hRixziFDKiijtoRTFUZO8ZHgrEL1Ehw5vYVYN5f8AkZgO30EhsP7T2RdjQ6eC17cqPCpWY1bR4meEdTfmMcxPSm0eAbly3XkRK3Fdm6FhyWZK00xzZltFC05u74G0mm1NN++UbTrfZzTE7rfUqz2TEM7Nlt2I6j+2t7vyji9H3DZwpPb3q+wxWKHD7CmA3fuu4kKqnlnA9DHquOIoe4oZtFjFoUIyU7hx3Ozd73dfrJ3J27+b9y97iGRyhzQtDFyN4MrHCEPiWH0HOldIhDdw4pw61qVuIUKMyhQh6qhFG0ZhD5FN1KFFsSFRRyi6uPYvyJOjnPJsiuv+xIfG9m/BcGAyuTCXuM8oSrNcNPwPKXd92XZnLSey7QlMZZe/whrF8v8AC0XFnuJqDTcNCPGdMZu6MW6ymTNpCbZMxOU3i0dzFf0vcbq7l+/kP+u0090zFHEo7S15Ma8TzozIxlmRLU705sqxfoIZZM33tfrB81fQA/cDm93Y2sjY0MwPXjRmGC0Li1B8j/AL0qFx2Gy4vyMqcDm+hkpwwhuOBiKHOJWiizg5hlR5EkcQvBdjcOGZuDKJHdcD+ozbiz+UvLLVGq3KXcR5guUb+TZzcxUr+WKZNmcs13RZ0+Qq1e0ViLLYwcaqz1Q22zH+8lj28iMtpbNez8iw09mcJxL7YbG9JIu/ASfc5jNlnEtaGtanItD6F61c57j+sB6X/RsYZ2Y9AitWGIxoxKZYtnpD6VjqF6CKMUNGYY9Fl6eYsZWr20k8nvqR7CEWXuVF5EyiiihWZMZMVoqxnIxCkXL/AOjHsr7VunLGM2+RElsSS9RqSbtX7WWe9mrXqXguIJd/cP4H6nzHu24stRscjZQ6yOaGRqNRhv3UOw7DxK/89zHKxZs8034GNxeXrO6H9iwruDd273Vuiio4jY5iulejYHo4LMjlD21Weypf6wEXVpe55Y4YyHpYxClwtoPCGwObEbnB9RC1UIqFUPaOFdsw30eJWrGxzHvKmtV40PczCKFDEY2LhNxwIxKUKFtrT3NhtHu5ZfWv7Pu4ouni9Deb+jR6PC9R2/qu29/0ZLOBRiUMdWclmTBfY3Z2/psa+eyFzFNtzwhu03/QLynP6tuI4xenNTXRYnCgbY4UUUZ0XmHozDj6T+r2yA5vYexb+puBbhWq9DlLO2GNywm8Xvq4niVozpUE8nIxselmK1oRcVSjNlYliHqowd5RUIwczYmclRWC6LKPYY94yyismbj/AKkMYqb32Izcl7vqp4tNeT08SE9hVbMdhp4op5KZToqEVgbHFuaFuhvSpTDDbyH9FbLqpce43lUZIUZ2leNyKX0jv6xFGDiOYfoMvquDc4frC3lmTHQRdTpK+jN+f1fWzr3viMIbx8jM6qnEMTI5j21ESFvQdjMC0W+rWhiG4ejjSpxFHp9x6EXo4MjrsYKwLR3EnN0zdH9G4h2Zcs2UuxT38q9jUo98XphRijiUGHN+9tgyv3BfYzDzziLn6exgEElppuVdmSjnXsg19iFYn/hveykO3ysHejkZvUDqay/9Y7KinUPc5HcPeC1uUbw9jvCqUOYxDi5TKGmt1lC6P+kz+rthff8ACjMX2EqG9HOq5TOTmx8ldkHHBWjkfSQ4UvRHI45G420XFxiW7MaXuMerOpiqEcbjEULAjg5h4UcGRjWnNEL7lf8AeNscH0U3Kr6Tp9ZCuTd9H7oXL2XcUXd2XpgzGD9y49Rm4WPh+41sXbuxj1MooaKK3KY06GihJ9k/1Mb5Su2ohmVjjm5y+ooSmxWc6HsMenEqHHEVRY6uEcGNNFFLRxF6v7M3X5/Vzqu0b6Si24xx79ZKRFGOLHQzJDCD3m9F6K6Shwe43oZjStSLEMzmKLoeTL1XL0pyosQouaZRUcmJwWeWkQhJt9ORkS/5Y8xQoTYmV7dPrNbIQ8W/re7KwbuK1fZdxJ9Jy+e4GumhL5dFrA+UlrlOtw9Y9BH9Fup4Nynykv8AB9hg/wC5ete8X7F2mJruX8zab2+WMPlazJlvjymMYf1jH701J6o3L/Rw7GV/R7RY44K0V1NsbnBRkzFTcKHzFli7cecX+rUWNP3RhFobPJbA9D3HD6DU3KWOhjeYcbcXPHR501qUUKhnMbaX0Fcbs5O4lGbLHGyMaM61oyKypXPcZii8m3JQ94cUhjk3P5x5fH8D1H+eE1bUq3tsSgtrzqfcUpWzON1vx2HIUsfq2RYqaZ+XGBt39cQd1CLPGVX6iFg7M7soW+wotJKkvUt2X9j/AFIR0bt2VD2rhTqh5GFkv6eTYBEymh7sN5b7iGP8p9QJUL/yY5PU8nAzMPoveWJYSULW4RQ5umntnH9W03l7Uand7lB5G6i9S1JYeXB3cveNzY4zjW9GekhOEqZVFXD7jnE3rQmoqVxnUtNxyIQhIzCMxyKOSvYpFnYY34LUWPTbr+0s/wDNgt704EAEtmtj7EPV2RcrzyhCTKUR4Qlb2/pgj/ae55LH9MjYPP1h2YfD/OYWexv1PfcSyVf8xI7dOfRGYWd1avoMl3zdn2G520PHtFwh/wDvUF4O779HGwnGYdjHLLzoY955RmShRWZoxDcPQ1jKX3WKFt9DX+rMzHuzdjn4DI6qGcaHrTDGtx8D3hj0A9xv4VaWZfPVQj3RlxQ4d9ui4rQi8ilKbFqwUblGwlkR2Jn0Y1uPyIqFVw+8coYlCXJ/Y0Nwz6mG34RyM3p4KNxjjvvRR/qq1R5OT/QdBb10rz0Rcu7h/hMwX1lDtnAsZrdlmvqIS9SDaPcQ31bFrK8/sPcQlF5HzG+jk50veVtRsZQloqMzUbQ5SHOnl7e6v1Xvnp9lj27bfdjL2GzvDLOdDsWvCB5Y4Y94WlGHpfWUWIxDKReDneGPTtKlWKjIpyPbceGMXE5jGq5RjRYoYnCGxHJ7mDEcHImNTOzEKeZ9hJFJfczo4KEjebKXUn3ozN0wG7YnkVtEVzu/WxWbs+uFlizar89i7err91HgN1eTjPBvvFrErZwhBRau7M14sX3Wfs+GvJvFA9tCo7DyH+nwMe4o43llO1oehjhiZsbGhQixmNSL1EO3t+ni/wBVozaqMhjZG8DGx7y4qMxehElLDGoY4V00szWnmc63vBVFS43H0FWhC0cjNxwxnEXocbyozT8GSlWIczToSwPcds4KLGoY1ksYW7lW4o64Y91iMlTeb/68JCcVFAwZFtPU8MD7HOhf2isMN1svVWPpPcvbIzBmGTOarwz3nqSXoPfdV9dx77CMYVhGRx2nwEuU3/Y5hF50bJ5MQtDlMMYzGh6nLHOR2dV/tcfqvu5vsEYoyKHEH02xLUrAxlQxm0cj5uc6a6S0qzgqHQzmH0b0LcUcnJSKPVy3kuUXpowJmBdjNSgxGSjZWM4Lh7jLYxza7sr8TKTX4iKkhXZ3IYfQNq22oWDT6PKEMfWue3YfPmf4C+00zy5TvFP6sqUVJEvobWePubCnb/WHQv8A5OKj1b/BGJPhFU2LUK8t+hCexmkao5hb27aGXWlE/RiG1W79g/a/zIuGcQ9GZ9teKDipwVmawKy6Hq5EMNa9amseSmlV4X+qsk49mSjmPvBsc0Y7dFd/aFosY4W0NxuxoWJqOOrcGmM3RzHMb6LmhaUI5KRjGIbVlnI1FnE3HeEYvQipRiOd5vRzrTuz9subxlffgWtTcn7C0LWbt1aeS7wq5ThjnA9hmaDZTFp8o9ojCiKbd9osQ5Zuhr2Gl2k/flC89u2jdv6Lv57wFfdisYrix9Rj3Edbs8sdNX2cRm1YHYY3uf1wOkvweYW/eE39MarG29wlsU1TR/XEqHtp+ryOhHOh1LvoMcUYGIxqejY9jiLlDFvJZeN/1SY7TD7LHgbz7rFWNyNoeh6UZ0ZDF5HnQYy5/CMQ7HoU3o41JQ1oe5vNZOR7j6qow5EMsXI1oZRjUzGpStGKimYi9zMIQ6N2UPZPKdloLPlAXiMXyhEEuSrVJLTcu+7Gfb7FqvflMZ0TZprzDilFmR7ltLd+6/oTEDw/uRRW2SXdj76WKz67GgXzbe7bh+Zi7+0oafEa/IVBerHWOyH1YY+w7a7tvRvlqPdnAr6SHeGHosGZ4MmKhqO5mKHoe8ZIMwMSMziPYuLi4c8yxrzV99fqntoD3j1aLwQ4lxmLhLSlIWUNDKLHvGFhhj+CWhRgRxDGh671IUvYZnvF4LenkTUMe+tOFOIo94wIYhl+NFF5O7feiZzr/Y3Rn0x6XZV29/Pwg+3+edr1jytIRNt6DkcKWFFl7tRT5VuZobDkQoo6ae4tdR+5HkSFBHs1kfFjuykZM1d96uEWPM2SV2MoSmptOzT334GbdO/0wyH3FKjge8caWK5cbY0IYuTIihXF7aO81GBxY4P8CeRztq+g8/qhG34nsltZmeBtDH0DEcyxZaEqReBryWHGEM2xjPwnAhHA2LHvLY+itKYjNGbKoZdQ4emoej3EKWLicaMmR4KHVFYOTjRkq4Ls9Cou0rsLuh2WV+N8hEqdasq15EBwtbsm4iZB2Kvj6IuEtxTv6FHB2msChI5jJbRVkfZqF6S3s1xjLW1/NlwobbZe1ocrBbpiNs3f6/4HaF/yjJyYwU4bZQtaMw9VenfRma0UUYh63fxL+p3r16ZJYxS3Gt/Rew4yZdxoMorQ9NzYoxvYdjOBsQzbXTrTWi2XmUZGzMQ8Sx9XcIW0e46MtVQqhmJs5EZMxYj0MFmZZg+0WXiOChzyK3zpP7QRfsv6Qy9YTIbiwFPP1CJoPd5lKz1SvocrXCNn4fnSnqcy9izUoXZlrHQwW1fIjYtEWP8AhwYF2kXg2D7t8Nzehr0Qall79uJcaXpxpcMTD1uFK2MzY5sU0uvf+O/1PTVUj03Cr9Cm4mXkbUW0YizeHFaWIsx7DG8NwycmxehejnpcaOdfEbMFDhwx6KK6KFsXge3rGYoaKHpWvAi4YrHFWzvg4P6FsMuWbJxceYyMTwKTz+/zsJdwBXD/ACi1TVC+KBjizg1jF+za2fk2ta+ysc967jt7Kjd59aLI9uhyNMszAbLv+gpKTu26eP6EBp53K0+Rag+9wEtmGMCb+yhewz6XYcKFuWpcNanLGW4xUciqzAlc3FjhJqFouLp9J8fqfZR8DYUJ0PYRGQ5i+khY/QVVDSlwG8DutHPwHEqFMeYqXqx0i2Lh1pcOexyNzeriDFoVFjjOxyPcrIypyZMDKlwmintULsP+mP8AIS+PAV+QwRCZbPW/yUqln+4JRTa6eHVpepyYhXDnAkG5lhrwJZLmtymcBUsP7VfsklsURrzmv9ka78P8ePYTUumy2lM58+z+kV4JesPhDDLduUWi0KMD0Nil7GRwy1OIRtCGcar3jEUU9Tb6eXlrFEePoK/1LsV27Z/oKKXQk4DLyN+RuKLLL0uUoUyMtm8XGwMMznVerHQW5gQhlO4oPcwOXF68QhixdihuORjZxpQ/Tod48Cng8RW4ih2YOdLhHJQhtO1s4TsxUbmqfu/ZjS93r38vAxdQ8KvfDayXR3p21fcv28qey7DKBQdPwN6dKnVLybDorH1WYKln1Qn95Aou5AqwDDtqfa2W+qr3thUChep4L0dzcNcMqHIzs0VXkJk13FaaafYrY8ptjn4zGD4zwoUeZFv7tj/WY0nfQRsPeKMllHGpw5VU7lLoWZLiKNofGi9LQLX7pX6lzXWK/LwvuO3fUfyWWsbxsOqLLllaXKWULCjLIy0KDGbI/TTv4NCwVFZh33HsPWtPEciQmOytkbHtHOhwlFGDGlQsQosSs4MaHuUjbVxHEKPwkt7Mw5G4/wDCFKXI/wA8jxxZTQxCQqkm3TO1lDps7Vf8FifO/g2+xKTdfoFjGWztjFJUmkrRcjAjfIHDsviW/sMiNm8VWN5LwrJEurVWhvJkS8e+2QvoI9XzZt0Xi59i44hSkYHsYsscVDHJwt5PtCOTOnMJzdirRYtoQxj/AMZf6lvxPNXupVtwRiHqHNstG41WlwtqLbY5HVDFsN52hmZbg+lWjjRxCcIWxdUzLh7Q3POm8acxSMRMSEPcpwzJyMcrTnR7Tc2JjRRXkfoUWNw7srRTm5YeG0g2VYUuf/BTzjg+0xWfJez6oekNNboW44uOxGqhmfm3MpiWb1xTt+wSox/wr2Q6l0q7n5lP4snex5aEwX1N2VzLGirL4vwsCJLb8Xuy+Mk9AWF7W0/+BvTzKO44zDfRLCy1oufsWXrUZqOJY3h+pWsNbG+2X8RqHHdj3gzkY6H4E4511ujYNMe5wMNobLh8lqN+lReOmhqhcQzGq5ovRsWIUbxw5ZfXRUKbRTODEu6K2GoblUuHFjKNjZS8P7TENV8jHtFQf+wcj3/HXka213UWXEZEhMLbIUl6KwgTfKX9CL1K98fYJisbJQXvzwwvVm1fJhIXqQhxkprMWXpvW2jGu0wFXRa9yqZUDAZoyZLzsXCyy8FxRmMGSKSv1L8/qWhTVzv9LKq07IueH5MPUbA24ssyIpbxVqHprLwVkSNxxjjcPdD6D1rpOJOGYjn4BwPY3ZyOOBxgQ947xehCehG5QrM2IZaMo2Q9j2HzPJizkRU7Sr3FHLZMplWpebBVE73i+5ibf9FGbd7uSy9k/sPYUBWrzPCGlv8Az+BvRNbPN/cxV/ekHLDr/wCMqv3f/CMSn+hQ230qk6HPBm9D0rTsXiOBIyULc9i4qWIoaFBfuWsSdmZVCck/oO1tfaP1Ikz56NH5AnIiHJxD30s3FlWbaMdxQwpCbY9pXCGPWpfGhSozpe8UbeTcfjo30ShFDq4ajYsqFvPMXpWYQuTktGYVGBvJcZjFacXOdGTEKE3oNWudq1FfsdlhdbfvbsLJf1I+P6odw5+tC62vAG9s/MxsN2umhQmMrVgoehdzYPyM9xAynUY9BY9i1bT2i1ULHWkzEl98jvf+pOMx9bdj3llrK7HBfcX5MtmOXHMOp3C14BotDzDGyvcpd5TCFGX0t+orKFsY+DQiq5KwZEnDRzoRUY6HIixpxFmYVDl6HGSrKhddi0NN9FSmZhoepy46Q4UcnJyUO0ZhlDTtC0j1GUZEq7DaLY9BasRSYu7y1/T+o72wv7G8J6bYyhoejiZ6M3HN0OaSKFPJZLEIULsbhsaM9BafaK0byxuHDHo5i55mpoQxD9YQ/gUMS8loQ9xLR6YMqLKFuOaHqvVUIvTiHuZ186zo9jketjGbMpHByZhGcY0O5uKFGS8mBq2VWwkLDeKPv/UbJP8AV/UZtyooYxxUNYTSWhxUbTujjJRrm5CoYfXxoUoRTEn3Fv6mTaa0caai4qFCyN2jge+nELovfaOYZQopHgsUJxbqovvHAy4cPRcXooxUe2isdVQxaHtp4hjGbA7sqLEOiou4ycjEVDlOGpUCH7pfhH6jbUe08G8C2DGT0PeKhmjiaEs0LSEVDfG9KZtlbm4b+GULyI7wxqXejiM68COCoxRihvJcUPSxzej3OBQqj2EhqKMFYjBmhpx3i1N66E5xDuLjLHL0Y1OIQtD3jmGsDHKKCeeYtdzFzubFaNysnAhiHcJGdFm3N/vBvuPr6/USF6TTFaafcZ8P/wD9Y3GhuaK0WKuZaOYuOZWNbHF6MkUH0e8vpLQSEXuOxlabhPoIUXkopmCijA4RzFaaEOU86ryMrAymZPcdDeRrE8D6inEKjnbRz0c6StvRicCGHByhRTMmRPuL8l9xffMeI8UaCDyQ38jLGSxmIqKP85W/UnMRNr+kMezS9NTRUVoVvUqaHeYth8jWNZLOJGUYwYm9L6bhBF1FlCuRtHHTQjIjk3Y1D6OdaUIwzNlC4vxF0y7PYZSHpYhsblRiFBKK8COYxpalrpEzmKjc4hbjhw4WxRUKlYb7oLCYTTMoNIM0Uy3eF8hU3EOa9572f6lxZ7/OyjJWP9ffxocVFFCpucQlJMVsUSGm3B76aEdP8ASvMDwXps41V0UJvHk94xY111witij2KcWy8xyIUOb1o5jmMlMRihjGBGW49zg30WcdJVZYm4suLM5HosvOtHOl4j30GUPY4GLkUqaGhoo0+aO0LaYg0oI8kKj1u/p/UypUUnaF9bZ4/wDlFdxzRUUUZWxRoLhSLEHwWNwtoelOd/ZLLKdmZJe6weY9zgY3qrVyY1cC3jwcGBnNDLD31rUhQUXKONFQ9VxioUKLNj0E8RSEvJkSMDOC4oa1clzc+4pRzGKLi+gpWhQ5cItA4SFZKoQaFFYhBropHMqnEsaOZDk6ZmfY/s/VFLnztPMERNhpHhpjnBRwOmZEq49qKaZbF1alWi41UyUl4Jb/AFENI2vqVclqGlccsz8IjYZZah2Yhj0vptxipKHPOlxx0FCOBeg4QqSGbcV40NnfBZ3HVFw9+tyKWYONF6MSnFFdBLEmOdlfkoryd4TxLhoa6vfMULaOynfqlEYK2l93z5KUIGpsuHpaLLCMAhnlcjq3G6OYraVdoQh2rp2CQzVv7FaLfCd+KHvcE05moWlaKlIXS7GMcIcqM6kIU3jVaENVpPSkYhLBiPQRXkShfae5ZzGSh5KjnobH5StHtDmzJY3medCnmNhy4Q4e0IYBC0LhmBwyuq9CporLl/Vv1UiX7Gq4YyMpFTTXDmoaye3Dd4L+oVCQis7jdrQlo7swT2/sFDuAk/YtHMoem4rqXC2EsQ6rQ4zFdHIpWWL1h8HE0KGNllzcYLijEdoueDF7RZk9BmKGy3DhvPVU0cDH1VpZwUUNiQ5YxIWhINll6HLRUUPpIdoXxHe9Sx+q1b/QGg/2+TFTTXD01JjcbS9SmUBg8D3nBw6SfH/CESJJUlCZ/wDNyMaQypxN9VG3Ux6mVpehC9DMZeuh9axPgSmnpWpgaqedalI4iofocDHcPpIQ9TeYQaXC4KKRsKKKFv0KK6vMy2+rx9v1YryvAv8As5pCmTHmcdiiV4HNhu4qK5bNRz4+ouahS4SlilXv+hg2Kxw9WIuHiH0FDNmSlFjM9DMY1VLMzmGVHMMc41qeTAhUdxT4FV6LFPBzoro40dyx6mVr4MyzW0MqNkOZLc2JCMaWNGR6ahorpbl3ojuFK0nfCUv1a4Ur7X0FtZKafPleBjMVw4YsvBdju5a6Ro/l+EUovgd/d6GdqH2MCbNjeIvHSz1EsCHsMtQzPT41LYQ2ZhlHcQkWNlQ+heNihcGbKFwKijcTOB7CU3GTkcNdTg4LtjRmhljnGtGBiFo41PSIRuY7FQqlnBuVooew+i311L22PVeUrZP1fNWN8r8GeP8AYPnzP0ga7jGWYHkGzpJctlWn37/l6UWb/aH3O43m4cEZ+DLYVFO5oQfSWpZEsznaWVjQx9RPvGxRsyzMtmIzFGOtRzoccDh9RbxicUVHEcFQ4LkWBWWzJYbizaKjjQ32oSNnQQcJt/8A0Zl/RX+vX6xQoikrOd4vi/yoFrHcad5G9D37sX3auQdX7Fnkubih6MxT65bCzDQ9jOB+o+pmVvBFHaKPUcJZhw70c67liYlb3LxDTvQslHIQxmTI+ooWh3F666d5hiHtGY2DIoFnJcOhHJRQ4b10PLoele4SSts+Ekd52Yy9XHoIudS1JL9aUqczt/0saAnJYC8oY3G3LG3fwVjkEklsktSjsWz7FpwOGX1MxjRgQttiuYZcMfSrTU1GIoZQjiX0KlTZcehehmaOdDuOBm2jma0IWi1YzjqcwtoUew6LxC3h2WxmzRbFNmokZmGioyylHBkUFQ0j9rT6IQ0/d/8ARgW68k/r2/W+Oh2cekxv7jXh8TvJ1/WiGr8//wCOirt+H7Uv45Sebwtbt1OhJmllbjsY+j7GDPSXkwXZgaGP4BHAtGOxmxwhj6N6VtGCiyqUYpDo4OGZEPJQyj31YhJtmdC1P4RQ4Wkx76rcMKT3c0NPdQfkZes2+lC2GtxhJqQtszHyvlevYWKEs1t/X9dGk1TWOms5M/xnoSZkr4PeJHJcXTOSxj66YowWKehDrEPRjQ9KngUXgYytHI5wYz1EZmjEvT3OYxrbaeYUHo3a10Dn0v8AImoLZJQ2p+Cn3LrTwf8AmVTf+AdxoYRhp4a1rZnCKs+78DiVy5bu3yHJNb/wiUwjlWNOdNa8TdGRDh7mDDGX8ARyNqhuHY1kccFzz0MihI4KMiRgyIUtliOTNnM2PRnSovS9jI9zOpDhaNg3KahxyHLjdrSj/wAVWlEvGwo9xWvaGGJaOayQGxKS26uXwfZfIhDt2/hKLnoh689C55niHc4ob+BUOeIaMFTz0Vr5hitlmDIkOXpoc3O0Xo8nMXqZXVe5UZwOxLyPqCnPNfRlqaTTTVpi+rnaK38YaO+8G303Gp1e6Ka+sN5Na7c+X4R2ciqfgu3yJNTckw8x0Ixnp8DzDlZZQx7KXNdRFMcS6yLcu6KLpQxxxOdaEZ7lsVmYx2jGhKODjRQ5vTwcHtKnvGOjmMSq0W9CHvD6Q3oz/jQ6b+o3x/vt7OWPOt27ty/kVYjuZEn4QTBQWjgUXpzF6FoYOK6dQtOwhG6M0WUVHMrQ+nThRgcNysTU1mGUYhw9bjIoXReu4qVHGhy9bnRuL/SfkrSjSrKxvrcTpmeraUUN7jNh10a03pcjHdnMcj0uZvXzG8MRbuz3hPA4dlZLM0ZvQ300Vgs9IVjso40vRjUo76bHoosepuFkUtq7XtfJVyJXX4jc2jgg9HHV4hS7i7VlRZxqxOIvRUl6RzoWh9RRxNblYYjNy1htjdsxPsbXqUNa0xI5EMdDl6dh61CFFzTtqe41pOvR/wDA/wACgiklSXyVam38ow4GxmoYHpvrn6laHorqXodxqHvLh0cj1baUKHG6M1GRDoRg4hw2oqcaqlQo5KH8AjIoxFYKY4yOXuNadaF3t2fr8lqcPmGKxMQ4eu+gqlBbFZngY6z8AocnJYx5imPebL8dGtFF7FmCxo4LFubBDWZ4FLHshjLMRZZZRyI4LWhaHOeijiPaO+h6WXoNfPE/LFhEulwkr5LKeCyuKyqbQtPHV5oRwODHporpVDYpGBplHO85+BUULkeIVCDy4bK8GIvQ0O5xClXpWw6Lhmeuro4hFnI8JQypxD0GbPb5LlCrJs2btFmeoi9V4EUrlrEqm+hemhUPYeFDSi861akYlCUI5HCoQt55EV5MFGF1OIVxw4qMj6dlmBCE5sW6Lhj6O5lSP4/2+S63qv8AqGfJRRQx/BKOJY06GPHTrWVCT7mBsozYzFj6VdFChRxGdFM51V01sIbLEe2nGtnJUXCjiLjNjHL0VS2R7eQv6kkl2S+S9i7r+obBxtF7jGn0EVKepbwUXFjq9Z6s6EhIWxeYUU53DoccDH0qzPEs1B7iqo34MF4hOGxxND6Kl1UcdNS5ufeMHJmX0G3nJ/nJ/Jj/ADjgu1ZkjfJj0t6qjOijYclmYvEN1L0IRsneGJ7yxaqi9KhHihCuhiQxbGC3NOKRQ4ubL6CFxo4hb689BFaF1FsVT73yYWbvh9IvhxzZQ+R6nOIWpQrE4oY5fWoQRkxHA5c8nHVUcFv3GLYZgejBgsZY9GNKhFwtxiHDU3pRjVyIctaGPQyx7C9W+4JiJqQkl4XyYpfulWViTM0McPopRWhby5MDTsY9NsUc9BaDjka3HkJWHu8FQ9L3Euks6OB8GyHGIoahjRUcRjpcHecj3+ATccac6b0P/wBfy+TPLwPooUMpKtRT6C0rcW5wiixmB7F6OZxpvTUEOFXMOOYcP4C8ChFMWxZmLUvY20Ob0Xo3ExzXSrQy/EJli0vCGPVkAbdJeolSvrjL+TLu2zr7D5MryMF0XgoUrSt5J+DI7GMxoz1bNwty8DGoMss56iMakythFOC2LLvkvJwK7GVjeLHF6eNK0JoqcdRyoUci30PShQ90J7GZ7t/VfJnmHH9m8jyEbDgZDcV0kWXpMCuWdTkz0qNxC3EqPBtFwqNixm8Iro1oWY5GoXA1R7mTNFDOesrZ7xVD00OcdNaGTJZwcnOprI2c2vkyWBvx7iMS2YQ1hiIfOvOlaHIvSW8FjY/gtwqaGNZFZZaiyzjRfQelaGULZFzx6zkowNCOYcZlQhaMjjMcj6bMihCGN3HPQyPXbz9cY+TCmnwrLsqoWvI1awcRUYrLuax9HmONKn3MDqhjHPPwRrIjAqcasdS86chDhFHPeMGKhuGxy+gpcZiy10XqaFGC4fQRbb2/2V8mGWUtjxWRG3T32LMcIVWPaHQxxUOFoxq5jYZqXuO7HsP4LgITxCqxluGPcY99L6aU8l4hUNx2NxyWXDdj3jEV0FtHse0PU+jkqELXmHpoR47e+/kw1oWT3G2WLBmyG+mtSgliXJcPU5sXRJC9R1sIaWPCh9a5buGKNoqmxc4nA98DHo5HpUKzPuOH8At43i7FZbHL1Lv3Xsr5MLhunvex2DK7x3Y2h2NRgvq3COo25HUMY9aL08aEbpYmMwOOIfSeqjiaORtzwKzMMj3ORxmH0kuaGb6bF0mxwjYYnI9x9Cms0z9A9o+6+S+x9+EYuuS1GJvjgYtLHqehbmyODdQzcofWpTSy7lM5isj6j0oU+kZo7Gw5OCtjEbiWBsejPWrQ61ZO8rUmYioyIe0OOI4PBDTEJeR9V8l0xVrIvYe6lMfZkbZu3MnHjTei9Lnk3zix6Xocvp60EzHTrStFTzFoe8+TBwV0LiursUOL6Fak8C3nbS4ZRxGwVJHb8b5L2Psz7Fzaat/3grQ7mzHQRycw53G4Q6UMY+hwLaH1RYPWWXK1LoIUqKyco5jJdaEeia0O+gmNw1DKK0LpIUP1KHoZxpVUspj2/i+S+Fht0i+N1tO1uOE7F8dPGq5I/sZwM9hjm9OejiHJxCL7FDQxj6yFo4EOopFm46GVo40vWjee8vXfTIuGo3hj1PZiVWTL7PkvuMJi+gqpbzb9xMDsQ2PQ+gtKNwpOGOcdfmVjcWe53+ETyYlssbeFtoyUVoqVrRzPAkPo30VocQpep7HkL8fyX8kK+w99un9zdBVB68lGZRzoUEMd0WOXFfAcI7RkSwMdjWBroUc61pU7mbQ+g9+lUkrjFQ/gkITalxVlaK0JyClX0x8l8Gst8BT9RuEjaPRiL03pYjYJYjvDKlmIpasaVvo2WWx5hlDofUx0N4YzBmJ5N2OaGPoqUZ0OHo402b6kLQ1pepf/AIz+S/LNUr9UPQm5DyOxsaJjHrQtKo2DcPaHuMY+ooWjYUMsbxL2Ht8IjBgsQt4z2nA9orp1NFRycQ5YtF6WtKnMUUMr5PvOYXH4RvF2f5MmGxXUGPRfSuEKKwXPucDhxx1lBD3KRRsMuH1s6LcuFwM40YHpfRRY9oUvoUY6DEIWhjhj1ObXbfWn8l3r/Vgq792xhm5tGMvQh9JTabRZh6Xo4Knib08yRgssvMvVXSUpFGRxyjnYqMGyOJ5M6Kh6Fo79O9Fzalz2EYOem7lnS+S5iYfK7nIsQ9xj14jnobQ6zoe0IfRRWtFw4XJsOHWh9KpWjJiVFWLVxGNGNVHcs51Lq3KFpcPXR3P5q+S/lr8AlX4GHI5cOONFakyIY5Y5eqoXQQtlL30Nbj6F9LAqqU9OYWihzxpc3GbislYh7D0Z1roIUX0yPUrfJcppf+UbNd2O72GWodj6ilwghryPOg+hiMy9SFVGZqHLjnQ30eJuXWk8i0KzjqqOBmJYy4Wrscla1qXD1Ip+S6l17G+8byxbj2GOc9J6KHkWOHkc10q1lHOhoZfTwcTU0OeTI44R2Kiovq2cnOl9PM8ayo4HF6clCKf23yYeyo3sYj1aH1bEeR7DVyzA+lmFC0opRdFRhrU4ccaMaqjMJaWbIw0e+rjQhi02OGPpVkzo40LUQxj30o3xv+r8lyWv/VGauzZYY2RocPW9CjOi6KHQx7w+hfT2ReljL6qlTyOLHK7ZU5ueSocPRelaGOLEXCix9JCjnoZ0PMpJP4fJd6Th4YxyHubhjm+uMbZuNS99W+halo2HBuN6GoxFfCcxejtwe2jcx1UKXPPwKEW2ZLMFlyo5hDNVb/x/kui2rD9cCsmyCHretTybGBm5kcNjh/CORoSi8aeOpU2baew2bjuIsxZYzOpmehnQxvS38AWm9aEJrf8A4/kvYv8AhkHIQW4x6VRnRnWmCtxwzIx6a11O0XKFmxeBlzdXhZHfb4HjQyxxaMUYhNDh0OHoqcaE6LPcuHLUXpzCm9TNHMUzgrWjL/FgLZfJZ6a7sfIZvOYfSzGTMIW5glFw2Pr5naVBcZKKl2WbsbyPViuii+gptnEZhw4WnMqcSy9F6qxqcVKyyzIy9Lix6b/igtl8lq53/GzJFuNjHF6GLRgWhMo4KuW5O+nXSJDEMTjI7QzHwK2nibFuPcUbRmGYl6XKLqdnGz4DGlRQxxQ9Liub/S/Jem3hrfsh5DwivRvRxq2hCHGNeRy+hyciFFNbUMbGy4yMddTkeqpY1ClxgzDhxXTovMWN9S+ghQyvMcTnQhiHf8P5LoXrS8NF7zouanBcrVsFS9zdDU7S4zp4laEJOKlDLH1kVCFHOnks7FeS8DcMaxD6yuMPhVK+hiLFf6SvyXf2/wDCbhHYnSelap+hdj2GMvHUyVrsT3Li4rRnq8i0YjOjI4wcllnI2xuOekixxQx/AvQtxCK1OXGaKvN7Pku74S/7Cy4ZGdT6m8ycFYFuMvA9NQ4qKhTehCl1gbORHA93LLl9OjkuMxehIcsbplmRrEcRmMw9PBkddauimLYrpYGp3b8D5L8Jle/oNjOB7ijjprfR3QjFHJaH8ItxbxwOU4ehzfSoUPeM6LFpwNMsfS5FvGZfTrqsncctnW4Wz/D+TEy0ryfbg9D0VC6ZmHgvfUYupULcRWBWMoaEkWPborWpxUWclnEqH1s2PTdw+s9Dh6Ch4PY4lj0VLv8Ah/JdMnunbA7zExw9L0KbxCMCnPIx1Z3LYxxfTWvkR6G2w4ZnTQ4oox0noeZcbBRgZ2i+rWwhbFjh9TgRtPBxHOgyjkqXOT/B7Pku1Dv/AHK0hw5rReiy4U3ZkeRmB6l0c9I2jeFHOnEcQoUqKMzcVoqHMv1MTtrWuobdD1uVoz0ENgWmoehNfaf5/kvZffh4FRmcUqjgqMzXR2DEOx2UOtGZ46yLNy8MoQ+BDocMfTXUzDaWLGmtGdNnBUt4K6nvpvShbCc4GIcWWWI1NrvZfJdZHZh+xWmerQYh9HgzKLUjFncwN5HzPOjiMG3QWhFJMwMrzCN5ejPwdlyngW96HF6FrvS/gFqRsFrei6V8l1Vqrm/QY7i3S9GYxc3NStxPBUXgbOl6+OmrhyYGOtHJY4yc6alaEXF6qFuZmsdEkX0WOaL671EVOR6r2dvwPkvTC3VvskzcORedLjJz0HG1GSkMhlY12c9JTwLUYhxwV8NgUcjLwUIZkaN+jbhzwN6sFfDMdCvyt+HyXxiY7tm2Wc9JadkxY8jKtHMufeX1qFrcYGMfSRWmxxkrBmEXYs6MXUbdJFS9ih2Z1PVxNFjZjUWjjTcPbez/AJ+S9q7P+B/ug53OfgXNRehl6VqULShDqKKOYblzieehz0nKFG49HAxwtXEsfVT0YjGndrYypyHZPkufZax/A3uHEOOYetdAo4KQx6Lioqc9JG0YOZ3YziGPrLXRwUci2FoY4Q/GtaKKg+rnTWrcLU9Lc3C/MfyX5h72obhsfRrQpcZBoapCGXgetnErpo2HsMubHLhmTOixdbaVtGJRcMd3r5myyy+revbRgW4haOBi0PVDZfRfJfy4n7i0PprXvMssbsY426CKi4qFqQth79DgfRWvEo5jI+IUKlqGocMzrvQ9GCulc8C0OOYIehw4Qm3htfT5LqjZv0Cwx7w9VaFuKbja44OJfwaEewhFdDI9D6ONLFpWxwIoWhw+ozgccdNdVjjS7hz5h/ul8llN9n/QNxv9UZQwHoU0OHpc7HF+BjvVei9KjOrAhG48F4i9LmtddFQ6FKFucxzGSlDdmB6caOCodaePhvYwXLhwjKuFV9VXyWQ5exrnZzGH0b1uEw8jwPRksfwiFtL1vYfRrpZlyjsIxe4mcl4M9BFFRQthjitXPWevzDHtPMUVv4h/Jbh8+/iV9LMrUouN0sx1HK0oR2h7aOTBUcfBcdJQmYllRU5l7zzDH8Apu9ey30EKc1Kr1y+S3G2H7jyc3qqEc9DobpDG7vo8dZFIxDvRZkbGcFZ6lC0srFxzDGUIqGVoZmbGyozoeutdTU1q3RWqp2j/ALo+SxAO++4ruPbYxnPSxrxDuXiX1s6ORGdK3LG8xxoYzgY+lnXvPEJioYtDhoYx6ldGTNHAx6sxXXeghaHNocndWvs+Sy+Wf8cxMR0PRnQ+g94Swh7mB2MaH1q0LRSFpzNFfCKLONK1Mda1qenA7+CcovOh6V+8w/QW9pfJWn3zvuFuhKY2ZzGDvoc1pW4oZaHy4vTjRXQuMihCmzmLxDwbzcPRzPOhOGkUM3isFwrNxi3LwXLL6FaWPqVprpbCtDlwxY8pPYzHdu/VfJXd/wDBA3mKD6i0phoZDGVqt6FGdNGNLZG2ZKRvHOtSvhODnVRxFTxpqGhxRx0Oelk7w52Qo763t+3yVz2XKG9jqHErS+jtHc5HQ94P4dGBcwzmazDhqeJWvNwouPbRzKKFtg2abcvU95Y5fTxp9pycjnZqqeYUPVn9Pkp56X0Mk3bv1Y2PvCzHTWrbHDYx1DjJyVoU1qRmVuLYWqjkdw4z8QsxxLGqnIlpsWh1q2+Czp3NDFoezHUW18lAsW7KDsoovXx097H2UMNj2HtD0orRxGdFSpW0MzKEPAyjeU/g7hnYULEVkY8vq5Hosc8dfEuahj2HptzgX1EvUla9F8lN/J/d1PhD1OOOjtZWY3GcDH8LUK7i3FwvWGqh9BPRz0nopTZwJSyunkfwzjOhxS9Fxl7Y/Vi+G/F8lF3eQLxYbipuGcaedO8McNQy4503q5186Fj208jYx6Xp461Teg04Y8jRcWOeYuLHHMLrY6W7QxuFDPNK+jEg2YXuvkoom7h9ChHEMdD0WKbjGbNgx6L6Vwui4bLhIZQxjHpqHpXSzendLMlS9XJyMe2hfwC6K3E4svRzF0KXKrvyUUd+fQjBZHTG5WwuktO1HeORjHPPQRXSQnjeGYhVHuPq1POjjRwZlLYqE6Y/SFVnce8M4KOBQmb6Hrz1F0OBS9tCGONxKr/b8lMq7/7pm4pwpbFWpaFuXoc7FDGPLehZj4RaVc0Y6FaFpQtbMVGZU+0MVdByy5Q5vTnp5HoVVL08mCzHspe3yUOW4XfQSLhTQ5voM5F4RYzByON5cVpzqvSoo2j3FLGujXU7iXRRnWpQoQtos36l3OJvOh6tpg7wzOlv/men8lGM+PsDPuOELQ446SyzioZuHD6PHwFwzJzNj18xeus9PGpmLGjJ7za0MUvJjRzOem9L6B6E5/ynj5KZR3l+6DzCKKFUsfQsZvGYvzHMnD0c6qlClzmozRgbxKnfqrob6e0XoU4OIenjRY1jVUc/AZHp3xkelD3+SmTZhqxfohr8rGQwMU4lj17zsHEMewzuZm9FxvrWu9SOZevmK6FaMdJac6K0v/4G7Q9NCFP99/JP/Hhqi9nPVVDHD31VoU2ORj9RpfXvoLW38FjXzKHLOIyeo4uOeg9xl9Hnq4rUtxaql22Ufu+Samv8yMm4ppcOOZXQeY3G0ZDjA4fQ40rpKxKMVL08xXQvRenGli6FRY9GBjOOgh9HnoYK0nWrxUj8PknVDz9UZQy4ytT6m45RkbHvDh6qm+jkrQxRuHG88lfB8m3QsUIxUXpempY5v4NmdeyHDhDLH7lg+kW3ySr75fxMkV4FDh9TmbCeCzgelxZcVrW850oUNy5odw+rmFFPrJFRZcd9DnFQ9a6a6FjmtG4zkd6WarVvD9PyTq/oGQ2MQvI9ys6e2rMLcudgYoZ4HD1YhxnVieCtCEYKxKOIsbGOdxaGorVbrTtpTEhULoZL0+B6aHFdPGnmKiitPGpYN09fQbF8kmdteLiG6L0vWoxO5FZhjH0XoUXqzNChmcGSysD086KL1LTU8mNGZW44cZHkuKHKHK9D+FejfD13C6p1+55sb9vkk3FDzQ479KtTjq4d5yO4cPU+nzqQttKh7DqOY2hnHRUcFzcvTg5KHL05HucCFBsern4G9GZ3QytTpXLhaGTeufx/JLv1b9zuOQ9nCHLH1GF8Q8cxx1MdDnTeNGY4EzIzkevMcTmOTnRWJo5GLTycCjBmHpsRwN/8JnOpve2b6m17YPp8krtYp+5m8a1GPq4JHcZslzz1M9GhaORQxjrQ+hnpuVCLhLB2hzyOcaGPU+tjouVtD04CJHuiEXV0v6L5JUtf8GzDEHcKypcc9O1DnSxzwX8MuXGNXJz0mLVyWPRU2Zly9DYpewy9GR6r0o3F1dg1qRkr/VlPB/B8kmWObBvxDsbEMdw9eY4nkXFD3niD6i2K01FClwpqE4cPVxGdClLW9TFHM8i0WOFF9M4ZjQoXXvcehxz3Xr1QqXZfJJa840sYbOZYx6M9BCWHpFqH6wx9F6F0XGRC8i0I5hnPUqa1UKHLLExQ0KOIY8I7DOR7w9Cx1FpxGB6XpNDihD2iuufx/kmilbKXpnoGUyjiGPXU1KukXDKGOX011FoZbuXXUvRg4hbin3KHGancSNhD20XG+hKHNy+mvgFDjieDySz8/kkhjeyE2t216WLmaRSShj186uTFC5LHZQxozepaF11GOxzozQx/BJXo4FKo5ONCUbxWBy4UNw5rqLpvUxbacCMO4/hvkkzlaH0LZPcca0OzgcPoKd0+5Y2Cxj1rSkV1EIUVCZaHD6OOio2jE408nE1oWlj0cdW+gumOHCHm+L93ySsrh+oJfpCu2Ns5GYsazB9SjfDMWcHA/jWY2GxVDK6FdJQpuHLhbxwVoQ4cKLHKKK6vAtOOkoehbnd2v5JEK1sy3crbO48QhpUMcuVryQbS0MfRWi5XQouLUNqo4m9dyznTgyI4nEWPTks5LHQ7hmw6jMKD0baH1ONDha1L0Iv7P5JX3QbHob34HsPeeBjOeptlDwPI/WG0MY/hHWmh6bjjSo5ngXQuUbD0cxmtKi9D3MmBj1PRc8alouWLUhQ9HIgTzd9sfJKjmmdegW1NwxpnBTzF7DH1FwE3inY5Y6+HUKEOGIroXqWvgUZ1UYEpwUbDKng5l6qH1V1dtTqbv5JIvuijxzYOBk9DI2MfUUVrl2MejmcdTiczehZaO0KK6NGTOlzRepvGlaGe4zg5i8GIse4zPQfwG851qGyzItym5/6/JL/f6h/cFWbiiiy8yIvRSmtNePY3LqN0PprpqMChQ9O0MY9K6S6TL0IZRycD20ZKg550P4vgWjscifJIclWvzKHyhIVF7wfwBah0PLOB9dC6FShKMamPrrQkKahSoQhuHo4hbQx638G+o5Sm93fJGtnsjf0FL4r3ZwGFKwjsZoY2hvpKMm9jfiE+43Dh6L6WdPAtHAhChjorBees5MlC18Di8RU7Rm5VYKXGBjjFwx3PHwq6K6Fa7L8/kixVuMmVcNmyyzMoRQYfWrbsdw9x5OR6MRc1pXQUJ5hbwtD0vS/gqmtSjgodlIxChjHoUV1r0LpbBi0M775IzJryMC77FsG50bMsa8j5Ht1uY4TIxw4fUorRxN6rGCh6GY6OJrReqlL1rc4Z7S6lQxnMvQ/ieRi2hQ4awf73tJ/JFTXh+uDLdzeHtItUZG1B9bmPBbHHPSWhSt9NSjBiELYpgyX3h1SHhaK0NlxWrnStG49WRYMGZc8H2LH/APDbBV8GYqHsLb4+SJtv+UgTgKVvucG55Y6yNwfTU7WPYbGN5LG4etdC9OIrELVijMclMSGOaHKwZ6NRg41uOCyoUMqKhsY4rHRfwfOhCYzEbjWDbvvu/HyRp3afca3GpNFnZsKVSwHv1FmOcGxw+qunipRwbixpwM94e8NfAOOdDm9HAmZOTkay594cPVUX08TjTnU4WOLEO6Ef5iv5Iuin4BnQ7ruUDzF2NfAKwUQy8rRt07jeVp5MnM4Ee5jRtoZUNnMLopnOvMuOBwocPQ9hj+OxpUOLEM7ZV/F8kWpX+aYrCnXmI92PYdbj3i+her8kjvU70c9Co26GwioxHJcuH8Del9NGYc4EOpYtL+I9i4Yt45GUJjo/1fTXyRXRe5OqLIuTwNqhs2a+NSlecjMlaH1F0VoR2huEtDhnEMXxaTMmxxOblj0YnjQ/hM6FvpoaH5FU/t8kXJXBr3N8mzwdULk3/AGyHBxwU4Y+sttNGRHOhOEVg7FQzgxOZrp8ChHJZjOuzjR2nAoehaOPhMRyVoyc6uBvhf0K+SL1/Co+roeW5nuJ70nWR4V0loyg6pjGovEXgfUb6VFRZReYvJeRxvPEMovWpuMl9BzcIUVFStocrq1pvrOedDWC7f5v5I2P/VZFVFrY78tUbmOD0vUjnQscVpa1WX0sCnY5LN4W5nQzI2cTU4My4zNTmb0vTxoal7QjiH/8DnQto2FD2Ni+SIf2On20Kn7CuJuLQ+t5lTQ8GSzkcZ6SL04Wp6VvpcVmKjEPXxoVTThbxfRUcFmxwOHLjmK+MUUNDaXsOya2v7vkgyY3wP7O3uMA3fsdoK0xMm74H+Udj2OB7uHL1cQ/gGjnRRQzMMexXQ46uNF6eRLTmLGc6mBfE5O2q5dUOoLTX6V8kPK4+gdu293k5gtA3op9HiMFzvjG8QxjerMrRY+hjWzmFvG8blD2F0V1sdFbnEcHMXGdCy+ium9C1bDHCl7DF3Kter+SDvHn1wKLmF7RwkPfqVo/KODQ9L0Pqo3hCOS0XCsbwJeShjkx9G+ktzjTzoxPInk3OR2cw0VDhRz8BUqHHIug5QjYOqPkhMlN5oHR6D2E2LwzZ16FD00PcY4cYHvofU7aqONGYumYLODM86rMdNRzOR6VHbTyZhjHNP4fFwujRUI2mZ8N+r38kN81U/IyGLwx3gpSEop1FoqGzBeDdDMdfnpLaUZqKKmhy3L6mJ4+A5lljH1nrU2XpvRU4io2G9fkhZV3vQG3RzwdiC2mSzp2Z6HGjfHsM4NhRcV0UIroUVCm4ReBJiioyPQ9HaN9OYrRRWix6ke01CGcQ440KvhMaKh0XocKNnyRi0/2fcFuBvLF2NgZFehzqsU2Abh7wx9TnpLRRgW8Kj3EO4elvUttaiixXo4jnSpVD0PMveXrv4NaEIzFiQyzaVP+SE7KL+GMs2KUVqUF+AQr+otLosenjrrTiK0OcF+Jbl9NTfWWmsaL0WNnBnp89PicQtCOTgub81fJDWKbz3Mfc4C2KUbcGyPRzF9LcHBjY+vfQ2jM8RiLl6Gc62tL6dRcOVChbamPQ116lKaihDitChbjihvIpgrTwe/yQoFbKGvKMBaLM7/gu9BnA+rjRz0sRgQqs4NjAtzFFF4ONNQthihTzrS0bDLh6Eo5ipUPTzHPweJUIRzooRyIZyP8ofb8kP8AfFQvYvxBtDW0ZsZx8AsYxw/gLORGSxHGiy4Rc4aKZ7QyuipWiz3KMRxGNDhwtzgW8IzUvccP4i9DhaUZOCxyRrnP5IL9GQQssKEwXg+vwVuPyPcwOGPXcUUUYsSRUJakNKijcMU0XDFQowMew4sfX502MvBfRTzFnBwOHHHQv4LEKVNubh2H4ey/n5IJy97fY8BRpuWo5DUGZ6NFHJixJCoTNmz1HvDl6aZU2KFOI3izEczcKilxXvcViaLUtDGOHosub0ti2FDLHooxrRsPB2HUOKMabx8GoUI5hQpoqDO4/wDf5IXdE9jxgYbuh3TZkYyh660XKKG2jYGzcxDjPSyZMmSsFYislFG4op0VN+TtGbEwPEpo9RMvY4lxZZejF6ci2KYrsrLiyy8wmXY2cnJZcYhcse0HNaH0q6F6ODkU86EUPeO5P8z5H/8Ag5oflbds/LGbih/At2IY0cTkrTcoSErYikTusdChI4GXoua6GYUWZh0YKZWCh64YTTpWLkRkE4Gu5Stw2DFIpDSKUKFIaQqLLLLE8lmRaFVjSKRiJI3lTYUUihFZMqCKh7jY9K6OOhfRZehzwXgbg9bj+R/I9yK71pPcfce0XHybhbGOtQhQlyOxy2OG2ZKK6LKlDLixOEzFFFNozRWIplDHaH66GlsRcJzYlCoVDKQsDYmWELG7E8DYnHI+CslegJjqXoV08/BKVpcM/wBju/kfatw/EGyMfA4t5eS8S5ONVaFNkpQMNwxlFdBarjGjJjRYtgw6E6FuMNBlstQ2XVDFszoozKnZQhWlRVlZKoryVDFZTKaHdi3EJpoawLY3lsj2H/8ADvQxDO93yPWNXT9MeYx0NjMKzHLjljioWtCNwqrBoaH0FqwWiymhKKy0UKCaKGBoWblCoa3GOR1LFFldNFzeCxwqvOikPeUWGEwqHvDG0uM6X1MQtSsWvYbBmeONfovkdhSSNv2KBX4VsbzZe4YDaE8j2E4o3jjqLx9IMcsZjQiy1CzJnTQqmvBRRRUJlsRTEUnYytyhoYxj6FlouEOeBRcMeRSocKhHJSsagx3Qx6L6b1V1b0Jy4HuZb3n8fI6xtNeoYox7jcDLJsRtCI5DKqKj4L6NllluNwge40XLlw2MWyitXOhbllstmyLlywQVcPcY9oZQ1LH1UXHOh6ieYQl7DbDWYwM5n2Hqp6K6a0caExZKmqkzmEt9c/kdsB3V4WBdww3mBPBbI7aNosMc3DOqzcVXoG42UU8mRlOHZZkrRmaioqEUiislZKjkycVF4OBeR65EysmD2hj1MyKGhCaLRZgtFotCFotFlllqbmsTwIOmg4WvbTc8FHOqhdPENj3iyEuRC5VTr5HKp5ZeXH3GwoErdG7IsB8i4OJbHCRg6KK1JQmJqXgb7wssvMvJiFDQ+gkJOFFDFG4qoorKFlsrcxRWShrCO428CK5yNpQbLUWimgby2K4SKKhRUKHCoyZjJllsuWECoTN1k4FrY04yU0ynFaBxxF6bhRSKjgvGvmVdiQ4W4z/1bXQtZsr6PkckrxW9kI6GFsTyVYrQ7c7CxsYxhWmNFFZ6COFG4p6P6ZzgaKwYK0oooRUUUIUNYFvN2bYHHYwUcjn2KGsWNZh2ZiiiiihTkWxZZYmWXDc3Fu4vS+6LDIbGxvGpc2O3prS9VKikVkozoxCWRHIxrELFsdn9p/I91ne49HQ2HYomwmRMj2goyXDCWuipJGIcbjULWPaLUMfRUMU2UnO5mzEJmHmNFHJlMSdFqy8G8dxbHJWTkoyXGYzCzJeDgzZyJlscLyXCxOOBaLODIENWNM4DgqLLOIsplSpVdC5vS9KUNw7hY6ZNs+/yO3UG19B3uRrfqyhWjZ6CsQb8jQbpuZ9gkVNdBHBWmVlHGBLMHUNa0KVoQmMUDTjI2C+B7lR7j3GsFC1FOzI4o5GbjnGmowVsOMWVgZQkUVCWClRRyUISyhbDRSGsiDUUVNFQ/g7LzCuGFD2jMqMuNt6pfI5fdF9i57jbI243NujLZxkRUULXWhFCg2IUt0c7DShIzNxUJFCQ0JFQxDouCFaPIxyqZSiqGhlFIoopUUKRRRRRQkUNFislCRWCiihqKKgxRQgoODjSKXoe+l/AIUIyRlDZdxslzdVpZe2V8jv9vkwKiqFjct6UoqfTRUclCKRYtihYEMRyGPBQVjQyh3lb8DlUPfFfcbU0lzSfVyma2QV3b7S7yu9BnFPypxyNNv6E0KvpCoO9muytjCsHtdfYcFNy3N6Zeo0IVRiGMouVuJIpGUzhYGsFFIUVhlDQ9NdJ9HmbaiODYHqc8j3LLLRZj4BCKLo2bm6KQg0UUZ5tVfrn5HLPjSVposX7efuIsvFFP7VoYvC7X80++WIuWhRRQkUU7KhFFCuKKGn2EoWxg2Bvowm7OJ07foSXd4dwaa5fIsRPcsMwhGxnxaTNws82qNlYb+b0mxB568aFt+IdH2ECqs93YuzbugSSVJV1Gky8yO9oVVDyl/sLPr0O37qjL70xWEOE8bHl/s2Ma63tjDtl7FNMoVihrJZY1keTZw9HGhj1oe0V02M5DJw9norRwKLXFFFFFRmLMRxprRiGsGVoWxlliXlX7Nsvkkjr03H4MIn/ABUP43wr+wY/CbcA/wCbDLUH7DoOxvrRndVFJmwtbv8ApO64519ohu8bYZ5r+D/FhKrj8s/sTLSnfiUftxfaYQ/8A2JF7HjGf+L49pPgsPdEN2HyZsfply/7Mm7wfFfybO/fB9hHmPKH6RYuORlsZZxqULfqNaEUNQnQnGxxgcN4GXC+hRUUUouMC03FHEIoNDWRiRQtf5pbSe6K+fwl4+g1C9fh8Yu/qxTEMy/dH5SaFfthdiGzeqsyGNi4ouWZsVPrKrfEJu037jYFce36iW/vUw7fhWC9N+20xWf1F09pb8GYeQEhuh+Y7mJnem7JoZuhu8BfPSHY0symt02wb3OSbI72FwIs4/t/QMpU/ds/8sL3e92eYVdkrrdotC5m2dl4RegVue4F9ovL+RRWTgew8DLZbLelFfi9ktiw+9knGl7fcfZXbg3cmnZPwl2vp1jrXL4Cvf8ARR5cNdlr7CaBP1fgbLN9yXrJq8qGtNtCW4fqZLlCPYzLHuPYSF7Wue4XXSP7K+dTRrKGxU1a7UJqR9EHd9erYklt1N+NyTHJufrX0ZSwzMKt4YEHpofFYwkrbFD5vMVT2iYpOfTvLgb2Luls+2Aq6b3CTN7Xqi3LuMcjEMT3BZPbu0t9hvf3FrKP5VOMLWtlnj7ddj66ZnRmGYwbF+DsNYVLF/P5lf8AwfyGq484PqGzL+3/AJhi7TXLI/bYxVB92/4PXdl/oPUnD6KQnxmHXXotl8Q+rt0llhAuf7BxmGahnEIXblNvV8CSwt1tCedeMUWLnYZlvdmX+wJJTSfr8d787K9GNpLe32c9ok2sNXnK/sFKFbQO1i5fq+f/ANRe/8QANxEAAgECAwUEBwgDAQAAAAAAAQIAAxEhMXAEEBIgQRMyUWAiQEJhcYCBIzBQUpCRoLFiocBT/9oACAECAQE/Af8Agd3qKtr9YDVPshfjOCr/AOv+oFqj27/EQVcbMvD/AFofUqcNgO8colIKeI4t48lry5pvb2ekWqjE2OhmQlFbk1DmcvcOZluItMh2tn/cRrqDoXW7tvzG33DU0bMRVVRgNC6nfp/HRSvhwHwbRSsvFTYSk3Eg0UX7OrboctFKica2lJ7ixzGilZGB41zGcRwy3Giluzf/ABOijLxKRKJumilHN/jokSBmYdqoD25Rq0wT6WcBByOh9WvTpjE/SVNuqt3fRhck4ndxQMwyMo7d0f8AeAgi4Ohm1bV2eC97+oxJNyeS0O6htD0zhl4SnUWotxoVtFcU195hJMAluQ76FZqb3ER1dQRoRUcIt47s7kmW5yJaCbNX7Nvcc9CNpq8Z924cluQQ7tjrewfpoNtNfi9FdxluQclpaCCbPW41scxoJtW0+yp+MBhO47rctuVGKtcSlVFRdAto2r2U/eWluanQd4mxr7RlXZPyzs4RzI7KbiU6iuPP7uqC5Mr7SXwGA5rSlszt0lPZUXPHkemrSps7D3zgnDLbrbldlNxKNcP8fPtXakTLEx6jOcTy2lPZ6r9LCJs1Nel/uGpq2Yj7M3TGMljLbrS0GBlPaPzfvAQfPNSqiZmVdpdvcId43Utlds8BKdCmmQ+8ZFbMRtm8IyWluRHdcjErqc8POz1FQYyptTnLCXhltwUtkJT2NuuESjTTIeoMqnMR9m8IUIzluRKrrEro3u86VqfGkI3qhJwETY2PeNoiKgwHqhAOcfZ/CMhGYluTZwcfOm00b+kItGo2QlPZAO8YqquQ9YIBjUB0jIRnCJaUlso86j1wi8bZx0MWieLHzuPlDv8AogX/AJ+p8in9TI6KH8TLAZmGqegn2hnA3iZ2Z8f9z7TxnaHqIrA6GNUvl+8Wn4wKIWHjCcIH90DgywMZCMolS+B0KZuL4RUAjOFjE8U4bmWPBacDWtLNwnCL6MD3lRJTfodCKjdIojuROFWgUW5WW4ipY5zjW9o69YjXGgxOES7GHKXa9jFUDntGVFgxWD0W85j1IyqfRlMYbrTtTfKCsPAwMCMOZvhEJvjeVBlKfd0Fq5iLkN5prOsQYR3N7CY+JiMTnGawnajwMDKes43vDispnHQWp3/pBlArcd77mNgYu494xshEzlTIQC8FNgwlhuXvfXQWr3hF7o31TkJTG4R+kSVMxMc7ym5Oe/2z8dBamUpnCGqAZ0hxYxRYRsjF6R+9EhAjABDKXejNw7h3/r5YP4awuJTPpR1UGIwItOBb7jCsAgFhGHpGF/RtKXXccpTGOg1QYywcCEhXgIPMVBnZxjwLFYESqcLSkMNBmW4inhaFVzilrwEHmLARmuwioFnfeAYeUz+KOl4j8OHSFfCKp4o7kGdoPfO0WGp7pfiWKL3irhjKj9B9ZTS3lQ/irJeAssV1MKele8ZGvCpvOAxRaEqsaqTgspU+p0LIBjUpdxO0b8s7T/EztG/LLv4zszeKgGh1pwicInCNIh+hMP1DbaynRUfzJR/APGvB0UPqw8/HRQ6KH+S2dFDp+P4yR+TI/N4YNCj84p0MH3B+Sg/JufmtOhY/4KL/xAAzEQACAQIDBgQGAgEFAAAAAAABAgADEQQhMRASIDJBcFFhcYETIjBCUmBAkVBisLHA0P/aAAgBAwEBPwH/AKDuFJnyjzm8v4y6+E3fA37Hqt8+ghckW6cORHnCpHY1zkFHTiELXWHXsXT1v4fQBIhN+xa8renZSn9w8uyiGziOLMeynMvp2UU2MYdlEI0MIseynMOyg1jjPso/2+nZIAnQQYaufslShVsPl0hBGo7H0qNSoch7yngqY5s4EUDIW2WhVW1F5WwPVP6jKVNiOxmGw3xDc8sVQBYcVpiMOlQefjKlJ6bWPYrD0DUbyigAcQghleitRLGVEZGIPYhELtaU0VEAHDbaDLwmYmh8RPMadhwLzDUtwfTEMxlH7x79hsLQt8zQfTvDsxFHca40PYTC4a53mHpLTdl9t+C8vwsoYWMrUjTbsFh8L9z/ANbL8VSuidY+Nb7RKeL/ACgqAwGX4XQMLGVaTIf39UZjYCUMMFzOZ4ryriaa9ZUxTtplL32pUZZTxK9cpviX232MgYWMrUCnp++0sM765CU6SoMhw3lTEUk63MfFVW62H0Fdl0Mp4kdcotQES+y+w6Sphuq/1CCP3lKTvoJSwyr5mAZcBlXFIumZlSvUfU/UV2XQxMV+UVweF6atrHw7LpmP3ZEZzlEwqDXOBYBbaWVRcmVMav2i8evUfU/wFZl0MTFflFqA6S/A9FGj0HXz/dKNTce8W1trOoGZj4xftF49R3Nyf4gJETEnrFqBtDLy+3E2y/dMLXt8p9o9amuplTGE8sZmY5n+QCRErnrFcHQwHZVa7n9rvst/hASImII1j113cj+/5y58Nt5eXl5eXntwWlh+237o3/3mEAmBF6mWUdJceU3hPk8J8MeMKkdjAltYXhYyxMAzhQwqRLmBgYyeHYpV3fWM0VSYFEvl7S435viXW+ukPzD2hQiI0dOvYhB1jHpEQHOXK5Qtnwq1jGqXE3TFa8YWPYYC5EawvBa+csLRmvxiKSbzQwi4/wCOw1MZkxzpsuZ8MeM+H5wgjiX1jWtE0j69hU5Y/Nt3zOgj6xFFrmZeEdR0ii5nwz4wqw6TcW2kXJo4y9OwqcnvG5jCy7umxRcgQ67Oi+kGrQ8plPr6S83xLnY3X07Cpy+8fmO2mNTH02HmiaNG5YnKYD5R167eg9OwqdZUGYnwzOs6ARjcxOYQ9YvJ7xukBMUneEflirfYdPbsKps0YZekViRHU3vN87AbGX6wmMbmA/KvpN0b14+mwZkRzr2GQ5TlMALLCLcQYib8UbzRlKmUxqY56dhlaxhFxATpCBaEEcQUmKtgYXJnKsJuew6NaMN71gbPOMRaKlxPhnxm40FMwABheE2hbPKIvX+o7diQ8NjGUiBsoHE3h4+M+JpGN58xgS2sd+xYJEDyyzcX8puf6puL4z5fCFhC/Y683jN4zeP/ALwt/8QALxABAAICAgICAgICAgIDAQADAQARITFBUWFxEIGRoXCxYMGA0SDhMPDxQFDQ4P/aAAgBAQABPxD/AP4FQAszyhGzbRozMZc3pL/FxgHVb5orZc8n4YMVd9P3BE/4QCT2FaPuYSn9EuynncNk3Wu82m/ygaD/APoXBa9WSP8A66VCwXUhLdRSwfZpN6BHBeSBPE7NntQCJCxGx/4O8yV9roA5WV2oG7DovPWAgFBmOWvFuD/4EVMDQwIDbmBgPfSDV4X7HpP+DaWDs0bCwGvWBhNfqziN2o0bUtR2v/xXoa5mBG6fDhZeoQuORrB0PWoGVS7NnYv+DOmLVY3o+2HOG1KU2+uDo/8Ak5jC69nf/cyKE2hKPi6gLrPXMllPKiyekmrOv+C9OBY9ngW0EGxut7/Pav8A8qCIljFabJFxbIN2onmHIOeGVN1Etqf8F8rA760/VEfyhl2tv/zIxu+KV4YqU4Wt2KEo6cRaY9B/wXTaeGxb71f+FDq9v4Rf8J0shpaoH3/wolpt6v8A7z/hRwYbWt39IIl/8J7WonILf+4t9ef9c/8ACdFWwYs2erY381/wnQREsZbmJNHF9ynNOHQYT/hPpRauU6hVqYmtR6cv+FFWXOPSc/ZuWNV4/D/7f8JyPodPI9x6SIuu306inb2cjyf8J6R3CLOl2bI6CorVC6F/ZBEEbH/hO0GGSduz0IHp5BpU+Q4/4TmwIlJMiBLeS49zmIn0ejgeH/hP5y7Vpiu25n9tuTqMbgWf8J7QmA1fURk1Q8sPoT/hPyiJCXL33+xH/hO6ma4dFwF/4Tqk+Idq0nPv/hOK11LAvnbNlxWH/CPZRoQPaxOeCva4CAS2oy/RAJTllTzc3S/4Gc9wyx6/YVHmwgeb7QwrYIH7P+D75D/6tNQxbk9Bsh2znOl6wTxhUmLlq3cYRp7jg7AZ2swcaywvHbg4w/3Ag+9Od4IYOvs+W9yJngpDIiYR/wCDajQ+5utyxJ8wq15kbf7z2xyrFNgi2WwujfZCQFiXhvmEzqD8m4Eh41KjN7MDVytiKsHYlB0HR6g0dudfv2pjZ5SH/b0H/Bm61h+l6ofTrkyNcQlkuFOLuo6WOh6jGnc9qRv1zBNpFI4OGWMmY7oQKlKSU2niAkDXbDlgF2/9xE2G9MD4t6xw9jySv56a3PP+C4x/Ju/60XeRa1XrxCcrJetfUT0oW2XMpfcMNl9wS/AbmjRNRIfaSj0UQF4IQErmyuZey42aiNN/7mIcuGKsWNoaSubIHtP3weXr/gqJvTYrtvg5Yo9lryujwcQG16V1HQB+4gDgrD09BEG2rrUGRAHdy5ef/cLM4JsemdTRx3DbeV13LmK3HBUveDCkbHi45t1bvsjKFNN1M4Ymswa4dZs9J30/8EzrM1bwfMxqJbaDcGNlLUzvbO5SPdIRrvcXGVn3O5Zcw1uUcQovZCoc2bmlAQKTHM0fbuoR4jrElMA1ybhaFFzvJGs167lRUxq0laphiXIfH/T8/wDBFbCXUBasXZRXDrVMzvej3xKmNcQaFC3A2N7qEy7JYxAafMSWRWZ81MLahAeZkt3u/go5GmLTq4wu2LRlBvHuVRR67Jbq5b41kxeUX06leIq/AtrgP+CDTR6oq/B/uVYlC88QTpoqvMsOkI8KmM90zA6AdKLoHZiY1jMLiq3A8LjlJj1FtuG425Zjioii8MC3G6iAM5hpPcwGiJGXKy1lGmJgHIa8EVrkrN6iAuO7mOV56YV0+9k76EcP/A4HwjFy37eouy2UNr2rEPZvd7gFLc7lz0mpcy5p/wDUVQTEIUacVxAVVRipylSgZ4mPU0LMkRtKFx56gZZz4gyBV3idExctU8Qsc1Ws6llSYLg1s8+5sjV5lEJU3ZcozAyuHwHpagAiIliaT/gYURG5Suh47mYzTevQ4DRDCA03GL8W35mh54mW43A054ZQV3FCoMRqAtvEoCgxBvqNPxNC97g+8wBd5mNuKgFFZd9xcN5lttF+YjKHo5z6ic1b3BZl1Zm5UW5etRSaotr1C6CiVKJd1fHv/wAC5NCHddHaxnb/ABe9/dC2FOTtqLy4/wBSpsovEw0HOKis/NRyju4jSmmA93LEdMubLrCRQowRiupQbd7I13vzF25d/UcS2sQ2dRZyLVyYlaTTzWVmDA3yxAFlOoOwF3SwFwW6uJQlN55uCFrN7zGhE5zHgFqXeIwXr6TsRluOOXdH/wACZvQVqAyqsJNf5nj19Zbyv7uHwCqUQoc3dtdzwdtQWGdsMq2vrEza3KqDL/UzUCcDBB59xSt8LGsGtyijSHQVM+af2l3FM7uAc0scdM4nBxcNtxdlc3qXd1mko3VRTKjPEqNNfVQwDkGyEPkqrl6u6z1oNwdtQpata/7mC2yNP342W3wpXig9n/AdAqAFqx81dN183WKM/Rojhhqe4TVkZ0AbmAl8V7iJbqUu8RSifZ3KBRR/qFhxjD5hLUyrI+YWGm6YVedAzKpxzNRq7Iuh1HrqDquj3OdXRpYPjbFSrb/uABnEMDaKmI/S0EptxVhpqK0t10cxGOlMyrLY4f3MAKBquopbDOHZF29/LxOQ8bP2B/4CrUvwNX/y/wDbGw4OCNELz1Eu2AjQvFQV5aiW6gyQhQQ/GP6gAeOSGprhCGrbxUtsWuWWDrtrcqDvWIDIY1CxHCbfEcwAzABaGcRNOaUUd8RaKbUKCqsNefU23AFc3gc9cRhRVLt4JkiIP3AOCYXoMDS4Zxzy8F9yoHGt/wCpyt3k9QNVxkcSqmfTpmeWO1fh/sioKB4Ij/wDQkBagZVYNZI7SdPTC0cF0nEOqMiqPMqlsvZ3BSNr8DGkNTAVm4jUABoI2EC7jTK7zjUQ3jENzWLlIqh36mn+GNUjS/p5gieJ2u/E36iqXlqXtKt6uVzQbX26hiWja6TuVq0g/VkwQrWz6Yq03KMF3PHFQK4yg/W8QrA241XUsQJXebiF4Kz64YEK2oS+4ARTlWpTBhxvWYlUlN9ORggHrW57gjlWv9yI6imgWI9P/AF8CkqCJvpzPn9Ixw0KgALhgFo2cy1kwVDbhLpikBMxuGc2w6jODBC5zMRfWIFaGABXN4mKD5buWQaPXHgICsBjE/qedHQPvMopXAR8nbUIwmh7bV6wTk4t4IGWjQz+ble7bNJSao3QjUVD+PuLl7qFAVkxfqWs05UZpuFXa0v65iDZLqiKlWedZmXGBrcBeWksIUePtgoUNwRQp03OLDu7t9/eC1RvAcj/AD+BsQ2RXowAK/biee80YYVAU84T/cI8OJ4EWht1Eja9RVXAWzqVe0otG8sVqayd1MRaai6xHbGRitn7GPlBlp8DQQC0qmn2Fn/yZioqkr2bI0wba1mVV1kI4V0wCq578zp0OiNQM0nEFksHF+Y7DhwlwXs1VytwfqbOBzcXZYA07gq1lwlHCx6uUEVu8vU5ATJwNMxDmRpfdqE+2jRzB2J/PigVaDbM3R77SSRJXsdHQOiKQDPLuXZGzF3rkykqwIWUJZFEHcBBBV1MDCsyXcoP9oX9oInLb+I6KGLtmjKKoO1wQe7S78eojj/gRfK2v/xa5B1E98IOq2VRR8zcS5Cw7HNz6V4qWLrKKTcISpeXcFKm73WvcF2tOeY0k5lGls2WTHWLUL4iq1eGrZaumqCoCLQ5aMx2Zri9xPyVdvnhgSSmmXs76v8APQOnoybosrOHt9QdloeotkbZa7hQXhBojpRCBuPacT81QL3fUFgagqr1Oo310x3RguaIagu7LjVQlzS8+4sRjmzL7zuAfnQMf/MrkzFHrSDodqkn9TVBC7S8MK9p5zAINDmHsF6xiyIdbb7jW0ImhmLgG3ETo1bBqDck7IhQrMsmh8zB7D8MrMnTkf8AY8jLRf0r+GQgEbHT/OwuhVQAcqxE+chb+O8u1G3YX4GhCgLXK31KCzlzZHCjDzHZvzGw8Yhei0cSlAw2e43KzEvz6xLueRxFL2B5WI7dLsq8XmFTS3Xf8c4DXKIJ4D/+LHWqq9k8krfuUqI61wljkFP6vZBWXr3ArKW/HPmMoldVcAjw3EcW4umNb3dXGjgNuGtS2ilLc2o3/rxKFBxQdwLgWnDv6h9pfTGvgo09blJYVdQJ/OgV6Grb8X1D3lX6D7uWSjGMyixqBrtAWI4nCIM34hpMCZgq+PxDMNEaCj1GvhtHl8RnrN2rne+GGQjsTvXDSpQKA6A//mfrTRvk2DM9D0n6mH7NZ6znQJohjDxLV8hAt5MN8SjTQyxVcbzEVrZWHkJjYpyVUzOWddsp0bl6DYQzllm+o4LExiafqZnFSdP+oINWxLbgbH+cC60Zw/oMu8fQu/frD6+WRVtuZ7fDZcNS0d9R+H0xXP1iUv6WUL4IJLlDAHrTKdBfkguQXQXCM6NdsiqmG6CfxSB//Ubp0Rn6uXt8SrutsAzjFP1vDCWVqW+js7jtHJf9wBrVZCFYmKwEdbydWalNV1vqbFFVtYtLTycrNW7cfniAMqBqGx1LcIM5MNx/yr1qrxBQ4TGHyfzYso1dfdGONFclg+dSt55VO7VmFIbsjKgZROYklhrFm4GWFwSAQYL2XLkvJG0Fgu6jmwtTXgMzQpmkP+sbDaVX+OCABR//AHE+KjReSLbYW9p/uarOmFPXU0WOkZivwhaper2SligCKlyJUfD+A2xwBpBSY3Z/1GGlmr6gk0c1d4INglGvCTlSFoXS43QwOX/qAG+yHPCfzMJ81wqL3CDNWW7EZhv6YcJVuTLdnnjM0b1Ve1ZdtN6Zyxihu84S0FfOIFkF3hxuZsoa4YDbRFRrB/cBA2r0R1i5q15Q17Zz85rH1rkPor873P8A/gxilRQHhHcIQs/cqHf61rndMyYcVKvxAABYIIXXfUcBM0fR5lnNgzGgbC5qII4ZouAbihIKcjAb8ysir/uVKF4GAbZvU+lzRpTk/vc5OKCJ8Bsx4yal5jsgpvYa56ej+YDW9PN6rj7x7h1R9ZomDfhYF9aEW00xUuwumJwhB88DELd1z7hFgt77mLM1NdW8QfFTYiTPUUgYrcWT2H0vlaHlnfLt5+JVgLSs8z5//wAIH5AsBFFiPDF0sykN3qirbXKId7ZbIxm5h0tMA5+oOHRwnriVxFVVzqPC7ggVoc+Y8GVquXRsMFf3HLeF13EY8Fc7jgTXPSyxIrcwF5B0wXZHReIEEDjkgiR4niRfqsK0lhH9fy4N1FAUuc0dqirbYt/uf1WZTa2yrnyfcXcwd4jZxBVEb1jgTYxjNorZ4jQys3VzEUHkZn9oWC9sWNcVuEr2qu870IBLtXp8b2E35VMvytr/APxaCIljLtOkY3trgce2x/M5UoSpZQTseYpsGsumajRBzVvlZSnnh6uXpRiWuLwYIgwdHURRy3YMdnDllldXe5arAuO3meWXfm7Ee6CwMfvOCV3lk5eLZeAzxHVAetnTcfytGddHfAOWJ1ev781c5btHQ0DgI24xdXEdeyLZkJhiQqcb9MFuDTKBFb8uyZgbGqRgihfbL2JuylisDsmvx3IOky99hawHfKNL6P8A/IDdQa2HdMQ8GBaz3XiV2SXQ+wDMvdhHVQQjbcMW3TM5tdKR6VzWiI1DfiKUS7sYirIaPG4J6IIXj1BVnq4lTzxN+xXUqBQw4fMreWP7vhNDLI6B/lEcxrX9YzWMEu4N4ph7ftTcBdh+0scuyKVTuWtfdwxV1hJZvUpQNIZqFgo/7ZhaFZhlQnI3mLAFXqLyepm+prGS4p5YV43Wpbhdb0n0cIAAAoNH/wDj6hTHzcnR3H0P1fdvW8vEOkj6LUJNoow7JUNreYNgprJ/r3KHFhqVHNdlvmAtcXUd5v2RHFww5uWtSCsuo0YpRiDC3Mp7SnZIR9ilx0kqgLQsfiPHHNFvRfyarzkiO7U7xu1i/Srhb2qqC+bRVxmVFvMfiORHiEVXFxIg4mApitQsH1fUyeb1BVvMEWPtFrMFhTByBwYUREbEaRhcd+DfVsSpAq45H1AiRcngvWbhayoHQxyf/wDHlFVR2vuEuOav2Suua5Wj3LuYJHPKsbuC1zxsgYy29I0A22x4Y5RQ41CHIa6i2t9wqtQBu8S9ZxObeMxm4cpd1rMVdzSZXxAt4YtlZJS5pkR5ElDEwV8WNDeZS83FIJQjkTSfyOYiFoh+tosJdSy+TV/t7xdxCpbV7uU/mUtGWmIaY3y/6gA6hd3llajBURvdZmxQvY0kyLp6hquSWPR5jk1EkxkMwrliEAELDeo/YRIb7pMiauPRSVaszotzHBx+mVRcWW3DjCS1pB/T/wD05v8A+UtpQt0PeXUTrqN1Tiry760DTYW9MWdbors+7L7h/bMXz8Gq+FXLQokpxR1/2EyzhIePjTNYqPR56iK9GZ7Mti24BVfQzhDGXnUKu48hInGb9QIt8Ibr2IOyXy19b4rGwOc+5z/kpH7rX8hj0vdP7viST/xgr0+cRz21KvuzKETmW61ULrdZ+Blk1EGpWr8sKLqabubGae4qcHuZDSxstxjSw+JjkhrOW9sKqjHiLE667mA56iXDM+vqUjBeppnFdSs40xWZnkmRQLe2xixKxa09K8hYciLNVnVslq813+6kkOdTy/zUs3cKvhxGPFI+B6TH8Mdr0jf/APPW2joQShdlra3zMXC6K8vUeEjzXacdnFyuyNzpZZTTp6jd022I8ZZRX4fxEyyVdQGvq4mauIHHn60zWFYiLmdxg2hAXcua1uMJRGyPCQ3aBaW4vMu1wqCLiN1aFx2WZqaqCXulhbF/fw0b9x8liNVE5gC24yMxAAoQ9aGcya1ietMHdhlqf4+t39y+mBbHdgr9wnFCNiO5sU4q7ZWYDM/KpsjxBLl5plFxDFKX1LLqW1ccMdGli29w7f3OlFxpW5YAYqEjVksNmFxBcmlB7plj7JZWoEBWm+YuS4oLS5YvuI6gHKUcy8eZXnxOvcBCZWLrMNNsWboNsPpmCjsemY5i3t+xYFyq5niIFoNsWR+Ow1M8rpuk33i8ZjBdmzklS6PEs0bbwzcGLvJyoVrxSXBErcqNvqrKPD1I9fCTyLHrE3LTq8U5sq7OFfrwp5E3Pu5PS03Gb1Ss7vhc+oRPLbB9ZmBe2yt72xBA62xLy3b+4+Wg/UpvBymY2Ep0woXNbOomHX/cvT/6SWWtZ/0xZ3UBduIF0C8RIFTyTK0OJwvLC7iF2VKgzplJUbbq4Kt8SnJzgmyGolULLeCenE3d0Ss65hQ6yZg5W+55kamr9RVSPVjZhYGiJzQUlHIlIzEP3WTwIJPEQXfxQIcliWI9P8cHrsWFV4G2PHTRN/uRVlpYD1vlrUwqq2vmUsnPEwFlR56isY6LdSx5jkusy1RALIWbTHNnqYPDLIwweIo51DkVKDbt+C4ExC2wxeZkFxxMkKy4e5aYEItqOsxHuyXstS0lc/G3j4lEAWJStwd2QFaSligSms+5XTEDOfheLvULofbLE9AQUuOZYgeFjRK7JQvqM/1OD3A2eiZjOLZfLvh7nN3mlTR6YD6sQc48xV11FuPbLx9EQOcs4+pkl9sWTfBGiq7ZeHolFntl5U8DK0p7IW+pKNPcxW1ouFfuvpg2q4ZlVn3HG6SxOV/SaladxHWfon4YERO4HbQR4gkADWZt6gaLjfDwTBWzNkaqplxriJe+4YYVnDC2xAd66inV1KzCtNS+kWRSWWBNh6IBqDQxEXZvULzczWqN8QeRnUJdzq0+M30lMuZud9STT9oLw2fxorKOnt8TuT1if2SanhvpbjUJVqKvCMVTRBR1LsOi6iam8DOwuIkZtb9QNQVApLG4EDWGZWoXvmBSvrXUTVnEayziN8QiZaNx1w8RAKg7uXy2QdOKudku68QifvUoLgWjIpFNR8JYyXAkMJQ9zujIWpLFqyZug1DCsy/Ew0xzBaCuiXnrKy9kvd9y2r8Q2yuSXZnVMXplDEsseIvAeUKWeypSccMScdRyzuG9eCWcHLFr1RKYcQYHmGgfUvU6l5IdTIFdIx99JEQeGIpi/MbqIFMOZdt6mWliFoptBYobjz7gB3iWmAKjxcTxAkuN4qKajdc6zG6ONbhtC15jSVrUI5IwtlOpUzy2MsX3MmnEAGCLw1GmSDTuZVoiOAhnWNw2YNdQal074jNmYBKTAwVt881PHo4Y/ECsF+dia9COoezDm5gil/i8fxf4auK/odzyP39pIFhPCzp8xhjqkl2rlYq85him59ZpvcS2aIKxxUGCvqHn3DdS6MQl2fc5J6xHd+YBdckyTcuFNoLVilNal1xkmUNZqVnH2SwVubveM+pYG3Cw7NUPwyqugjW/ERVhaKtzlxiUIIsYqObg5GXkKTcCWW9RtKx6pU1iGIGCAeZVHBLViaX6RscipTtGyrmhIOE4wO4YLso/3EfYqUq13MpENDSO4u9dyrusFEvJ5gGl1Bu0TepwZGNDnpMW+mXYCkreT1LU1TLE0QLKqXQGFmCFnEAaYC1HMQPJFEWwreaIksgc8OpgMXbBbbm7xX+pimnfEyqIHnUyiZaJQsFPcOlN4ZoOYREheXFxwDsiUxEBp3Fq+ZsxcVXEabyRQUA8wymAqYQmI0wDMQ9f9wMo5IAU8v3MIMUswC1TMRFFxarbzC5JsiYr0wh1HKR1fWOmQP8A91GbVp+uP4pPAGVWgg1JxT91YJprU86YQZTPBwTYP1FZai3EKUxWY0VKarcpdzXWpRyzUVu8REvlmMtcz++KmAzMmFPL+ov6i9oWsAE5TIxtTO+ZceyBWQagR3EKqYtZKsyQaq4zGoY0xSGP7EwDRNxWPu5W/JySrHBGnBOxdyhVVFGsk3iIYaRmOMJZF4lQeWJk0wc9MGpgOcynniBe5RnmDTEDDmJ39zyh+caDTAYZSjULYr35lpQahUdIZhU5qdC8MbbVxULCZO4G+ZzsxuOcwei4kS/SdkyokUAaY1kblNbzmVByUMxSAjqPcEEcEzNgY8w1CzTFGaniH1MahiEVWmIPuM5zmA56qJmjJqNVMGjs3BNRouJ9wGsRoMnEMCZ/VNLuaTZB2giZ5hp7n6svaYuIg2c1GBKmM0cZWYrXGMwyvuFuAjUwlYfaqjATzjzGv1txe9Gaw5j+Jd/19bITqg8zyJ/EhJSXWb6NsAz6C0/RuBdW2NX9ZQtJnFsWmyVBFipAO0CzFvmLTcvKF00e5Vae46ZuzYTnDBwrqZ1MOWZD3uLuXejU7vcpcVXx7mTmsYYpdAbi2eo5ccQoViaX6m4IIa8RGXmCtRWsxAhB17mT1nMELOtzLREv2mcriVm4Y0ytayRkYc1AOpqqwZzuTRkuC1UXogA+oLOjH3CsOIbbxcahgj6lRRZV5i03ia1dbiydyim4vvmCBpupp9zi8TtdlwXIkQ3eIsNG7hW3Bh4PuAzUG1LcdRa3SMRsWh7iPeYgHFjgkZoZss4SUaIVvHMe7IL+dzCANQFiOeu4UFK+4tPMFlu5RwisvZFoLJlIEMmCIjW4gEb5u+pW7xLaSoiXBOEqsEOSyOcmLeIKHpUrS5gIqhh2zBhxLX11GIVW5bzGiIY4itnAYgi7sJYBdXuGy+NbmV4Xc93j7IpXyln9twOxw0z0/wAPn4AMq0EA5jVP31iFKPVVX9RcMK1D1eonnqUsqJlW5WEGl1VRFUO+JtRn4DF3GMLbUCsauFA/uWGsF6jqJrsNwP3LLhgNcTmNR1LXka+MGFORLokw8E1dtyl9WR8I/uKVrmMXeZQmZUFRslDpzEbsJLV85+4qtGnqDwr3BlLnqUmi5dPuC9wXJF0EhqBMJqMMWqgbw5gBvOUbKirh0kDCxUGbnMztNuVRx2Rk7Jt2XLQWxM4msyLvMs37mgrCzxJw6xpzBcX1IUI7RRkAmncLHDfcoYW5eUT4RBUqbcBcrAmqlKrmBvLFeqMSim5X6iRoIWGC6MOVrC42lZYXjFSsomIM26HB3BWPTEbtbNRcQsLrEMhdiEX2ZWBtywybi4JbFeqzC7JldYl6YhmjcKrWpedy0WvULRt/3M3mW8NQM6jtbYOZ4QSj3NsZIJlLFtcpxsgKy/Abqs3KGSPGZYBWMzN1jEJ5q20/TYiKLxXu98pP7E89pRh/hs7V2SX2x/AHnD/cr4ldV9Mw83fOe7lo06SX43GlWYnhyy+QyxuWLep7EsCn4XqGXskP4m/VzKAzcSz5mVzxvqZVioCjmZAjHSOSonb5g2hYjaoDQXEbLCYXyHwXSav2QTKwtqUl9QFjBLRyD+GF6bkIoFY39yl4prMbpIUvzqIvWDZAqVo47Z1cWY3r3KzGTEqiszNKqUYnM0a1LKnNYuKS5fErJPSImRaSpsYnhwpMe5YsPTPFF1jxwo16njjXr3KzQw6NQDouaLICypiFV97ikzRWZlFhbXEWSXmjuIb6iwMVJlLMxwZ+pYLghsyRPJlFPvfcrYYOI5KghfnBEELSNyy6qU4qArVhiUFXNUDnMvMplUopSEsbGioYL5i2mUxuvEuvqW3jhx8BXcMrKCOTExb6jctvh8sJWxJi94qK8XBsqoGgayxA05l4qrZwTVwYtCN5HXUMaInLcZsahWZR+muL6gRgKL2/vc35rFm7E/hcgXqKVe5mIdNU+eeNLDdP4xwTPeemLbTiWsBg3EXuLN6l2eJnCRxqK3xKqNNYhkxljlzOJOEMIBsmrA8bqKy+DERZMr11Md7gV7zMS45VBUYsBWI2zMKHWVgitlFI1fdxQtvxFEYAquajpxEG23xOI1LpI++cS91NdiUrjMsOyOGZJvhjmMiw2YlLmL3iGq7g2Ct3cq7tUtnHV1Gb3FyzNrMebJiJjqZuXTKb1OblOPhv6lsVmC3UQYFwrq2JbeohfiUIvMBUBCy7lBxuWXsgmKB5mRPe4W/AqVO7hxsjPvmckMzVQH2zD4VuV4m9sRrfP4YsBZr10xcI3klBLzxKbvIRUMtuOHds4u5bVkLVwMl5IneaZsocRwQQ59ajGUYtNcQwZhlJzcHFwOdczZKhRx+YG5W6Y7EdmZz5CBK7uMpeYxGf/UatXFYYOhWRCpXWJUWN4OKyMdVF5pzHZpXURNm7jm4a730XUxH6Z3hcZdVkcB5E/hQaHqrr9oiK+41D0eCNqurrUvmorbWfjk4lL8zAZlk2XOd4ircvgMR3O4uDJcWOZbRqXdQzmAq38ai5e8TsNf3LXqF31xP1sR2+4GqNyxVyytS0CVSY4l6aLloAC9xRtqhYxyIixHdMbqLisyqb8Qc5JZZH/SLqUp5iau5n0xFRtfPMxivt1KxvEs4GWgx+I2UJrYzxyxsaRJZq8+IjwqKVWIoamMyrM4mb3FPzCoOGYvuBpiY6gpF2lsYEpqVqGoWi1B5il8w6rmBk6uGPUVTJNHup9y4EuKcIzjuB6PuCtkFjqpvN8zLxWY3efqOrC4N14hlqyXVjNwrlywDQ8Rw4BiFwrzqN5qMGKhk5lGswcIygv7gOYFpmWA9TJlOOYbziXg7gRD7gVG73bLKXK7L85lrT+Y1obgIUOoF7ZqLfdQbB9kSnkl+eYNXzC9lzK+Zm+8QWzDzHZ9fiZOaaqpYutjshhzOoRezNksJhPUArBuLl5Fo/W14oz8Ir3/CXjrz+gOxKQKJWxtVdss0WoDlWt/FsLcXFM84jBeYWpiaOBqD3yynCDllBxOHPMHVYlOGZzmAVFTbBcghYFB5nIETee4F58RmOrhhrplmCiAreuYniLhQWxA3W4kHIWOGYvP4ioac3ceD3MV4GbhuVZVQoU6uC3qYgXkvzGjXmBjlniBRF1C33TFHnsqMsvI8ymFzpBla93DYxe/cyGPvOagjMYqO6g66qITZEunPUFuJjSSvighRjqW7JTDMxUG+My84I1mU3uEtcVoI0kUlN7JQdXMXFtl66mV1FtdQz3csCqha5qFo254l0lZipM34g1iouKxUVzzUDjziCBtiOlcXhZmQWxCoDBF8O5RbEVKqJzqpfLxMvsjTVVbOszCy4DbwS2xMw3ysTGeJlprXMz3zBsCL5mjEw8wTMxxFgtqYNxrEutfRMI5g+o1xzHWdfshZ91MBBqnLBD3Bcw1Mpr3Nm48JX3KGLlAG7i1ouIZweTuKx/TDC/S5nZxFmXLQP7Hk0xiFkOuvhf4QWJ5d+M7lCPULUWqsvR3H1jF7mICOXxE91Lq16lqN/U3ZmW+Kl5UZvbFa8QKdXTHC6l4JS03GrhuJxfMopxMUOzuUrqa4ZarcvaTwTMce4LLd3ETVw/TbAB/2SlC3EADJEyoVyuXQNxZNSmysphCVfo7lBz7hv6lvtg261PL3NMrTFtBLUCGD2RXHMxVIxvLX3CcqBSmHd9xXgPPcCjsWZN8dSw3iFK1Lob8Ss2MUGq02SzMERmerOCXrUQXhGJ1RINEy1DmX3qbIOZSbJZqcZ+puXhzLusSs1BaTUrCiAuoWGfcK96mClQauVbQzZiZ2nWW3JLqepSHjUSzGbiLFiKq6lkCr4ebhda0aJZy1qOiuJob4ogFwV7jjTxBTuLsuo5pumFDFRY3Bh5gPFdQ+zuM6xAau7gXF1Mj4XolOeIqO4DHZ0y5QmYuc1MpqptLTcVXEThdsA0LqHU5Zm79Q8MuxUrKuCNDArUVwnfQxjtuMdy+IhlZNncw3WK0cRLyZ1KBWcTEHL9jyoECu1/wCz0f4NRiEoNtV0RLLa/wDD6+UdkCqtqu1mRrhjWSZKZTVZlXMX0gHKbUsp+omZQTKVFsQCrB+OLKxUIF03LEFqF/mBZxZEhAVCAdEBog08X3FwU6lNuJWFChVQynMAwz/ZAkriqJ0wp/1KcFTY3HLjhMBmUOdwAPcXHeI8MXLM7m1sMpm4AsjaiUVyQdyIUdom88BqCUxWhKnMWjiCGgqpkhXEvbN+Y9MDeglXxCup3b9Rf1BesRsaFMRWhHdWuo1gdE5ZiSrnRKuWDGMCczC8wE+AYGoNxFV1NI/czTK9C4HIXcdUYmVuuY5TStX5lwizH1F7YgchswynttOXv4INYWZuKCkIGDW5RkdRbVE1giKcDZBzCg618ZW5nCuUiQMSlSsCSnm4X5rE3zli0M1WSd03URbmLVjcM7OJkDUQSU9RCqAfMeOY8MY/UML75llGYAcIGpU4mab1Md7mPRM57mAwy6DzLA+pajDU3IlEXkhxBXaSZyo7GpiWEC3lALieJiIYmbN9wYBqGi2nk74n+C0Kxph6O1wSmCvRXp/6gYLeaqHwMczqRuMBK0PcO8hxMji479RVC8RxHD2xNzqK5+BvRKIVDDUSk8QwvPEpnGiF0ErjJNF5Y0CWNS2TiW7M89RVvMC+YAgY+OZvBxzDZZV4j5aouXbuic7iXaPEbLKuKG5Re7hZ1OaJmuoBhBbUoqm4eoKzRrGZdOXmUWYCuGAEjgbDnmORkDplKCIxGm7og5t8jUtZpgJdNG5e7Ur1lGdxVTApzFm/EfHEQuFD3Gwy+onHOX4NCjaSx3EtBRfqZ2SkzFOkqBokpYriZwELzxMNZ01DGHHEu9ni4JuuJvLLSJiKOoU99RWF0P2Sk20loZM5WEVu4OGiJjZiVlnAIH/uXZKUxuLlzUHcboTLvcAAIP8AUpxiuJcbMwoKuuI6YzNvmo0MmdznxEzLX6hnmb7ruZxnmos1em4J2xUR0fiW8LAEF9pzIXCCDdVLseYLHzKpNBeniUZbJczhFtXCreo7u+Y2cEAolG/uXg1WEt3UuIEYKDr9xu1EzTNxt9VRjVMn/BIPiIadM+WIUu+2j2+4YiLLeJkVzZK2N33BLyzYVKV1cqZPTHQrHEtWCmfEaZdV6lmS54qNsYZoqVlllQuGoag6QIb41BNTImbUL1+YHHMG8xMt3UFR3HoVA6uNHS+JlANiwAHH3ARQ55uZqPzEKCN024mdQW5QuJjcEnL1KBd1LElwFtcwAlLXSW8QgaxHthacmWpvmCgMCpS2KeIGtGLuBd9Sx4haZW4bVd8TPPuFgUN4m4PHbEzRccn4jTYTHN7ZQDWGIrwls097glX0ExWu4WbdcQCjnMEso5lUaeP6iZzcszXZgpj83BOiBkLDGJVvxUolGLNuZyrGYmC0gTizq4WBQ2RtgyOY6OdbeINC3mVgbZi1qpQrrjUpZjxLzmU3DC6GagINShuWdoETEszd+4eyF49S1hlM4xKcpGw1xCltTiu+JioBMTsfUpc24mZj8ZeTR3CA4nhh2qWlMMAIUTJuUueYVYnLENtJl/7JmeoNtOYLYcks6NTJlcMVRUFH3CxioCN1TEJhg4XtjS6LblJC8rAqIq81BsyOYvRYD53m6YGYId8T4TD/AAPbE2CzfnOJdztDvtmbu24BLu71FwMeJdS+Jg5lwMzTH3UMOkiLYjbYAfqGXNyzhKB7GYiszqWz2R1KrO5mmGGMS+ya4gF0OJioIUQnbNQwCWKl7oiYuctzGoaFfChealw4ZziAA4Yx3qLSvuduYNjjiOlYhQWF6ZdSgxmbYYO9StBKpyal/VysPEoMVpla2QtwlQOSqgFe+4FWKPUGK9FmmquWV2nUqqhoxF3SkCt1KDJ6Y1ClXOzmKXLuvUKdty8tcrGUKpxGi/uAd7mNaxKcuzUtBrWFmjG7lE0xUAfyitiVvMyF28OpY0uJZnWmomcHDm2rmW7aigxVwx3iCpRdNPMDbggZTJAO1QIdD9SlNyy6iLWOYWZ3EA3BLjZeHDMnMDNKxGTNwMvVr1PaLTnTBpuCoalrEuvogrGOLSDPUxtu4kc5cRl3zHu5pTzOYZMoxCXjTLG3vU78bgtgmjRuOnUEezzLUammpnVTnUHzDcKcQW5YYYrVJFa6g2dxajLUrYMy9mruCTuORg00t0VUbjTMQOXgiTJt04y8cxfFzgKxR3/AzWGM9sHuJSph5laC7jZcUEFGvuOXdyh2xz8Xx1mJtJZiIVuFjB5JVHjxMqviVgJi4YlZjBiYJ1BbvM05JVlVmcrgUnWYrFQVDnaLKsUjkOmb3KRvh5ht5uLJxMNZPMs5NlkRvjyy1nqJQRCzHKpgiVCo5zAs3qG9xbal51iWIlbInBnEBN1NbQEs5J5RO9SxIFf7lvzB7NQbyZZM9biCEsgItG0VdIrVYuYmiFVslzWAuUbwkaq0sVtuZWDDmIYZzNzhLu6MbW9IuCahXSYqYXVZ3BwxxNzDSsJhqUPAaEUArr+oJa7VuprjdS3CVqFihi5lJN1qvcFyEiiFbiXXUtVCWUnBAtg27mUx8VMhi4HMLAODmDpcq2eWcUbuWPsbmENEs5YFrudt1MS1GaSI4YpD1LWpYYKtEHcsqWogha3FvmILpE4hdJzLb1ETiaYYEry8RCmJZnxxBHE0PFuKiQzWZbddTiUuU1nBcUEsl5l7IFywcsqHbdyu4zjiYtqJhi91OEjhesQwDLhhmtFN8znCUC91PuGPJ33C/wCBcazRaBasY7Uff6UokVSi1GLcajnEW8Mu21HqXygRYc6bcy6vdQpUphxiXb3ExgnMDdxitxcRikzKs+EpuUnpmN2VXmo3TuUJGnGZioAOovqO1fUag5YJmycVEFnjM6HdQ0WKtQ4KXEVGEYmHuIGLjiwhuYEWtHeZoqsdyrUBq1xDk+yIrUvdcypZhUGDiSAUweW4Wvcb6CZ2hjVMrO4NfmWVhiIwqyaqcDDOrEBBUDe24svZ9R4wKm1mOjZHHxzc3HgaiNWTOI31SC9KXc2K8/ufpbrxCtl6qobLaFCtIi6kEF5wRV6iRwq8xoum+o4cY6m1RuVllAaqOlvcHG4XZF5qNg9kozn6jRvmUMRziJRrcOu9MuPKW1khk0TJS3BalZbdm9S3ZqNjU2oeICXcAVdeoUW3tl43B0VNuWJbuJwsSmpg3tg0zRiYhVzNMGjMvpBBjjNxNbhVeJT7lN25jlu/Ew3mDj3ctg3NogUeJVAPcaxcTEIkEuju+IPDMTa4ABfKCnlgt6TCMCqZYIQ6jFs83Y7TzYMQYDYjkT+BBNjlO6wR6vLTAtBSLYIhV6eI3LImTEyrLJVagZ8QjCKvCXb9ynnMpL4juqzKjEqyGCGERJdk4VmFlECmFWeCXcb2smDPepWeyXb7hvi/E7qGq+ouB5JhWMQt/uALZcPrMWhnXiWAxSVtO44t1yTDhjoIufTHcSkNMyQi51LbILMtKQWnMwQymdS1zGsVtll19zktjbpfUpC4LHLmI7xd6ls8PcUim2tTzVT7jA4yww4nLEZoy5l4Zqo407JZN/UHcS8NonsNygxuCSxriIscLlh0Qj1Q19bhyOOCU0V4g8Lbi+bYCAlYlNBMaNs5YmDLFsDJcXwAnqCr7CNto4l01cT1qCveKmrgVm5S24jQa2wHq4DWOAksKR+ohl4gvo5jSCn3M1HymKckAVsbgIreIYYbxH9oYxGnb9RSgvrEzIudYlAEAvLuHEsQebIJc+oecdxcZ/E7bxPTNzy+5QsC0z3RiJ9dELNLBAibPE0cESnuUDzCXawo2BMTwygyfcPBm9bsixQgaB1ArsYlYWNxyId5flt1W91f4Er1ZV96l1ZVPNYjaro2RWdwbdog1Vw9RutTOaYWzEE+4e+TxD5qA5U8xZbz1MV9xOqnBmWriXcA+AA3HRnWZi5eWDwzOxk3FRmq4+KA3LtSb0kWnhDHCZWgvOFiizedxZalcVfTKarWmYOOSWQDvcu27IhNYjSV2MbqIvW420/cBKRiNQe81AQl9Kg7n3C6KjkqiJglNPqbdZ5iGINVzBaunU22vuJVMwqAZn9Sl+JRkslIeCFoXEzCyqZZnjuZH1LWZXcLliLajTRLwUQviDkF3EHdw1uZtb8S17x1LqhgarczSebiOTAjZAjVy/0mmA3UTepplqUOiIItZmAG5YA1zmXl7vM79S/XELYqWYaIPJUw+UGdwQU4zUbru+yYHMpK5imK5n1zK3WyBpOI1nMtc66igI7mby4sjoCbbI6iYn1EMfBaC3Er8QHFX5ivEtG8KjRvNzYli+HUDccZIIVYNCIy19xwAMVFtZLh6csdXbmyNQqVVVFzLzeCHMCF4V5lonMue4rX9cr/AIEwuxrwJufqRg6LxFuo+/qYNcTKEBqqxLfqA5qIIvczVrWAjf8A0wFQwpCuBC8kyjV4nEdSrmaj5ncTM0mICMXtzLWswW27qWsIGUlDCqaYDHHEL6TBbC4YWKSOUS1MtTPHMFUzgycxeGIqLeZarsJ3cZZLrz6hvTxxDnEcxSFi4CgpmWZatlTGUqGcQs4mqnO4gDVx2uNpa1OJUDEC2tR1Y9jmAueXc52VLbxKOUuImjjNxqXvRLtmWlAj2MyIpNuZYuorAGpXc6IhReiLRlLpW4KOSVKXxKe5UtMQSPhlJrmO5SFXuV1siu55TMHGZiK29QZ3qVhrEQRKt8Sy71CgxbqPLuIL3BErzdxXgYuDFLwaI2DEeAltRtMxU0xzpZ/9Ms4e6iiBz6hsMeal6FdwA4n5y1lX61MCYb4mEBGmoVXVTJG5VS7WMW3HuCqEpmJdsoHMWzU2xYC7gqjkA3MjEiLEZENMbgbYQmobhyxO/qBd6hPqbiMLNy09Xv4DEIsXqDNy5HdkSOlXzFYbeSXRll0fTs7i/UCekZacxhRnOYsnFyzuDDBTz8IETEWaZI3UNd1G+5RW4e4Ta5ebng5mx/dTdmpfE0uJod1AD6a9z+5TuCNqBmCp4MTNddQMbZiCgN3FpNyxqrIhW6nk3LeqjZiqJbuWtTK7JcCoF2tzSVjbHI5xMiutQWAx5l04uN7MVGzmAlwQB4lCuI5q2XgubWSmhKxdwqqkpdQu947hbbLshBscZjarKBhiq/BmZtPE9KiSsTDr3CmszOX1KdbmnRPzqBCrgbyStBEoIgUIkydRHbNSzG7Eb59wUr+ojNnatQHXq5U+YvmE0lBKetxq6GXiONqGqmKqyZFvzFxgMxLYXm+4Iu5yxVI5JRRBwPcFrMFsJZRUVuqiGLdzYuPUxAaZn6rqLOpm8aJTUC2mppQmIZOklmJYtxLVsjV7juu4GSWcbluCJBOdwUxQ1LhrEuN3OGUcnUepSjZGUSqvvEspZDmpiDU/r/AczXYsyuZEEZ2+CNVNkdpGy43a1hhwJuUS9wWzmGpUhNFOQ3siioC9xRgZvEQVDIHEUNMdss7xFamBpmZXcNY1MTU3AwqNUcsLTmNm6CAFa1wQtTxLWdtTJZUt/tYYCcqhWYwa9y1Cry3OMx28bxGgNMrHXwfE+4cYjWMQfMCfcb5HmcdeI8XBLzh1AMNkV4qBsl8LmIYCWW19zND3AYDliVnPqAQPeY25gUW3Uz1uXmWlo33KVpuLmUeUrN5jaEWTIyy84CDoBlBziNju57BGjcQpZYtVuUX6gozGXGJVutxCFFo4GeIJxMVmOUUyphGVxicQrlbncHd1A81ChSTD8BmwxMb21EaW5WFymRHbANvJKVBRK1muJVmIrfl0QG7uGTXMuppuU+p7XMhBwnMdoAJm8US1kgq5k+5i/ZLZv9Qq1qIfaIpDFDK1ZDZ1cLeWp3fcazMtEFRYpAuiiog69RxmpdKUI7UXHJKFcQcoh1uNdaiHo18nD9kbe07sbP4COx/wh/pBZbr/ANxbYAbj83LcckpuGCyHU07qUJLCAmmj6JRLDWYAlxq+5VInMwsqzyO5tzqGmNUzCMxWNxfE2mIDNxYI4cfUMtfcs1LW8QKIBfP9yk1qJazdllo3xxcwg/iUDdzIctQuwK3cVtejUsK9ke43qYuqzKYgMSg6mFjBp/cwqXef1ELvONxLXuFfxBSEB0ZYYW+OSOx1xOisxvB26lAj3NpUHXBqWw5ccwq3NkwJHSRq64xcKLOfEAyIacwwP9SkMKlRNxbOoGNSqFMcuiBdXMXNHAllMaW8R/OpT9iYrDKKwRyF5jWumYu1gmzsjUsERL4uO79THnHxkNkEodRvCVVsGuLQinxA339RmTNIy11EKXLB0XG7vxLIy6LqKaZkiM9wayiq9Qs55iXTEGfcyINnzqOKKgFhEMplgLKYpWHNwU5gZFswZbeCrhRczTM1pEpf4lwbhkuKEG5ngVmKc6iWwTLLFSvMyuNrcEoPmH1TLx3KCjrcXC7jFAqtzyhk+YIE3gxG3gjoP4n2mig/gGtSmwm/GvMVR0qsRlHw2cwP1MYKuCF6JKWSjnkZ3dy1n/pD6TEG39S8vdxf3F3G68RFqZriFU+4kB2y0zcpGDtiXiWtxNVBtfMFODUBw97IGfMAUXOL8y2tfuAMSqvExmNnCAJVQyHBTLWZi0mL3mKNI6YszRuLiIWLuYLhD1iup5SBRbmcVt8zNV1qGL7l2X5iFMVpUSgixbxDJH1+INYgYix01Ap9yqwYxXbHFDiKlZ5xLKw08anLiExT3DeOCIjdrUcmGCy31Dyyi4NwW/qD3PYagFKfupyoxLsA7he7jVGdTZDbc2viIjmMS6lNIKY5ntBnZOhBzY3LzuGXaRMnphmi5WKS0YDAJmpeuZhS4l+uIVcqjqCURKHivhbMYhWiKdNaIiMpRb6l/ITaWkBjC4AmWLpuCB1C6ZVrmZq83L8bIUisAY0iHL15gWzVznVxMYKzv4plqVXEqQlHGJpGKMoZioVt0RS1t2xVPcpR53Cg7SDAdQAWpZSn0S9Lvpb/AOATUm37Cie2OHNkZVcsUuu5kU3AuWL8Hq4UeJcUF7gvnMpGIpMU3rMeWVxC83cWyO6iRgI4bxUosmMsslLjiLlhik+DVQW4IKiod3AFalFwVZpjrMqatSzhiUVWVuFBUM7qNa9weDbHWI8kDMwD4OLIqcpUC65l/wAyxpGkC+Y0WoKuGLZWCzEGHeswM4NSkGkbsIJeCOOeNQWpy5Wop+XUtzuobwpwMsxJHPuAQWAVY2aYNrc2TQxLK/RFb9JVaWYI7YGHNyqqmFf+pYcRembLlho3HANdRIROqal4mIviVTBuXLW2LqClyGm40t1OE7j5bjkqW/Go2EAJ9QMb9RcpXghluVTzLri6hd5ZSJr1C8kyiU6gDnMGFKFIN1hiHcrE0y6iVrxuNWqtibqXrXMOz4WqCaEFmBHqURr1mBcBUK7iste5jW5y0VHCPwC07gbXrUReCYAVzUbzqGINERJWMcwVcS0OiCMvUIqGrxHB4uCCYJleCVaJRT7lqjk7J8F/AM652Od4EHMQK7ioEUHNy7gIucfAMkGImnWIcwUDPcEzKXu44bzcq6goBKqLMu11Ka1MVOYruo1VeJTHxiGfPiFBuPtlu8VAvho3KOxiWl0SitZl5qriISiwz5gXjbQygxCsRMlcXECJLJg8QQWquZ22X4lw3uKZvDqCrDVaXKRz7mMupRY7zudiVygYPr3Eaz3mXr3G3cNMxUckxlGL28weir18QwXHGTnUAQriYvPcw07i3X6uZupSQEajVuWpXF3BYw+oFlYJLryuVdf6hRKI3fEtHsjpl44izi40Rhge5c1fnNXKZpuZaxqBs4YWyYucF4ngkyNGYKGZY+4KFwNmMS19xSmYrEMm9xU9JoiL1co0aqGmIqXNZmTx8FKMfcE25gz21MJzq4jD+YGW5dsKbPxHGIl4ZjL/AKqf/SuZkOIxJlrQfDNlzR5ltbhaQrP9xt0QTEC9auBlbiWvmIHlAYvSQEqIWoZYiPkiJu4SYyK23MDeyPJzNlLmb7h2BWiXHm4WmXmA5h9H3yX+AQTsADjdylxw4l/NMtHKJcTCVrMLvcZcGd7lDtISHWom1nqLYPqPLWZfMVuCIVd/UKFY1wR965JkNMJeEqcTiYggLrG4sbgYDK0EsLWLgVQy7d4CYAYRyXXvuWFLqFqP9RbUNdRNttRMMs289SyvmHDkxMTdZlWQFmWNmybVDcDUtvWdTSggGG9sV1UeIJXx3LvIb6jVGIjVXqCYKzDC1iYFMbIjdCIqETb2uNvGuPEu1v8AMbUzbWYnnEBWX1MpqkYCnzuYdpRa5YsmmqhuOWZtYQVKNVB7TFUXDAwFcQRzUaH+yKS9Ne5ZeCdmOYFB5uOK5ivVRWR5RqvjDmP9o22n1iVe/cxcpHYR8ooDZ6iSoOkl5lHBGXZEcnRLYUhCr3uDuHUNq5iteYFhMN6jRwTAXUzivR2wlF/6hZhMiUZl0TEu11PTfmJTbASCpw+HfvU25zGzBLyvPnuYViqCJKq6zLWYjYXUFTcBeoj0fEKY77Zak8zIeuY1e5pBR5ikLuNjWo6FfbyfwBjzO/NMPay3tc7l2/EyOOIpWKnKo1CHFyvuU3yys3L0cUw8sKiwFTHjELzxK7/EbolZYmcw1UrMV+pRco1uV23LlrHhUMQrHiNIMBlFFy6HuLQjbx1LrxiZ3TEtVkrtDOCOuJahCFY3HTqNAr7jpqL8VQjaJaGJa/aVs1MjfM5N5I1tzCUymNm7liZQDN3c2wc3FWtxFQyrzDIyzOjphW4V0R4esT8KgFNy6CmYtuVijE6blFteJS8wW7wQYxupgb4JpUsPEMuZWXmt3GL1MBx7zHOQlYpljdzIspeSNu6ohTlaLlPSWPE01xE6cyqNysViPDzFEEZzRvlihmGstTiDjxzN8XUd3ZawY6mmeNMxsMail3eKcTDRU2ZZj5zJi5wwaXMEQ1qLLmziGqouaa64i54nJBU61GrwTll+YkHMv/0Q4ZmoUr+5g+OoWaGyCcrI0c+qmKxDDUpC3cKNFsyg4alnS4EugwSnpELZBmOmpmN5CI0jldyzRuLgVgmLm+YDAYcncAGABsSx/wA/DL6P1pj47buJHPDV+owoo7C/N1N/7iWxF1LYjfUCmDLE94bjdCytuPcqthMVqVec9RAalNvMds5mFxMTlxLxPcpgGJikomkEuJzE/V6h4Wxt3KAzZuYoyqQT0ijMjVmJt/q5Y1AbOdy6VqYCqmdsXEXl9kGU0llQV+IXeCJ0IXYrzUMG50ijeJolF2FwoezqWdRgUx7iJamtTBVkpTqt/C8XhmytTTfcMhkmbgHO5YIQuJV7hjcbq0KY4Ut5gSpdJrEqynP+oQWmUB5gLZy/iV5gmMZ7hd2vMsGJgiI26r+oho6heEqnuKGHhiQEaB3ZxErOLCqgjXMVLZLxouUuo+ebmLveY0S24GASytzAEoOsuptLlLDxAmIKjV+pdYfDP5JQ2H6nQ4i0MTFrPTFzIahTZB7NSxivoEFXMbOIo1+YMB8WdRW5fFXDJLtea4g8XCmLYJ1i44Y0reIgygyBz8EpmTmOMx4h3E8xWrxF3iKwmBjXEWBcvevcC3CZeOCZKsJaPIwyr3/ak/z8K2ff8pcCewcR9rGWxVt8sXOJy4h2tR3uKkCxcF06YaG2+EfJiFtDdQObAqYvhcsvl+KmLjmLWbm3mKVubeoGYG84uXFWbFajYX3CiWoPncunpmLZ7fXxhS/xxGyz0RCBx6qFVvcSwceFn4CDdK53EriVTPuWsZheNwF3UtVis8TLbV+ZQWxZntOcYmmSoZ5qWNRTt3MVHhvFzleCeDADRmoDjUPLmUCCMwpa42yiNBlwbAsqdVQVBwyrLhgurgiUsFcuqKSrywQqr4JYNhxDk5ijZmo2JWCUXG7Xj1N0EcNosBMWW5si2N+IKkrMCrDIRYL215gIHLK3RuCx1M4CnzMK1A7JKrH/ANzMhf3NL8waxRqW7rExeGOwpmO7GCpxGzUtCqlc7PhvNbZxmNV4ltZZm5lUXxPbNxkXpGrn3CpjS4hZO2LkzGYRdtQzWFiX9QwH8x4cRDm477dRAGU4YZu6ma0x3uUJcJxHJilPEx04nFK5vq4l7eJZqNVqcKXPEt9eYDF2Ho/pf58LwLhyTH8xl79bXssw5UdmZTMaS65iEOpbHNJG/i4Jc3VxS8t0ImXu4SW1FzfxmvhhgfgGGPEw6JiyMwNnuWhAnUqTuYM5g99Qfn4ZKqekLUKJiO3VMqm9xFJN1bjTfcrxGyPthafcpkDXMbM8LBc5cwaKm4LM5+AEFEpbEaoqsS84mKvG8xTomlWeGGRWO74iHUxzuXfFz2TBrcCl2MLbIcAi3UrVsvLEAux4xMFS7KlmSuZQqswuuI+m42uJrNRKCCNk2adzcIQrcxsV5g0amJoq2eRuXeeJjn3catlXxX1Ktp47hxiFOoItIKGM1MXjUxfRcyNV6gqGW3bnUA2TAmItmNQMkRhwRyMyy9fUP7l1VVOh93K3bcSm7snESzPMKrcsA/sgqaks/bEbu69y9x4+KdXqWhjLOamHLLzhjlquJgzzBy8S/F3EvWoC0rRVRFV5JkjawXLmcVc29xKqUV5jCRYtFPEArbiGqdsFSluIlpTWZwQOZRafcuSLN+Hf7/z7Qnf8X/fBUni7hPKilnmOKNkWpajESk2MrGJixV4+KxubplAN09xVlcw5S1XxBQjdOLuXtikx1LjLLS7JpWoJWZnuF1GqGW3N1qoQMEcDEBPLCU5zLyTd/qF5YZcZgtdszWGJlVYhSsWsxaXLYgatcdQ8uSLggspPJBe5vuUBOFDUHzZFQBKsZZeW9QKN5jtYtvM2INLl5iq7metR8Mx5MQjgxzNmZRMxBxomQbuVqpgpqAnddxwDvmcDGiXugjyyqbmxjgViWOZm9lzFIFTc2wBC3AhjBcEmtwS3KVHbZhGUjcK2EVOM8zlgcJDua1Gwkau6g10xbfMCsvXuIa5XcA7+oNeCFzThmSnqUKYIGnOpQhL9Sx4mvESpTogVeNQMbyxxmoXWWrmGgmcGblIQYZk6iqjO+Jt5YRfiWRNqx8VmCwviCqo1Bq6gpdSi1NEZU2JiXUGTKw6IKYzYZTkx6mQR3CYZXsQtEwCmCCP2jYTIYGRYWXfESDMU7T/z2tTWhk0437Q7LkOoyqKwUGI8ppYOWBn0SycRvEW2NUbhydwZXniLZKF6iOkSkY4UzELHxmNR4mZeIWRywoiVP1Eb1GrMzAl5UdzSlzEcwztwaJYvLEEoCNhZjEC6agbjFqYqAZFq4CPLUsov0TYwCXeJVTariBFQahaNQC93N/UvBi43Y8krGwnT7uBYWDvd3GrxOrhbLAuqvyxHRLVBz7iwzcAWgCZlc4lLmOjr4FB3jqGN4g5SWJW9wLdmpkn/ALGXZa/6iDVRtT06ltRHUSxK9S28sKJWZbqoCStufuOBhYAdxa5hda3GyXzOYV6mQ5iVQxW4pkR4HUUHGWCudQsXLs6tlisRPyQ8kwMwtYjqNjFEc1DSVRi2A0mzKQaxljneZo3fqK3uBRAWN0EsLC8NRC5TuDFBUxwwuzzFrcKuNBu7ly6qDSLGTMUjOKh+YY54lrqsQeAi418OK7CKqorjUydyy+WB+Ow6zACkfOIoc78RMnEx2zYQB++IKvpYf/Pb73i7h2VqnlrK5j5czdjDOfuZl+JqO+8ywrUqyYZaDMzMPcJYnFJaAM88YgjpnviYJF13bqZDvmVkhcx4g9yw5lFqzBWYcyvhWjPMdzO7gKTTLLvEvVVKaceZp56hklV5hxuVJVMLBWWXlUwC2qrESnXaSlZEBTZvuOFm4VGDMq4ypqhDLF73AyploLtmRM55nB5JQF+YlAghF6I35XKjYLNwVeZy53EJrRMjeOmUyqZBfxE6hYy3PPiI3EK9mZQVyTNKpA03nM+/MyzH4QaJTDD+pXnLFN1mG2Ykf1AhiGEwwSn7ljqDvLUShBBUWcGMstv7ll1qN4oqIAZiKsCVAz9TlLn0mL9n9TdwbYYlruIRuYbyzChEM1MsSnsh6n7uXcs3motK7lWhX3HZM53qYIN6lorBMHbEFtzAxxOXcJCckxe5TW5hgsjiKRBBpLhzbLX3csETdRc1cR3ApfEeRiCZCPPiKXXEpwaiZe3qVbPA3FWViHECnjVxHDzN3BPGCBR3KDJTPXCb22cUbP8APGd77CDPmDQJimHaJ1U01LWwdY7v44Ll1bBNy8+peahxGBFUOTD7i5b9Q0vzwy08Y0t11BtWZQLLSFeZlMdy7hV0mSDiYi6N4lorzOVEVKOoNi5qO6/1LIUao9yzMQF4lhctxa4h3MbLgoUfFQhKVu7xg7gavP8AolLbeLl+NSi1t+GmPvHUvG2GG2a3VzcuYPTmIt11C0FpqpVa6Li2cs5VedS7ZZIZ3iGVxEpp4l1/3LRWvireo3VeJk0kC4Fm3vFwUfUd7xM88S086xL4EBBBaYuG2kjaqikG/KpVubiaJS86jS4KmdQxfJCzCWXa0QuauU2VLB47hipydxRjMptljnMRsrmDi9zMTEu7Kym6IbYZbjAvF6gbZmNSs4I3zG6MwFYmvcE+7lmJdNjPpIAsHM3hgxLaiKGDUorEqxdSz6hhgn5Ix1uG2VOJZw1LMVZGtpNVUGfMpcupk9VEpcDCq1ZcRdRzFROuIcYlimI1Fwu5ZMC+YAPMd3mFNkoshvxAjQ15iqNckMd67nK/55e21s4vpftiEGr3zGjVy6+blMwquphgmGZTYmVLMRc4S7JqGJnuJS+hBSKCzCDF6itckXesysyo3ncqZuAW3czecQ27jLYN/F/cMOZaDbMAqVliOWbfczqKrmYOLfqYS0f9SjS9ViJYauMkW2rqBigl7ScwyQMrzFpUJX1LxiZfMDK2url9weKlF9zMvUorMBrpBGSK2KQNlxUQV1Cwt8c8ysPOpcRVxS8S3MKZzLpuFOGKG1Qq7mXNx7dxyy1cVCqeY3P+5l2QqqmSKNmv6guG5pVG9wfygAHMtCrd7nD3KkuLfiJgW6jQdF0xQ9dyzQjVHbiUqHbKqsYxKc4KgFcEaRjV4+5holNXfF1P6JWWLK0p3Ao6icoZycSl/UNOJRSDWghVxbvNQ1uIHJM3upndUMaOJj/SDUayilmYuTNDEYuoSM8Tncwszc4Yanc6eJRYtqWriF1tgbZgAltuGK11MROLSHiLXMEyzqOEBSE0B4hywWNjLE1BlOI3i4Z5htN/Uqn/ADtQ6BO60ftljOwnPaC7a6qXAOu+4tFzwJCUoivi5S4FPwESZqJVUe412riw0J4mVrn3qJhNcLUOU/tgHLMWPEaq+5X/ALZpzM1W7mmoPxbTuPyNwrvMpcBrvcqnOoNjEHSWUBcquyX0Zqqiag05YM4MXNCjmANtBGW7tlHXEQ0dMTGq+LPMYfcPpAaghe5nYhYc/iXrC1EeMeJuD5TIOpR2gNSkTEscEuytRTMClzHbqIW5qNNEKTKzYTF+5r7Q2Sipts3OdEBtzmBWX6ZRXmiOHMDV5zAUOZbf6hnMze5w5iz4jRAD3ipZSaZR2mKK6jSRTaGMQqs+2aTBu91AnP1FWWHK+JRtFCjBzH8OITB4+DVudwxG3MwlrX1FL9QopX3LWjUs1yxG83K704mKilVFdYi6PqHCLZHd4jpiKjMFgBlGHVxHuNc/UekblvzVkqjEUTcCyDjUFV+pqYIJcsK65gOb6msxEx4lhojsYnptmOpWeBGY1xUsD3KExHAviWVVQfuZuUX1GfxO+Wv/ADvAo3sI3oO7CUBpxEXQeJxUa+KMfAt5fzGNKRcmIg3FagBol12MajvIlH7pxKpliMGzeYH4E5hdsTknMcphxnMzcxZW7IM5+K6JUXHE3rmZCYjFwlyrb1xAK6YKqlS1ru9zZHEzF4RKOHcFMVeovHiVOMS9wumZNYhdMSC1MPXwSm/M5zCq6XiJpA5mQ9RB9yn0XKLvOIcdriIJR9Smi4lhMGjNystk2qn4Yu+I2vqA3ubTLCuuYVVbO5kHLvEvBd7zLWuoYsXmFW4NcwHcXKmoYwO4gh29wBcuJVN2yzUwyHncBBDzKZIjTWNwExiaMvWLlXmojXcfpiYK54idNktXLnmK86ZZeHMVIc+ZYWxbPmaMSiW4Y6Gx7jm8TtV1C2UG8QVnUpWGSJbFtg8SyceiV+eIZSjDbB/0uN2YIqyiIXn6hm8y7N1KzPOf9fDd3FULzNpWzc8anC2H1uVRqyL1BqWsPEAHMe0Q+mVxL7maiVE4QZhH1ibMKJggeIc2FSjFnMaXnHMNk11b/Vf87+r4/LJWb4JgUJdvxEtMajzDYiFx2RyvUTGqItuuInb6l5myPMFDWSFekYgF5slDBmIvVz06lwVi4LOagURqiC1FJWTW5riF8xjcHFw1r4ACWaMKGo3VEKfXUDpUFRXfMsD3C0IhebM/3AvAVDLf3DKaVHuXB+IG3/UWqm1bj15jWZYdVPMw3GhaI2YmrfqFVqBS5QKJG8MhLVQViDh++p5N3OquuLmRRscT6mR6ig8NkoUAMtcTMADiZx0xxuijepu7jdt8y14Isp7IUdvMelcwdF6li8DANmM8QFFj7uBnze+4xdpVsqjbvMwEtQw3+o1T2S03jzHAGpeNTF6CplxMjcDCI0JmBGoUYA11HUrslGcSkSxi42clMV1Ly6g0sovP3KYcIHonitTOoqomt+ZdfBgKmDvctrB8C21mVrqWFN3LpfUtReogf6JTwNzJ1BytjYS8VUq+5QEyOI1epd8EKg27hCAm9cyjFSla8wEyCEdA4jWM2QVGFazE8wpMEDFZijxKW5SF4Za6VKyTI5Yi5gtfr/8AOrOyh8twSzcTbsjVy6gAbma9SnYxRU61Fcal51NHZDWb+KdsdQKXbFSF3ggLN33GXSNxWJV6S0XipmZuIK/cbuJjEbqF3EEvqYY3KK9konNSzJMioXdkK/fc0dw6gcrzqddFx6aZThoIgZu6lGo5VPTFVOYJTxKKBd8TAsY65jv7Sw4x3A2z7gViA5nZ1EkXBxKAcXqAXmfRiXBlPNyinqAE8yiggdl9xtEzTknI7/qJaxnEWECks4qKE1qKiqIjWCC3YXUWh1F6mAXmUcIWOruCVUydNcYhWawalIGL7gFmOY5XZL07mfUs414nRJneotMsz31NjeGUmWIZveIGPEuIDqNqDcRLcS0YOaq4JZcGhFxDri4Ut1WoLGZpmGtH1BA16nIbxMuI4GDcaxKpxF0M8eNRoHMRW9RsouYysdxvDKYa9xOpxePU1xxDVzTWevhexG1luKcXGtqJGFdS9k2mYDctES8Rs3UvHuIOJeIOkJvqbZTCY2jzuCls4lFy/EVID2jDgM1BTQwWYrRTMxAK19SyNcXKK3CYyR7GNUB3oP8AOWN1i5j0KXbu9EwDSWrMWjV3qckq2C8I2ViU6l4fCcxBbcCgmSA0aSL1jbSlGOT4lUd2RDWoqamAlsv+/glv1NAhxHb1L+BuqjFjfUMiHqUOeIVXF/8AcKzqZ4MpMqW8y3HuJLviYDMS0ZYH3qYHGe4PqLQ84l5JZYy7OpmUqLWCwcLWZaqDMSk6YVds3yYZtRG4ZlA8XD8IoHEzuLfdS69zIuWNy5jJClQFS0Itk6QzWt5j43LNVcKNLqUW1DNpYCoWYNG4woDthZVuVbcAoXGkQaVK+Us3m+5yoMwOtZuJhTh17ibXljvjF4lrlND9zN3pYpTMdOriChwxZOZtIAcSoKtuFkvzFbvUOXmCwrLNQEBiYMJ6gSUXr1FsCkcsGuojWCXvqVmGjiXhLXES5akr7mU833BadS6XidpwvQdxtccSwMboRq6I2O5zMTNmZSl3M5jcQ0wwmGu5YI5nDxG3O5VBHub5LJlco3mNDEqC8Wx7b5mMzBzDXMxzM7YlgTKsQGraiUH5g5Xi8X+cxq163PuYajgjUdRyvmJllBi9xFDUxM1ZHEr83Lm1aixU6YDMDPk9TLeFTBHuojmxXUC0H6iiLUzCC43qKu6jNEKnZgtzZ8CxQ1AE3FNzNF1MW41Dk1NOyCryc9y6mKgR+y4CGG1TTvHfuWuDfiWGszTV+41j+4fOYXw4l41BU8dTKiuZwZjXHrMauGsT1IMRimsShdEMmom24yBmV5up2gXTpmGJXN+ImsS1cxbh+CLakyTLiItmK1uXV4gtEKbNxK00eI/1phVbRBdKZgylXEaySyjUsFDUXpkZeQyuV+pS2sFSoMUOrzCWxvAvMFG4GbHuN23zMXbHIrcahkSWjh6mFO5bRuyHfdSsG+8zOcpMEyAhtaxcDhA+JsYhWu/iV0yxAMSjHdw3qFXabliK1xFZbEXSESWDPBrRLxiZeZY8SgWY1p1LDgxLH63BYJS1mA9QoZ9zn5xe5RjNx1uLAsxt8TrP5mQdZgqTIfcXBsnAfmCHUu6YJEol3iZEbm1TeJ9RcToTc1NT3G74xFO+p5QkWIvVJ/zg3yHerqmxOP3mr6msGHEvCxiZubyRw3G4T1Ayl6jVZIIfDDapasyx9QKsGDdwtecbmaNY3BJqgS81Ky+401UG09z2jjPxQLM8RM+Zk/6nM6udQwRq6nuYxyQ8S5lJocQYh1AiCiaC4q2a1RCWVW+KjtFBmqTU0rUbv1FOMPxUCty7MsEbOJaWcMTnMyDqual0PuI5lVGpV844Yjs4juualGM63OMC5dRrRbFVYmOvMGd4luanAxib3c5icGwqCUywIViLDWuZY1rBEQbiZEoqtkt3E/uBvUvTTA2c1Fpx9MCI3MOKu4Lf3MW27eWYUuWX1Kb1giA5gO0SiXpXMAaW3EfEtMrGV9yzNsRUldwEmDOoHYyjuX1DfqDlgb3EGaxKa+473XiAZriYGVZuOq3OQQVlQmKrRG6KIVi8cQyPncwq5lLlb3EU4iEIRiDicy1ZSZqUPSotOZbwkLvmYMjErLX7amTdShJ73MmBuJqLLcrB5n4RErNmZZZQuWgGm9S2/MoZl71NamQ1Bne0g0rFPyv84oEAPuFm5Y6HcpY0U7lzlmO95m8wxzBvPXwHz9ywOY+mp0S4qeY+LOw1iLCcgZOYNrrUC+Mb3h1G3eoGqm4PyBpgncu86ZbX1FgObmF+Ez6mXOrll6j/APkbxkmcQsOLS4YO4Zo7jk4ermCu5g3DDbG+DcpXFRt5lLhealtgkxK7lZlL9yqgltE05mWuMQxnfUQvP/5KPbCys1mU2iblAxNNO5wNxP51cvkGo7Z5iOog4qJnqJXP1N4Uc8yrpW4nqas48we5i0/uXnCorCsOpTwgYwbm9LLFqaZ3B1CsmYnML0riOfdx1niV9kCL0waqaCUNAxKBaIzVcXHdQN5ZZ/uNynOoBy1uKXjqFpFEdbhjMLXOiDRgdQPMKmL5l8O3LKMzr4HWItK8xMtfBlVxAacwqDiXA0Yme2FBgB1Mi03EkbHMNrupbd3cGu5pu4XczbE9wW9YJTAZjUyS1CYn5VGlS2jEMKsgSN0/ZHUF3KaMWKgYVxNA1WoV2wubRdQZly8xcGWK1LXBBmbV9mpP+cU6zNq5fD5znsliWX6mtm5WzmPDLdQtvxLuYosYP1EvDFaL3Kb6gD4XCcMsuhxzBVBmTHEwXRDEapiiu5U8uIK04lbOp3uaSoszKh6gncMpmLSU5xUTJmXa+JZcscxrOWEPUKQFe4FUsoLrmDTR3uOIpVXeI7L/ABCWz8D1LWzllN7qXLf3LvSy1zRHgl0J1AaWWZZXMtJSvHUasgHtLXTKdXErxDBfoS2MYqWxnLExkiI3DIqI0NRUtTX+5itwE7qZNkFFzezcOcyyh0TYGEmax7gK6uaEXJykH+5tobjFsKFc1iZupfCa5lKN517me8GYuyVLu1zJqtRC3qflmciLuKbipQstowGtSm4++YgnU3D4dwYCXlZLo93K73FnEN8e47eIlorplc3EL9S8NEAGo4t3Cm2qmBTEXFlRUn1LFlqrmbctys4uPLxDrJEy4I3k1MxVczLLCo0EsrEWZwR9y28EGwiAM3K5ztjWXmWW3CVJQF3FKlNEzjN33Fahl4gWZhW1CHRyxLuypTmyGE5IJ1mOtz+/83PUWdrZUSV+yEUVq38cRsGu5kojsx4DDqIoncymo8oIfcFupY3EWJnqWbtbjQHeGHDcwu8QCyeol546jQkCMV7gpe5ZeY4il6m9/FwqEsmn6l2Slt/Upgy18BmZsuWnq91Mc1kli4ogvlxApusGaiUpRYXHTXcsffMu5ivUpreoYQuPqUXKqaeMQZptmF9pc+skd0c4qcIQCzqCigwI/vxMW5rjURsTHiJq8ZI7LznceYK5jjDqZAQrvUKPqXl2ygJUfDLW/wBQsM8RynDczJXmVEo8y3i8RoDgmc6hdXEfp+pZXMw73Ez5Zyvkhpi2rgukK19yiUXzfMSjZAcXRGhJYQln7mnomz7itpxUM8Qu5isS4EBczIhWY+CqhSZYCBMXqCtrUBNizLqKzRct3FLOGXjMMtXBYtBPSFU/AJFheKg6S5YXuI2VChsicylgyYhWOMSuamcy7hmuWN2FQvL3Li8YiIISlGmt7iDKhAlOpXJC0z1EthtzAsj91MWNcSy7rxKKKvUpIznmVkqBfMb1EzyQgcxMc0/5sCsRXaeeHlqO2XnXBcZyisrmEzmcsck/3DW4DWZZcxM3N3iIXxMgqIgTVRMTNlzKSpYrNbiOOJkbRqpp9wDDxFho+ONcysZxCrPcHDmcQ4ly8VKasx4gi56nEpKjKvd+oXbRKtmFAzcxC44GN7jR2TIBeyA2zA5dxPxXEqXTLVVy2Vm7icysQxEK+Keqg5MxaruHKsXAveouRRhlS7lZRDxB6GWAauLQMwWTrZGlvMpMuFaY+ElrFirFxEbal25lfdMKjb/YxMDC+orsQzAdeYjzxLjV+YG6dxBA0fZFBeYLsuzmBV+oj3XMs46irMTXplNlYN3EUkyYpeoHkT0lZcYmVuNpbALpxC8QKt7iQGfu4Bb9QDCTCBTlUFMwvDLvKVUQrMRqUM1qUNahGsO5vzuAGO2tQwGyAFnNyhXghfcFIYqUb33UULKzcsSz0RuzbCi0S2UMfuXHwgZIFuZbTKIJe2Z5bgWTDFwDAWocsoqClzDuctaIBQixYwcze9TiOe48kBq4dGGXiA8ohnFSlV0QHWPMoxbFf+4VcTm/sgpX5l/zbTS4eRKgeAgpUNmY2WJQtCLHcvPcW33A0YlrxLE3EcxHNNQa0tnMaqGx8w03Md2sr3OqWErGR5zACVbcTyQiaxYwY+BrEyR/EszmcwhaVqckxTcqJ5gPcLqVFj3NTN3iIW5e2k5l8YzAz/bClXcozUbp9Yn1WY3kAm1iOJf56iujuViFJLDjMN7lw70S9n9S4Q0rKd/mUJ/UyNRoC84mjPHEHmhWLa8x3RzAsyBRGhKInULfAI8S1hBhloGCXN7mHFSqdEGr0xes6gKi4AMLu6mbWaHmbcm4lomABLQcSim2IUtM3MinzC7dUxYTWZeftUSTxUNW7u4im4rcFVObm/Cau9THDiG5g/C0KGJgA9w1Aty0Qy1mXZ94zFUrjmNKgRxhVlXVW5gkZ2MUT2S6vOJeWDzLtMIJqfTGo1Zjak0rqWh35nLCJ2SopfJBG5xqW4KzN73LbbZf9xpMwBMTQ3CjuaVXEeTEDj4IU/HqBGfcdVuAOVFRZRcrBXiL4Th8ELK8wtN9nS/+as/iq9AtY8wniof6SU7VTCOJZ2SvTqc7jdzJc9x0FRtqW1ualGMeJdkRuq+KWVltH6lWOazC4YVEMl8SoYTudy1OpuRu7l5yS4hTzKzKXAzOZdt3DeLhTlpjqX4qG5SVhhhmU1GAwXEuqvEFtlVf9eYGLctxwaNBiF+IhWoUW9zmA03G0d3ULpxL+4LMwKAllOZycZjQGrGPmI+/3AwpvDF817iVwvmGyuJkWgS5ZjbSpVFkGxir8RFTgouU4aIKcxZ1C3gwFNRTB4gC05zKbIQNt8kBd4jeBdRea+pivRPqIGOEXFBuAASi2mU1fO4KdZrUuOGaZQZxxqJeZVYnMaJ5RNQvzLYkMDiCLGl7lJDdXAq0wpNa4iPLxKla7ZRL3UWemWXqWGRflg21iaYOYuHuMO9zlDwzcBQMoSDWwzOVVcoyvXEAoxiA8CbANVMKUlUsRlcSopLxmX8bq5ZDe5yqGKYTtKF9xYhVGPZMBmrOorrdRMjBfpLjhjsYqV0lA9wl64hRRRK3m4zMekmWO4IZTLrDJaJ9/wCamg8SN1cYKAyb5+pRQ3nfUOQRXFss6JkhepsSyoGLpZTWpzrBDdQ4gMxYV1jqY7veX4lWUYKhSFwLQHWJRJVkxMrmasxcVNvjESx8TNQrEpg7zCDHcZjGJzCtcQ/smqxD6YgeSYQxfUAoKlq3j1N3EB05iIq5VLgTMcnm5ajGi/jmBWmZnuabmKJRZALcw35llVCwKTBqNdpaY6+DR98xwybhXP1G7zgDUodTCLHqLG81LXBQzkgCwzApsqIZgVSVBasnJcF8zOMVUxlrLxKCDq5W0IG8ZuCumX+4hzLQ1oJhvucnVQWi2I2XzKcQ4CIyVMmVrGpY89Rus4YblBe7nEvUprLLqC0J+0xzxBO5REw9QwagJ0wUqWKmVggVUGhmO4KeNQMkavUQq43m9ThmouTEvoq44I4xMWrmCcnEDbqW4AyoGGNDFwxlzE1Hyy5FdZxEoaly3/T4pWJ1CxyxHupcdaiPtgLlAvjMQHuAPCo5We5gpzEZVL3CqLg2JQNwFD3Czbcpv1Ab7itDbjUMmDOZcOmR3jf5qudz7pk03dsmolssWN03BQV2RunEY2vMzdVEzdT0jvUPcrZxA1n5FzY8zJHlcC9IyrowQJaTCyjJGpbEcNOMzMyj4GrmWXTqAKi9SkO5dGpvmXmNyrPr4DIkwdRdnDM48RMFEgPzzEQycxu7G8VMchZ3PpiPCOIcPw47iYMvqGsQb1xNty0dQKBSOr/cxy3HhGF4uXuAtXhMkUbtl1ymRhQtYe/M/IxmZGY5cy71cp7uHrDGsqQox8d5dLGK4t8Yok26I6yV3U5zGl+8RMkG7zbMi7zE1lRKR1UaeYmLusxqmjNxsMS6KuLo65naAtiMNgoInUN4jhmOBbADBLacYgKTzAsQNd4gFfc2rUTyTpKrAXEpxFjKLDDLqOCio8VdR31ChqZN85uUuYVf/qP1qfl5mksyxnHUAH1qbAMwV/M59kMFL8R0bgJkWokZq4S5YXSQaImbgYmri1AgZJlSYI8mvUwSAYzmWi1nZuUhGFq2TksRcuhg/Eu/NSl03OmffccKnCNs3AW4pht01Rv9MEQT/NC3OFo3pBu27u5ZbfJFvPuNqJak4jruYl5m5fd5nEoqOisS0dcRp4jACzE81KbKjvFwv1UMqu4ONi7iopwLRh3U2PO4ywNTNfGYGY1My/i4PFRTLpE7Yn2nJFmZupepQfUNMoFc7mRuy5RbS4g5I4q3Oa48TeYleYVdzDUp1KoZpnBTmF3dzKXcyD/qUjANN0xSsVDJ9l+YlZgDyczk7zHPMeW7mRXUVWcXMs3NtyqNxLYoDMR9REeZbn9Sn+o5UTmBbHd4JWbzLGWLW9xFq6IqzdRKAqrl2KDiKivMBWvUKvJuLgsiWCuK5gTQZmTGszwPu4uzZpiCJpGrO4NusEq2uiOSFVBWxIGtwccUy87ZfvHEteOErse8dfAKox/7qXjDjgNwVXgJo78xJffEEQYy3HaFy34LLkZRau/MVNalAzFzVaiNRC2omxmbgzuNQW0EAaYmLmMFtSjgiX7Rw17+OPjEqhpiacxsgUwIOcQXzCjmKgriLdpuUpi9GMRlIWh4Jaq7gixXqDpuZMr+9xga9wOkVq/RA/5mYAsp0kJsUPzdUa7szuKy2+Ilh7qIg2CXLamcQEXEDVEGmYZXCQUxKxsDFRReN8zpAM9R6SIbLbGADOOoG3jgivEYQsl4hupcE7iNwNyniN3NjC4yILnhlCW1mPEt4fzC4L9PMyG/crzUGspLp1G7QMxhf7lUVRd4iecSrPgJWZzUKdkxLBiAT1BVLYDgojQ7uOCnu43z1ER01QMKhFa3vWIqgupbdLviUc7lK13uNiQWwyg1dZibmi2CXXEsIZQapllrKOoCLbzK/TKu0QN3EVqpzplATOgjYWRBHUPxzMjBAq6KhaK8VGO6jdUtQoVfuAPuWXdQ8RxeJcs7l/m4i8pHOThhUpslJKHMoeepfjOgZZTg0Y/7rCNrtrPqb1c6/wB8N8b1IQtfu74uH/M7eTvXn7glctxfgalBDXH97GUWQKbhYYFQoDiKwAgj6qNrPM1rUchgZyxQtCYTF+o0HfcomXmPKWCoLFJecYiIQyM5VBxEmzcBZQY4l1cswmPgKEdviGFYYJz2nMsvJHHO4Uci9S5QLrPwkO8wreKqX2VAKSty/wCHfyn/ADOg17vZ5luQcOVisIiLGrXior5m7lXevUpzB3M8EHiaFSsW8T2xqXRKmBVBiV6hQL58xDwy4/JWPMF0NM5l7eai38Yy8VMVMVO2Mc+qlRtd8TNSvMsuY4glMEuOFahvVwfUAozmFKIAu4Nhd01L2N5mbN3iPl9RcVrzc3smJxxiKVMuoJUwQpG2WkCsKjvcBHLHSuVmzFZYwz4hHL7LhCzzv4BxmZ2pM04nV4IZb06lXvcrIC1AQi8xio1KYxW4XC3LPSoG/MQGcYjSdzuUVcxTzzLpM/XRMvNwKRRfiCwdnqXs4zG6HcEZAzKfUU4vJUumNnL1UaHLcGHNxX/qKLJXEGMZIFIOYjM87lUisDNI+iLL8yp+43g5t/l5Yi44R99zLhWmlPxcZMrRK9ColVodJ8vWbu5B3zbgRqC8VmV4+paXKNV7zr84SiYMUCeRzFJpu8725nkmAfv5UQYKu7jRZcW2G1SLVVFnq2o9llGo+9TbiZ5SrcJLozqB4jkkWxUQKMDeNQJvmeJQtQtNSroh1dQc5zA1nPUvUu2CYu48Zl1LVaMErljSkKYuaft8J5ZQPcMKiJQuCMdzFNUm1zY+pVbQYIkvBz9Az/M5Ybc/OMtbKvmJWDli/wDtmAyR6nLMIKnmc7hao0fMTMRWBZ0RFVGql6hjVMVPbHmHZHinPETZrcXJczLN5lzEZ9agMb+Gk1OJWT38bOdyrI3xqA3UyIXLRlsxMy7DMagr1No4uFsxKZSN73EwYiFEgG7nRiULVz2JTAhDMLnEzWWZviCLBcBdLzLrb6izdXict1N7iqXWZbOfcRc1AacsVcvqChpI3mL7xqCUZqOnVTexJU4yy6RM6pgsAu3iN9kW6VaNxVPqXgdSmBY3zM1w3UrDWWZ7hbd9ahpFgijhJZgLINQHMWeMwFpThqIOeEFaHcbfUaoqsRlBKBzE05uCoO5XZL+14hOkcSh7gP47QjetwAoqQkOBGdRrf/cwVfEQ16vc2aSWn7YZpfkIEAQiU0TpJnNDKUUbIV4QSVdrljtWRcxQRrPOrOvqXm4SXh+9V/HeJXOkG/I8kcLEHULrqLLVrgYKrqFWFxMVVVKz7mfFEaVu4gvMC5lwSXEdjMwq9alzbWZub8QJVKMN5m+IiHwiWcfiBfTEKzxzBYaucxSWS+24Oql1KAIf+yNZp/MRbqF3VRq4IckPjVF6z/mVCK0BbFtpfnHqW6KOGNLMgt60y65+ESNURMrbAxuG91ibYzRhXc8MRuCzW5VqBoOoOJcbRA43mBYhqXVT7ub+0E32SyYrqLXMzUdU9Tv9TOGo38NS/UrJC5rcFnUDGtQZjpgbzWICw29S0T5lrm2XbhmjO4Ml17jSwrY9GWZjhi5zmp5ZcGlSs3CckVPipxkq5VzmpRvN3LjUAuiOmnwxK4IrwuNxtlYtFwN+Im3uFXglocmN8xuhZmohUrIlsFElDjbEhZlLWG4ahV+Alspt2JvcEhw7qJGmoN1eq/MEiCqCZTdXACh+Z+W9RCN3ye45SwMwJA35iGacyw9m5pQ9Q9pjUtioKghgBUNBlx3FeVev/onU3bQg5b+2DDlTz4BKRhafi9QRswOe4C6LapQ7agVoWDnQEXqgDkcI73CJdNWL4vuDSS6Q34isVUWUX+pEOi4emByTXo0pIK0wyoG+YupbcT77IXisEUvhziqxWrt+l5jIlyH/APd2RQGIsJ7zL98R08op7XLeZoWqvcrhlWffEaFlFE8ETHxYc9QgstozUspDb4tZV6JiSnDmMYqJVtihv8wAxcou9XMmOdDU8BIItYlZ26gK3UaBtxrUXNZhgbY3dagsTYF/X/MtSmzPy4zkVuTK2235YcF5hOc9RCmO5nJxKxiC4JqZPg1morUcQqGWDNcRaYnhjapmptogRW2RoQPIxBl2yy1zL7lzNxxBK3/4tDLO4ZS+GA/BdywEqAbl6xqFXiJnEqHA+ZViqWMdbqdjMshqKwRlzhjxM6lYzGLXMN1KiVziXUouU1d1CoWZfbfEcHqsQrj8xxvhmfUwSvGJkf1Cw0VHRmUPsmJi46fBL1BrxiO7OJc0uCtxMOjmJarhvLAnFjHppIpXWopo33DO7uBeo1ZVXNpLpINY/cvDlmN1yxMhddSl5ZY5dQxW7jn17newl2RzHmvqdKlkuoCxheK+oNYtrU73LTYoCXe3R+OhzF9Es8TmMHP2V4do3LdmPcVNSs+P0crEy4GhXezbJTKuwbHA2e1VdWU66YBBXj8988tmiyvwEdSdg2bJyocYrSZFk7K3EUkuzmjv2rwRVVSsxbJYw5lk2AvO1XlFbP16jls4jmo1dzeU8HUstgsrbT8CDq3ED/0exALTDbWoMHI1MhcuDSzO6l7ygxKLijpmablYZC7+MM5YLojCRMQsYAwD8Q5zGuCGquOo3mZGL3+os3GClOPMLYayzkuOBuDbxOMRealYnjWYs/Uy5qGiO2t691/3/mTGW8PziWWosNDBBuvMbY4NxqD6IrRTLt1LyjnmY/E553AxbGOGvEqvmVhx6ho3CCZnJ8CBV6hPfiGsVLcxgU+ppE6iIxu6/cVErGIYzfxUarEaxKuzzPcphIxuWjhYryx3khefMp4mVdSwHBiPT3MPkTcYxKm7nEpySlYldREcRFZ5RuPlkjlmmpedTAM4jLgi2ZWRl2bhgMkK42zpN5acSiXouLDdpxcXN5hd5gUURUTF+cyytHiaXD/caQzi8S1Eys3AK2ylY5mFY4ju0yo4rMxUA6+5SKYagpmKVRf3KDAcBtrMqjLiVS+AzB/2loRTEHEBZzKHDA53AwbJUsYhS/g2XiFYHwoM+l0T44yyzCixshj7ludspxvHNymQt3G0+yVgsrr163qN4PZOvbjqAeZvZRHp8opcvYkrAU9Ve9CMtOPqobI1/i5cdG2VLXs/9pIOh9Ne7fnR8+yZsouwIC763PVj2yv5226zVFX4iCiqOskYZzU2qe1qTXgLmbtf7Ca/ZDT6HhI6K64YLPUADcallHP91DOG4b8zJqNYe9yqlKqptxN+Y11BJmXyEF1MfUrBJT3ESyOvg8sUqYorO5s4Yjqdy73ECW+p2xVuWL4gmkQqndzaibjYe0CwLf0uwb/zEZ6tfSpfcK28OJkxHCsZgTcapxE7zBUFxulivc29wNx8w1iNZzNpde9SkN51EjgBBtjVrA3KcQsGSdNEAXiaJxcXUBeIuSEG5p1xMkbCVmOIGiB3KxdwmblLUpuZPgoT3OVTpUJeqlm1P6jZWLx1APEc5qWMQHeC5YBqGL1OT1NYuGtfcdS5t25mTcuxlMLjDjyTJoIAjxLpmo1LRVR0nUzZo6lOMxZ41Uazu4M4Nw5g4mbqYp3iO6iasgC5evgDzUbwMLFw2y+DKOcBFddRLCMOsQq7qIrtlhTk6gl+/OYAKGLmSq/iErIUai3bCwiGZicGYuu74lVkiBTbCyDpIvaA3kqaAz/UWxpS64xLDRUKLowfboIMwu8Do99szga5hi9gj1rcsAKXR5geRDuL9XW5KppGJprp6PxlSjretHadUHC/AGg0EGXlxPosgK31cbvcylmaWdwcV4qVlaeThhl9lwVBS9wPrM5ecTTZ5+40jY61Cy4+SlZ3/wBZUyOa67ZNhqdQGqYZIAbRaeBm1zcVUnUHhiNrf11KUoYHMLXuYSOPuZbcSgrUoiHECmVqUDFKxGoTVs0vxdI77gwxoimduwmXN4gg1EC5dpcEb/cxUzWYbIrUN1G3OcEa1ELqI35iA0KdLDAFFZ0Bb/zC4KW+Rg9rFEbcOVlCK3wXAXvuEF3zC3uaEOYPEXeJmsP18AJuaJduZUauKxbe4nBFmLljRDsQKrHErCt8EC1wDW0lvNxvmUw2k7mauUfUaY+CVefgq9QeiZ7l1MuIV1MvrmVbDp7lg1LOoCqnowbgnQ8TLVsV9dsFLi7aymVykax8Ok8ImMQBxLWxbRhdlEDxCky+oUV3Cg88kwGpSS4kVXtlLWRqZLgr8xL2eY1V4ZaxS9E31mWRgrGIZ4czH1FgT0ynuPvjZBslKTFUkaZ6jbRM7NzWkzZxD44ikM33LCli1SMMJ4OeYBtDHsSqSm7myYb4xjTLaG8RXTm4DHoiW8xqkzARCV57Xt2+CBUAgyrMr7Yx0bjocL8GiPAJhNleU5p4gs8FhT3RMANscj7zUXBkLaOaRcLMsTKQusABoCYdl1LxLt1CmGTLcdFFSziL4lqWB6mSiwl00/vE6Dx9Il1tu7VlvKk1Tx2kv3c2RN9QiqBsEwiRTIsTvTLLhidrX75Qq3VM1k3Uoqj9xpJgwU2Fm1b1CzHmZMkRtKGeJzEr3HCQ5+CX8BVov4xCm5tFjiYvfG5WtQHlhr6mGmsRM794gAYu40J4luAnDLiB43mBzccJMc+YwMI5xLt2fxZ3+YVdRCdVQqbe5lFxcSusRUXcXlZnGIk7xPU/u4BVmFZmgzK+iZmmYshqpmsQ2W4mdb33GVrRBpgFQj1ziZFzKjGJS/i0YuNf+BU5RtN7+KyRrPj4BZgN5ghDV3uORMm4FsxuCN/qYc2so5DfcAfZiOXriUVbUdMBmjcs7zcu9E4Jg6xLTPUI1upfMzpFXZCwcQetVC31E0Rxl9wv0aiHG3cvNPqIcolH1A4lckQIxIvBhmNUEukuYJjIcwvdTaVVdiGwyTkBcaVUECqWSzT+pWC2ZdO5Y53XDBbTcRdcdwphK5jHBzzB6FkvBUAKtXlgNHnRqOu6mqK3+43P9SmAYcKlhqK39M3k8U4nTviqqHeq1WrKjrltVRUfqp1RRfthjGXpfv33ILqPqxzr9cSs0QspasvKt3HCC1iUK9S0GJtNaZYtcQSnHmKw3LNZ3EKyxpTf4hgQTQ4d2NnNRBOgf3xt7YKxokeLflL1cCOtcR5gMBo3OFUy40H+yKya1oajFrH3KuslxyzuZeLxjMK95aVi4XtHC8nEpt3GaQyxqlqEZxL4snUW7uE0ghGXAsyd7jefUwJjjM374gpkwQY3HBvLMh9xbNzZlIhHNTDAPcrOaxGoy2DjWoXk3rz/ALP8war8MS2ciQA4iBzrmb81KziPli3zLoSDEFGoumKGDLlnpqbR3FF5hAxmoluY2ostBuCNzQNDHXBRuWzxyS5f7jLaEilkyqXDcxCOZm/MaxMB3MNnqBWvzMwPMXNyuZi5yliEGpYLmAW/3Bte5ZgRrglEoRNncSrXc2VGwYeJTVy40ypmjuVVSqgqjEaMQN+PMKuDRbqABqC9Y1FrELFPtlNNFysWSmuUfULA9aiKtjcNbnDyR375iS/OIhnUECCtAaDmFFPeMSg+mbAlJitcQOCA6+4MGfTKBff3ErVXncdfUBGWpvqDRxOJj6zHJ9y36b8ShMM3LOY2xLLZRSdRaJ0C7VUJ0Ll3snti5rvTT/YwU3DY1x8LNXMT7zlNul73A9pZ3nQe+cXhrmuZsnMSxKU+5/ueR1qL4lGOSWzeuiB4o4lC9yy/9M01CWmnMcoBor1LpTBzyt6TyJF9Td2hhq1l9hKD1JeXZG9D9OYJpIFLKs9xznioOveJivWWUZxGwNzVfDZ0TywMXUaihUSBQtymOWYGIXUawSmWoLilKV3mWP5gbxEEJwxxFVOGIhjzE2QP1xBUosJZWGWyy27JVwo3cHCaF21H+XoUDY8BtjgsnPCVLhcEDLhYiuZgx35jdxS1g3xMl1PUgl4qGpVJbAxbi2wheokyLf6uK01xKzARbYSxxAreBu7jvbUz1UuUYhiOzU1Gb1iJbLMCati+5Rhl+BlfDiXthdank4la68y5Y33AeAYmtdxUol1cykJVxKZi7vEWhKlLyT+yJXuGvhWz1BxuUsaj8aj9swtrEyJuoAWMRdHy7jdscgS9V5gaKlqgwb42x0FS8uJTdWVmoqcLi4pUq3tZa6J95Qt85nuXqAHmAvkxF5jZowsRnBmAOt4zDOD9Qvuf7mOTGiofhxxNpOeIs+fECLRHQxs04hrUdnLEBRb8CxJHbqZFFpV3MnMHcYeudGuA7JWOKYLvQxLLRsjBGMpE62meFIWM1UBjDEPLuAqndVF8onfuAd/iOMTi5lDebKm7xCj1iJEzriM5jMg42GaQj+zW1fkWiMtRRxEsHVcg5PsxCvC8whSetROGkepKN7jpZn+oMbpua2vuc4mmNJ6XUsqRu7g4IIMsuc6i5gcXNsrs1LBhxqZDfwMWUj3QZxOYwXfcojFRIJUtculUTPiVZ/vqMErdQtvDM1meiNJqE9Rn2nuM39EDf+XKGg5qbYuyN7maiuLlL2ISq5ZixsiZZjV3FB1O6ndz3LXqUYxEzEoRw8ykyE29N9x3c3pjzc3dkoIikeXkgnmALTpLqxNNfcuMrhbL5jqFkTAzGepnuF3Exj7i4IEasxLsixn1KVA6JQmBNeYqN6Y2+KiZzHB1MimOouJTcoi74lN5bj+JXmbSpWWMAwpk11KQqtaheLK8y+Oty8jct4+zGh28eJWL7mLxqBhuUGUutES76hRUXxcKILTJwhCHpmC0qDndwMwL1uUsMd7YUA39QvLeIdQlqUwOU1hPDNGagpMsTrfiKGWkhVHcF2tEHZqovsZY33PdRRv/AHBw4lCgkN8T1st6/g4ybXDU6IvAuDk/ZAuyXL/0sAOY7OvbavuTG2tEi87CrXDD1E0ZrE54sxLreblgIlOP9kXi71lmXjHyZ7mnJuJuGPEaRK5ltnEVHKbpwXXEGmpBm6E70ai+x9CJtlSmDXjLEssVX2OG7y2BeodOpXfUaB+oWpLOsC1rMFTOIm5smmt9RYiVUthj4JmoUqN1MLcVMLgLzBafEe3XwN/1LEMXXUddxsWlRHCpVLiOkxVdMGWmCWNxtxD/AHG6YwwSeU9xkgAkW91P8uBWuevNLg/bzHWGtfeIuZYzM7mCXfAi4MTBpYLEJzKfuXOZWiFMzUuctxTjJLKthbDi5ZRJhQWore48ysQPtLUYhOKnO52lyJHOoVkNzNQusyiW37jcqB3KcJDFSi7qC4UJTMrsWStG4jp7IL37i33Hg1A7j+AI3AZlgvTHOoWlEVicSrSqi875l2ZngTh94g0tXFxbroi5CjOJQgUZJt1M0ofctbltLe4BjDG2JYxBPUbMEtxLoSWk0lhdTg7iP3uDYIBVcxUOJkgRZQbpLIWU5uPDsi4yUF0xFhtx9TxU0KrzFS53KhmUbIgYqW+KjgebhysHkkgHEo90n8EM6qzOUWrZzsxDYuaG25bvqXrw86DYxF68MPWQind5yteiFbCAfV8UEEr7xBSBUDX53lXvUb7e54VvT6zklbm1kPM4ElA7mlvuJZHcNo1MHXcPCyOl7WmPegloMKebJW/JFPTb1vG/TBdsrdBLD3TU0YrGYgRVbxiUguNTiZQzWYsnOJkS7juFaZs8ytHUEuNW/AUNRkw2QX0jdblR3cWzc4kAps1qVGUKyjxKQcsbdYhSuFIJX3LtjtAVzCzGBlVUbqrLlsLjZDsVV4v/AF/5aWVQ35w8gOD4MzIxq4S5dEXDUQnFTD9Ru94mBItARFgCzE4iPiPM2lRyI7NXLvEoCo2zLMTa4fbZcJN8Sv0jNzSJWicSy45MymSXd4hMnUpsKi3PUAjfcuCteJRK/qUjsw13MlNMXnkyg39QszEdf7j7gzmNNQ3cK6+GyfhKLYVdXiEtqpisRe4eEQgp7i86gAw5gtd5yTpKKzMW6tktEzULaIg3gia4zCr4iBDmIJZHcGVJqFZzDmXnDxNUEseb1GrixdbgPGYqmBS2GrtoIU8VBYEll1mO7134jgTWTcpVQA+j8y3vMu7XMuWJTu41VRe0tVcRyB47y1COr8KSFgiq+ChOg+Gj7Ixji/MuRA5/MdML6cFpnvdwsYhe7z8B7uApxVs2vAZgLkUHldqxacAIBX3CimnklM42MBtexjQEpSupWukcr4I7jPthSqOP1yLhJ6Y/oS6rqp/bLaSUmCRy4Hs0HXq4M6xhNVuDBRVeD1mI1dWapbJu+qJsBbhkFDE0Nf6M0QAvGJtncwAGe+I6NZuC5nhluu4vW4JfqN3f5mUl9/FlfCxRdZg25nHBHUVYu8yrVsb6gFQMJZWjRbMDfEqjuJiFqF1LyVGi6uWvcoRtZsbZkvq5naB2QBXMDA3dTf5bNkAc6saTzbElh39nmNmw8MHHvmVug8/HNwTzL7qcK9TguDbicRr4GypioxZolepRbbfU1xKoWuKliWD3CsVhwtMCmY1dXOdQKUqadykvFxcGJxM9y4QxhdTeYh3cR+CCnBBdMsCXCzEsHiXZa1Mur3Al37godYi128xvOIpozOdQ5l1PZqLBwyy+YHmAS/GJ5ubmucRQJYquIvpmzhgZpxxGxR+5Vr1EsgsYhgtM2NSk7lU+I1ZqpiBSvjW8yqlEGuMELRziJ66lNa8sstlgtajZo15m7E/sdS6KxfEHJK1wXDuECYDV4qGg+pWjlmNNb/1K+UxdVity+uueJYN7mTPcA3km5w1ezNi5X9QrC6R+VMF3KXGjA92rH5vVjpCWKd1Fct/UxRykYQHZAwt9xnTA1UU94i9sXY2ebW2bq+YKaoN6USCzNRYhUgjYuVGo4rtehLwwECoP6gX1DYpIXMFe55ozRMjmqmCc3cN9owVdqa3Fbm6KRL6ZTOnhhHhIsx6htTlWXx7jOpibfeD3V5d3K5YeCazCNHhuV526gYuWmNhde4TcFqV5m5e5xALmY6jqjMvRApusTBmFglsqRK4gUdktq6jd1N0XGxrbCzisw3vjE8O9xwmRZZuosK1UReole4C/mFXtddf+W7Rh1c7pZ4VKr5xiVW2HgMq7vDFdzKTvMpFjzFfzE8R3ub+NjGOqcTmYmluuJiPlirfiPEZhxFqcNonBTfcAm4mgTLOo93AiumpzuLHwb7n1FExq+JVG47+KlXHjEriXUpg/UasSrFuo2w1HJGjLcQKZe8Mdxrco31MXcsJc5+CriXc43Lzn4vKwaDFzTcoQ1f8AU1MB33BBauGMc1EBhzU0MukS8xDOfqDkmFaTLC64xzMumLncrNPUUERqMbFrxDdrC2KgvBB5ltKZMfBlFwuUlRdQRV8waTEKpbVzRbm91gxM5PMshobslS5GFF9Ruw7ivE28upiQCNaJaqnAvn6o5joMuJ9zssJb3YylUFWgYG6UlGemaoDQcBFVczWGDi8xEzj/AAXl+iEjP7QNEbJbqNVkGLfimNIA7dD9qobTR9WIZounyyldTRe9sWt3GX4jK2sfbl4TVaSdd+7zw2EF77mFgpIVX2rIfhq/pbJRaYmyUWJaaYMvEMmpwwts593fUykB54zSharFweG5ZXFXcAeYuUBMVU1dVA3qCVmJhepYJkllxLhuLkiNupZw+pe4ZwEumtTJrqO9TG8Mt3UDXjglF0YgqZjd33GnibcTMqYu61AZb9y6wceY5YoSrh75If1ECEHXh/ywGG+zicaDVQNntLybhoqNrGRpisbnFRwsvf1ApzDZmpumUeo33HUC/wBS4Q3jDHZFIzLHWYotsAVcu5lzHpbRLs1cBGFU/BcECr+KGV0YhiG8wSzcc3NJCsyx0yviyyaZ53MriKrmb2YnJuq6gOYgtopl1bZMspcKFYj8XiYeCB0Q+MM3Fm7jNBDnLeIDivRqVcntmAgEy7l7jdtEwY+3w/uY+u4o1xGqxTbK2XFOJjHcriUwVF8xWgYVi8ziyosQyBKICs5sa4+LILZzxHAJETIz+WIgwyS28LVwDcQziWNbZg/USzU2CqmdO4WxuO1w96BgtpG+EhQxJ61OU0xphowJS6JzGX/ILXTngM6DNUFrG+sdZ149QQs+5lS6qXPVYdgoUJpUe1hZc+RDQG2B7DIUrxQtlz1ke8sp5Yi5T9MVIkGcaJUt6zGjd5s7qaTlgzH6YmZzdQbbmAvbiXFOLmcivf5Jn/g/sYsisXODtWULi85hRxcs9PcHaJQcxSluot5qNy6JaiNQD8t1LbRvfcxe5XpTddVKC3mZcblSwW+I2WRPuKMVWIpnOMXCzqU1grMArySl3dn4zK6ecxFbzLmBYzs5gKV0YZi4Zd69yv8A5XYcLB6RQx3hNcxebrKozbHvFQaxf3BebjmV1F2uJ54jqKWxAmnmWTCbjgisajF9zF/6qZCzZLh6jzXwK3FoFLmZLf8AqcncWGu2XM4mkxeyJ8c+pvMcck1CFTHT8ViMEbiDUGScHOcS3BFjejUdF47mXKNGiL1FKwmYRiPl6jc53Le5jEZgHzGGAiZMt3mniKlVsmxLUjAhz1mZKijd/iI1cpErirplUGYqAXqFb3Lu5ZYNzDn4FGJrLKsMa/8AbFLDqX0xIqvbPpjiW456hVbLyNMaqXuZHEqmTNRopAbFhPKJQ1KFMy+1wu0S7d1KzMhM9gvm81luQAVUhAbjrUve8RYtW7viEZhAe5R6P3syswkuXasBJocSstLUZApb83znAL9MLbkz1zLER/W8e9jclpSreuWArocoipZK8qVCz1wRyKqIG0bQsaRZ71wGEyA15aS6N/FlNOZkaXgl8ev7bMNFuPe8wdRVFhuWV5jhVDlSyOTBqITSeZgI7nMuuZaswaMwPPwYqSOVxUpuZ+GI1JPJG1uDnpib2Qtusam3MbzF8XB4IhRFxCq9dyl+CWCvMsqLQYc6lCLKbGK2ZAWW7/yu6Naajrmy7vBwGUjWBx/tnYL/ALmmJw1LcNRi1KRa/GRiFtgRRcGOW45gUsDNQWu4NlD1G04xzU2ZIoPslg+FFzE+ITXnUumJ5gO0hFs4zAW13Mj/AHLEqLigl+rJeWNzbuGc9RtqKRcSy7qYvErUCy5s3LMCOGFANxSWxyuLMeoxArFAo7iOkFSr1G0l4xMvxmpit/BXFzS/FmjG4TJltmrtnBW5Rji2NwGtxXLzUtTLx73Ab7lKxFxCGXGHmHLEc7juX0TGj6Y1u4UtwFLuJjXEwrVQ9WQsmKEoG9QxIFF9ExymDbLHRDIx4qNlyS9LqMKCBvWefUUW7IMfMR9MBM4Lf6gLAL5hZcSm4BJZzfjW2JV1bv3nwHc/+ghQ7iOCJq+WGq3PTo+2Xou7ljNvU7qeB4uBajXNSu7UE4jt/dVnMTz0zKELvEZFO95WJjj+uXktbtuK1ONEuqij0DVxebgZlCwRfvz2kVCVVXLEOmhE8pbCWtxFBVMKxZC6V/uzLOlU9EqsbpdzlZVxBT+phqI5O9ysQcGf7jKCNNRiYXb+oXWpe5tAxbGZuot3TcXEMt61LriYMVNWXBvN4iqb5lB1FxUC0sdRrJvMTeWODHM/dEtUpW2L39TfqsQyJdrofv8Aysto3tGPP+o45gVmJLiKI3EvEtGLc7l5tS4NMslKywo4jGLDIvMPFglM5H6lqriL61Ljx5qImQdsRxvUNlksvx3NsuniBhhuMyyhiOjEDNyjvMKqp1HLEx8fZMiCbgvWtS0MupSyhlFbWoeGHbDAnnM9BmJmh6lDeKmxGc7jXwYYAMwtXLqsEym2NViC3EQKcXmJ51GuGO2Y3bgAjzqP9ot10YII4qNhAfgzUbnBuC6lVfUSc+5gdylZantOHuOBEZW4ZC6HfTGZKJ1QFe4F8QyLhhvMKQXuAbaWUZdcdRdNYqCYzEUpemJpzfUaDMTV9xFsbwwUDFQiK0eTK6u3RS/NR81drZJ9Eqnda2qH0l7njUpy0yq85lQNy86YodU528H8xQz+bUtYjlvRCmswDFq3ukqFVop0Cpepsv3cgNLqHdUAFwBziSsu/wAaErFDnMYwKlrwQdhDd1+Q2XNCrY2SCePDUOyJxlN4iXnE0pVcoM3o5ngSZpw8zMItXn76lVxhIOfEsGsXFS1V1UVQMvZErj7ImPc5d5YqR2gXv4XXwd7itxC44i9RuMZI1SUU+4DMogZ1qFhL3DIDYwaAuNhGneYJ2QCMp9w04iBScwXLHmBCpI6oGMNIxeoIrKL/ACoObXDipNlF7MASqmY7PLEVq2JdEcR5+FcfgPfwVKupvnUZ1mZX9EWOuYOscLRxO3coJFmc3Ntou5dK9zNUcMXZDcfDEjUsu6qUYg8ty4oxuqiVXMTbEHMxLtWUxDOCe2Y3v4xNDxOIylUSG9WQoPO5XbncDdvOI8+9y6w7jeFXKB1j4fcpHTA8RT3A4m2LjHwSpE4u2BX9ql3DiVbg6lG+Bqet4alNbhXCAFn4jXAVEVqyWGH3HfwBu+JVuNRqxXUaNRN7wS8gRMy9mohLAndQVgs4HBEuFzdRe3Eukp0RRrbDGzWauocq4GN3ELlYXk4iFajmA37g0yqrTOVZfiZUie5vBwXK+2w8Dl/mP/ETscIMOKRrYLyJHpqKmLvisRjl76i4JUR0xUqPWnWm4Vd1E1aFcEEvuNnez44aPbyuCPb86OG8jGW0PtW8cqU29Lj9WxbS38KtxfJFiH3vulCBqYqb5Ozl+1qjgY/jHq2kBeGE36nLRde38VwGIE+aixVbtYod3MKM/wAWED2njyqgpuIDW2b9JwYdzOHuNq7L5iA3uDWyPNRKZsY3nBFaJepmhZmJmbYgm33KUGgjbEpwSpbUCmX6g4nPcpbXjFR1uGWPDRmYXuXbCqzHpBbbhoxJeVg3j7gmJes6hZYv5tf5Ti5I96SF3Wg5tFFXM8dXFtRKlVtjD/uKBhjd4jr1Bcbr0RruVpqOvhaI2Re5cp7LMMijUQnGRl6jXUSyCGXJSrLg6N6jQ2cwHdxvjiaIJqaGJjVQSoGvM5GYuF36mKS5VEEJivEqWahNEt3ABgbMwzoYnC01NlSrVeGKgGlNymzEXLaSZ11KIlaiKwcVWZ5qNkGtSuO4jqGfqUVjPEQreEbevxKN8VGlLf1AYNtzF/q5zHWvb8XuWrW4gNbJhMEouFHBme5hivNwRwVKRmIVvmZGpdTOUAbYVzMRvUa++pVrDP8AqOp33GpYeKywE2SznvJNFqtQc3cSwNzDfOpXMqhwRsrncVMACdmof6o8GFlZc7ygeJbS0BHprNdlky+RCebVmNGrAwgabmRy4lLWUWvUQbYBdwIGFjEB+W1/++Fmk0dHpckRUe0A/LK62XV/fMx6AXWhasTPm5R1vVOEAL7JgUTK9/qwEfUFDooTgDe2hFY2ofbNTPs4neNQ5v6ioPKzaqNDNZA1dW0lWl89kAMzhtjZqcc9ZCFVVEZWdGOwymqZkTBhmZSXxE7QRYAXkluVzHpeYAHzL+ZtKNi3Ci8/coVGxLjTpVECVxj4bGoNxVvuavLUzlUMGjcyB3MtXUE9SrfT+P8AKfTlX0zJHHCMzZBdRHnmY7HiLlAepo1KXubMkPCJmHLc2wKM7l0vjUzGrhBBnJd7IwyxWJVT4hzVxwjSOoYkiG9jHhitmOuZiYiK3qL38V4hkjqDncZgqOsQLCNVMVcGbfHNXOdStnMeb+yWOqqVyeOWZpRgl3f/AHAl+8zlxAsqiNESfWpn4KExhuHqURzcodzWVeZnKGHDDn8LKtB11G0KuI0urRM4GWKupYjExuZ0xsqmVKwd51KV1b3Lu0PgmM3RMuYWC9QMsKbuJTA4cx9/Vy2+Kmm+fMLQxmUKq7iu7lm0x1AuC6oL3F/OWoisDGJakOfMQws1BjTfiOQP9zlzUezZ46ljBwTDMdXX/eTC4F9g/eR5qK9To9+A8JT1sLeVaK1xN9Wb/IvYGCCrXEwyDiHNymLxDu5aZueSmd0Cl/kgFyK/CiwRb28xtBVS9kdGAgaR7h9qx4zBbiRxVawI9JAmyoZHthRhYNaHgIdwcSXoETNYiJSMH3uBbniMFpMY4mD5G1dnSoS5yly9xZ7gXxAt3bFgbSXhgGCynLUsTJGiFL1HuoVTHEGbBmKZiZjvBDVwXCg3Vymb3MsQW08VDF4YMagOb3mBF5biY5mRC5GiNsxLKFSm9Q787irzG9bJa6gMe5TephKN/wBGJH2QpaW7Gn+UARYnbr1CmilaO4qhgIqavcA7lFlWfc3KuFXqJj2xdRddQNwYGIpvUGYaXbG0VfRmbYolHGo6H1mIFJi5bKNs0gQOVWWLe6jCy6Z5rEqCRxnESVXMMOvqFxIBLa+FyHMIbhU8MxaC3huUvMrajSaye+IJNmvcdJd3qKrvEwMwdROTcc1FahgmV+NmGVXxT4bqFvuDuB17letEBDEc3FTkcXzEXdRexFHWJWwu5V1VEsGWLkJ+Zk9yvMMNQxggavUK7lzTuBfKLSkopmU3vcQwmJS8LLUsyu2CmaFurhllfFx3LO6wzGcF8Ta6DPdS7NdRIOZZbYeCU5blnDEahbumJYTBaxKY5jyCp4XZMas7WokpRV7rfKk6nUdVNkviA4WW2KFrK1lC9Qso/QUc5hDYPOpgsRM0oJm9V8Uy8y7a9cw2G8ahcLHdOoFoDCl0+4VvEeFaUWPoYHUWgnPhYNtpEfNZd1czmUtA5DjUjv1UCkekYCDdxast/NcS4sV0+yjN1cCbcFxAGDa51qUXfUEs2TEpuOG4GOY2YjV7uYuIXv6+OVyxGCmLibG6oj1mU1TCqt7mBqWUQSiJRArwMotxBTUwYX9XC71E08wFMRu9ylbjYGolNlRpPLCEV4hZ9QdYKbxLIH57nX+Tw5IR4Qpkih1QuHwMEwflZe1su5mNR43HbxFVLtOiK1UYqpSGblW5jRBirsmMxSBdzA+6lblYHpiWZZqWdpuXOauOGrVNTV1UrMY32MWFDFJxXxsdz09QjG3cpwVDKYhVEdzB7iH4VKWEIKiHiY4X5hRsa1K2/uNZicnEClmptLIYucQlZnMb0VMVGv8AwIkWi9yoOdeI7EaS7xcVS+HUwXeOamAggrEbbgu+I67oiGN+ZkKHE8u4MlIIuYQcYja47IWmrmz1Lv4DCKn6jjDEahEb3FxoRo+4jirMEpc6+sQca4+5dC19TRFgWOzM5dwIGajhnNspNnBKyY86XMwyhDKlTioFaR8ke3WmA8LSrpz6HmJTYPhHjxMhCIjNeOjOFS7Zi1s505q0EU3OoHk8MoFkR4lN46mUHhgVVW3O8QTuippruCtYxB1fBFyCvcaDWdTA3mJwWLm2khQUgmvGEXHxfMxqen+XuMCYzJzilqZti9DNC1CdNAsBHvJQ61H0Sy2oBiIr3BtmaOIaWmKYqJBaMxX2hmYEXzLMl0RtqIInuMwbZctTHjv4ZnzHcd7xL4dLAq7vUM5ZVJZA3qcNs5NVHaXXcxsG5SjrMwVtIoDy3G6uKumOiY3Zrc0e40KlL2kctVBz36h4zI/J/k+3lrcpf6kZnq0veQOOairZuLF3KOY6ZuMsDBOQx1FOIKK3MVGJA3HUBriY6aYIRULZDZGzUbUrCJQ9zymoQXFkGjnUc51KIj4lVU3E8xq8TNFsOZnhNEC5eJmmYWGdxQ4jlhxKxdy2/MFa6zeoFksDkTJHApA09ELrqftbdS5TXEyxFJTcHUyIYEobITE81LvEwRqLgqc5Qo8bgiiwlH6XuIm6riBlxUDpzXUUVcAcZmTj8SmSVGjWyOV9w1X5ml8s6nPUKtmyVj1EblDcWSGVOrlDUpSrzCL39y1crHDvHW44AUQQFtKRWGTBKAGoJwfEwKsl6CCkNTwYNjmOgvDHYqdV3qpjOXmKVFpnUJOCPExtNe5D/cjucWZ/sQa8IeTr3NSfcTDLhHa9d8u4pydl6HAZZ1www4BHNeq47mtweG3iFjQFERtb0XL4HzUoxu6l11ZupWC3iDgszcV0C7lN37hco4hOSHvhtOheYp4MuRNq2XzFBGEkDr62Skbguw7Iog7gAEHud0qL9qHXGUXkgseI5lDS4yrPcqs2G4BcahV1+WUcRxslPUadEeqibhouCh5jS5+OkoW1zN7ZTeCfUcQIOCEqJf26l8wrl9TYilEBV5lmo3bZEwalGZxNMS86izqGy2CW2w84hiT+t/7p/k7vh+/nwy20RRtl4BMEKpS5R5A/DtCRaV4IJ3HyjLsilS4LKmo+o7j3a24jQc/qWUYooRHLfMoeblK8xKgPmuZBNlzLp3K6ghC4vd1BCtbiY3C7Ikq78Soxt1Kbc6m1xmJObjTL+F4IFGoGy2ULjZkxc3NTKCRWa1Ea11Kt6rqYcxY5NQ53DiPs+FhFwVMJL6gWSjMbvFQhtovlgDS/cX+/xMWK88Rp1wEyO/8A1GxzLUMVKAONEQ8bgOBgLOtRVPuVkz+IELQYCtkyXTLZsTNXLzDDDJcvB+olRpipwz9kpVeYV+Zm+KuZ6iSsFel+4B7jYldZI7Rwsh9I4DmDN5cynOGPcc1FsEsEu7TBLde64fDFYPty+8JFEGZu/J9PMKMIJYu+segXXjYlmLFrYLafRBz9zusedGmhbhS79RwRHurxEACzrUUMwtmcJhryyhxBtkfUQOotxOnmLhZhlV/F4xj2nSLMIu+HUPAy3I5237kM48WF7Nwlt3n6OGVh6sus47gCXvR6JZiW3E6qiPkJkM47mA1KFjeqL7IPPMQlYH+5ZcyYlqldzkuG4MoxZW8REYrciNObhU7zC9sXzFbuWsIOVG2ARYbi2Yg2srEDFXMABGst2y4q3Fyw5llNRCpi7mI1inLuBrGLnhT1goN+nk0gf5KUCrQZWAIr+9yi1Ya4iVLotqEQwXuXVZnuclG5Vm8jHTZHemvEsLPLiO5cUCbIVMrE9xYWzsyzdS52hKa4gFtXmGBcewgFfgGXuZLIACZdJoX4TMqyXHAslxVhmMuCMSq+LzOKhSdsTuLmUt5mDVzhA13cryoEoF56ll5u4UJtgck51UTpuWmRucRWy5kzN6hbjE3RNOpnvmWQKLD+4uJRX7IJTOtEC3bDzEABsUmDK+ZowRWACVNlsw9JkN7lbxG6pZVS1qkWtMRrdQviG64gQGG8MOiGLQRHutzF9EjC19EEZl71q8TCqJRTyeIZ5ouFMi4MEaXb9x2wRs76zKpXkCZH3GwsiwGbXdxmT5Znb6lsS19wshat8s+mF7wZRuw5GP8Ac+Z7e6aAqziKP8TfxlU0H8d4xZgLfWPGnEGsbXT4YZzYoYZpAJTB5xZex2DqUWn0/AHZRLBY3OI6b1vup9m/x4nkYTgNaj4nq+WZFi5GZcR4Yf7yRIF5SwXNDlRuEzQyoS6INVvo4aWl3VNRSQwke2sPdYo4C0xvGne/LjdMxiUajPhakLdVXMMHMoCxpGhe5TbMxVykzMKz39fDxBSXzGLqEZHwg22NUZxFF3K831BxvGpsl1zFU3eZQDqDTE5IK58XcFMDxENRtYYJt1GxCNrWpS5YW3AJz+2WZxLycjzU/wAlKsu/df71N5NtIcW73NK0wxVlb7Y4By8y5fhCFVd3NBXUbERIhudpiYilPwROyI8sWWF5hyzWJZygcuJorcRTw1iNzBcIUV8HYyU4iwxG+o19VMSjzG8zE6lA4ItEthNMCy4e/qd0TkucwoYUStZitGCB/wDpDnu4EOYumyazVxspSlmeKgFwmwsAO4wwb3HVXDLKajvEtTHCMy5me42EpKMuY6S4MsCteoAMEqHqUjfe+ZatRS7zrEWHWo4KI6rxLJA3GNsKB5IxWnUI5e4OSFjrERqUrXMHGZRZbuAbrU555hRWKlkrErLccDcW1P8A9uXTdV3A8+mVdRUhTUwS20b32QMXcURilZhx3zLWm5bwS9H6gmfcyIWV3HVFII3yRgEpzdPjuN7/AOr/AKZRaYWGGg5KiwMH+A5f7qEMczblQ6r0SpeSfeJOYG0sdALRlk6n3UTKw+6W1Crbo8y+F5BuplKkagF1R2rhpX2Of7ssDuHUdfzz+x0tRW415irRuLKFUqLo7YL8BerjnjXjSbr4vRFKsVW+42K5bpY8pOMw1a1AbiWKSZK1Z2EsVE007iLGCyq4mm4KIOJbWC4o1CpA5jp7gk3G0WSbeMkWa4JRaUl8ECA54jnniYBKbgVZTWqlLjPmdX1Lze5a0QlBxFl9hPLMG2JXmbMXXBHoH+SwkzHeF1spg+kxCWl4vBWYDNjcCxe4AFi9WRtuAYXZKN4mLHwXyJ1CqllTmr+RnjvXhxEyttjHDN3LcrcrnzECoc6TcbtY4KA6ihw1GufgYuOcspNzm8sz1zFmyFO5TbDS4w9E4hiHxNfFEE2XmPUDEA3EAMrceTVYmRiaJe2OcRcxY3MQ11zCz3AvmFaqFFSQcWxywWNFQskp/LuCcxU7sgcHrMam+HMoU3m+YjyxFI3vcFRVTLrLcTuCiB4CGbYBEiPUvCENzDz8LNZl5M/iFBlqZDwn/UCUjVE04gwbyRlUC5ZtzClF8ynNCINbRa5qJooubndyhuiLqlOeoiwC2NBj6ZnfjCQowq8/UypmoYlytPp7Iv8AnDf7WFH2GNZzN+Z2DwzvcoIUibsiTB1zHN+DLdlTT5tCDtL7P0QP1Ua876yWycuUbYdwjAl5atbWMTrVXol6ijVu+LNEya5grkxxvbomDowuPMn/AIhgInnGH8LqXW/jkA9xZ5qCQU7GJUty/cq7E0KTzHGOXxEAcyit4nFUVtzKuWsDMQ1C2Ncz3LizprLB5Lj2XcPAeWIi9S21uNhDUKu/xFvdyzZUNsgy2qZpqYChqK2RW9MVllamRMXWYNpAp4l3pUrNS6c97l+P36h/yVs3F7VU/snrA99EZaC+iXrFPPMFJq7OtShFYYhUAFgGZYt0lhlqD3kjjw+GouJUTEF6xxKsIL6VKF8QNM3MDsluIS4ncsM18IlGUt4leY4qUS/JB+OfPxU2+ADrMDJPFxr3KzM+MS6hUOI4WG8TYxBuzxdRV23cbFNEVN0+Alw3V8TjDGuhlR9xQ1LxubmxNEuZzCsVG86iMNoO4gM2zfFHEAwDFxsxhxAqwi4wxJQlRqFV3E2RKbu43L3UBM3qLzqONwM6iW418dSiyFpBiIq7t6lqlwFGucTGtXKqkcMrH3LKe/qLWsv8IrT31G6BiwZYJIGjyxaDNRcKSsjVRYAha6iCzMWCUYrMRevslzwip3LBaEhcMXDMaHC1ceGKCGTDd2moEdNNw+sGOCumo/Oo5b7SnGwvErQYqvUegZxcULb4KlgY0uPzF2/ZO3KOMPP6hutMATzU20U+hzXrGto/7ZyrMS7lh5lkyMzN+yJSggLzcBDCQXuOwY4ywXdZguo1fuNLLqKBzKYnKYjqMyHOJVUtXcQNQTRYi4LqNwGC4T3JY7IgZiPkRDavcapRDKqcmIsguusws6ICpqMGV8/G8QQ3+ZdDmWzKsQM9x+T+qBEEbH/JCPfI60LpjdKixI3nWDqNr4agmF1Uclkcxo2BGGOlSpYvuAgNNVrcEaqNfCUvcQDeyKT5OtscRmoGqxxcG3PMufGrFhRtwWhnE3zm4AblzjUQxmUPEwVzM3AifFLxzfxRL/8A2KxbzUtlymWVLa1DAu5eK+HBUKLvLiCDWuJSwNuY3bnTMi42l1TKOVyqmJz8VTiB1KxuUDiC6qXDZLxF1MVresQUbvLKw1GUiPk6mLYxEGrCLqo34RvxWcrdTkJh95lKC4Y4hyip1OopUXZMzcXCa8kKogUfU2ySi3WsSgaI6I+i+5Soubg75YedMSe4qVdzYauFcHjULRuAQDnMasxnll5kBLiOFuWVmCZjkamLgcNzVTUQrSLewQl6SEF7l1nsmIWh/o6ywaeqz/ZOAq0q+8LjfZjMHqstoeiOWeotIYo8tfisft7oL7tMXp5DPuiZ5UGQ/cfQx+9JiObBP1Qo5uXFHn4xWY1cCWwhcVAFzFaZYaSlzBTLCvJmO2fESGY6uAPxLtGLGAErxNAi5UqUTYxxKC65liFPc/8AROMZRDV5xBthYHnqZqxl2kF3CRNa5jfEMwcx2HsTaA9QqxFFiTDYmYI8xcQfsFcquPvs3/kl3Uhz7mXRkwCGXq4ZypXcFJa2YA0iPUVKY7+LW8zNyoYlmATFd1M7RXNwbdx3Koh3i77lb43FW+wmY0sXtZfaBbKofU+0YkHmp31KaveYBM5m+JoIubqCqOajWtx9TIyYfHGJbqcTiU6ltbj8HMIizti52glVnGoDG7jVL7DEttiBob3FM2xcFFMdy7IGI7lFYIsPgZPEzeoalQ4ILjBKY1AbuCtFS2C/cXRcoD+KllVqszBupoiwKmKq5RTCA5i8P1KlsB6wR2f1KIbo/qYl7HqUhrsmvG9RAUxKIsoMwEXUFHOWC11LpRu3Uss5IqsHoma6lWeohC24xyb0y6tv7ipqZuFBXuDe4DmBpNhUwQwLUym1QryTTqW7nHYXL6iXxTKwkyiBBSuzEv43FVHE/MmPw4UaBxZ+ItsKdLfhYgbYtBLai6zK3mVVTPw/tIp/UxLLNRYJ04hvd9x01A4uWemVjgxEAcxIudxfXli0gDm5iMd/DDRpdaiCi/UT84mC8JuiV5iF9PU4C2J3RS1cwq7yhCmNjhZIWCxEgBZEpbiNd3O5hlCq0zSpiS5eMTSSlSgJVwddly7TNxiFZvczVfulf8kXLS3pk3vQ9XDcXqNl/KZKEACl4gSbHfMErtxqA6mWLSAwJ6mmXANRIBlP1MITIHeJWjGkGstCrjEENY6smyLEw3WktLylRMO5XYOYgJqtnM1iBYnc7moONXBb1FEa3C1i3HcyklPvEfMLsJm4dxRZ6gNSniBmBddsGn4nR3A00QbbbmKYXVcX9RLS478ZiGOiJmVDITPCTFOY7IrXU1fw3FxqW8Sk2RFmLharRAUaXuLLdkGiDXmIc1qZEo3A5MpFoOvEtSsRMhE3OR2R4Spy9wjy63CWQW/NSyC2TVJp/UO0IM5l7zXcxavJKAmJeaSw1NFipOIhYmvgNce4DRjEz41DTQygwJEusywev3BnfMRioNTohadVKVFCupdlTe4iOoagnXubriAjC7cS87luMv1C08Qau4ud3KDcocy1xcWyW1MpUGFcku26mOj4bxCpwisoKzMFxPpKXE7HE9Z3NLiOBj6hYSsaa6jj4BNNsP8A2sqQHzXFRYDeI27eZdYuJbBVnXEFQ21cDXDhrO41TjPc2IjTUTnKFwpDJ4uZXygM8jAzmIosquL4jiXl0Zl8UENTAzTcTuv/AB/keThGvRuWpLId22EYuyU8TIsRzEsjd11ER6YgU30yrLBI+GJQMRZWOqg0DEOpxExKnV8sRaXogpY7cjAOExFv5Twy7CxMwjYcR2s0S0FeoW8xr1MTR+DbNalllEqYxmavUVy2c29TucTdOEqWuC/GViCmfNwyaWokFNuZZrrlmdSlao8RcMuOo6mYc6jlC6zKYVbMCGpw8wxAzDFYtQF8S6IMIFPtLxU2DmCtyi+5lICmSOiVkbmZZHXwpycxheqjqpgqXaXNaJS9XEtkyEOAPxMIBFC3LavgZjb3FU1MKe9S6eCNnTFGhWzmXKQeXEtd3kgw3LNgXBKmLbGNKlAjVG/MRvmqjuYNlRZS7JdX3EzEqUOOZVZ/cdTnMoG2bbh0iv0wtNS23Jqb2YlZeoko4EWEg0/FMyFQ3mZIGczhLwZm+eJoK0sAzdxe0TDbiaQxio5aojXZGpWKiF0JC2xVx8LnGx8Ssl7iauWxaqo2zc5azMvPiaN4RxnuKrrBxGy6cMsTEdlBOXx1Lbpl4gE1B4IFtamFYpqUfpFCNwLEINZRiF0mGHhK+3/I5XIrXvhPuBSzbysQoRecQbjv4WTSJiYs+yctKyTargQpoiX6icNEG5cqELxg1KDyRLF4l5/qMqV8NedSyV8wgswhEu1WCi0lXqJeajVRcypyxoJZf9RdFzUu9kLfExfmYqBSViNVDiaQ3uFjCXq4cZAjsoro6lo0GBOzBTb9RRZV+ope83FuPljuZ5zFA9xouZYKitQ3MZgqjWtynUzNJWperr0y7z4htUbI+yAojc84Y+quVRriLrM6il1Lzk1FqVxKb3KWN21qNJLgm7+5YNRXgIFkPaXhZSI7gtIBW6jo16il4YhGTGl0VPZAsVIlYU+onebWWvDHURcO6mKeyccRebLKhal1LDbGzO8TJaIDX1KqY5MR4YmepR4hguBe4BmWBsnUYgXLziLvNy9XLLMNx08XHRmXir4nGoIssjgJTOIrUIqTNZmYYzKb3AVsIvNSsbzM5VLitnIxx/cSmYqN2RMqig/AHwI4QoliG4LmZNTqgeYXModRytNRLzHkwxUwMXLEwBq6zUW6xNqqWvfwqILWPqFX1EXVE25Vh2sWiknd5gFnKYSWkf8AWH/I4z6Da89EZOibY9r9ZmEZkGKSaamnuU3Cvga6lX0yjaYGXlHiLh8x5xkI2wSWTMQs7PiNcCcfDK2G7e5U9IwsX1cKoeIUb63GuI4bgVcU4InDDHwXGodS3TNzFT71G+pnNOICOJUamnmefMpopLOWn3LRwq9RwX3uIsDJKHZKB3hiTJKmI3Uva5TDyjvTFKMy8QGXBeoeTK2cY55i2DBKJgNQa5vEeyKExHp1GEq7Zk6ogKxCuMRC7Z6JlNSluZRxlZ2zF4gq3uVF7I/6J3hibXUzrMUvUoL7jmreJ3UWteJT3DgoCfWpgdSzCN7mCb3mOTPqEGxGjNxBN5mLyG+YBWoANF1Gi1lFOMxVMQthbLQZ0xvjglBDyxAveJerieZh6gNNmIhV9TOKyyinFRwKLZ3K0fbctrmpvMzuLNVL8zfGYmrnCWfRMyhNZ+GVLpBO+/MB1+Ym4peYjvmKLWKgYpIiKU3UptcFk33GouZTTmpUWV3L4HTHMwsf9kwEApuUi6gKvmbrqBjmAFrG7BcRDJMx0fDlMNRPX3AGF3QanByxKcRpsjY04zClriCuXeiIcKpLbh/61/yIi20sAQOxj263K9qdzQS3NjdXCul4xEtXWImI2I04i3x8bIFpwjKTMyaiwmJXWYJQWGJxluIzxNo6/wDAkb00SC3MP9SliOCXcauoiLLjX5meWCGnMdYJbeWUrUtl8TH1M3CGo0EO5e8sbMNXMbeoXeZwDBXOYVwNmWFFZjXmogHxLI3Ao3GuphPEsmb7hvLHiJ3xOZcv4G3ZKCFHrwVpjlEL94mFwANR0ti4cnxxtuWlNuIPiKzOW4VUPUo1MDc5QF61C7ljuq7lGH5nHUtqU3ooINN8R0NQBXOp0TitxAHNvU2bOZQ1cDTRwzppANmO5bhKL1Fzt8EQqiXA8a+EAxMy83L8RrGbniWl1E9VOMQUKlNx51UMWjOTDtMGLm3lgWjl1G+a8R/conapeqlGnuOUjUNfAxb9zbMziyBqoGoG8e4sjc2EQuXljlbFxNW3HCoiyAAdMW1+R+MUHAZdY+TBcpa8OB5HN9zRzxNOdxAOjC22a9My5J245bwgfJ+YgIpYalG25vdzXcwuZghjMLVJpq4XYd+1P8kt9F1b/wDUnOBuj9dPDPcbqcoruIkcu4iSrlt3VJC3xDg73LaczcLIVth7GRbAVzRnMtwjEYMpZUr44nGcMxDgcwOUrOMSghxHbGpbmLXMBiNzLHBLGInUqmY8ygHiWy2Wg4mrlhUNkpZR8FiYMunG9TQlNqyxWTebJmvQymEajK+ZcUlstwqJM3qVzC5yzkmzzCpWc6lyyzFNaljEpTmUgvXuIBmNWvcpAxxL9GIpXUdAmIBXcKhYRtTEVjUVFS43VsA0LnuYWXhhe+omJi291KVMHogLqJFbsmtJLGtR0w8MFX1qCS6e4nZo4mIRyUsRRz5jLwTJGrj3vxEyFx1WYqZunBzMxH15lGcSlzmYG8zBxbF4g7gYZ4YQai3SAhz4ZhxmW+IuZYLiyZuJM1AlG6mK5q4TFQollRiqU3LTmcLzzNgYrKYRmLc/ArwLiYvENqX6mUrqE1Ex8CHSFJRWPBqXeLl+o24lVVcDylO8zXYQ3EqLnSkasTIqKmWPjPIwd0KtizYhYHsnI+qhRfucwR299/yXT2fD14+vGzPNdZT98d1KMyohWKmUxVRF4gEqxhVX5RLsMwzsfwTZjV5uNZks9y0LgIBNQxqVcqY+GbMLphG2LjcbCn1MjKM4i7llz0xs7mDtGCZqA3qVT4lYmTHTnXyk7/UCavMxFkCpbSDZReJbWXPMymO1xcYp+o8MBQiWzgiuYa+OWNWS8QWplPi/MNkG9MtjhC2VrMKFpgYczN5WZkccRcFblhTxGGVm9oAJS98wxTEXjgiqGWUiwBz8DUcXUouGtTFM7SzwgAJq4XRSDfrqWnGpUodTExPAm5Qb9amTEyHNYiAICI8l3EBzbGYmTUG9YzKLdRoa39T/AFtjg4jFNa5lNTm7g5yS9NyiFYsuLZcS18TUGA3+/MpLqZgoCq4uN5jlMsvh1EoMzcpU8UzTcuXmWMFuLzzcV8kNj8xuzEKb9w4o3iPIwWYpTimBi1RpRvMsveib5ZkxwldGPD4IwGVmauBQti5DTApaupg3UGocSElMqCjAeUOyGHBC2ycNI5R+oAblSITiLMHYSmCcxuqT9P8Aky882wO/DAJttzwOZ2yDWPVTLUxWuZVxhRMxCQtsgrahE1mGGGJSGhHhuJWgBdSJRdQ5wGIxMkTPxiak5oAsX0R7P8sfhcdYGfGiWEneogwKSnmaGiXeyY+MASgzUAy6ZUveJbeuItkthy0QrUtYXMdzbLgKsS1o4GYMMEHRzMA1uK0BuYyP0R1xLMxNIswTnctc1kheJQSsfHx6hS0wAlIINZlwyk4KGopbFGFudseMEGq27iVCYl0FRu4QgBqAGOqqNI3BDqKSr5mC0TNwYXjUVXAUGtkHuoWVfDqCcVLVvZCsGEqo+Yo1REDcs3TEsncQPGmJ0g1cQDy3ZFU/1Ky1NLCoNQptsIGbjziYu+I3bupVUrUbDUTzGquaUS/VwMauFDhTUl2s41KdFyqTqUPISqKloh1HxGXwx5ik7VYuJcsZb4ovMIznE79x3cDWfuVr4KZLl47lCq6iZ9/Aq/LSN4liEAEXAAlXA9XEu1liio3TLVr7jXRA1c8UZUqVK/8ADSKA8w75XRLv44W8YhZgG0sN4V7a7/5QH28XXefEnLitAaRHSSiGiJmfdyrRZMKgTMLcYlgrlMnUq1B1cAuMAw99xFYqmmonwFpMmC7h9xrw3x4gmzYxTbjuBApxmGXNsSxblwvpG8PxmoFjGVufcw3h3Na3L8zmJtZijEpl6qZzBsMy3mWkYkswGS4tkHMKpzBsOOpg1yy2riFdS14YXOagVM+polwbNS10TGauF1gmYGnEdTGoY5iIr9Jo4zxEhuGHW+INu62TTUZyLqWV/UGBEb7h4WLD6RqfctuJ1juEN5lcXN/qDjmLGcn6liuRi46YYW8EtaU1K2DAhq+4JatcStZ3uPLQe5ZaXKzh0/3MlqXLFNHc56GAtYV4fAp+YXU2Ed5zBwxc5MwsdcxInTLlrfMqzJHL46l8RaH3c/sg0P3FzxNal7Jpm8RMqn4MtoiZmMVLJMwUmBZdJ3G/iFMVc0ihqYpL9yrzeos83OBliGMzbGyizqViazIhlmd91GANYTdeZXmCrHiOadQMPdy0Mu4mHeoy7qI5zLxQ+Cm/io1/8Apkj2ECsJ5jNlv8pl/EsRTx16w54iRVSE0R4gYJ2SjTNoxvMqL0AihW7YidC5zGVOVIJXNEBbA8+IhcqBeyF/HPvSklmGumqKiwl0ZUKle16OoQaS7nc5mONxSp4lbi2gYxMzDuKXTLcQr8zFziNzI4gMx8AuAzM8lR6sdS8oVBbZx1cfdwB8cTLjU1iq3cCLsmkyzFzpEuGVkO5xOGUUbqJnmDWYmq5Hc0L5l0PEN+KvMUvuLjHO41e24jnxAucQsIhqoiM85m2pxCklTJ2Q+K6gM3YhbBcKULiZcBMvZuovs83LwkO9xu42lJ55jYa+4aysZMYIqHBcLrCyWso3EwzmN5ZQC9/CqdSjrqZJZmv4i6johcdQeJczXiGQhmGSueUQspj7gaLhQSlDjEoqpSVSxmaFme8XBzqo1CEgtOVj4LazKjHcxhubib3UzVxVNxWkEzXEEVzZo3GzVYjf1E3cA4cTTETcHqVp7iYi0wWY3iCiJIA30xR2MvB1Hh3xOUm1GyGTjUtd1FvUJGNfCSv/KvgJRx8KX01t8Vj/KmvY0VofP0zkvqIcDzKKjnmFI5NSiFVS/0uWHaFVK8iWpRAq+NRG0wIXrEvxOY5haABysun3OXfkfg7llfa4KXd5dQBLwTTkxonMwnMLrUCXRQEs1H1cMJqV5+LbgUQLqYvbChgS4GYILgLUV2n7sTgzR3LKXmGEMxoM9YiuqmEbNZiQ2lQpKMTRr4Ie5uUWTR8BjqBEEyosuc+SJKfwjdNdQxmjcQp5viCvMErBnqUhFiI+QjviKpp+pVxepp1C5UWv3M3iNKzvcLJ13McyqQ9XNnEvgoZx3e5jQ8tQFuv1HLozmgggtG3UyN64iw7X1HJEfxxOCoc4ga2SqSYGZdenmD5ZxliAbhSLxzGq2zMzRBnOTEKrELYG7/ADHHFy40aJlWdaga9RdTnUw4mDiPcwE4HuYlEwQlbl0B+IEYODcBpxmLxX3FJROCUI7mVR2zrUCFcZx1M7j3zCUV8MEAfZqVYalJ5Jp+5fGePTDLDHcMsXmtxdMbVhqBUYT4D5r/AMCc/GErA9kFuUvySr/ldw3pFHCYvXQaNSDpJRccJxLjakEdrz9wWjbDZG4WqC6l7gWVbqpULVy+WvEEmiXFd65j+N3IawAA4D4FGs3vfCU3nOIqvxNL3UQLmX1EQG8S8sDKO5eYfC8zb8M3LLlyueJ5qcwVTMQLgh78RQCmXiubx3GsoxRqWazln43xAmljFl2xupiUhYg86jsmL1M3dzA+HfXwarEFA5eInJxG6twcTk35itvfiLhe+ZT01LOS5cFWYGpa43zuVuUvFwu5cTEyEuuJSsMccSkhgg51Nv6iVylq/wBy1UmaaNkA0RDBeYCF3mDVbuYtziM04lqVWIXczszZA2W1mOEvqFmtMezAw/qYDLHCqJbPqKfiUSw5jXDqDMPcKOJgtoJftLw8yjRUwGjUeCqNReBGWuZkhKdTdqXHiKZizvMuyGCMsDcX9y9axxLb4JzD3G00yx400zTEIXPwhXiUs+2YvEcstErWNyre4C3MqpLU4jlgxLDIjFzfEb7+MRjr+5vj4UUypVEJXxRK+Afh5PETwH4o4fH2T/LCRy6ve6lfkAqFsYGEPxFyRl1XD4qAPJir4ZnGMS4x3ErbFXlj0MYzWZk3piXp5YAtj9B6Pl6LtU3mMZpYNcQidRUeyOnMepWJYEF8y5j7YZSsSgymW4S8QZhKEWVmEb2zMxbKKRuYWpeo2td6viiWYHcaCzueRp+NK2CZlEu2Ln4J9wNLK+KW4fGAmomeJZxC5h135lWtY2NvE4d1Kx6i1ZczNZjZsij2SykNXMDJuMnMtLICc2RslZIVTcu2pTySzNmJXOOJeS5gSJQ5qAAYhd5iJm2GTLiVW653xObrUMV/UXVsdEFkRuwKj7qK6E9Ry3LWIR2XLeNxbXUKYKuZHXqYv4UPEZeLPuZuoG+yWDth5JZouCLKjaETGSVBrhCg3XieTLyRW7jLWfc0+BcrnmbYhjEAPOIGcyrEfGPFYnDMXwLm+OYFo3GziVhsjq2XGM6nO/cbLRPE0Pi5yV5ItnzLdah+6lNamLMwFRNvMXLcyN3G7lk4nNZiF1Hp+ByffwvzzAYdQgSxMrVWZjeieDGgG/y2M5zXj17yIG0HgcPyuGBr4WqeC+mVwsRaUwA3xEBamVWJedSsw7ZCNXvoDLNhgDRyH/8AAmFtR7ZLDsGH1Gcq1xHN5ihy7qL4mbsLl7Zd4SUa6mLZfBKlUgNRrnRB1K1mFX4mL+NsXUshqPk631NIsKiRcbjTGo6d2RfghmHJLN3LvmWjMRd5hqJjExHUGmFwCy4PsOJgnFzlZyS3PGoi9MoMkDV94Y0xeqitYBAq0YiU3MkJ2RU5OSJvUGmX4+F6urnLLxLviCw5QV5JRFCmEVSw5FQWz/ctruYXW5VXMFs4xL29y5MzN71G1betSl6lmAiBy1mCCz9xmoDKF1P1HBu4L1KzEonOZ4IEx7hL5uZowWhUtoCozR1iGKbZblIyWgbixFubN3MVAqYqG44TMGO5tBi5bcemYQqA3LjkXPqLmZX0VDeYVVtRCYlBcKxK1BbE1UVP3GBtn/2ndxNpnDjEyFkc8DLUajdfBvtMe5Wc3NUfDY1GZQoRt8SuppnExCvggKR3Qf6O1jnkTK3x/wC3/LzZBtSu84qa5S9TpLwSs3E5d6PsmBjPx4lK6iN9ylCyqEtRQB2wWtmG+EfL/wCN/EzerzK2ydfcBYrjmGrHOPUQ7Tli8y6MuB4+5mY04YzN73KzMviO9y8ahm6xDDNS5cc+pWfhjRBuWCHMeVjiNo5qrijxVRwll0amhi4qE25nMZxSTDEbKlBsmb3ByGPjNSgnmFQ0KuZQvFyh19sTRriNSExApiuwa5jS1kEvDlgHLDxE3VTJm64PhrGYMJi/HxW5sgTdW+ogQZT/AFAgF0N43EoZrfjULa/fMbqfdZyS4ouyXhez9y1XWpdsZe5U0HEWmWY5gZg7V8Rq4aZzuXLnEckpgIVCsYjQu+YFUiNcQAjmsQXv6io4RheASxWmWXvEtm4sbqjcz9/G5TU4qPuXmdTAQcCAgQ4GZkOpSEORZSLbVQq1G4mZiuM9xtXmN6qcLKmlzEipjfXwm06g41qWerxiL1LKgkhaWURV5g051LOEbjmJElKQd2wrDj4SVcqUwMku8bn6+I6ODcl93Hgf5iwh9WP/AEyqiXv+tPPniOr1+kLAha7iK9/GGDow8q4/8s6tkXRTl9ebzfTBYsL/ADMViNGZSmpeYeNTBjw3H9EuJctvfEzGCs8TN6ijOZWNSsQqUx+oKGQ8RNm9RbtXUAljTEcRcsayCWVgYgF1ZBJmu4wqm5ee5eSe41DBKsf3MszW5hHSbATLF1mo0aWRH1F3j74js2ubLUXTeIkZoZhdEdb3EueZpgDeY9wagS6l52ERsSMGDlOIYHiAQKMyzxM7WIFTTOWfRmhgLQc6mC4OomdmJgptf+4uLrUBaU8McsINK8wCu8ywz9I5DXxtYhe5WMzISldkSdy7TNwtepiCte4maKgazAexuVb1iVjcCxHW45ReuonxWJfmb1FQorMxZFzK1ZDeeYF+Oppzd3MmOZWEqFU7jgxMGZarubSpruOzqKEjcVQsipGpBW8y1YRDxKReIXLYhaDUpZ65lsJm6uYiSqVlrcCoU89QtKBv4ZU4Y5uTbii0Veiaoo9f6/zMAIEudwB/maXM2z4jvqdJlxafY6TyREeBi+SXHUVsQlPUNNOM28YGc7qEoA6P/J+r3BrTZo7zvzLhdiNR53HbiAvEeCfFZzONSmp9RCmN7ja4YN7cTGWNWVLwruYnkQLm4ckOEJepwRQbc+I4N5gUYhsM4+o3bSRYMz2iprEN6mH4v9c/AEM5mZ7SynEUh3ctWG3E4SgaoiWzjsgbL45ihoYrdY/7jTY3EaZ2q4F+yAU7rMrBEwEtKWWkvUavmIRG0riViCo/uVWkIWzS4FnLMQzaQmb/AFUGnuPfpDsz83MYjWfMYUVrkgYK/dMaQZZpwQvq40aqWKwUGpWUX3CkxWPBidRTLcKjdS1jLZVlnEDMpllLyUxKQvLDlxqX31BLcR4cSsJVS5edRploVMXT8fmUD1L6lYGYymRlYvGMzJM1kzMKmqnGOEqGhuIN41CUuLZcs6llQN/Hbct+ANMOUtwapagMtji5WMhMdZEb3U2XXE2EpNEugCAbbm4FQqwEYMsKkdswJt7mi+rGKpNJUD61IoTEOfb4+P8ANy4jZzr2MOnbbjqxvKMLsucZiq3SZ1f1Mhb7tPVI9KEAFWtIW/8AmdlGd9oSQzgYksM1VzI/qCDmoBFwSyc7xCF1DvqY+5xD9oiaI1E1GzFSg9zLTxHEGvczX/8AIDRmIqOblUpajY3dc1ti2rLcyrVymrhY6uBvTHiYVzPolczFQ8wSCTNsxKLtmTiZl+IVTHmLxzHUXEsbtv0RLYVdrLFNXxNVPohq6cRUNPEF8fBczud6gLP1C6LhpZknDMxco5hdQTHhlGmfEqnOC6lZRQ4YaCtM2L4YrxPscQ4VmVentiODPn4WVIsDcVeMwoEQn9ktpOEuJUN2sai+KjlfiIZlQ3cwb6hmYubwD5g7mkl4z9TCFUxa9QoE7lQ9xuOvrM2Sr2y2of1MVuYHUs/6mFlZgyswxWpyi1zjxKLCBc5/6isF3KZjVYjyS1sUvDFw+JfmHeOJivnj5A0y1gwfn9mVCYtcl+qEqR1y8xssbRekLvfxnNQO5gQXpAaQvikiHgCAMnHOfS1NdmAD5bZf86fgUUiWJAr/AOIMaaR1lkBiPtzBuqL8StTeNie2oy2Vm7i4gVliQstlFy7JZRClinFwGsTJUaWF1FeeMVOZftNMaR4d9wGQMs21e8YmUQu2txpZQ+YlfhhwQxcEjpGX5j6meMTnMPe4JMdQZj3DEur1KYA9+Zm2xx+Y60M4KmSNbvmN+okTVx1/pU21qGjzF4uJrRLp/qaZ/UAlHMvMXWKipG4OsQEmfELrbV3Uu+ZizncpH1U1dXFnO2paxdahh4vMxZiNVTiWOESYcJvmoGULmOzHE2tljDXfceZbe4cZlQcdxiOWFRg5gYpizFskMlVKLyQVFMW1brcW+IlMUVXkmZebjDPpCLO5hLIwz7l41LcTeJQjYkFmKwRfz0xb0niHWLilKY0kdZ5iQ1Ov/IfHDb1rXLgl+oUh6IQOUUIfAY43NWX+OZa4JU+Pest5FGUHCMGW4uV2/COYSua9YjIGxeQ14BywksF+U/gfRKlX9OGpBweKuEc9UQZ1cYizU+txpjqcRB6g36mmO3EzP9sy9wxE0S6LJf1cdQ7QCYgRgpS8QOaxncycXieiW3SOnNxExiXyXzKYhlbmCE6j7zBxM3L5lZJitVBhUu2HMpWN3MloMRrZ1mopQaMY1UxTmDDF1KKDLXlicXMPhGrmpdy0YPaXmyWZziVienPx9xT4Ws6hy8xI3bc5ZzKwJstJdK13LFsoWyktU6jWcYhVVTngYzmK8rbmCzCuHEdqkU8xAxZgTNkfDLjHe59w1ncJTOJYRygCjcKe7+NzOhGmFxM8ImEtpx8mI2DqBsmVRTRF4jV0yniaIo2OrlWkzKmr7zGkxrqYady8PEqsAtjXm+/jwmTLub4/+NTTPR9/+MLtjTP7rv0w9ma0O7PjcoRBIIpmIwY+QbV/QbVwEoF/2XNvfwRBlzJTw405tBa4ljjO8QFut/qIWVsmkyz64nMEuZ5Y1NtYi5P6jPuNXLlKlQmVWcwuYu3Ofg8jDmdjPcaS3lzECimoB9hFpB5KibD7gG4+ozbUShlcfBqUViZ7+Le+ZcpGF9Qal5aJg6hWMWVFoC3slNmD7hg1iWNP3czcDljgObqCS5y9RCN8mJncS1iwdFTxcu6YudVcrzMosvELxKNyi8zOfcG8DcB3X1ExYLtYixfT1AwsupywTBRAQbbqEBcMxa3zHbiJCKVqGOJcMucxuViVhDwxSA1DVQe+IA5llUJTXzBtf3F0hHEeI46+EGs5j8TSfWsSoOI7+APNwl5KqYeJQwTFXKzBU4ZgKq5TnFz6JmiYdpi1iXNkbXdMW9w5lfDCVA5huDH/AJPD7AREsR4Ynm1mz2KvHu22qXtrKjJpR3SUSELvIg9dyoJ6kK2lo81dfwSCFoq9qYxeQXUIcPdzMtuLiXhBqIwOuoYQmYcVKnGsR9z0QecyyIVuXmX5l5lFyjKZUgLlu41jFkcPuGD1EBdxhoGO9kdM7JStNy2jmUo6qbS65heamimPfiZuNtSsSwlo1C+5bDLMtG4WCNP/ALYF54lzQwaxFwdRQ0nI3RBaJouZZ4iI2kqvgylUBBgYhM3v4Gz3EVNx6g07XGisQW1KRXTKQM5eOo737MMBK7Uwaq3BMYfOWKLYy4ZeFTMQBf3A/bUZZxFV2yxFzBq7lswKYxWiDFqYy55he2bgCe0BL5uW8SywT3Ou4p9I6lYSirvNzNTjcQzHPuZt1KY+9QaYl81LB1FuHNvxBmUeJk61CCN5auJUU0aY8TGXRvcTOG5RemZsScx38ncMnf4hP/wlAdn6DuS15nX9dwQsHla93P8ABQHBgftRVYpVfgn/ANsqoNfByvuVHc3DK6gxLO5y9ymN0zDE3uZSsEIKrUuIxF8rGoHMcYjZu8tzNLG4g0RtxWZarXUVriIl9RB7bJdcS6uA1fEzTeZhNk03O8QwWysb03KlMBrZKczViG3L6g2fuaHcVlWjkhlyUX1KF3eMw+88TaGrfwxiJMEKD4aOpndyncpOI3miWKQxKYIUU9wtgNs01Utd5xFTweoZt1GFLu6lktqHi1/UbqUx4hReOYy1mVmyUL8Tn38RRcfUpeo3KLm5pmL7i5ixVwuBaXOtQ2MRR3Luv6ILcp9VAWsXK3ipfdzMBvUBxPOIGPMQxHV0SncvzFY6l88RyIB1M22xF51Kp3CtGZbzmBqIeWBGNLuFVuLJ6jcXxKb+o2ZIRYkSoZVy5rld2n+FSjy9ALUY5MCMt3VupschGGS4b1Fq9z6mzcrPUxUBa7gYliXC84lNEMEdXcA1j3MS/my5tNxIpfXRC4+Ii6YgeLuOXf3Gs59RuERp3DZLxLl0/HDMyJEEY1aRqeULZm9Qa9zlrkmdF3cBavc5GItojj8EMWiym+IKa63OROY28RcsX4X5iIHjcqPw1czncC8mA23BRBB1cWbIG6mRa2Cl3yh6tz9xLYzq4nAJXEQNOJgzKC5gEbZWQKhTLOIWtajfF0QcLeZszqXcNZmCc7ipdyr1M6lF7msDWJx6h3mct1mAoqYC/wBo0RhuJHF3FVG3JuCrFItwqfTMvohE8xYeF1MEQqF3qDmaxq/HUFqmJsunELq6mbsmVz1MnBAIRPgMNvMtnMR51C3HcFPzUdQw9+9hf4VrZKn7aSqJWuTmuWXaGafohKReP3FZtqINS1X3G+/jZERQ3nfdwmOpR18dfAQ5nEuiLLcIsThls+CUGWOgiRTeIlD6qMLeEYrLlsRI6M5+LEzHyli6mevgjFvxy8pS84vEdrrEVau+bZhXEtbiUuojHRxcsqaWbZWJQMbq8RdxzK7iVCDAoxG5QYrf+o0Y1UNsC/Yw7CFkbAlE39yhS4rdame4poCsRr9ZzGnPHUKpIX3Lpulsugqlm9pK4rUd8R3GwsIiPu5k3OPcPEuYqHiHGomirltzlLBjjcQrECIV2ysQSBzzMuemXmqizPcshNmPjmWTiFwHn4l5a5my0wNIQJtLL7hVc7nBwl5i0YixccR9/BROPx38Z3LnG1+zUC5OHgAwB/CpaWTc8iiKu3NVqq9wnJcRDIPYxVkQbuIjEYviNssjcEmGyWMLGalCziJBlVLwksonv4rd6CU0AirNoQNPWPUQbaifDR1LhfqYu0Yq5bGpccnyBXcsuNTTiCO34Urcs4NcwUaG/fEooXXXU6dPMSW6FwvVxzZAauUXLTEogZ1cfxKzuVvMxjPwNNRc9y68y/EICs3BQFwHEe824l5NVAeaogr/APWOTyuMwwa7qAWldQB1Bl6lML3H2JWRqVGFYvXJGYJiJVjiI/CjhhdxZds5uAuFE6sIqDMd2OYrhrOoW2uoCAtqVeLjWCZ1Lr4qpvUHFbhNcyljW51zj44JtTB2lnEHV4mxTxPbEO0AydyreI1TH9JTjUtjZVwFJsh1KK+aO/t94n5/4WFdaSIs7zLD3+ajAyQWt63cN3xLxValLwyqmzRiNS27mILc2uOpYTucXOW4XUOYoVY7xLLljbRMtp3bMLVJGtCoOLqMPKbnPx1j4438ZhxKyRe8/FMzjMu2KMpyEFPpuWAt4YrbzmMU2ylt34gcYIIUV7lnp5ilVXEvL35lsO4AVRL4viMLj3K1Bc+pWQmaJpb8AcsLIC7rmAuLLrEc4ce2IAuW4l0NjuVJnhcVW7cVHZda3K1nEsf7JbeoivzBAcxbzmbMuJ1Ng1AcSwahlLx8FF4qGG4WgmUNQYpsbuWK8QMMsHF6lKzFL1EvTHEUPLExfwSOv9/GyoXqZwPweICyF6YYazMWbYlFY41LwnX7lnU0OLo/ETN2wpCjeoBe47l4JwqdGVvUpWVDEpTaql+iAKSaikH8LAyRDUVfMowbSWW20cTAkGVN9xycSjqURxHq4UPxZd/uGKfHErXqNR1uDx3M1mFSpeswJjMlegiweCN64luEiOoVHOIUmfikywfJGyRow0TiCEqevm6ITaVG/M0wXHUbgU276xLjcLLKaVHuCGuCLbcCNYbqIjjmLHZ1ExOoSyZhZGBlmFqpbnzAaqUtbtJXGmGQWeZS9iWGYihRiDaNxGUk06xAcWEMh2CVD+9Ymh4Y3i7g1z9RbY1WPiAczuUZ9wOkoiYpWpZSRZxpgNhllZmzWbi0SKERiU9wpzUGM4l3OOJbfv4ozzC83oi+YEbWBsIbiSzRAvaCA0cRBmphsxZK0SNB3llUl4xiLdzSOI1A4QVYikqCVKl3O39/wv1wBZb4Jdm+pkg01ZHmiZo/EUrE38QswMu45NfLwYlNy86g4jt6hxO34ZuvcBqbIVAilsqqojONxzL4jTd+ai2X1qVWIlSPllJl6l1MvhKJUq5c47gZ1iCOqgsF6qFXmAq95iwB+ZS1Vw7HbH5JbWOZY3DBUejMDd4e2Z1zCsK7gPcrDibWpa8v5i45lT7nMomUrCXQVBgxLBbtuO6v1A31mH4Qe68ceJV1RAPcpWYRf9ykHFSyY5SlIHm44Qgabu/hsbqpjrmU8ZjaVFHewl5+M1uCJH18F5gm0K3c2l4gazzEHqJTfPiOEXc0upayPcURmKs1MRSiyN3KKlUrUx5uFBFRVkGnuLNTSUXe61FzzuF5OC2NsxGQjZii4lKrNwPUcXqNJDMxCn4EaIFVv33kPr+FzDrMfdwJKViN6vW9w2e4lPNwZKcz64YNDLw4qL5lag9TzHeWbYR8EFjBzmWZEg6lVqdPmXvcDACrqswXreph98ENW1mZMcQagUWqTE5lfUzfUrmolzOZbLc8wL4uCqU1v4LxUKWFdwgf9TWZqWcYRwqWZxFAMaWubHncbDMFhE6Jp8wKYVHuC8sv44lsSlYXW/gwMvMBrgmCIyiwtngmCsSl1bXjmORbphq17lIwwFieZYbJdVP7ImXfMcywM7mD3FH2S7buO3MUpmWcNHwq/B6huDcrEZbXqG8SrqppiU9xouLyS34bKldovio2TPBLlN6+5qpuMPCaVCGktrzUH6ilkDOu9S6plMtVCO/MSMVs7ZzUBZBylQNR1DZa99Zb8ELeA2gUH8Li+S5XARlFGJd0LRJWS2bJVL0S5mKE3Uz3GqaYUsXio+4GWuNhOb1LGEdW8/ItzJEPO5tQEWqKzGln/wCy8RsvGKuKxt3K1McQswkvc0xv7m0xmD3uG/gtlCJrO5xmAU8QnnMaBdIJpKWG/MSCeJiucuKlPdsC5BKnZAaO5hdzB2Yj1RO0pGMwErE7xqMHOvgCWET/APH4LFNg4g06xO2bVdeXiFxshycDn4VEGCkQ6RvVZ5mCU55MS4E4QunywMPcLW5JbUzBriUTvEuwxGpcKlPzKypK4o7uLJzBHCwAi96lsyuPubJQEpdQ0/GKtn3F8bfgPXHEqklrqDiF0csKa0uIfiaZMTDgTKBWIQEKGMx1Fp36mP8AuHG4Sws9cH/DGpG39MjEmeIWn1uVCTKZp84+oRR94+DUcbIVm5UwS6MsxfuBnUVuKwFsCGFeYe/ii4ZQ+0ArTRUtwXUcpgG3sifbiOWB3HiVTmYyfDiGpWIHiBWJ18UI5yQIVi404iXNZYYTUKzasap/uFDfuXZ1NQxjmIuR9xRiLfrMya8TDiUOpwyu2Z2ERgEjMO9Sz4rrieiUxbKQG4FWPFGDZzA4ViFq9xLERqo3LziUJtBo+oWIfbCvqButwS4jRWpixdxsujMCIXHbFCDU7zDc2jbiNTFblJxLu4Xc9EHL+iA+4bRKC7jvqZFYht3LCZ4bYvxmuo76gUy7Ncyk3Ex1CoVGqidQcSyEAWUsllXHPEXmpfqIDu4BW5jrN1EjZUb3HcdTuDcs2wrO/v3F/wAMEKznvfDZihorvmaL7iLxWpXJHbHMZaU9hLXN/BXHUJe5R3DM8xY9EWcpLIvxZM9x5LmB3iAte5kjVVSSqL55iKreJsx8yyaXKDbcvi5kmb+GDUxGNKQS5i9Ymb3CDXmpV4zq5R6I2fuFZtiP5VMHHW4lmNxQqX/MTfuadXLYVpnMuFPqLEqCSq4jlmZcvTUE3XMKoipuWOdXxBDj6qKWUMHV9EFcL/qMogcoEIXWMXAKbvwQGgv3L0zxTFEFUpfMU3KedxMDuOCNMqOep2Ql5gaczk4jhRzmBT/UWzGWGyWw1mKoV1zMhcFGEYs/UzTzC0iNQJHygq3xLti5l+JwwvhCIWfA0RWyeRuYhtrUoW4zUe5eUl3C8Ay2KxLTJxabanDXsPGW2gKA/himhae+6/7R0UN3CAu868y67dyg9k7JXJzKx2TKAnPxi3xFaogxrEFuIzZDWYL1NeZZM3RDCYUYjcalbd41O4s4uY9LLckuNVqIMsgnwvPwJaZjLjdnMxm349vuWVFpq4OS9dEXO5dn+4GF88MRoQMK5hIuOvEz9yIxn3cUzLVqYMnMXv7lhDZLQHMbtzKSsyoXKyamMSkckKs18ApMF0yqefvEuwaiAM55YxVRiA2CO5g793EtyxwJnAGmGd27zcDe/EsxABcyLB2mu5i5ZBNDcTO5u/inMbULnG4XhmVYpTe4X6xBBLblWzCs3E06llS13LPg3Od6mKjU+5isTxU5YkqBmy/coVbQXLx5gjbE0soxMb4qX1MpbbKqx3MWwqOW5ZMpE1RDmHbX9l/DO+fl+NcJn/XiN0c7grbbOFG8EsAR4lwBGWvcIIE41EayTxZLn1CCFQDDcVGOmKzEWm7GnqaGd7qWy1VRfvmbGbzDS9xs9mZQxPMoXEYtTXxgxqXmZbl0uIRXUq2BKx3NqnlEUxeMEsTGQdwEvaOkuosARS8ZjcJkYDgxKbliN96mJvEq0Jcpl5jgcsPshd1VzmploYgAzmGXxBmEV3ZxEaMzZxLiPa88hFUEbN/RAL6ho1jE5ut7juuYNotKjn/THe4rcRkLLmqjKV8OZzvmKW4wqtQtH9MLGtQKQH3ONQrvJOtzKtTGZZErcSy4F5qBnUbsjVbjd6iqWp5gkIppylhmJClYl6vqVhgWa5hR0x38AWkJfNRq9x3AiGIXUDim7SqJ+aGM7Xzb/DINO34MMZYO31B1NJeqsNTS8z91l1vmWrAzAY2LHJExO0I7anExVBK0yirl24uVn4G0tc1sfMoLhUQ0LeZo9MN1csXi5mNykIZZc1AM85mbbjuUPMbx8FZ+OLlam5iGECwKwl7YmFBioKX5j5VK1d1iUoxbG1t8Qs5ajeMRKYuDMuUfcLqoDUVrUHMAuXMoUjUNmZdNxXqoLi9XMtVCgr+mJRCu4UWv5gNdRb4gMvW2WpkRDbiZ5LFkKlLAGWbA3MI+oa1/3L1fMW6ajsUe5XEqOtQ5Op6T6lxcYqGtsT3DWmFYzFq5Yl+4uNfD9JzuY5hihzc4Zu6zGzvUpWJmX+e6g/BthRNxgdRIkqo3jEdomN5Ypbzeo3lZoURdrcsKxLlFQFR16VOl2MR3ZJi6G/4ZBwCQM7uOorOYFSv7mQtJdX8aqDVdsZUxAlXJGpvE0S/Eu1IWOWLVMs3uaPc5R2zDhczHV/DjKocw1zmarF1FjzzLZrVQY7xEJZHcxUrBYukdN/HGZRCglnUfHwQHDMD18GwSjRkd5i2YJVVHKkrctutEsvDKxbdTAyTRrEUUtGrlJa5ZFZcuYqVlnMu2AK7gymz8soOYhD1LLbyxfZ5lBcE1UGAFXKF8OIDRkRLYCApAGDTuoBca7ZVCmOdw011BB3K6Y3q42czEdrU3ak+o4ZjEsgbEBz+EMhEaTZlbloaJY7uBdxNbga+PudgjU5lOYzu7u/ge4hluViUDqVlHbLamLa+pVGFMdsULlsmxXDKrCPaN62RKaYfAEu9DHcxX7H8Mp4LlzAYqON76lZXcalq6Ijm1mWFHfMralBFqEuNWxM2QE6mad5nDiXVQ3AZuOeIefqZm5dSmcYIclTDpNq8jERV1PqRKGJgyXcRoyE4qp1DbUXeYNRYlS2EvtrqEr4yVKcsKdkHMRFFTxCKngnYi7cxGMxRAm+iiNQrDFaiu3XwuWFwjEUmLjYkxAxibqCEchmU1smyi8QbgHNEFIK1RPyKI0bHEX+rzHgu4Kuoe9Ro0Yrh4YriqipqsTtWJVMMqe5Su48otuBnQYxtz8ViaK9yxDMTiPf6hVYiYKiU7uMUQSY6NRouaja7iLGGmIdQ8xsdQEzuNfCsogR2xLKg51Ms1z9RYxGASwYllDzMGnMszSxJqNL3C6gEtqFmtxP6x9X/wwRLDL0EbovdCk1gdFEbW12wGHpqsA+Jgq66lnOCUvmKrlXv8ziOHZF4+ExuMYVyhiDCvcxf9y4ZuyUqXrHMBVv1UAHTMcDm5YrxjDFFcFMaNxte5dwrmcmNnxY6lExAyfGKnVRtKmCCFTMswKCstTTEjKuI+nPBFXguZpXcebmmGJcU9xu2HMD4JmKyiU3CryxalmIWbWWS27hWGuZThxAuW0Wdzkx6+EdtVqIC1bio1AbvdfiYNovGrtjSrLozL4MzK+o1Ve5kNTBzNCiNT3B4ljc3ubNamiZgNzORisoohV87jlTzN94hTPTmLjjMpiHk9TOWX4jXbLdVUrUEjXdS2aTkzLg6I33/7gsyQM7lbX8QfNS6VUQFbmWpYiWXUS3mJXxeNSi8MRGbEJrMf4v8A8MFwSM0BVr9TBAhk5ccsu4EVCGmi3EzyeJcZyVFlnK5d/Db8CC1l8MEYkuLpjuebqcbglxagutTC2JbVWQp44zKxRggyZUrYFW/g3UdV8VEqO981OJiyZrcvWJlZYwu4LcuZleZTlzMGJJLMsUQ3qcXXMUb/ABEKVKf7TlKGDG5VyqIGYrfuepYbl9kDDKg1uXE5hjjjLNUMscT1LUcwQ7R2BmOy27mZTm5atHGtRDlgUgQMSy1anlHLEF51BQaKguPPUulpNvRELLDFTEUnFR4gFwpZjlCpdXexKs0qpVfBp5nM5gs0ylxuLGkyznJxC13GxlDcPHc0uorVyvEVsA5u4LzqFNzN6gpwy8jqNhuqcSshlYKK9wU4dTmJCCQEVujexfwxN4usHtS63wf/AMlbbARxG3d6upZvxuNJZDuFSlN1j4SGWF4xqJmcs6uHhu5tGoY3zAxAwl/I4CplGJT9UEpSHMoVbriIWIUq6KqMeImbmDRMVX6lkXcsOJ9u/ltmbhLbmguWVdzNNEdb3M6hU3z93KZDAitRgzkgUkTVmHESUXUDBS6+W4nMvxKd4mSYjNs4lNyipnZMKx4glajjUWlmoGtQZmWLlhtvEpSw53KqzZBbxqUiMMl7gMqOItNRq94lh1EI0gznEWWW7n7qFsdpRIS6dzhgeYqmAZfMKbfFSsgwAnMRX+pqXCsYzFtxCYNSoCM4muJRd6neZeIhuO/gKrDmFjMFFjijsRs2zmXZLzSRyauIc1OEjjE5cSv6hNSf16fwxQTMR0uCZBg5h57KlJspfHXUY8BXEMLuNF1LGBL0iIpVTTUY5uWWYlncE7nGJh4jVTc0XBXMdzJJgl1x7JQi8BzBZyNysHUsO5ZcsJLxcFvWZp3Fa1MUR3PSFmE+peKnMrLMrEuUtsQwNMy0OqZVVZuUVyeqj3cVreDqKhjDnEePGI64mWpdZ9ypRUOKlaZS3NczGYBcRvfy7ZdEAUitdSyzBKCJoqKoxV1iOMIdeEtijUbJf4uXExLB7wwWzvMMKjNyhWc5pjZiNruVm9woeJw+oOsxs5mSeoZXEuBAamkMwGokdLPg7eJVZxMwZx8FAx9xQJzluXMfqWunUdT2QTqBd/AMxNag7fUsON1M4q6gNF7COASwMGZ7RWnqI8zEsYzDAx0E8JTkoZ4eH8/wuEaktby4lXRlJ1KvbVTJcF23jPxYYlRt7i4gMzmZaxOfhQDMpdQpmHUKL9S8uqmWYXzObnIQMGhZsmAiDTNn4jdjojgrMtbfcUh5TbMvNblpWq3L7xKjMTNQu3E+oXiJjEpp9wYWVzAchzBSohZNym10M3rLGsYpuUa9Rz2xlm15xBGly3U0RWsSrZiZ3GOljl+NqNS5liYISjs+FTBmyALxCwywowPNwugjal6jViIs+YLQJ0gA7QE1vbLqjRLwtxLGszBUyWWVrmVQzNdyreiNVC6CMxRO8TFYNTg3UuaZsonJmNMS1dgQyJzWfxGqxCu9zBqoMWaqLepfPE0l7XNvwK+om5W4wKdwFLZcxRWLxmWN4iCu6MSsN7uVl+ou5WrqWpFonMGkaGF5x8DoP9Y3GaUN9C/wu4rbyhayIZHfNb0Q1mNajNhiB2bxcCI3LFRameomZ5Js2QMx0Zua3mU6+CG3EAsmXMLfinLcCnECrzzEzTMEeICw6ilR3fmXrENTaaYOY1eYM+433Di/hxLeZi51O6mQ7huFlzgh0zTe4J3F7KmLqKNjuLS8ZZeSjBHW42XVZi5Y5g5lRhfUqUhkmKK1K8yi5gzKf3Kob+oBohgt/uZl5gUonNsAvuNbSmiIHruoqUojYy15lZFwV5K7SPqWUd8y/wBxojpd2RKuYYq9S6JZJjmBiN3MjcMe2B+5xCzxHNVuO85l0VLTEXKmOEXDLvn4XbKx7gP7mKlsA+HDcsnqM7amOIaip4OJkKpg58y7KOdyxtGXjB7hh3HdRMbwdwdR5XD4C2PJAc2DH1/C8hJbUHhQNdGW217llRxFoRnS9SqJGtTa+4PRnMcEqmF5hVEbpxOfi3Fw1ZiZMoq5xieCGTbY7gB7DD7ndwKXHxUGR0JqNRQng3MxrqG33FvEzFrEssjYQSA3jMDM4lae4Uy0qXWu5eK3XM4r9wVVck9TDNwpt45YjKFp+IKiK9Si5SN1FjfErMv+osywIFizN1crPphMsxBqsxdQc2QuaRxFA8mJSw8RsC9ylTi7hlda5lK67ikXFxHLUShoiKcXHZikbqYiqSpnVw5ZZTMBiZv6iriUS4bl5l6gE6CW5NxAXcXEpZubS1Z1MO5WIjNPTO5qsxYhU7mYudxZzK1qOANMBeBiI3BUuyxqCgzBZz3C3xGCpw4hMxrhWXH6Rviv8LvALVaBSpfIRnEoxpjAOKlt4KI1KY4OkdsZncoRixSudQMajUdz7mhnNQs5gNcbhcLXfuE2Srg5mCw5CLm3mD6Fm1iGyW5j2qpkbzNE7+GaZeCLnxxKa8zCE49SioE8vxsqEMtQsGtmGQOKhSIR5aXU0eUXdXk3NhBqcmUnEKmCpitsq48QCpWu4BPvfxkfi2rlrM1cdMWkCBniv6hduUgyVe5lavxF1MycsS8bxN3+5SlupTTPXiGXWNMpXeIhGgegxKscStkwEce5j4KVqZqN9ziFSlItXUBBcKeMxCGBViLRhjtpjjebZdSzEdS3uW72zaUErXVSyiXrcyszKLcZhqNYlKj3AXKIncaKxD7EIM+pUWiIMz7mbgsKmEqZpZtf8LzbU+OhFLAVx7Uw2Al3iVNTHTuOVlinHUbr4FzrFYmZeCOpSrf1MjOhLp3GzJN+4pcOZTaWw3msscOrxLAcXzEmCaCU6+pfuMtwk5eI3YwAjOdQQl8+Z5IrdsdHuCspr48wpgrAl52NQFa8zJVQaLKZ4J7lBmHY0kXEXG57gblEwGtyjy4nDUSNcQGickWd/DeYXMVdeJbl3Lk16g23ULgNXf1MTvyy/DxM2HGJVc32wHLczU5apqXim6Y0XcQO5Wv9xC8RW/MeaY8CckCcpzv426hhhBSIdw8IpL8kubL8ywR3uWOm9wMMcU1LmbjMEwxCZp1LNxWyO2O9xlyp9ky2hbKQlmSbVkyNJTBqotNSxyrL9zIRFbI1VQdMNszfpjqmcH0f4XUujeeYWq0je6Urd3DFHURHL48THFb0w37jVPwsfcxAjYiN+ZUDTcsubeYBtHcvMaqXhfviYXivJEhqWPNxWq9xZbznMasxwxdUxZairEShX+5hZiJbLriJu/nzG5iaJacVGoWkOBDeQgL4RazWY4XxzBbLr6mzmMcnuaPULV8w8ysETwzSSitzFYYCkbF9TNoHXw9QKfMFgaxEkHeJku5/3BuWUZRR7imLJfRxF+1z6lus9yryEu7Oqi3zM0KksCueWOXBHdXUwi2UQfEboqKTPepxe/ilQY5b1KJhuCrv2QMfeJs7iVh3BmohCj4J4YUcxACMbGN1tjLA1BJe461MVVxCMslrKiF3UTF9/FOrgYTUouZQIhUSXq2YN3L4GDiVZ3LFLuvbf4XPhhq9MucFL7hK8ywvEqaCucsDpcCfebiZYxoI09sW6iKgixqXubgKllMCyYSWdRMRUGMa+Y6ziDjpHyS2ARjlV1TUajLfDJomyGYpc1TKxnqXi4WvLLv1BMcxVohBylkFnBSeHEaepcTZnHMKpa1Eq+sytQU3Hq4q3FA+UqCy+owrLDmio0whWs7NTOKJmBklGNzKkNzOgal9cyjeKKjFzwRtsamc+phEDLC5kpGuhj76loDs1Gqjg9QUZmRqWcu4zGYFNw3cdMxiViWqZJbmIyv4mVwS9ZlhdVfiFLHmWzLzGJQ+ZnVxs9It3UN2Exq5jZClQIa7myeY4qpceZa4F16hYReamS8sqF/uPMc8/DDDUbuWWzFTvpf238L1l9arC4nYoHkvcqPL/cFFrqAGzMSY0TCuSNZfhyLgKcQBrgIQbXGo3es3Ga+Ce5c41G8Ef9S5lSbh9S7aTJFpEExNpHiUebqV1GpSS8ZjZWYQ23ELleCF8k0/Fr6GZCZDG+oV3qoGYgjtZUTYdQJxq4tLoI0l7sxLwbzE51MqcsS6iJiUhbGNyqtIjbL1LeiPqPuZFhZGXVY+AEcyr4lt6ixVSgO87l2jjUUzNYJZd1iAiz2mRsid1nmJlbxKMFjSm5pEK5xEKItOI5DExe5i5bklYlw1BQI6GAuD5CBy7uUtmPgS619ytRmBmnEtic9x1CqgLg41DF3D2ygamDW50xM4l1GptCrFgisoCec9TjizZELFD8Mp3KwrNQbiYnKSsZn4v8LrGUrK3hy94tr5Ub+kVODMThj5qeTccVo7jTV7lu6lrZlfis8ymy41cDPiG5b3LIiMzruIwNsmZsX21KW8YqLLvUKO02jSQVHdXcqEsltTi6mTG4ahdssguJrmZ7lQjqpe5bPFwU2h4ll5wfuDqxdY1M83X+5T+Wx+DN5XMtdy7CVgl26jBlX/ANy8ETGpWmO5io3HBiUOIGJc0tssliQElLqUFzcQdBUDLMvAQjTx7jYE+pS15hbtrH1Fw4uW2BFN3F0xzUshOI1GpZAd3mKEUi1plAtl2MsCpSqu4jG1xMFTlnqLUHBsuCqLFmauCupzridxbJmLnUUZfTA4uLidQy4mbiKnl9S0cEDc2+4GY2ELSPEL1GmKBe6/wukp4/uxopj+xELqZrmGky/9oi/9zWaN7hncxn+piFs6YN19ysxlTTnqZuYtmIebYjxFiAi5rEMCm4onWYozKszHGId68y5ZEQ22wLxKS40fSUv3F8ZnrrESwz+peG+5+xEz8MCFQ7JwnMDfipSrqpo76uBsbvqWziF4gF6xuUeZu74l+JzHiZuUI4mdS5eancpgdQuZPqC0mM78ysaxEaL9wpfU23cBYR4KgpARpyiArZeCAAY53LRrUASaSs2Zjui4teEKXmN01EMjGq+5TRtiXT8BtJjnUrzNMkpq+4a6leSXmCncpAP3KaYkQmFuZjipWDTEvmWzLazCF3uAtiXUutzBiMbs6g3RALg+YVhcZuo5e5dWvW4ucxyw1cd7jvzDdRFrxLZhSAVF5c6VP4X0J6/vQKUuy37YlBuOSO7io3rMqcu4CX7iUTshMXiNnErHdy0QqG0rJBoazAametTYYjVS1kOFkXNGBJYdpi7Nf3Ea5xHXsluETEpXwareoLFnNVG6adxda1Ody2bdxeZkZm5xbxBdsuXZcpXPqW4OIXV/rxELjELTdyjtK20xuW458UYhRcz2TiZblKgkuLfi4XUzNOHE8sziYmB8ar+oshC63zC6mMc+Ii7iZO2GKXMbwkso4xM5ye4QwWs2TOmYxctCxpZdJiOeIlwomUYlIuMTTBqe3wBcuGeJiy5hdsARajsYIEGNxGmLu2Nqy1im2cxqV3iKVUKm6zUwZMwLpZjuAVFivESGzqaRKejEBXcBQuI4dsbKZlG6JtGn4ZeOpzAxUHnvxr/C6omEhflyxlsl7tGIlu+CHIuJkLWO2U3dRjxVTLeCUfXMRmLfMD+5makrPc4jma3DE6wfDqJGQxFPesTIwVUNGWA31M34rmMSotixcsrE0PFRD3KzuWcEHzKo7nCFXLVAC2XqVcHeJWZUI2tTUY9G4DWpS2I4PCXL66lBulvUpMudQWR6lkrLL8wbmc3KBPhusR1uDvT8XB8TX2Q9zFkAO5Yu5eswxj9ygYPNpOs2QW8dwvDrHEaFO4LVoXFcwu5ynBKzqKG+nEw+4JvzqYzKD4cEpiEWpZvcVgrJVfAltPEUQcEHMZjeWCqxFxuN5qLTiMfW5eGYtx+5h4gZ8wtt8RcQVPjzdylZi6ifceMy6MDUJlF57+G+X3Bad/CssLGF0XGoNn9xVOLdv0/hfoUTrxeUbGj8FwgXSaPEaWWj4tosSbcQtv1H34in6nUe+5WYMMyicwN9Si6IryQKlzdzJMfUQFguWt2y8ri6gUZjzki1/U51GpxROJ6+KzVzTOoOoZbhXEKurxBaMJknE5luon3c611DJxqJT5lOC6lqoKlVzeIqDFRSBmFiTWA3M+2dTiWMbauX8XWYkKreo/6lvJBAV1DiGymcriWmiO7qYK1LDd1MKeJYGpoMYAouDRaxw+NSm0l2txbhmNKzk4YZJka+EJmVjUE4jKX4yuN/Au44qa2s7iWaPTLBu+Jlfqb4lnJLZgYz7YkjqrjuGHiKPEycRLYLEXqNtVUTEqMXPn4avMYR4mhOYjd6gYxKtmhcCvEOY55mWZKuXjc/vuW1Mkv+kj/C53O/+0I2XRlgl+YhaxGkUsm3c3v4IpAYK1Ge2pTeJ9EqJmoXww3NOoHMXEuFtpzUtupmXzmZ31cYhwy9GohXZL1UpbzMDcYwEbeJfRAiZJm+o+ruaxUAZhC+41UI5YGFizDe41WItIxrMrxF0OYY1LmYEYXDvLklwzcWtVqXgzKv6mLhd7xUIaiYcRQRuGupZ3NoEBlmYJBLW/UasdRvS2KOMfDNTKB5JuhhJbfcqqgFuU3dam5ZuU2VzHDRK8RuPbLp/qLCGaqZuHqbfMtUM+kojU1XfETeMQt3EDdxY04n1iOzqIMbiJuXM7hg3aELLxM11C6g0OfnM8fFlQsPE4q4VAEl6ojg4xG24kt6hrc/sTIxxEReO/hd6Ddf3okMd8y93cvdrGL5j2GzMauZsvqG5pPqN1KVbYyg5gl5l5+MHEsIsq2pRqiZCuINrnqPEXKBK9rcAJFswbzF8xujELWXmb5iHWLhSxqUy7LKi8VLiJdGpWZUGcviCC3viYHjuI8uSClXN6lZ8+GAzhvMvMSLMEuCpWqhylXC0u5j4I0t34mUl7hSa1BevuWqWcaqBxYOWbCUktGWRtqvu5okdVlY1UQl4jivhG1EzLxWU/riXoM1No+Y3mJi4F2ajVXMOZzLbmVy3wGYAjKqrJTqK6hUTV1uUxZGv+5uXxELjgxiFMZWZaspGGeJdmIVKzFeETUzcz9Q2TWU0tZ6lKRPzF8xVxXTExaiYaplxrz8DTM2qe9v/hc28CX5cSpRoGOmFX3dvcaWmWMgZ5C81M5nMByQqo3c2ZjdiajqLKTFblWVM3NNagA5dxjkEioXN3UsVDljBg9zlBmVusw4Ihyj5Y8kEq5xcvG4GIoxb0TJCKOeoVcDmoViZSajdZilQ/UKJgMSw3K11cvOdynHmCXFXWuZrgqUuyImJcagmNwKuURuW1mWWzjBKMRq6ivio+5zLVMX3A17mTYlr2WsoGrj+ExLvmW3qVr18S1n5YgYNQLwSrCJnhgl1GxRwxi43aS0zBrEcMPUvEOU1M26+bra41DVblJZWJQm4m8MJZiaWITMEcooh3EdbjdRtirgMS6uWVBmoFncdXG7sKiEYW460XBHRzMUx7il8ZJxMY4YmMxlZl4uNIkQLWUHll+lZ+38LzOt/EKOWy158whFlRnKa2EZLdFTbhlpuAkfGKl1Eb18LRXc51AoCMddsxOZj03BVYr7li+aqZs07iFsts/Ey5XOYvpH5WqqF7mbfGag8spnMBrfrEKm83OY2xXcr6JzbBuqWYcdam7VUzhV1MhZcMOZZlxmVQRrQzcFupZeY1HCK1guC9xG5m5VzEr3Awy2rl2xoCVc2vqWlwyVqHT3MBqAjf4Y7Lu5Vq+JUYpTzHmAviYGZvLW0/LuLhCVA6E2eI73cKx6nepnv3MMIF1GslwvEvVGpd13DGKgxLATU2sDqIkVt0RwpeEJnHcTEwENZjdbhgy85nFkvETFSuUMwfEdEsitJU4lrK+JyKigajajLLpYbJppjhUY44mlyuXUTKncxbiWbipkKfr+FxyOtrmzSWADfuZF4xOUeWphZUb0pLLmo1wwuy4xZ1DnNwUag+IyqNwbxcRZGr1MwdJhsMFF3n87jcFMXGqxz1EuuNTLfwmF9SmssUvcVvER9web+KmcS4OyI16nmpWZWJefgWn9MdGH1GqVt3Fa47gNEM32RoBlkSvheYw3moalzMHEGGoZlMAI5r4Z7gQwq5lXRAXNRSmmDeeoO4qIT4GGkuzhGxTzLVlwwDOTQS1UutMV5IkXghZBi6gUiTAYjKxupf7gXDHwHmBe+WLTeYrejmIxrniZtgVGIk2sFrv4LZiFEsOPMsSW0S7lOPMbqJ8bZgxuGLxUsbw+JZcTcaRGp4niopMWsxFTKggWPX8LmgDeeFEl9Wiy7TjYEqYqHMy6ite5TWSCS/gdOIlIOpiYqpdtyyBbA8SgqWaJRcfLsFI4aaYsdeZe86+JsaogV1FvOoxLBlS8M5dQ7I4cS9s5lZJefBGzumWFBObl2+LWZiYluCWP91G32QwzG6gTPfmBzHAX3KxqGolEzmAYciA74jkwSwZiqnJceLlxHDCFmGVHcNYJRVXMXXwliAzb6I9d7lLmlXA1OOZY4YJrPU0wxnBbjqXi5e8MOS4b1VU6m3RK8xZ3G6e48QNtMMvjKFyoYNtcwWmiJSCNOZjPlEDG78QQKuVq4FkwMtKx5lho5mKi1UNsZlozAMQb13FyxQ6ivMa83LsI7l2CNN8xU9pmDZgZD9xAkTE9yxQlFxB1MZz7gqCk2D7qlXF0fwtr3P6iszV3QQb4hDB38DS3HxnMsSyZ2RXdSyzUxaRD8s+5VHw0qBqNBshpFSKDAINOFje5ltjTxLAOYsJVO2K1fUc8/CkP7lZ+M3Fu2aitDMqQTWo1LpDWZUv8pnExcrYRO5SltEISl9kQClxACwbiprcMNRsY20v3NjE7xKhbsi/BitMulgwSXZKahkmw+GmvUvNVqZ1gjVUs+4VeqlxvmIHcaq+XiZSpsnLPqGsMqzCuvbKgEzUvcZs5nEzW4ZI1xLCSpkbiUqoBnLBPRCmmYpxFTCTWMJCoQ2lgGpiA+ZqqiwQJzN2RvUblzD8SszlDUJCoTYiqZeTmWdEFcVi2sS84I5cOIDtmD/c21FALSU79X8LP/wDh+BLBz4n1RONQyYmJnEcJapc6OyFJdwXqcbjV/eJqdF+5QaKlzNxjv4Sq+YI726mL7iDiJnGK6hJw7lpeyuJgY3iNdTDjU5j5IIuC2cyvITAsSGHEEwS4XLfUe9wuMONRYcS7Z7lUKJiJiKreCcGfczLo81LGYCMV5i09S8xhuGoy2G/UNuskMfHWY0aq4QxcFwubqcX2RzFaGMsDCgxKGHERbjctsrER9pe+Kg38SnGYRAl6W+pTolYLioSpZUxU0HcxiycJUKuMwTBUM/cS8QvSy7vCzLCYTUuq/qc4xCzZFEJ9QyVUyTF1KI3HdEzVwhdaiQhrfMuLncIumAPube5T7ZTuXXjqUyjzKckWmZ6ma6lNzKZrxDUsGV8QNH8LHovv2ZKhPcRS9y4js8RMEWGsZgKsXmvjippUQomrmKjcFlS2BNu42wp7ILzxAb7WVeECUJ2swb1ZUVyRxWTMeZ23Cr3iNWzTMFASrPigyxY1mCXExfPxfBEGBXlKayjNsOeYGj/cEPJzKF0cRG71M0bYgLi40u+os5LU+LCJiUgx9TFS3qDn6iEyRs5ltJC+YAKUIPipV3qUwaLhsq6hQ7zG1czNHbPSBZGNszLt/v1Mb6mhfM6YnSAEVl1Ehq5i8MSRNSkJeSOHFxJTUKx8EDEDZ+IUq4p5VcdsW0cFygi5gYmZv4xB3vPwXzM2sKbx1DBguJfOY6lFTHBKqEZcdLWpxcDWK9zAb+GQcVPExm+5ajkjoitwPUIxdSvf8LhW1n+iNqEAwGIS75ZeYiTaCVG6v4NXMLfccsTRhiJj1Es37hKS2UdTFbn2oMwdZg0lclVBptObisVzMhe4m4oHMZlWWYVCmWbgu4t2y0zBGhhol3CBz7iFTBvbC5cAbnKJQEcYo8RvLcsQmo1eSUVSWuOVBVwFY1ExFviZhnbMXb1Lw9zN2GZTmB8ZtpJUtKmc6YlPOiLDMnMp3N2ZjqCsrI3icQaD1DZqX0pjy+mZehEpzVTCTCm8/EauPMCEJSVPUFJfcKoMsxCUMCssAvVSzmbcsNqWIOLiEzb7hGBGmC34mcsFJhg9E43PXU5l27lO7ieJdfDxKMtGaGZZFpzF5DMyXHJL4u5RW5XaXLXEcYX+P4XMtYHXuc7JRRHsd3EHJmGF9xCiMrEfEXr4ZjHMWJetyuKgwJ5VmYl4gY1K0havcu09Ig3cGtODhgSmyO3EVywrFMxaueVl4uDK84hVRoY5Y1cywwm0CoXM3G1YQGGCfuWAu6gK0XLvP5hQLZmo0e400ReB1E1gtlhYtM5YE/qdZnGZzl4l1DBCyJkagd65mxOyTmeeGYTUKmSLxMKa3HG46ZWjU0cai1LMTLJMuRAVTtZS7ol8CpkZ+DDcatjHwLCYfiskazLphd41BpqYO5pmoBxq5gtxsyuXEalNEtdSpTEogEzUzXw2wM1LSdyr4npKt3OZiAwjwhMi1mZ1OXy2RtuDiVRM3OUbnO5yvcBmsQ/hcjX8LVzVOPUsTo1xbOLRcSFwRB8KjfMt6meo/wBxSqpvipnjuFyvMKuAdTLqoZSZoxK4mFgyWCKTEVtl/wBwVGDd+LUDFtWLNkd+IlsyPU2jOTDmA6gZaJ7Sm4sszqEVZBuXBrDLXTDXN5gDV6upbWMEwR/7CFwCy4bcVMKKjzKxNGpatyy6SYmDQzOJcrv4HPqAEK7nDOob7lhmWNucQe8xolwq48NRVr3MzNVqANzIcwOniN4H6i3m7g9mJShcvUwzUKCEU1GHcGP+4mF0GNTUBmX7gimpVuCbqlebY9S3JBKuKmDTGmrmrq5VjBcRpZnnUpuU24jVwwXFRjbcyES2N1KhbMT8FncqNx0XMlRPMavUxcq47hTidFfwuZxF+eyLEzzU1AkQGjMdwMS6cQGLqZ7WeJUvL5jVY+5ipQN9SnP5IsUc5J1cuDD05ivHJV1M1vuUqJfqO14iSHUq99RJcwG2VXe4pW4Xi2KLYxqiVx8UVOLZYm8xVArmavuY1L8zUBy5zMVUuXe0PCvcxbWpYDlWLviYvLBqoo5D1LUvEBuIkzKblnmYTMOJS5VGMXL1zOVIFGD4Vi1eAmUgQT3FVzkzKMemWDK7iXvmblBdxuk01KtvcHmBnLuKT2nQjZf3F4jTuOCYzBpcQZZEyTZRDeYdpq4gv5xqaQcmMe5dsvTbj4cRqsMu/UbtjhMxWa4Y3c9lylsoJ6lwYGjWZ4Zmom6jOYRlWwMq+oDVol6mKbYUkB2g41GjEU6lLmZmOWKZQT6YH8LEjm39cNUQLvYu1x7uaaJnMS5msTLUtqNURuYcysTOUzVXAbvUp8yuLjDYw5wSBm1BYLTMReqvdyiwxyWG5ZdzUb6Zf4Yuy5TxUVblf+GA7mNy11Fupj4B1csMAjqxnxGxyZmDuJYizuUbYrbVw6dw8UjZf9RaioMXc7lvuVLvmUzLuN3LWU7gN5icX8NHmFHqXwRpM7lMTP5RTDbqAQM6jxVQMsBUCVSTB7qLaYlNvVR+LuOYmIXcDevix8l3mLbiWXzqCAcGpTa3DHWNymYhXERlVPqJM5L9R46lPep5hBogwabzqVNpQEVsbhHcK1qH+pYVubh0gfKkHi+fmgc/wuQNe8lnlhNOsvMCtGjE5gQF7jmUqW1DEa7nPUG2InuFUxEYUz3DNw0Qhc0lcp0JnlQW4PXqUWllBLzuNgXKZqoAiYjlm/ijRANxFJzERjmDUcxSwqW1mJ4gUZm0tzMEPcDxDGlxldZjmzIluCj6Oo8XMPNQM/cd5Nai0Ra5mCOUpcLqUvVzSiBBZdwIcfBXqW36h/cKT1OYKcwLGVazHX1FHEtWoMtx3As7DpmQ+4WyXgzA/jUFuMZri5oxRE+Dc5jTMjY5IjyQSM7KgZMze4o+m4m4hpyEcIh7qN31FAKgpklTHUE6ikp6gSsvUq52y4F1WVlWo3OJRUuE+RVLtvfmVdZxEJV3Wo2MQKpUVNtxu/uWu40ssJcFwtV+v+F5WbVPWISja83iC72vUVMc3DqZNVDUsMu3cx8Lj0sxbCAOZebcQCIhlHNZhIY2YeZgirUzX+5dl2vUGY8x6jczqV7iKZTWZy7lZL+ESD+5ze8y4uWIM5PEsheYDbXUDBxEpUr7lNVmoEiql71A31eiAdzHoysqT6nc5hQmNTCszielQ5qDmedQBlKhcBXMEZ5xLVbmT2zIcR9zoM31UurTuEtLZHmPA1Ct6gOjuDbkwhqGFrMTDM4fzEuJiOqhdx5iLbmKYahf/qU1M/UQHMomeJZRE0mTPqdTWajdnGJWpq2I/UbjXc7TviVbK4PdR4sWU1OLlpiXiYuI3FmFtA2zNxzULjwRUXJNpkItkpuLDIB6t/C4o6q80x2C7uiYssQP7irK1ExB5TKVFUVM8fCB7lQN4gq7nPiblFwyagQHfiVbzN+R1LGoe0aYuHYliee/hoY0IW3mJuF7XfxRCmXK37nG7ghLxrc53x8VZXMtgoSkMskW2GOAbjzYLGDHtGRJdkUMML3qAPc1UaLmJbRTuG5jWWYjR6mW81GyYXDYwAhVOLhniViNaIPcvfEZUuYSyyrf2QtUg5OoKiMtyrrRRUeSpWPjlUy8aitXOiUi8VHcLjrdkqiawbR6zLLia53zKQ2zII7Zu5bUzcpucsFzmBp8RAqCxSqhLxqeoOIYmKglsyl+JnESXluNi4MweyGsGoU0XK/aZaJbEz++IxEeUAcS9+l6Hf4X/ZtEJUFYqhZgI5RZlYJVv18FZLSy5W48V9MSqjdEujc5A5iAH6l4fDiD4mC8wmhaCW3hi0Sy1cyXzKpDCsrBM2ivUOI39RA5RbjaCQp7g5SF8wMTgmY2ymeZl1MViFjLoi4gBiOFxOLitsYG7tjwuqmLe41ePxBagqcRqyZXepw8zNSmjuFQO4GybIJWoPqXlgFDLl/iNe6IpsY32RC4RZpUf6QaTzqN3OBmoModUkdtyqNcynUujUtbHT91KKjMA/TLK5nh+plNwzfEFrLljgiu5bMixqmMVd7lyhTPw59RAcFzLFmmVmck4hEoxC6HxLlDvUqMRuJ8LJmaplGtXEq+oLMwDPglEvcSN9ZlrzBuz9Ziv4XyZvjmK2Fo6PuBm3u2DCLNEGXExUbOPiluNxck4CmHXwxW4mN3LBc9zK5l3SVArcav9krrccjcyNwWl5IrT1MRz/1Ebi6jWKxF6j/XEolmb7lVDK4qpy5lvU4lUbhN3+4GHMCCmWpyLqLyJWCfuC+AzOKmUrn6ZrDEMMWWprU3WW3Npq0Pgd2TVYuPlxAxM6qYOY7a/M7vmFVmDi9zSLYSlznqNXM3LxBcyxKQ0OYJWWFWHiF20rEFlJeMxutw5wRMRrIERlkbVAv6l8yjqyGcs5N1US2YA5heGWc/C8RGWMjLBqIBLq4uU4gtTlzcVombzLzBDiV4hz8e4uImopO5TD3H95geYS66iXMrxBqoxUioTXMthf8A6f8A4X3yylal9dR3oxo6hRuxg2seSVdwupYK5lH7n6RyITF4jXUqcQ9Yltnw3vuZ+VlXkC7i01UsB5f6gAoxKedS1uMR5lZuMppgZi3xCxqCxZ+5zeI1Vw1EumBc5hnFR33FmmZJiXWkFxQuaTHMbGNLTzHxA06xHfZEYZyzFR1F3LPVxpvUzeJWcREt7lV+Jfk1Nm5myc15h4YcX8UfUvbUo9dxdHxoa1PSKrsMRWBUWTU4I0cDEIcJFlrUSkBeiOVZqN61UpqddziFS8ExrExqHBxKblKZWScSyz3Lq6jvxLp1Fg7Ki2Fy4BOYO4UjPNStQSswal/UM3iZvMUqVzv4TDM8dRjHqcIMFFqLhzvMuNpmPEajSkTO46LzDe7lXr/qfwvZutH6oYMKvM4utETr4yLuJ0IS0lszXGYBZH1DWeZR3LZlqCwcmdxLgFX4lefcaLdHFxIcS2FhYpjwI23dy7mlRafEaz7lIDHDRuXklhSZG7lZFmJm/i+YMDx8hCFVWJhL0RWkiuG+LuJbEb3KOYML3uYRGKBs5iugZgzozJLp+MriaZY3UrPE7nECQhOyBBqGcrOBUWrYnUT8jEtaAo5cswVeoURtp7zOo1WmplRGk1mX0xVTCt8TCXUrDFpuXmNdwMQHuafMGKqAb8yskRv+5a3nieTDApjUqGbvUxuYefheKqXgiXMmI3RL6S83CCubxGnzcUWXC5mqiUxjI8cSrHMdu5h4jeF4mc3iNVMiWxS4q4bxuDX/AN0/wutu6/3D4BkyZZXM8I3W8xMal4Q2I1U9MB9xbNS1zLMSxN/GVg4qO7uN8fBa01AoDuKdS8n4l/8A7xceTvNzzUa4lpxMCGEwtQnFspiJYw3dS5gPgYq5olOowStxfELPUy/EBWO6lGFuPjuKvcwdS7EUONVG2w0fqNXidkpjHVwyUjf/AFOCX+Uwsu2oBUvHuEvz8DJuomra6g88zDUozOFv6mS7mMGomLnlN91OCy0iVrOCDpxxKLlAolUonuWV33HAYmtIPgBEtNYuLuZ4J5WDj3MSnSZM3LYA5gM/HM1PuPFS6ITj4aZm85hpmCXbqXjJM2y+ksHUYzceq9TKynEemoGpqm4+IAdsNkUuKJSaTnfwrTvf6v8AhekZH3KwnC76jeGNGUzW4i4XvMttOSZcQauCxhGUpW/MVwjiKbthfUol6lirUw1WZaNw+SIeIHDG9xqd1DDcHuNJe5SokzUYuUjtgJzuC1CrlFszuU0Zhf8A6hLl4RFdRtxTevUUNol6Ze8SrOCAt6lCJaOK6i8T7SqWU3uNtkLZcCxxWYtczhnm4Nw1cIBU21FFJQGe5ndGpdGH3HcNuY4MxXctt8RIF88w5bYXMNuSKBUoStXUpqG2n8wFBA/F53Fl2Eur7iyMph9XK2VDSKmBUUVrUbxiLLD4xxE3KNXHj1Ka+E3BpExM9TjmbZt3CrcTOo1VRhEGZFM3nUdvNxJmXDV1KxFtiFXcOMRdPi/lf4XaUfh0jW3EzLNInRFrTLK3ChhdrEORmLml+DuWvcGnzNIHMLWDx6lw2tcTY68ywOZu5gzlL4lCjvmKKtfGNfCt7mTREXMZZl1VEXxWJhMR5vEsa8SmBUrMwkzRN1CAe5v4jqyE0TJLI69MwcwyqwKlnRMkoDTEjxNu4MzAZo5gLWdTctphFMyvLEsh4czFM0ENhKeIWjnTKxLu5lLXccSpgQxe7ijxcWHUsXLCxMLmNN+YvGo7duZ9xJKNKlfuJ59wvMNzdx1CHJrEqYMFFVG1RGXoIOcs9Sq5hZHO5TKSN3EeWVmWmTFzbcGnxB+OupVNc4lN7iN7+FhwrIEqN8r4YrTF9MvpL9TAizPUTMfTo97/AIXzB17fN15fDmLzc1lb9Rq45h7lhBz1Cqwe5isxOSd3c4Q/cMzEdXG6lMJm6hU2YnCrxER6zUVh2Q17Y6Y4YZiIU5gs3ZDHqWS25TqPKWxiuzM2v6la+GZYQ6qb6llhEOCYdosIiniOKpu5WarNwAPc25g2Ns4m6Z7YWb+KlIzFuYKmZxPXwXMd6hxAdfuI3LMCRg9Ea5gLq4hYufcAcyl/AdQNahh4Hcqn/coux8yzdzNHvDDGY6mQ51NuZsEGCoBBazm5bmFDnqXU6QpmC46eoo3e4BcHmvhaKLZcTzv4JT16+KnEt1NoONS22ouWLi4lKxZbLfBdJpEFEG7rxM3xGr8xblJeYAiylx34/Ez/AAvWq0eDnBk1RK3vMfCJ5m0QrUJiWCSjriUlYlv4hqBpOUExfXw7T6llSFd51LSpli4dktIpUUSj45cyjB8UMrEblVxPc3B3FgBtgXiWV8BVTlkgabjVn4Q5qoCqxolI2hxjcbM3smbmN3HcTFxUFyxj6xMRMSs+IsYiQ6uU3cxcvFzmVM5qbYlwIX4lLxAdxFy8w6mBZv1FlcAp3C6hkcSmSZuXhzzFU7iLy/UsDzFRomQW/ESyDbuG5g+K0R36gYgjmDnEsRxlLjFNy8JWLucEGcbiOyJRcUrEtPqGTLFxBVRTGPi5S8VN8zBxHe5uV/4YiiBX9Id3KeYDT8nERnPwEHJ39+9/C13Vi9C5kMXqdzHrkuDDpIsxu9x33LeZa1ZUC4Wm0qqgWpinu4YpZnJcemWuIbiy57oHcomKMCj/APbjr9QdVxEVajG6I3UtVyzVS1IswmUbdyypRzAJSWeoMDgxEuFTG5hYUXn44cWwKZDU92I2gvBOFsxrUrkZmouYXqPMV+Flzc5xM9zZUzUPgYqYHgl4uDZmoVCqgV+YsRbwxcFltFTNQGBCsQ/rG/RljYQoodRGplRFCy/McZtdQFApllipnUzliJLL1AXs1Fw4hczBKdxpVoxMFRUoIh1BpmbzCswuMXKIt3n4XMxRAG2VrJK4uLbbqpZ1FxCoEEI5jv3Fc/HMRjEb05IeXqIcQbGoUcTWWJxBjXMc1NiJdjzzf+FiFRasxWUQafuF2fSS8LgbY4iyqhDLGVUrV3FXRiKzFlQcTga4jRL/AP2YYzDmE6mYXBpli5kM9xLdoR2hDBiq39S1RR1MLvUDdyteIjFaCo3M1OoLDcMyuOIevnHBApiOZbEVwvXU3cFOcW7jbVQeupbzZKQuL0EcFS3KI3cqpfEEgCbl5hkmnMypMCF+PjaQS2bKLxqHdTgl2zJEtOIhUyhVQaYaCmKfhEYa43MBHaERhFq3cW0tPBEtuKyne7n1qN2bqcMCTg3iAsiMMMbiFXLOoTuYqbSsTMzEomdsGsInmLcHDBhZEID3LKYFq3Ah7uaMR4SDJOPhgdzNBKa3UyXYAxb3Fwg2PMbxEeE5Kl8LbdfwtmyIenVmAUA2OsVEkvHmfdYm2VKe4YSFWy4trn4MCi5Xv47xASpdOz8x7iv3jtm5wZ5gNLzHg4igzSWI/wD7ACOsSiZpcYiMCFROJ4lP3LXOZgx8AgcM3cG2JNyqvqFGEd1UTSNYvcsSBuJagocWxoXM1gIiq73E1cSjDM0spdEqBglDiUai4xsl0Xc2yg2xcywdXFLxC2GZZF8zPLMGoNJE3TuNcwLG7uZGuZeszss4dbmDzNoI1iN0mpRKeJpLxlqPRgNHcKeIGkTyy3RFfCKQvqsSoEptzFFiKzqFWyziYrOZmo7xEfgq2OU5mVY3cXslQYhdal0RGk55mM4jHN/DMwwYAlF4jVy8tbvEuPdOJxMx3FkuLrIbuv8AhatO9++9Zgb7wQN/qNjLSrFxM3U23mO5dmpQF9TLF87nYl3AsPDcsmbKCXl5ji/7I0wUCJaZi0rB5l13Fq3nNSwtV8JEbjuZ2am2FBdRCXkRd1BoYWkHFhRGU5LlNTGJmOuoGJgtZjRN4EWcywzcomL3BmrlB9MbKsTSyjrc8eIrK5QfB9zOcwGpcpnErPXwATBK1LTnExCq1uVTF3LKtiBuswQhpPvMVVWMxaLiDTA/jliLzrqJyai4/MFltjeeomN3MzhBsy64it+oJIlQWMblVG3OIFy7K6IpOHcOZjZ8YWVkhUpcahpjP+/gtYrlxM3SkbvcO0zqpU2lts2St5+GOp3HpVRwwpjVtcxSDbFVEol4mKJjekD+FiewRdAYTybLuDBvLVLwiN6iSoOYFsqohbLyzWyAKhcDeZVSytxO2ECzxEAVuJgEI1W8xyvBMzWnEwExMisTEvO5Z1OHc6jfU56uNQv/ALYKFfDF9Qzp5lkL8IsJmX2xE8yqIUVNalTCW9SyQ0VywoHWMwLMbiW3U1XuBtxRNLmYVQTqEaeMweHcQx3M9/B5jc8iDi5zLzqGgiazHh4lNo3rtiVN4RqtxbJkla1BbQ14gZI4a42x6y4mRfNEp6lFXx8Mq+BKWcbgNkLisO5pEFO4hTMAQQxDziVxMUQSMUw7cMUOZbsiJAJe4XmpbWiUGJTbr4DErzCiOiCc3GLJLRVUV7fhglZl3VMFpmNQVkbKkNh/CpVTG/RDa4zFpWbnA3E3ucTKcyptonLiD44g+JhM3FeoVDiXucsrbcobQrzAcSASyLZZgWmA+IdsUGUcxvuYZSZZWSZt+OLuH+oJUw3HSRpUwC1ia++IguXiUgzf1DRi4wi58Rdzg3M5qLi5WbG4mQvBKw7g+ItRS5tuWL6j4j8YjXZPuAxJeZeNRqpWT4+4HLFB1LjVb41KxaRUVLu4bYj0gQFd4YGSYXcEyBi25SjGwu96lpTuOsfiAtxOruXzEJe8RGl6gANxJtLcamON1HWe9SsUdR3iKNMeIVnMrK7hhcGUrO5cTOfissauqldsSU43MS81VkHcUl/mUdTOairE3xcTBBYr01qGS9zTO/i17+KluoaZeWH5jBNnvN/Co47H7tlNDCxL7IUYtvcVqXp8FJn4X0xIKxDuALCD3F8zmIZjgiDxUaw2LBXG8xrTiAqCiBcRaGmJljVxuuZTUyIKG48LKLjaFc9SzMLmeN/Do6mJa5dZlLTBddzTDrU05hxRi5nmYOpbtKxuWFUsm65baKgnLOI2Yyl+psgDMUM1CkdmZrpKEghqF35iVKyX8DhNCGWtEXNzKLaJmdkK5RaoiwCWoRNURcHwmKzjcQdSshUSLM9yis/UqmMELBYmo3v1iCs/mNuZjcpua7nHiX1mVqNFal4WGGWdMw1K7ZeJ7jwEcJ9S0cEKtlblfDWSO4XcSCItrqbqZConZMmOcQlFJedSu2odLsioWM9qW/4VZgUK9Rc7pm6cES98xZ8RopilzidTLxOoktlzgxBia3Cqw/BRLshocTho0Ev+8kXcBWcRcUu5yg8zIjQy8S+b3xCzjM4eI9GOIxyQCszhczqEZWGpWs5lWssXApVQcy4HJmDrpPgfeuOD+5RABGrMRoWI3SQxWCMzc5SW0+5bkjuWLKzHcqyNXBIGJiXVy2tQ8TJiNlxviViLawLxGCXCudkoS7gk2IxULaK0QLDiVnNxEYtR+8yL+pvRBKepYFlRaJfaPvUFv+yB5gKkRfdS69ygt7lKlH5mjiLUFUZxK2wsYdx3sIXcBzKwiVMXuXeoJLGrY2US2ok6jhuVUUQMZUfaC1mAnNRCtmPuCziXG6JSlG2KyKXr2f4VT+0X1YI1h0rxLVHGkomzzBTqAZl8Si4VbrM6dTMzA8kvLicnqYqVSZif3mYZo5F1FFWw8Mku7TZzFeJt1Eob3HqXpIjjEJd2Sokq8czMLuUJMXB61xLmCZi78wZdsJTGMwKHXqIQcb/EdalquUm1woZdsLQlsZLCuO5mI6Zl4jdCO2sQcReWMsImY/Uts3LKqBwQCKiLbiWvMvxU1UZmLGAMC8IGFuoZ9vE0lnMx7IBXuOjNxEVZmZbzviIYxL9VBLnMh3C6cT+2ViWsDoVBaitRteJa9y+5bsgKuYlvDHD8VTieZdzmLAxxGHuc7IGbmaSGMfaBjcfh7V8ONfGqW0VHUvCY7uI7vibJtHeI1cdomIm9cHwT+FAbaEXqlwB6gNLEY2HURMtSytcSy50w8JhhuBiViIV6l8kavUUNfG4IEzeWJqYVw3EgUuvEsKCpa4Ib3MVZJQCJOpbNMzNSuURtWKgEgFSo5U4i7glwgrsiF5hZxDVs1LL+CQAzjWSDEvGIAXmdNUxcUlx5xGwhdC/UObhldDFc5Ydx+F4YNJtjdtMNMUhVErGvhcXUzLxLBqHMMk1XxYViNbtlDGzHwJ3UvG4DEjqYqyiVAcagGaiK53D7M1aEvC8cRFUs93KbhV3C9kWzMs7lt+bmV3LajWMMS41GpQRjruW1xHwjLxUrUxvqNRI3R1C4pbHWS4BBw/UY3jOY1HYfuU86iq41i5U3KVUdDuYjVRyZgeppC7Y6JqsXG5iA1sT7D/Cn7zXBRwKrtL5vxD7OI0KXEYm/imBmU4WVXw4ffDLmd3OJWIcZlpvXwxS5z8NFqWLcRHnzEF9yyhZlArIqUZqUWOA8yl5JgIpKRVX+pUbvxBMwajrMGkLzLnEfsQMEbqLxNFQbfcpSvRcLtqDCjMCbMSjUC8VZLauoxNai2SkXKahdSklltZg0xMys4nMuGGe5ZiVbPr4xRNxmKhSVW4t6Y2pSVmAecwzGlSw1LjJme/1MMOYjjgiMJUxFKrqYouI7v4tWVU7uFvuX4m6ziA3Vk01ghYbzHLHmClquYo4lGu5XyNzlg1GVPPU4luZedQpv4Ar4Xu53KTllcwLLbzNt1KA1N2pkxXx9XBIN6D8urEq+70qgSv4UuLx6OqGxNVMLzmpxEaGUviF355gNMrExiOSbaxMQjHUeJuBxDRVRuOcxINnqNFQxRBWOmmY+6l3pUqIX9zAamZxObmMxuZnG5ZKgwq4lsbvExfxl7hPRGHqZabogZ3KILrBkllRMWwxxMvMsuNoWauXOyOyyCmNB5ZcaLnEp9Sy9Rt+BTJcxUze3EFoXMdS/M0zlqcfDVSnTALJtDWZwRCpgKdz2TEGuIu17mQKltmPM4agsmBFnmJZFcgQxdsrEIbyQrJGlWHKpjMokuk/EVWJQVFclTIS7iwu/rmbgtMrDNQtjfMbuVXE6ZkJmqlFzLcojRlx3H4KhqZuNrFEzNsuxDiaeYhGHAh+KSZ2tBfofwoWo5nyIsgwSwC/WJVeeIhhMwvrcIATeJWDHwanYTxMx9TMxUxAKS2XqNxDDA3eYM0dE1cFEtcuA4li7zFwTDURWsx2VGoMVEIYor3BAja4lQyec3M2ym2Bkm4R19svU0fAfF3GIuvcTUEC4ZhO3UrApNQHEpMtzJq4tk6rHUCqIl1kubGU1czLmLI7mqRqYvETcN6ljx8VZcu+LnLDzB05ma1Ldc1BdcRcJF81UFkuDBhZVJxNyJ53U8rgweBlBiKWtTWodsQNymVRuVDnm4YBHUZdMW2LyjyS2rizNSsTU6m3HwZ5gVMmINQmb+Gbag3FxFwy6jqWxYDUdTxr43BcuuJbLJUNdze5/+ESM/UO8CfwpySMfVsqNCril7qXiY8xaSoYQdS2MXNsxWqUgEByfBgxNwutx3MvFT6hpo3FcNrdkKDWTcyVeSKsDLFrWoCO7jibmTMtePh3KaiihBhvog7zM0y0aqW+5UPhVlO5b1AF3qFnPNVULvHiceO/gwcSx5mg84ZYqIG4MX8oxHeDEvMfgjDcQ6nXqZz8C5ltkvMIOIb4jbKmm5VDiyHNtVBSl2fFXLxqYa4jMRXhmz6is5uNgSw3NHqWVrgmOYjaQsLgEwaZhXwKpVJGuPjhiFFRBnMOMPwsLur+L6fuXM3C6PjIEpxmbLOSHw5MRBavUV6j8NO8TuJV5lIq+ouPMvPRDMMdIm+JbNLzco5K7rD+FDpc3fU93S+pqCicFuIjczBAnB8JRbMLbxEziY8TaR2vEuV0MPc1edRorzDLvmOqJQ1dXer3LcsZhfZMehKbI2tcSlRhbzUuCoUixstqW8w1uoOO41WvhZesSjEDxVy8blvU4hGkIKwGULiKGlS2y5t6lUJV8ywqprMbzGzeWothFRjtblzNweamSUJ/3LlaxHPW9xDMpzqCvp4+M8pZbieSFVmFn2jg+5ll3WZqEw1EqViiWe0sMxAFrmOnCzMqyxTMbI3ZrMs6ibVKe8EoUDBncWpw6mPW5rdEBfBEu8fGoMavx8calSwSmWVqFm/jeZxAE8zDCXPqUFfjGGFdMeEjVyjucPj4Bsh8aIxGpd5Co6uLzmIXBnuDYCS3avlLP8KRNeP8Amglch4ll3Cu9R2wsL73KsZYNephLjawDEUc7gZnqZqqlLFCokb51cPCVFmkzGz0bZfFkYYr3Uy4iwMRHx6gmWvhW5iV1HqYfxAnJiXq5cYFyji5RxdznEtJmrlqfA7jZcarUVtLgdM2TdX1HeIsvcVNVHcziYEslFh3PHMNs73NiUUZlnDLplppMxQuWVqJ2TZixLv7mi45itRHqVv8AcV8w6JVMoHMLvcqspFzxB675juxg47RusvxVFpjVBxOXqJSdQ9St+ZVOmBfZjEpUDCy1bqpcXEYt7jKES6+PMbRYrvHwpcKEvJNszLhTrqWsYFhKzLwxKS2HqKsSmpcXBxNsyVEpHXUbZcLcxgLTKP8AX/4UUe7l8WY2eLizB5mL19wNw1qZxHKXj+z4Bn47vmA9TPULR6nMujzAZtYUwcTpKQzlcEVdG2pi7jh6gtsbjuJZ1EVuZuazeZtLhQ1cQeZgcQrRuc9PErCDuVCemIzrUDESN6l1KQcJXMshVY1ER6lO4lN5UE7e9wxm5ZivuW83X6ieNTiMXMutPUvGIpxLzUyfDF14iQihB36nUW6xCpi4ZyS84nMZJnNS24VmVVNwq91K1DDuGn+pmRFXUrFu9sapzxLjhXEMXKy1qCr7dEdVEA+5S6YvqcylGfM2e5SG9kQtRpEKGWXfbMZl5l0svOZzgjU3ELqY61GFzDC1QYb1CIks+pi/EWYuWLTEomquMAk6gLj7lZ6YiktcaHwLKcstiH2Q9fwotKBcK6IRDThcYEd8QC1cFwqnPEMF+IvFaixjMzKpZgED8S5eIVi4JfMO5ZYRcuLI6SpSUbAilF7lrETURlDjBxmZDJOUWcM7eJTUpwYZVPxRTcpijuJsZbbcLWp+CGshNzmHgxMy5hhd6uACZgw0iqDd3FSxLWjP/wBEvi5eZhnMRkvMdxjcHxiZs9x0t8TJGY4Rjd/GwYWkzggKRKg2JHUtqVn1LTDMtQ5zAzqZhlLhRcsz3A/uXRmLpzGi8yyqijmUayl3oqWMeBlU+IqIjNrBvME/1FZVYPhzGHEahrdVOYAtjrUxUaZmpQHmOs8TvHxfqAEHj4qXjUSzEtdzHyx4rMSradQRM/UFa0xjMV1MqRHGZQcrBrzD+/4Ugjd+5SWWwuiMvnFxLblL0QzPE0lIlzBe47ZS2VuXKpl2f1LYMCXlmDHMj7IMkyVlxVY/fUdud5mRzUwiZm6lrmYiY6hiZt5maluZwPMG88xgPjDh4i9/DDmoMCFSskLCYImb9Qdk4Y9zIDUQxuPuZRSogMD0uBROLnBmZiv43BOo1LvZBWHmVLgB3DcpncE7mH6YF/GUxrNa2TbKzqpphsG4G4rqWaviCazmAfZE3jmbtlZyEekzF0E+lsArEf7lwcGKlFJVGvc8JGpRG1nIjga3NepaWxqyUMticwGOcailsH4d7+493MTEHuUcfFz3Fb3G4eUwvpnOImdzOrlx0OJZxzEtkmF2xDcytY3EaaYDc0IozPiyvP8ACZ+tr1jcVV3ZvtW4mzfiOSpEJUNG2Y51G2NH6lvio7i+FTE5lbgLL8RWE83EgvwMbtALzBRYQBGhmOaJTK/aFcTEfyjZm41ZHDiUGWZxBwgEuBKMQWnmLtqaS9Zjzkitstuvwx35lQgKhY+5YFczKR3fUYfcSsiqgkatJYX1FOGLll+ajlgUSi0vFzhKIK2MsuJjqbJSQINpCmKnN/GBm1fBq+8SmCDjMRnvE5HcOiBmaHwC5rBLR1V8SzpJavEqyYq15gn3C1k2NHOY0k0ync2qAsU1dRa1Fmeepepm/E7n3Ud/DvBglLaT3NVMZzC+pv4sw/DxMzubhrdTudRSXdxjkYq+bI8+Jo1uJd1rmJAN/qCE9o7dfYUfwnWgVog1mC537thBiiVMkzL3UVT4UrEafcToa1Mwu5VzSwr6gJcf3Kz8Wjf56iU5bPibZpUAXEdxo+DuIL8B2bh3iFWYjiVialpuF3qEKyQ5htKOZrm5ZGUzFMHJ7itqGfcV53L3C7IgME5+2WPhIj3MtTJuLXw6l43qcwxo5g6mvcubuOH4u0+K8oC1KpvqFN5lczNbuAwa+BzMjqZYziA7eIDmBWlg8OI5aIWdy3SIrs/cN+Mxy8VGhmukpzKoY6zxCsSpVPiDUyUtVRgTVSrgz+okVmpd8RbVR2zLDmXqUQtZmwmE1Klt6qF24hkl2QcVGxiTncar4MIVW/Z8LLS6j5YiyvgleC/+bxfwn6RvyD4gBqeD0TmU2rAt8y1Flr3MagbtYuZi0rVE+ps5l5+C9ReZjuOswDc1UMDKpFrbu2IrN1GLm+YhEauJmoqc9TSW4eYs+ZahCOmmEo0zhhLiia/7+Vmc1OZeGYqLmAYuWyW5gq4cwDOdTZiFjjEU3uDC3j4MufEeqnSN4iyisRCVdoX8CYajTKjqplqFJNoK1cuFFrFTjxChyspuom86hTjEMsq7hrUKsv8ANwWlh37lbuqzF2k8MqhubN4lit+iLt64jYktdX6mQYaRfGKmHHcEDfEWPhekrEL41cdzPfxZN+icGUupitxh6i5mMTGZquJmiBh8DMBUK3U1fiYv4qkQysjMglFZY4vFRcI6gWssqNBuE4rur6X8J3FT6VYwFtuodKf/ANm6EdHnqVmgil3OI6C4jfmBHiWS6Iy4CsIfcbJs3AxDTU254n+iiJQeSa6lG3PMRfMuLZEgbikUwxp5g51C4xxiZuqh0zLIUt1LMwd4iKQ7IPj4CnbKdxDuUmIISixzBX45YDaCjwzIOQlFNS02Sgi2LaxHZ6jgi7xiWaYZ6hUby3nqW3CYWMwaIb1Opp8S5m8wujEPMWsIlt2ymiNtTqLriN/GdQwoolG5ZV1xLP1A/wDQTkqFauEKua0Ss72y9tEChiUwbe6+LNzrFxxxzOnUw04g7lvwoM9So78SiWYgsbcw9Ru4wrvcoH4NDCOrqcEutZlnmZfB6Im8yrifFkzV1BvuJBiNgD8DWYBPuEfX93BLUvdZ/hLu5x9OEbaq3UpZ1LI3jiOFwHqOXebjqM5TR3Nku+I+p1AOIT6idsrB/cDO5vjxGsuJwOLgm663FyjKxu4+fjMam2OIbGekwCGqlMRLdTE4ZmBc1jcVwBwy3MIBopllGZmvuNXrE2JSqrMto/qBUAzydR74uW6gKjC7lUa3CDYrFlPwy7zUuicHxmyYa+BWO6qXiI1EoLlUe5m4IDn1GjW4Gdy8XLc0/CYubZxqdQq8tVAbxOUdyimoZM9TAtRyCNGzcQQHXmcDDP0gNKxp8TOggqBiC6usTkzuNZ9y1y0g4buVC2YprMwxDsmhifGT4LWG5gjSQg6IQ5lfFgaZlaeGOqimo4pmMWCALcpbUbh21iA0Qxcc76+FioQeYF1/CQHWbnomr4tspVP0krg4eCVcCXv1EQiYI3llMTHZjrxGM5+LgMTVMuYszV7hVnQFzDI4u6iyZsgzYVzFVYW8s5cRZbLqDmBZHFy0m7+D31FmCxYxAcrqB3Mk4hQgRC4eUp35JeNzGqjuUa8SyX3KrdRBluNuKl5g4r9ysLhdLdMC3iJEOmUDzAzuZ/GpVBlrOo+Pgzr4Cpa5ojCB27MQYYCSliVPMwZi5eZkWXkY1TLYmKImLiSwolsTNDuWx4JmsVMAymrve2F4gZU4iNyzbGsZ5gZgZdZailQFDMbaxNzH4hGlSgyhYJlUzjuHqX8FXBJbqWQq5WkLqGSUPENQKVw5jSHmUm2pTFhlOo0McLHmZhPDHeNwylpFDPtwkrbsP4SXuGZSmM8Ew0XolnH7lZgqUjjbmYrcppmzcsVFKnMS2Mvx8YHyxWrgs6XUVpLq3HqWUGCN6hfxhoiheo8ys+ZjMxKeicPcpuF1KQc3DK4IBn1FK18M3r4KziBDHVwwcQb6mYjuCZO+eZWGJou5RUQNDHTO3UtdcRGi+YCojUSO6mepfJjtbgE+5TMMcTXcSBXEeCorMmZv6h2kN+otZ67hluABZMKSuUfCFMubGDF3KDcVZYiNBM9QIajqIN9RmAYI0DddRvmJ7YAUmxm3DLZmDzXMp23EmWZbepS8StC/AvcNQmLlOoksgWsr4u4TZKxKKgOeYXeYy8nEGn3LcSqbj3HOfhe6+CtRc1uOCXU0zVZiHpEcigxbRT3lh/hKgv8A7kmFKNzIaoOZrqpm9ShMmONXC68RsI1EWOTcV1LCsMUfhVS+Lg52zL4jxmbFdR61m5uK/Ez+sTJkzHTf1LxFlqXe5tcNe5RzubSolRs+DUGpb1BZauqg6fEx7lbzpg5+AFdyoXicQIy17ggbauUsop+BexyQvIk1csdM7mSN3jiYB2xM/AEjiWR2TNsbmMfDXMXiAwf2hYNzq5vRDLwzuD5naoOIXEKZeLMQtF9ofsyl47l2RjahfEMSrImpsYmrNwLwgvMRkqZLv4lmPEzFp3NE+9sqMdSqnqXm7lzjBM/AwGIUwaKmEKhWIuep5mATCQCVuFOmVmVMBFxHRDa9S/ELsIwnOo4WA/guaskHpP8ACVLUlp4QSyuhEmVx3g/UQvjuHNj8KKncd5ubZ3zHcTGJnrU8kHvklwIZ8RBL8wMN6jsGFc7WJNLB/MM5vMMFrF/iUiZlMxKi4sfioPcRq7hzLzPxN8wQS8Ymb/uHULvMvDMfBGLITPcUGW9GZDiYCVbqDB5MXLBaYtDUVITXUb14jtZW7lmZomCbYUM5VAm4tGZCORiIUXDhBMILvU5g+YCz8VbaQiimSZxYla8sRrOpiBww2JdXImVfBuLZcX16jtC2iLz6I0sxdkaC6lZ8SwQN1zHAruI/UdMdELKxcB9MxGgmJcdVCsyyZmcsbme4XBcZuYhQym3EL5PhDqW0J6nfczCrl7rETFEChOYzIkAqUUfhRcFZ5NzFk2WoUuP4wFx3TWK8Uo/hJtjH+lzCa5oYXwsvVErVFXKRjuaNdxWaiGMRCxuN1me4/rmNwcsF8Sz4qBzn1Ba1bh6l4rG+Yqm2YlzemBN6ZmgdMTOJkuajSbh9sqgSqdcyvEqiYxLzKxcrx9QT94jBEjn4G4X1DbHcMXULmEnOCbbgKruVXAQVMS7fuPJJleYueGXSib4mCJuBmFauDNR05gJUpoJ9RUhqM6VPPwcy6mahcV5+41b1FviC2bCCqjTBSCqg0/Cl4TOuKhXMTSF4DELfcyq44+nEBu4/2g5vMMscGOGbXKzEsIZPiGO5xM3AzuOalIS2YKlp8Uk5gEodSldwqnMBxKgx3ibM4gDGkKlWww18NLmU8y247jNssrdMDUvPxmokTbFxQ6a+2piFXndJ/CX/AGismG1vcSZjtHLGL/UVMRUigxYa75l41LKgbm9YhiLkRgtkykumUJoqXSx5GLzdROklWL0RM7ifc95UbKjgWQQZ1Bdwqsy8kCXFzAK9kQaRwQwzYkpxAO4EKvcW4Uj4lQtXi+JnG5RbcTMDphdMs1Uem7hjzKoMErzK2kSzLGpldRrPeYVGanMdlfHEHE7lUN6hn4WlUzNTOmMvHuAiitdQWzJllN7hcLXcqqINNV9wRUrQgo79kbIC43akwBiDdS2ioDyRpNz8AwF3Dic+YiKSkLlITpm1GYLnFDLllalFxriWuWwg5IVEGWYBXER1cbIjNhEdXA8yniUL8OGNzKGI3Ec6ZQRnMPE4vbHV3NYBRAc7rIhAmlP4fwkV2xP0mAcELY+CJBfGp2EvxPJghOKhlRcso7nEJbMpmo3BpWJi54TQth6ghtX+5SGPqa2zzFjUUbvhg+5luNYzOdzjUMs6jdzRM5lCHCADDPMHUuGVagYna5YIrO5pzOqlKRMyi9TCg7jQ8/AZlVTj4MGJeZXJqG2VKb3CmLZQbhTbHWJdRZxKI3ZOiUTiF3xGqyyiFKjEMuzxEtLjmu44ol2zDNzQdxu9mwgVFFvRDPEf7ZixfX3NeSZrqKFtwvmA5uU0teGNVhYGJXqcrjEOsMJyQd5i5K3Fye5TzHupoVAcPc2lxz8X8uBUKIZGdGJbUWZ0POYty2o1FuNxU5lWxUy8C4nniMNVBhqBQYmMfvqhUIcqg/B/CShnIlSAISoYJuxmHB1AzmFUxLeOPhh6fgvMPUYM/DUDm9QhUHJK1Lgtqi+IuKvys2dRMbg70iXQzaWm+bjVS3WMSjNSsSrqBU3TNoDUJe9VAauOGF1H3LZsJZeJcNVFKvzmImHrcBeyVEDvRARM3NGOJS8YlLLlBCVgiE3CoeZ/1GY5IhnMoCFgGWViYlEzbfUAmYc3OCGBmZcfhgQoGUepXmUxmbMvUwrMdEzZ7i8wwUhVVylQqZgJoxHqVxMkZ6fc7G5R0YqsqFUxNnBFwB8XlnBKxzKRZ+YkMq1mPM5zEZWNcy7+LuFSlQfM+5qVmqp+H/VTTVTIamBqctMt1MembTNR/MTGoqSuYGMRcxKGEIOYiwMLojhFTH8Jj/Q3XIWEwMbfaebKFx6hkQxSIZZ5MFpbEKqPUXMckqpWJtXU0Qrnct2SqgZq5unFRKUG4iayXqKODNdwFxcu43lCU6lVKjC7xCNURIBcslW/LfP1DBmHcaDHx9xqpRfialtbm1VBcWmoZcJDdVPWAacxPu5XjU4I5tqppjuXxOLgmWtyt2XGpVu4jeYwVsvJC+pbz8D6dx3FaqZZjVxvMMFZXBoUx5xMMqgjfM0eagNDUCYiubirB+oXKUzEi25SkyImZsyzH3ErcsCN73HPLEziWpg+YBLVxLl5qVnMdS2cGJlnKwmLizKK9Qq5eMQphi4om4tGyOZbQy6SBFL9RvPxmiKswyQYqPPmDVN4+HULhhb/AF6/hKk1AqvRB+7+7xEuVnmUoq8RBccSztYIY3FUScsbjMy1zLH55u5Zepr4dQglMMeoXQIYKLXiAxQKmziNUVWY0u8sYu4kH4Ev4cTHTKwwNfAJPcDB32zFlwaoqcbjTWX4wTV3KzGsYi4gSqPJAblMyqaMFpoi5zF/qobrccEpcFfCzEwVccdxIvELjqOeIFPEY+4BcLScVmXZbxEVdy6sfUxpaniDcGIXV4mK1KOIoxm3iaN7I85zAFpHuDyZhWcTNCJx1DZ8AspYY1BwQurzAYxcqpgxq4xSmrvcDDAbmNEVlXuYZuordTzzEOvhaZwxaguYw4zESYb6hVkEqUIR7ZyXBTFK1G91ExEjmoCNc+I0XG6ZjJAaYwgMsdi/qbVf4SAjSa8tSHI2soyb5zU7P03ULu2LVS9kFmLXSAl3BqYzBpPnFbhXwgdTnEDzG1xepmsGqjTarllF39o0bckvCRp6lJpEBzF3v4ruJ7jdkW4kxMk4bOIm6ZSVZ1LhqFBieok6muJSXcalu6lqCUVgpRSLi8QFTFufcBGLVM4m92QFfDipWJY8VBb9zHw5jaNhAzuUSxlKDqZrc0VUrMwWPMrpDfiIicZbiUEUDiZWZ73DiBbBAbg2r71LdStMqscDj6g4+EUdxq1e5ei5mxvU27nIqYxWpQW1EOJYUl5ieZnuLiPE5mop8XLCWQjGOpVnxshivUtqWy2Ytk8x1AxdzFvEbfg1FjcViy0HOptOIzqbuvG71/hJndU3syUPQzQuB58TO1G7U848yyBZMGOe5sQealr7jfqPxjr7h81hgSp3BZYAOTZFo3X9S9b7xCNl95Z7MBu2Nseqtjc4jqIdSsy5qpbuVuYnOZi3MN4lokMhOWpRVxuNSp2b3CCBfiXvMy4giS7IG+4qwVJVwM8ePEsq44MauHJmK3O5jE53n5LsIGSU4dS4hiXiBme4niU1AqGLlAlMSxC9QII5l4Egt9RqFWT2hveSLrKOoXb3qWgi9kHVmOyZbxBbxFkNkxkILgN8wfiYVjkcY55gjm4k2q4RQIsam6+c8XmO7rMua+M38W0i8+4wuklFQCo4Z1MtalE0VUrUZdfH3COdy/EFiVKbplXSDKU3+j+ErzalRC6ixj8juCLaPgQcnqV1WcQiOblaKJWabnLiUgEysSE5+MUSsw2S6gjRHq5Q5WpXLR1Eoe9VBaULxPBDmChgrrFRKYZI3KuUVBPhMtsqFVnLKKZSpUQgKKhcFuYY0VFxthQRabNwwupbGoDvjifghxu5gM3UTjqZispMbiqo5ZdJZEiR3AjADUcpP6iAhmHuDZLtjcHKBlUBR3cKgvMvqUlQmC4pybIiXe2ptqBZnEAnQIHFmmVfAsxLVVyqqqYJUsGfguF4mcQA4SZqoEruoMeZyiGZnMri4LhMPERNS8RTzL+MS4l/FkfE5IQagDhnMxEs5liUpkhj3NkUzcSB3mW1xDDAr4GitR5OoW1llYbvDSej/CRBQXOlTrRh0NQXZq+YSpC6LgI1RdbuUZbpjbvUSN8zeUqpiq/8GoZYXidQ/FziZ07uANkKttkTZm4cCIxirPWPuUiS2Wwa54l2S7IhepcGpq4Gsx3BzqdzmLgImvhcEVMbIZIBe2VjcFKgs9TJA3KzExXcuqgEuVnkiLNcqjEbu9RunEbdEtf1KyBMcoBU2fcbj9iWyjEzdxahXVEa1C7nCNXhjxAZqbFyx57jZc2yyv6lMOO/UChCVjUyo+I5pwMUKIjxUzV4MzIZpupWGFNQDGnFyrWx3VYoimSmBmn4fXv4VYubZTcxPaofFsOZbceIX8ZLHdefgwzbURgCETaDBjM6lXGoitzv41uoL1NPuXaxcEOZpHZD3rfi1/hLTOTfcgTSwe4Wv+4cju4pw1TKUNu5Za8E24ipBHZ8Ki+JiL8ZPg2TcH7vEx3zD02cyqxG9WXxHUaKgba5iZqK04Jw4mCVGcwRljNs1uOJzCHfMHOoVUN5ZmoqwwMWFdypeIOoMkoVtiwFXKeMQF54vUFmnTHQCe5o9x0McpWMZY2/U9zEwXEzlhuYO5St3OYCDFxLzLENVAYmdy+Zblg+aZRlUtbqLmH6RRjnVyqPgDCy13MrRr4C7ZVYjZwx4XzKaYgw/wBQFWswjfHMzTZD7S2KVpuF13NomMxiQMxvINT8oJj8fFYlnwJecxCjxLzLzmCW4xLphVeZad4hW41jEce4+43ZBvPPELhDkGVnUaslWuGWFXDVcRy/+AOSK/NGfwkUN/ftTg2zKlUmcxoeMVJiuJd47b7lUMamajOZkeLjzmJkIk/dSpgHubJSRKqG4VBR6lIEGQgsu94g0IvPUsXF45l3omfeYzvUbzEogNxdpdMRNx2nOQn3mdsodO5xClSpkdysV3M2wWllWzOkrNR24qGxDE2wFZmEhRU08Zn+kwUzOzEH1MKti21G3qLiZI3GromHRMViVOpSotHH3MiY+yF2yswFd0T9oqEbgku9SlV4mOqhuUXMVdZgnNy1TFHcHcJu86JejqAq1LO7Vh6lK5i7yiPFQKylt5huOQ+DZiaVMbanpGCrmdSyXMAfFePUpF3OJeCGo1PqVCVLllc3LbuCzcdbhlvMUrMzVVLtDBG0jr1MNQaZVhFmfW5sZhyxijaM03c/h/hKh7wb7LssZWAQBzcKjiZOSqxC0RZyRRmfURgilCpS4rbB8fHJH/UxqUqBeoFvxtt4ZVqb0iqmyo6gcK3GgnOo0tRvHqJRkmLmIupT9QzKMxlIXUEIK1M73LuK68xi38GmUu+tQafqVGgGiE45ruJde5yzFs1E2TUKzqoUMcxPkwl4Jmb18BvcrUzUo/EzlqCkU+BSXgxBtmHULsl1Uq4mUvErFY9wlNv9znxMJZMwu6SoNpniBbccDruVo1rMRMNxTBgwxDEwF3/uXUOUHg71KXCVG4Ako2IwviGQ6gBg+Ipj5pW4wMziXLmyWjKlutUQwQqmLiOy6n/cElVDHE01pi/uUbhx7mIreotjG5nqURQ3Oo4/f8JY2lB7xDkXhJnZz07qWW/EC2WzlslcgueExq2LTF3HLLzqaH4JdQuo4g1KCN1MLuEHcBpu4HgNxLq9nMVqzfESGcxNOZqRoF0wtGKkN4m/g9wS9RS49PwX3Bb1An4XAVlgiVzLdQI27hdziHLBbvMLBqF2FZgiONRKWnXMMvTFNBBy6llku09JHi1lissF3Pcozic+4EbOKmNR1pm+ZoOYSjJF3A23N3LUF34jVEHDKeFogbYQWUwTVbjTMRpzLZr8RvvcEubQvO56V5hzqBiL7uXurzLQmZQbYAZ3AwwVF1z6g9xQJzBxOId/Al0R3CpxOJe/gupWJUo7nEzC62QpJzxcAYGQ9wV9Sm+YMIqkZwQvmENpcvdkd1UTBquY7OJ/3e65/CK00l9C4ctHo7sFNXC76bioHi5gt0uIgB45NxLLNZxKCVyw1rfcYncSlvmcQXMxLLYniZIpCW1AcwMygRHZAqsGuIpxdTZFGo3Z1CcTiKOicSogIXHsIZdzrEqBcCjMGqgjiXaWuRMyjK6IFVHbRLiiXFgYD48TNcsDeswtPMpxvbMUicwbuZLoN3EF3vUaCjzL1mI+JeXmNxlXBJcTPhYbeIIxvuV6RaHuNlzrN/DbCrjSm4B6hd3cHIFZhVs7YMeIVnOJbKKXDBlMC8EzARKOIWYphRV3FbKpskRBZQuC54fcC1l03GiaxVhdQsNy3KN4IDCcu5biO46nEuU5qZzHMtrcuXMwvUsHN4gIxSl5+FZmApi5nU3M3Ep1OYlIMtvc4Oc5jdZjSYiPSSzG9w6+vvbX8IrO70rd2ltAKyc9y3Il6qZA4HdQNvFTOmDsxUAN7ljrMOUjz4hghMEPjiXqF1Ll6hVQL4uUN0lTQXApeQiMryspTMpMpqY3NXOPi/0mqxFWTMaZsTuV5l+Y3X1NIGGmFxq8a+NkxeJW4xdS8RGEbTuCl6ld4IMmZQWXdwMniL+e5lGwYZ2wzhjdU9yl3c5b13HEtqklNzI0fGK3F6nLc/qMucdSrfEBzLg5jSSgmLjZL31EJjZuYqpl9SmIFygd8Q1uXTVVmFOmDfmUNZZwMQy3r4KDe40Hv8zF7no7gWXRdykTbibeIy6Wu5nM01GtwyHuJNsZzD3OtxW5dTKw/wDAUX4GWg5g/qNcxcVULmRu4GGYJr61LEZcwYYxS+YNPE0jctz+Ed5EmXoyh7KAJSwGN4mIjAdSlOSmvce14lyR1cR2o13MXHU9QCpez5QlFQzAgTB9dxmQfUcpjeczAK3mA4jzn8RL5niSrq5bDOZiVOcw3PMxUpsnMCpeTMBm2I7jcr4MbRrETXbATmm4q6zK+4iv9M4MyjIy1q5lUtBu8yjq5VbMy4zA8yq5q4uesQYpic5jrXqYNXMH3L/Dc4MRhhAYai0zSpZU4itFyhuVdRzcyioOKiqiLRqE5M/AkCnLU/BOSp4MIQTcSImcxvNQYiHdTI5lK8zMMzcWYXM8kuz4CNTPUvLLmYD8EzOZcxCZIw1M38UXM99Stvcb3uZh5xKYBcvpGu4qXMWIJlWUQNRT9n+EcUfJfclQctsSk1zqYXfGoEctZYGBSXgiYp3qEE+ohKhjmp3EPcI0QzD4xCgIDB3zcDBMOcYaZsGXbiNvYy88jiJxfDFiY8xUlY8VBxVXDVSjEprMGGAS4uJpuYDLBzxKYSs5WJhWc6hvMFvcuJEXDHyzJJnjuK4ShcsbL4ItK8xoVwiD8BgPdkTO/czcffuPaWjELzFiNxpm+JZ1OH7hkieYGaieMSwgYMqrhVLzOSbzvzCXcyQtnZURT4mnqM2e4oHwVmsS/wDvK7SwG49mYC+ts4nY1G6rxUqFHaXrMNGVuN1M2SybhN5l7Ybcwq43e6j5mvi5czcumFyrlSvjcKJZeJeSpTdzcXYzmmXbP+8Ri9XKlMEOWoNlaIgCuYFcRbVD4VyH0f4RVxb6MKYbMZqKj1/MPhFczYUrECngYBc1+pZ9Q2Y61GWysTNxubjUW2WrDhm7lQXCsPMB53MYVD3zMTWSLg2TAxMNksJe5YuILhmsVKqAZajdfAJzDUu6JWQv4CyoJTKLAe4VK8Qt4lwJBaFG2ZlrxzNl/FkcVLF4oloLDK4pLADMlcSi6hLrVQU7zFY4JbPmIvBqIVKnglrMuDbLIP7m2F1FCoX1uWIU1HlNYZhdbg25dxM9xRZyYlU6mX/cbDUGlmD5Zgai4lI1e89S19RvrcorvDU9IWq1+NECbfC+pYgxxKg4l5l2wtncCWhW6iyyXcI1CosHfxcbr4KDDBLnG/cq+ZmiahTfExbHEdkTEPMtL61GNCKYQcos9YfwiaxTS9Zy7N1xxMeen3B9tmAq6uJB/aSit0OpW6iyK+5jpGr1PJLtcVMVr4eMQwniFTHwKXXyPGWBll7xATMvhvUM26gt3zMuIhN88TN4ioxi2dRHErErExGBZWINMd2TPMrthqDlg0ag0QlwxjqY7ZQGW4LiXS+YQPOItRFtI3eKmKY2uC8xxrO8wQy9MuqUhOxmNXxGtMxqozZUzW2Dg+MQSoJkhLMdnxZVQJa6YLo1OEcfTqZIC0QPqDFyxVOZYlFwAvHEOtwLizmNsamrDxKwdyr9EC5WNywhesfBvmCF5xMxSVGNJhWFGZb4+LmZT3DEudsJWfU2lMD4FQ3FqKNJPaZxOdTbuFzTEzZnKJogkY33EvScyCfRP4R75GQCDdV3Gge0qb6vLCoO2Ld21HQPMxXd8RN+o4cxZwkXESMz8LCqYYlUE518C3WsxFu3LHwkeNRwIJcJReo0DqW2JLtyQy+IzhZd3GLlmFhmC0sshowGCBFiYtqCwusEMvua/tLh+01sigkdmauYYsYDSKU49TAKY6mXmIhHcY1TKUsMQRXDcGiA6IxbZFiLfHMWN4xFo1iFRMf3KpYp3AWss1Ddwy4iSnkhW5j1HKYcyrMMpuEbNoGp9xUVvMcpUVYb7xKBrFM2HcRlUDBLNamjUW52mmrhWLZRDe41pmpbUW5nMalEWOGUQiQfgSEGoW+5zFheauNpALp+Flogzcu/c1hZUIZ4gtiVWIB9wMUHb13vP8I8vbxd1NCtmMwdBnb6mHDzLu66iWz1BTbO8VDk3eNRWs9PcTdS74l4CNa+CN1KVLlJUzU5IsabVdFjorUCXm+/gvEvDLb6lOvETPbFlEe5cWcKm2MYwdUQlYnCHklvDmYxCHqYmZ0X7lLvUL7QZrxL8zF1POVMljqUSpb7I3QaF0yjzcE5bTU/3hhcxM7IpcQux+41myYuEPisvwTDWfgzcDxD8Lm0hV1xKwQvURuXeKgZzq5mlI1iOmHxl41MrjdTWdxOWDTHEC+5SNnqV4l2HnqApeIoXZUYNzSGGLjERju4HPXxfE4mIxuNxWU1AmIJHcxnM0dy/g8EavUxzLS6ZZFalN0RYWLLXTcFxaVYwSlxNS3EoVSOm4eS/vO/hEKWP9biCrFbitxlLWBI2KKVCpvfMQlPzCzy2yyJSblVepzOGUTKio13G7lD3CF3NIZrMQYdlNLUAXcBrOoC2Vj0fCqWOsRgbSNcy6lEqGo13OszW4KR1ONxX3GW3qI2VVwfEN/BWJjFYi2pm5ikuFq+iLT8Sx5GpldkoAlVzuNi2o6xwxOZpaGBrU7uaxgs+T7l4viC9SkhrMxUM7MzAdTkphAjjP4h4Im0IUcb4jkgRyxuqjvuXLjg3uGiBmYqpoOqhbBj1G1zMP8AtC67gA55gZPEBC85NxbZt6iI5vMGOt4h2lstjVpipuYOfgOYy3uHM2TOPn7gBsmPnOIH5qYXySvgDqGUrM9bl1PN6itTPXwe43sqKF8sJsbvnf8AhG/RZX2SWygZ5FOPMtvbTEArgqAOuZaFwuUmKJxGu5eJVRleIxwS5cKljcHV1LAt+ocI3rHqFGXLOGNQdJonAvE0fLLUvxiJKxMEMzrMpgGIh6uGCFXq5g54iuKleJphXwqxnMo4mIpqAOipit3jEDGcPBMU89QWjfhiMHfUyPQI6eGVcVuJeh9ykVEv18ZczLzCrYYS8QXE4lGpbVRU1KU51CtkHmDdkaoQQq7l2VUIuOVCW5rVwzxE21MKPPwayk8CoPvmGVxxLl41xmOvDUtFi3kKol0qvcTviNRue+ZWNwQYTpUr4tzKIwTNQLjVvxTBYPBLfjiCjLblTmd5je4IMMjmBlcrE3BoRYwLcRp+Jbpv4vMybj3iVkJbhLpbd6b+Eakf3mc3W+kolFO3iKZs2/BHPPplkpXcSNtTUYlnmOA9EOLlEJ3crJGnccQz8A+LYuAl0qtxsw75itYefcIHcFTqZtrMbQL3GFLqF0w+HXwkxBsCBniFXLzzAi2f6gZ1BoIrWJlZUAXU5lA3FLcXT6gY9kMt4hgYlG1S7pO405amzGZaqveZWCIbMQr+2NUR0mxnhEAeIeUP/wBl7fjFsqUUMW4VcMuSILJmpky1azMbSDjUpqpiruIZ/cVpwS2zc8nMYjimUZbLEVF8svPgmmeYFGNzZjgsG4qqVGlKJvmWTwR0XPRBLSZhidZiASmJiGGUfDLudNQ3LZzBxCzGXhmMQqVTBNRzxzBPjTDxEO4VEXfiUELoblxzgliVCrzAg17av+/4R5Wx97easMyl9NxYre4hTNOCPQVRURdDiVN1HxCyouYMzfwZrc2wmZ5QMIkYy5dNy1lMN/jMVpz8Exhi6+FwzJqNzbcrMzFzDCaQuWBM1uDZC61OQfjrF6hBhze5eTdy8JltADNDP7gU6mdbnSZGjcxbE/7uKzWKxC9QMISuP4YrWojQ3PAhfxcOnwMSmIVcLE5uFQgG4XklCgNTatzFQjG4BW5o6JX5gQ3dzgiMHLniDDMU1iFi56qFVhiKNu4tAhEwswLEFxbMLillig/9R5aWK9S5WUWAJMfDdNEoDeY51eJuZmMRxzMVDIwm2VZHmUyskbeJs+M7hvGobYTZNrKC4EYWGcx2pM8o/iZUXP6l8TJPURXc/pfwjtUXy6rkA3sQ1OmFORsl0rWqWEtZmLGYLvUcrOGpeGyYfjP/AIN/BgxmXF6YhPFyxV5RCAWQfgoSvuZgc3m5VvM0i9S2PidJMXKJWpXmUEUMPr4qJTKW5kKIVfwFuoBW4ITIzvUypAS5g0S99QYczHe4OVqomMmbitbgTjiVWamPDmpT/eYqmmC0xQNSrRYWGsxGIPUsCfcMl+IYtDWZRUKmC9k5jqAjiWvXwgb4hk1L8yrFrcvVvMrO4utagXKoYxIjcaeYNheoBorUbpLKZ1KdQSyueZYsY3gCOsS5xMrCqRgIwullLUaHioK3caH4ucRWDBAg5l0y25cuyYmZdpUYQTuaJZcc3WIZuCOuo4HUxDAlPe4LZRDzMXVUTGBmq2Onf+EFCoCvol4sYVWEqKLCIe4xyjAuvRpZkK+owr+nn7gBRF43Gcx+EZbcb+LKuUyswXUsJe9xhFZjFqvMC2TNsciouQuLtqKgi1MxFQhcaxLrXepiomUqWuFK5mKIUu8VCFViVirhZROCCWhc1Btx8GUziIW5gamS14g8SpbxiccZlc+I0R3C2nBCWWznjUdpqLPsgAajhqUVG7bje4jh8xPMAxnuaO5ViuIS4mNQs9RrSwY91MRtqOJZYylJYTuUpuG6n4WUwsaQjFK1LC4EegxCqWFt8XuCr6JWD20xwe7hQbjCriW9mLJGrslsp1KNVHCIr3Fw2R+Maji4VEIh8cZmcfDBlUb+R87lSyvEY2kzUJkTH0jSw3FwjsmLguJTUvGvqCdEEM+9rr+EPMdN/qlGPqFxY3G+EsC26VmrUXD4f9VL0cnMc33Nk3DEdy5jRFnmLuDnUGBahlERvbCLryke++JqBljaVxMOYihqYCNWQEWmUzmYzkm2IszcVzEKWq1CqyQtMEmaWGEuCXMYglNMAuInECkLUzAgGn4Hl5l93gmBuVQ6Ja3F/wBoqUAxBZYE2cKrHEHiEoazLRI1UzTDcc+I3sllZll4J7xd+ZmV19zipmrPm8TDBxOcSs4SViaYPh0UTNbjvcJm51n1Bq5eCrPmiNllXMpuqmMJs6lKjzcbHM2gN08yyCtj4RmqxM/FMCmojGbVD4x8ZuDTXcEuc4JWJTBXUxevh0l/CjMyQ3NMMkKWph5i8Rr/AK+B1AqDKP0936vX+EDo0/TklY4wHRBnJ0SgClYl3hYgVpqkixcc+4t5ivSHxmprmDOO4QpZWIBBhAYajtxKuqbhVuIGUL84iYmsZJxAuNxutXKthB51LWViABKSsTmMKhgJiL4l5hDDmcb3KzFFPoQ1r3Pb6ipu2WZJKGCzhmaGIFSzyiYuMiy5sE4buNpmULrNyltRa7u2NdRfzEHmN3VcRluEmKaiYKgtVCuJt+XZW5mN4gOM8QN/qBBUss3EQiZoJUOr1MxSFrtmeY71MlC46Ssw5OahSIgoDSJCBhyyvtKWVQUYSY7g8agu2bFxCpi2EKuO4NanMTx887g/D1UohY18DTBmVe4Mp1OJVbQPMvUYjgl1BdMWHxpz6gpFmaIsbI+T/CBh7u1dJuJXH+iF1WRnUa1Ixm3kharSwOTMrzHbB+TJN6JUWWXFziEFgkTU6MfHELsXFbw+6h6V7lM4vzBbuo4dQbss7i4YlquA+HGo8kpXx0TO2BGDplFs4IBWIRpuFNJTolbww/8ApOSA3iH4MD2lOdysSywMeIi1lr4Bo2VPJPcfK8zlS7zLo1WSpZSREY5h1FqOWYpHiDDKUmj8y8HiAcsMz3Ac4xHDqDzBOpQBBrMFsMDmNumZWPEEudt3MnetxrvEQCLm8XNagy/FlQLYy2pYKkzf3M6lRtiI4xOXMTXqNuZ7hfcLJ3LxAcwqpcx3L3CPuXxG48wJzNQdwZv4G4QJhpLZ4OITmZbgrxBvDKI1cqCtYxrFSw1MIv8AIv7H/CATWX6fGPA5NbqI21T64gMWuozTBVQbWWbi8amSrK5mIiEXHMQmZZUvHuOmBcZxBK6itfGT15ipWWXnMUD5lZKxtgeWUVUVeczScPcu9fA7GNXqGtTM4rbLKc54mtMtiFwl5x8YLGoXjMoqIIYrE1TLxOxxMVX3CwaYpFWW+Ivn0wwd3iU9MrR3HdvMtgo3EaTEEGz8My5o7gMv2EFO9zUvfmBW+ZVssEbmGYCMuBPbKx4muIcfA7ihNkEPcFIIRQ0zCxvEyM/0Q3qV+bxLXVAS8x3v4shhqUX4lg6ljxUMm2boRMRK8ZxMplKVvcy3MEG+Jb1x8IAzkSCcynEs5Ll1mERuVmBx8+YuIa18PUzfUJdYeUfEoqU9xW6lpQS/EFSUiQ34ljDMN5NQxlVErgOan3a/whSO/A8RWwF4gLX4O4QUKgWgNMurjBdka8U3KW6nVx66ipl5jOCXdwSE5hph5ajfcd1Li5tOIUV3xXqJbWFWlsg7xHCNGIMtXUqZuPUFjqWymIiztAupQu5vqOF8kKao1MX8Ve/i0LbeIjRBzcTPlmblB5uCXxKU5zBcm4CiuJUEYUltZ3E8SmtW9SuGZpuxhuXG6lrY6juLymZt5RmYtzLaizmVSpSjCE8SsCdZjXwQExbyTbLauW6npLQjFcQ2wt1U2O4VBXuLSmPcOQ5oYju5lmvhgPNrG9Yl7rqbzBjRmmIaj8DvMu2XMXLg1C7+L6mRphqX4mOvjTDeJkZm8TN6h0lfmGz4MmmH4zHhAcSypWpdGYFQ3EywpDnm4KUNfgPyJ/COdXrDRzGKp2xvR/uKWuIq4rMzGt8Q/hKoifDMsuDTBYriCQqWXFafc2lGXVw71zLlcCjEcXFyjfxXmsQrN/uOtRej7ld/DM1PMs3OoIGP3GC99TGWALKJiZ3cuaaqLuGszVcznUyXDD1AXGZwMFMdwdqOJhdmPTVXqK+Y++MyjxMW43qJjpjWY73MFzxOZUVqYdYlCCiJfpiFQOZUHc0LjYwgHUWHuXmwg7hfczoSn3ClTIvjmPLXxZcTcrTMVEEmA1VzNC3L+4JOyMauIY4nHUtjEcL7lxTsiYuczE4SpXyxlz6m/niE3yS3GIzHcqZjK4SoZRtiEGu5bNzCmoFu/uoflLEagz63LWZmIiGbP6X8IPw/9TjNKGqc1FiJG7UXdZgabNyjW4lhziUDiLXwZ4i51EI+/jJG6lLxD3LIr3KJbWoPMsMxabNXUdvHEDkydTdGE2ysa/EYuqY03UxSaSbiQIDcziDVwYZr45ZZDW45gZeC5uqbgLA3LRrLLJa2pjFMFsxLMS+wnVsMZqgmCKOqqNynLMchXTFeo2pjuDRKTiGjEKlRhpjY6uFnEbnF/j4BnDOafgNS5dyt7lYe4bZVEKqGFm/e5mF3FIql5gtGOcQu4VHgz4gvdQu7qomVuWyMd7jdtfAtMSYsc/C6XEbizgnOPjE5Jz8ZIx8XV/F/NQxGrP7mIrzDZNo1idWYhol4YuaiQIFr4YqK6lfDZusf4QD7YXpms/uQRg1yYjFt7iCqE4KYAYyrgZef7n+5kI5jEYDxLPgqmFQdkDdkBs+K4IdEoj4e8sSp1qBSfudK3MEvDiXz2w5iGanipnnr45GXKqZQlYHuFjuYXC8svmBjVMLutQbIG4VmziXli5Vn7iBM4huW3dTBtmGkWswtmAGyZqFEMvqFt6mHOskbbe5SApqPmVXWZ7TEvEvCszmcBKJkIecdfBrmKW9wa3NMtvuazLLyXEGG+pdNR9Q7xiA3LZr7llIRVNRLuuIl4nPXUKloYHGZXFwXGZRza8yvOiCC9MdWkUOcjFz1UsXU4S3fUJm3O6llVBStzzEfi/EuMvcScsrXzUIrMTzMj8YxEGRuJPDibQNnU2Q5Er6xEoPgTN/UFiDOYgOou4zwxMnfHei/wg8/h0kA45ML76lFUxYI4M2VBeTxUwZWXuNDiNpH3MsPXEMTiURit8SrhNBmbJWrn7kONc2S9rUrISW5OY7nU2zFSqKjUriVCpZ3j45lWi5mZrhhAksrzcDFQvIDAfjNhLbme4odRVsqV2zKWLdRUdcRvGDQbqGgN+Z5d8x7Y1By5ilL3FbNx1k3uNZMwLN1ExU4ZjWa+Cz7+CbzKDGs+YmplUqllGmV4YDUs1EMTd1cKR6lGI0O5jKPjc0TuW5rNfC8SszPEsHNsA5YoaTjU2XRxE54lylxCsPxYGN/DoLmYeLY3pKiz7+GsV88TicyqhqLRHhmMXMwZfiXFlwLJQYpESnf6hUAfDXcEmib+o3AyRlMVtUL8IRel/hA23aPVXGUa5/MGpisuYikh3FXNKlKJMHqa2lm4hb1Liykdy9S5ZL4qXBgsHEIrY8XiOh7lHd7gnvGlyz0lOY93L2zN3MKyzfiC5nMfUGXbqoW8fDS7cS8xy1uC8JbU5Vx+4pLD4Vg+YtOpjFwsubJ+ZQZTLA+ZkBDnq+YMLONksOag6y6icERwaiDTKpNxTX7jiO/Hx4JeZqUpdSn7gTTUpubXMwQ2j1Z8zT3K/SWWy4qncrpzN54jqFVKRL/ADuaQ1ctS9S4urMHPuDLUXBVzJxKxlpi07SCLQy15g0JLxVkXBMMVvqJGXL1KxOHzHG518adzFs4hM1C7ifHcKa+GuYX3K1BwlfE3LzCr3MnMssKXLDhBJuPLU2YGbuaX/4Q3Xxr8IReM1+opa1mNqLGVjJCtxREnLniWu/zHh9wKnNR3EqXLzHBMx+LzCDCGjFmv1FkRuOnurxE5EQviOVhQg1UqikjXUuHE4hZKBM1Lv3LlC/GrNfAoYqPdSgmLKglQfEu1gmKLhApOYuwYIHKhAqO9yuqZ0sES1jc5u8RTC9ShLU2S1yx5zATY1pJWOdxGccyn/UpmiKZo53COL9TBUp/WpZTzM4JYEWErMuiDdllPcL2bndy18yw6lglLFwU/uOWOeYY+pSkNQqC/uFZr3Bs7hmhxLbPMrB199zHzHx3AWsPUKINxrEvqWxMtQxOD4XuXuPxmXLAjqEJcNyq+LhcK1UOGfqNCkcwQWC3UXEGhj5J0wW/gsOYLC9SW+r/AIQ1/kC9pm9ZHcSqv7mQu2pdLQN1uXG8ViVqVWbUQl+JdTf1KzH1HbMVL1L4lB4ShAFgcE9aLwqN25VfmVPhuEzMdxuXOYhKEAinBB1EsruAl7lOdEvhBs3LtdzGLj3YtoVbxLqmpajT7l+cz0lvEspdMbcWMYgjr1gIXq9SlRkmR8xPGLl5x71Cuq3KnFsTe4s8RqiJveKhS7iZcwTU2qoAl5LZdWwku93cQOYd1Bq4DKECy+ouPriKWN7hV8TjxEOpuILbj9JiyhxG71zF1mXgh9zde5U05SUIDdwNMU3xH0p/1MmB9RCYnviIfknaLSo4WKXcssYSkO9b+NBNkbqWWYmfh3j4uMuFThlaxMMan0i1iJrccsTcphwnmcLm3cDKzA4l4QCAnt9Xf8ITBZ0rytIy5RqIK6epa4D7n+gSpuIXnccXPEte56YZlJFNS2o5ZtAJRcOorEauczI3DTuUVPJcBJdyx9ExpFz3iC35iKx3FzGOGYqYSLUudwTuXg5luovSFIXCOOXMaJl4osK1MvTULN8QBm8wUnmps1KkbYrmU30QUvMNIuyjmWVTlvEuyoNhcu4gqus1c5Bctxy7mi7S45eBGlMXGCMQQaqaa+Dyg5Y6i4PMXAw5xgZTcbupTmUC6haY9zMUMFFlEFRqpbtNT7EwqFkQq67IMcD8BcW2nLUowQNws86m1cwVuYt11VVGrmlX9wALZaosZ+HOKnSZxUwcRqomXLK+MXKm7hUI0cy3xicDM1j4KnN/A4xLlkFaS0+B4xKx/qJBQFw2Qov4XrVRx7juBJ6VfwflwAa+2SI9VLlbWJVXlKgWro2zS2Z2oGqG4MZZVwxTCEXOfxKRKEUqyMzM9zaXDbLV5jRuSphLnqAbfUUKB7itOYovMIHOYgICLFVLXWJYy8LLjyjkID/1KQPHwXe4HeYP4mYXbAis+5bBF8wpBtgLgillZl1CauJRPi0S4JarNiWiYIpWy4xBkJwcLFd2TIxwkpANQjZ3H3ExGYAvMa2WRZPhXeSIv4HDKt0R01NG4WYbS/wqgYyRs+BuH9THq+pSP2qlShESJS5Yk3FskrAVXmLyl3XmO6biQlq3KwYlF3upkwVNQuVnNTkqO7l4CYO5W5bUxcpmagXAN3EqB01E+O9RPhc7mfc29Tmag3UqN0Z+LWFXA0+IUriLUxbPv6ghdzFHmAcpa0uUyEyuZ6eX+D1I2Etrs+qJTsNtY4iBHjDFfpmB7lqocQNogUcOWes3xmaZTcvEcrG3zL3GVQPxWrZT4qWvUGLjWsTQ5SL79wotjVc8yh2/AC0SlMXB8Cnmec2zKJRUuGSDBWGdzjBn4FoFmyIVuBcEp3iFGF1RLFNSx1cbvzDvdEtYahh3xOBwbiXLzB+QTPNzkdOIC77bqKr5cwFvplxp/CVEo1G0uBFzRC7uURVOWY6Yl6l5OIIblC7Zc21MGbwyxqpZcoYuL6RcjF2w3LYlMwblhmXGWsw5tKq8zojZKwlsrPMbjmOhF5eDEWGZdXmbXMaNTt1GrXueIZEZzKYGcTioiMzOYy5tn4zep6jfUqXUH4LmbWFRI4mbjucYlGYMxaQ5iMSWzu5SuoPMViVhtYlbrUT4f2/wfjqOZ94wbU5Nk9SWKN0RtuINcOJW98zAet1EEZpHGYUq9RCkflQm78RuSvMAlF43KDDJDe4MwVUanHcIzkYdu4ty2P3LXUtTDG5qZvxL83BYziXFDcKuoQeLmvctTAzmFo3xMXPqCnqBTcXJBuGJYnepahVq2AKsdN54/MAIzF5PhkuhrNwDH78xULOyPEi6uWOIPAmQJSvUBbxHCVAP5gvohYzM2AYYjnVwPzADMbrKZlzXU1ZwRaoJL3AU9oUKuJuDUGXUGKWEIogYeHHxgkeYb21cHLBkzGzWqzG6/piZPJD8BvMP9yyu5zuWuJcPPxcq47jUIY2S6jCXn4K7+BKIrcFlSitwCpizpgYeJbe40l3AKLlb+HCXp+De2KZkwmx7/wAH9ToaVobkh3WHriEYuMxN4+o93EvhYgcUDmBeSCgmXogo3FVmG5azBZUq8Qu5xDMv+4FM8ykJIDhxn3HdYxzNrV2bhmX8QQO4gWRBhK47hWZRUUTCpHVSnqF0w3lqLFBuJrDCFeGpSo1NZ+Gi5JrFgxSy/CRuILUOizmNoLiFW8y6DQvc0feYZHioNx0ASws1UXQ5jp5GPZuo3TBnM0+sR3EXZKWqzWKxFdXAuXXoncKhl6uUYzFLhTAUQxEllxXN5hS0LoxWESoUrVGVqA4YFubIrcCzHuFdHm5kw5iPipnHmKi5hvADGa5iJuXuZdzdkxmZszEzUwJipULmVmJ1Lm2pl+HqIcfFdTFzqFfAPwoglUk7pg6llaiTB4YJVysErG5WCnEoq6xKOpWPBA3UuAKnv/B2qlqugWy1Apb4Wkss0umDnvxC1HLGxsHO5Xw2wLMJZIKEPLSzTxG0xxqWI7mbi4hLdxuVmcQfE4mGo8meZR21CCu8z8SNvXuIS8GalHuVKzqFmK35mwJiAe40iURLsu003KbgZplBxAqA0SyBmYtlgi1GPhlgjSI1fmIO2Jxedw8EzrzOiJuFxDQCWCgnNUpzpImsRNRcTBkg5ZQ3KshXTcZxtnONHuD3UG0mKXK3ggjqY74i2vREnuEbWpEUslrZkLi1LA1G7Kmoaloaw4m7csSMYjBC5imc3HOHOMQgvDDLV8aZcQ54hIzKjdi1N2p2VATrMVqOWosyLM1G7uLmELZzGZlMEbl/UyzPcx3CahhgkogDUBHeJTfmKZqDRqHnnUC1hejncIrDDioUM0XAPbAASkB4l6QLHfqaT+DuccpzVi+2VUvgpd2y+4yPULs54lwvKWwWHMyPeMqNQVb4YUC0S6NVFgtMcErzM0ymWTaDGWnlhdS4IksNhmG1dbzUQL3sgrfcfcxUxYuLOWXTuXrJPTA9TLjMufhUgRlzBzFJZRgkFb8sq06mVOIYHB1Dq41CxuUIsM1mIvxBG8RBCiCnJqWEFqDsYhzW8XAhRmhK3LIFCozJwZJRwLxmPNGfcFISlYlNYjYTF3FM8y74h8VbuVDWouI67ZfRLMTB4Iorn3HhmEveSo3ylc9kAhglLhVQXcWPExAyUxkdRscS19EYCIG1XLlmo264zOUosbYvzO47ixEXncD55SoUSmU3KbziNIXExKtiSmo0ypouVfHxvmPJG7meo1SDMG3mZuYi4xEtZAlCxSiwFziLJOPK87L/AIOMmwntuRF1YOzlghBHzUW+eY6Y0ylGZQvviCEXWvjAgxvibVLEgysylxSu5RVQZdSwgK3G7cyg6tprzKiS9WEXQ5qN253BG0aKQlks9yq1+I4VjMq2phxCWwGbZ4gcyv3KqzOcamkLZsYqOIim+ohHX3HBMFiCRa0TKjUE2lgS5bawsXMAO9RF5ZmAC7jWYwKik5O555blUb3Ljqo0LqHHDGnNxJeSW0SzMllqlXUArMGJc9TBVxB4YPeeWZoSAqOdYToym+5tKCYsJimK7jogZqaLJVO+kgKXDLKlk3Hdkz+5nEapbmzrxNu4COWcvZF6gw5zMpqB8GacxiqqXe5uWcMSxmVcU5j6lkrECHhvmAqFg6+AqVGlmL3iFqCzOMLmHuCQQV+GXqLRmVhuu5yWYHtxB6mlaKH8HLglunDbnjqDtNQCd1dxcr1jcGIiupzBz2YRBioV3M1ile5wiZalmDcLJlzCGA0xBYEopbzBpzMAQh+oklqkU2LZfHPEc7M3QxopfEuZxaXPF1DIF9QjNMUpBKg4hEKc5nfUXWJUSFlxJQfcSkllBMRNwRVnuBsllrOCZs6mLY7iPFajgPnEYBkbwxF48TV4YrGsTMV3mDslJTQViAd4K2F3Mqukch+CeeHUwm4orDwxg6SosxloXiq9wGD3A1K9SkB1E8yhuVqAWROdS1XBWsyprDMBHcutMvkgG5T9QCWLupeLnxUqEvWoICPURei5ojAERFlKGwmFhcVHKICGXBUTRFJZlLGAhjMWXnxLgKipFbc2ywz3Abhdy6QwptDKzOqmYWr8XnbcCKXiCkEEEw44ixBW+4hUUz7Qs9Vwm1hr6Nfwc/L+gTpndb41BbeMe4gtRjnM7blI8YF8SgpEOIGsIHCupeaiqICZqIyMTbK8S3DcrKRJjErMovMqiAYlp0wXMczdS3D0Q1Yojkc3LuiCfEEFimY3MfRFhW4N3WI4IEUuUXqq+NR1BvEMNyiDAGJpKKiQ1d8xQTBxmDqpSDMFyb3qbWGSjccDyjzmNInTEanSndRDWbzGx5OpWXmGyY4lRtAwiYfEFb/ESpfLKtq+YKWh2YbSmILZu3U0SgsV05l7xLI9SpWOIlVQTXzDSKc8Sgu8QbTiX1juAVYtV5jQl20Tej7l56tixeYudTMtRZxu4QpccRhMbI/csy3UUsLrMLeJb5+GFAKfjCzcsSrmGVhgRhH1OXMt7gxGKJZuY3csWahVLeYpBqSEjPiNHUKvdXDTiXiaVAsOJpVAFRCFlqARorEweLvjwL/B/wBu6ikMHFG4dYctyur+fEKtRdklzCC3nfBB5pzMLWJLlc1UdUJomlirKtY7jdkrEKMHKxjUPwl4wMCBMeYKV+SBlivMABDPmbbzCtqIjUwS7CFrGLhzCl3GhllTFbgsatmK+DRcAF5lFQa+FGINXRuZ0MoFspmjxbD7RcnEQcSjFMGq6lGmURgqDfFQVWczEUYjNObjYT6lFeiLQKUZTyZJu4e4LecVKQFXBibmbVKl5iBSaS15hlUFl7XBXACLBprMbZXOF9x4JwzrmIjUwxYqNqxmPuhU1AdXFrcyOJZbFVbiNmoZtyk35iOCLBmPTARNl2kFHIlAiz98RIYDYyjFDBjRrqXvUKPcvZKzrmOiKNLLorqKmSVcT4XEOIUy4KpbcuGEF4YJW8wB8ywxiUZQmH7iJduCDaRMYnYS0IEarBpjAwVv7hDjo7vf8HCWUgOxJFUe52xYzruvECDd23mVSGY4IwAueWLT5Rb0Q0DAjmKrcTMm3xYARgYxE2MriZbhDjJzDZGhqmBQQTYlqw47iZu8RB0SyhCGgrUITGag1aZV0pQEGmHbiUXIeCdwWx1C4Pc3WNQgMrMso0R6lJS8Hwr1Fne4CkDHcrHBmCqbSLm+p4Nw7A1EvXxqavxiDgyxF8zaMYILq2BdB7QJQrqC0TbGp7YgIltACxt1LaBC4g58SjxAFFm4pbnFys338GrhUN6lXxKtVPrnMCjcQOEFc7cTruEL6Q4IG8wKp3ccWDogGkg2lgZTEQwgJozN+SXpKgYVjy3MivcDgh2QCqgeIjoicpKICUxHYTb4zU0xlwRzEs+KO5UCpZNwpIDOIDcuAaIYAlk2XKvcLZLCWQbYm2DqJs5lmZCxDEIWFY0y7/g5aDZbzcIZLVtteYIx3EbVWYvPEQVQaiJkUTMS3H4CColYM+5lds9pkuIQGPq4Bmc4qWysrBOHEsPE0Wo7Cy9QlSzjPB1FaR30cRRO5RYUKbhM3gr1Kl7mKGLDbuUxWqmaIbR9Qu7h4cbihUzMPUop+yFb3UGWGnDU4uWYGswSNwOS/EQ1X9xC9e4tVXcWy6JWKficVIHi6gWnWoXeC4g86uLg63FD1MWS7YN1rRLk8BNokCUbRC8RQY1y8JqBOKmZRZku4jjn48m8XL1xL25iifslhEtWZlzLDhvMTUpaOojdTEG4XbJmqNJa3EHEzDoJkAYqIwXz5yy+G73LPP3KgZ+DUwlSgsDGMR4TcqWpiO34zKgg5bjXwlTGJi5VEDE0xlFMo4PjjUorUFWSwFmJYwm5TRmNrRiDvMpbiNJvMRGPrcvMF913u/8ABw62WsK8iAS8rmPDWv7nTb4xKCXGu4ttmUgEwTd0fAG8wGGmpjOIZIGoCzTKanOpsX3KCiuZVZQpeIK42YhRMaIKvKtdrqINBtqWUqtQ8wldGwhqmM01Fis1AjWaVPcWEtNb8xA1kgRsNy8oW7UFx9SyH81+es4njcyid3GTLfims+oKBFl8CZE7u6UqXnZMDq4u3Hlfl0BvomkVf5rfmhqGN1P9S25DIr+4OgmQg9PzGmaqVunbHsA9TMjWNQ01Mi3LbBOYc6JzD6gRjVowxE1MNGUyDgNzVmYvjEAvmOTctk1xLfUS5aI3Mt5lIRq4hNTBUsm0lboiEqaYNUzGeoqIJxAXPE8wCvuN1EsIXHBqK7zbLZQxL+6QYvF3EgVAtluXyJHJEPMzGIBcRhTcdSzbtnpHkza7lLq/goy4rOJZDM6+QqZhg8zbcN6ndzqcbgVXuWqLETTUHheO2UTFGEOje5a+yIKUx69y44jisu/Oq7P+Dn+bNvcIwF7m6feubN91qzXd5ll82VlrzBhEOf8AYka9TLFlPxM/gqagKhASl/UGfLDsdQswUWojBWRZVH3Nu1Rc9yzZzBwWVftjrj+1XuiG3qnDH9QZrTNo/RLQGwWCn8S2r2AD/rgUzLBiIPa8rRDaVef42CV1N3qypp8FpqKorWfkN+HrSqY8f8Uj7t1ijZmKQ2ofADQFH/yAIgnTDgCrtbfxCNa1TPuaTts8r3L3aLRPtRPEK4Rm72UORWrRfVunD5sJoFtIoz9yoc5mD1UH4EdYXEQVtxAxvXMpS32XE741LBuBVeZjs5zLrRK0soC40Gdxc1W5XKK/BqjNzSaQJzxMzLFeoG+5R3D0lBLV8VD3LKGu8RKvqDjcR7jhKhC1+DmIHGIHOrl3+icrmIcZhnmablt2HEVpiRMJluLuOAMvD4brLQGEDKQwuWVqOAPxUxT7lNwEoz6hdpALJV06mdVMO6lwU5ZRKizLuIjNRBiiHryP4Sn3/wBI2SCfqmVRPy8D4v7i4OnuQBYoo3+WETVobkb8WW81P3SG+yrjg9wuK/16g/jujBo+qIasEcHG38aIRfdv68hBm13G9jec8r9qFw5hGqVRQ4H6lmBc0v6IEYD0ZZF90CL7/DN4s7p//ftg+yUa6bVtsvl1eZHr1yP7l2YKxnYQ+m+/UqWkuisPm8r1uavP7gdcCKkIILqWoNbhhSle42bdRYuISZ5Qu8dRuiAsTJ5lU34lrmpgouGHuYuc4iNyhCB1HN5lUWPMzW5k8xLYmblb8RMwxZsxELhKQ/qWs6SY9QND8XCIOHxCvFmJAzuU7meJTKcysMqmBaQgTLUBzK7hDBEITcGkB3cBpgpuee/ijVkC4cmWPtGkPURdxAAwpgl3AuLg9xnoe+q3/KQCAnTFvWK42a1zM31t6ph3A2eu3X7kSEiv9HUS9Zn/AKamy0Lo0WVIip3kGTeOe+LQYLf/AEot9Hqg9lqEUvhZAQ2WeAsYjg3kt1GqWilX3Qvqtf8ATtK00VEBVlomCzHvg/UE4XBxfWoSRkQgeWpXBdnfolTGq027KiLPReIlBCdGp9xDbtX192Y39zUwlfsnp5uLOyD7L3F3g92ga0vccpkaAjJv3j/qw7tq1dfiJ8FFkZ1kEviKwjkXWoILaLOJ5o98YZYFQGoCxDghpF5v4CMa1ODbuVevqpuAapxTEK7S8VidjBN5qqJW13mCJy7iYYIrw2zl8yLemNVV0f62hM3pWu/qOJgBuDvU3qIKAvtljQhYb4ISJjuU1lvxLYqBfEBpXDiKi403MAmZUcTOCm0RJXQm9tEOiQDVB/Lyj/5KICdJcfum0EZWh3dA/qNZZRXY+6gAADo/+Q3DUCv5lmN2nneoln0opuO6m+vi9ygsJzpN/CZ1EvEqEUJOPIeAIhGdQ12DmbRhRm1fKNxpuKVnZigX4729f/GdXvC4IVJoB/uOeJSq5TsqKTWw0L3qX8EsRXpjkHNGvHz+7z8M/hMWQT5hcRh7WxA7uaqPZLTgnnxGU9xww4lWg/CF2w33P8/CT7IH6jR6tifyk40/v/2xy3Yf/TEOcqxfykEquiL9kFx3o/6uHveEmnqOpXqxvs6//oj9rQ4gb90lHqbVgylJ2Lsli1qIq+ou0aj1wW4R7bAgWZb0v1AUOWS+4TeACsJ2i/8AAKrN6FkAAAo//ta8OAvl2EvyUreosZuX1ZsVk8p6nbfjEAqguipzuXl//wBovf/EAC0RAAICAgICAQQBBQACAwAAAAABEBEgITFBMGBRUGFwgXFAkaGxweHwsMDR/9oACAECAQE/EP8A6DvszbUl2xPpDq1v+yG9c1/CiPh+p/opRpnw+W/f4P0FelP+sddiqb/6WDRGmk0xXlNvy5oVi3Tr8GNpjbpJWxq/02/SskOTKCVzrhU5X75QhY+V+C3te6P0fIkkklws2FpbKApL8F/5P/X4Uf7dN/w/wo9ZzVr9C2+6Sf4U2uO/8KFt4Ppj+M1P8KIP2x8oRu78KPbS27Xw/wAKK+QQ1d8ptP8AClaF+Eq+0JfdnTH/AAmW2iuqE2h/w/wf366TljSqJ/djM3N/LZehMxqmxP5TGqk2viLyDT4a/BiF1Nv7B2YbfLYkxIo+QxY9cme2Fx/8rtfgqtLfEv8AowbbtvliBhR1FiYmM/lfKHl2n+CG1/0vljgtsTCTQx8Fm6Gk4rCUypt/+zYmmk07T/AzaSbbpIo6enBRQZZZsJVDSHXBSxDKt/8AfX4GvN2ly/kagmHYxDJDsZUEwgzVUb41b+/3/AiEn/Mf8HJwpJoZIu4VHRQxRQhCYymi6LTXK/ALaQ12zXD/APyfdBrZZsTFbQ40hNbG/hDVu7Xx2NlZWVsoUJi2+mi9rnte/stJFvZ8PbEvgb0NiY0WYzTWnyymez/AkkqSpTy638o45U+3I2Q2QhW4K0KLKaEdPXx+ffbhf8yLxc4XBaGrE16Eiv75le3b8vwKuz5XIp8X+RjNMZouJiyHZ1ggTTtP3lN2fC5ND+hDWxIaLnDKNr/NydkP5fkX0Dlvf/YxtqnCiuIa3QP0tn+PdrgLFaf8jDNsSUVQySY2O03X2csfWm/l7f8AQJaQzsf9M1CUxivgTpCoY6dr4ZoG7fD9xoqLBLlbQ5Np8qKTYiJjb6Q4tCfC2ymKX9IkpE0IfP8ATGPBBrkTpiaYrdt0NmivbKluGq+ftfI5prFydz+FwIKQl/UIKatHIen8Pg4VTK3CjOUxsr2eiossc0IkqqaK/qEJTVodd0fbo0SUjpRycCOi/ZEsnFHcsXlRRTivBqEawssbHtQluGJw9ITiivXaGWNiZY2KKl8x3Cc0bQpbE4c1hUJcilZLkvYy46FF0Wor1isezocVNmocWKE4oalMYqxcaEorDuOoaio7niNxcriK9UrC4s5hiy6hqFCFhqaxsTKFho1DeDh8z1FnQp6wuK9PqWXg7UsUObOixiQoRYn4LZcM3Nz1FvGxDZeKGLBd4J7OX6ZbE5RUXqEPCoYocJDEIeSLLGzoubhDlYtCuVClYLC3C5HHD9MaLd8xqKUcRZYpWKwqPkWNDNllCxDYpb+w8KFDTweppDUWXCHmmMYivSWJbLwUpFR0MWDEi5sbhclI2Io6HgpU85IsbhYIQ0OXhWHxDilD9FfKFKO5YoYp4hYooT2M2Uo7GM6hsuKKFRuGoYh9DUVN5pOOjs0OGIWxi5wQ+IbL2Lga9DR2Ke8rH0KKGVlu3DhCcWXFr5iisVzNQouGXhzgh3CPg4RYh8yxFqU7liKN+hoXLwfODxrc9GvFZcbKZ0IvRYngtzUKG5RuaKnhyitDlGoooUpyxMvcP0NYPkSFLwcuahHUb1hThIZQ8UipZY0LFLWLlKxwoYpRY7mhim7ZWmKH6CsnzDE4fOKGlFRZQo4yZ1FIaKyseLipcKLzUKHCesOixCGNcRcP0RiHHccYVQ4UJ4UKaEXDcq8HqPkqbEoTGxicPmEIcOOh4VFuHFY/MJlaWL9FXLjseF5oahDQseRrUUJOLmpQxDuKwQ3Khi7GUJaKizoWNChinqFLXoSxWCHG8WKHCHwLBl6LlsubLhRUMqHuVNRdQpuaGcRWxSixlG8FjY/r6WKmhRQhjctQrOouFDQs2sWJHUVF1F4JKXi1ooYlLzseNCwZyP6+neDliF1CnuXCixqV4LsuNlFTcKLFwhzUIqKGoQ4oahIvDQpYzuFg4Yh/X0LJyoUtiouKKLGPFIsvC4ssc6HgooSwvBx0LKtlDYjsoWDUKWWdw/Ru8VLO57w7mhSsVknoc1Ghmse0JjizR3jY3gsEovG9zevr76FmXEJFbGziHFTYixwy4sblHZcpDLFhVwhoooXMOKhFyhwkUMSEKGai8iGIrccFfXlk4Z1ky4cMqa8KOZWLKwXA3Fwi8LQ8bKKHzKhiWLGLkWHxg/riHg5fIsEoebFDKZU0MaEitCKyrUXosVjjeCmzqEKUJly4TihxcMQoQy5Q/rtal5Io+Bl52NjEo2LKtiwax08EPcvO7jqXy4Q4Sis+4vQpYufQEM6FG8KYuhqOhc5W4sQhimtKFDLE4Q/DRqymKGULqdC5xawvDXycYOULUMVQyp6+tofPgobhjwfOSEWLguN4ISnuEitzc9y83hc2NY2ix9Y/aeJvHv0CsW0IYhvDV4MUJFwuMEdx1DUVQlhWVjFDhssc7i4TSNS4YouLUdlSoqLhwheiFDY4uKGdiwUoeFyjZYmLGoUt4K4YsNuhDDf91l939kJvP94+7/uGk7f7Ers/gT2nLhFF4WWsnhoQ/rK8Pcty5c3hs7FkihDhOaKKLFLSK8D4LGtRNbtn/wBEeEIraFFuRTTbZUOap/tDM2Tdl7hZZoqGx4UIWPYocv6zXh7hwlFy8VHcKHLhqaGsFwNnUpxUPDqXPS/8ohRfJyzdXrdIe0lq7s/lOLGqpqtFaNL+9itm+EukKammr4EtWuS/ZstQ0IoWCzRRUv6/3D4PjBOKExsseDxU6hDj9xWaNeDkTjo98laTKlLV9nITp8tFJatpFQoRUUjbMs3FbSG/4a5LhrBDmyxiZ1k/rCh4OW4ooeNsUKWUVuFyIcMYnDysvCj9wmNuHPQhM30hLL72y6auRM5FvjsS6Fk7KhAtP7JDcyq+hn+/YoZW81DVlDi5X1lSsnzhZWFSsaRWWhsTrFUvFlR3DFJ1Eu2VXil3Q0N0OwguTXkipvZrguKWb56NzfpjNpvjUI6hCKmsKQ+i3ZdjN/WV4b3L4Ey5aKmz9YsWFQyhKaYpcVLjYxFHAo4f2EioY4GknS6KCon7mWuy0HJCHN7F2oOFRjs7pJ8JG/8AdG6vlDELDrO5WD+vviFD4EKUJFbKwReFTYlCjt4twoQo7LhTQziHEKMz0XsS18IRtr5bti4Gtv3Lr+ZHCf5iHs0hwUuRKt0UaJ9pI1KLELClKlD+rKavnJiQoZRXiSZUVuOsuoaFOppwi8UOGNifsRv/AASvk52xHI+Gbb+Wa1F22Np/ljS2jIu0212aHwJ4VFjwRe4cXNwh/VlKyZcIcUI6m0KWIssssXELBizvwVCGOF0fwy6vwxkVNido0Nc/SKdDV/Ecl/g4/sjgPvZSfxFWTq7YnaTN3ChOXCiioorDsX1m/A3vDkXLixZI2cKaFinNwp6iuCmdTR1DHF6imj7LM7bfCRrCqFQdQlqhy0Nvtt9s1Avch9au+2LsUhqZjmrm8NixTmhwo5H9UUN7yUqyoa3F4OOsNi5LGKFihRWDKjrwsc03Xe0Ni4aExKlS2xBaeoZSZSmN3yK0oWmmr7Nf5CbP5h+Jilw6wf1RQlm3oSFLNxuanubKhy2LBCFKhzo7NjllwxFQhyGuvS7FbrY/r/bo455bFlOaaReMsVJEhD5OBY3gmWXCQ/QeAhi4wSKFN4osplYIUqLEOVixjE4vZZvFS2uSxb/wEU3rZqNpIQkknaKqtBorn9IWqpnqyzK0zWFKJE2i7cKtvliOx0MsZ3HJQyyihsqFQxQxL6s+c+ArGhRex4IUKaLjY8UoYhiFDWDwauFzKnocr3XI5rr4EOnv4GtkFg18jPDpDZ3TKQibbSNYV9ymBiRY4VyuIeNZWIf1JS/DQo7Hh2c4XgvA4YhNyxlqFClDhDhHR2NCOdQy7Qn+b/kXdb+HEbOE/bG34fwhOs/8nTzyIofOKhiWL5KxQ/qS8SFTLlYKHzKUPBPHgZblii0IcUU5sqUjhR0Jllwjo1RShv6j+2UviKioShjFKxYoqLUMUP6kvC2IXELHsWGpbw6EsWy5o+MLFFFGixiwo0PFDLyWNwlDxXhuoYocL6nfgTO5uXyJwsa8CGOG8OoSwebKEi8aEVg8kfGDQ4qeJZRRU0Ub+DYuRfVL8CbycouU5axW2PxI1inCLGMoaPiLLFCLHCNw+EVGoqVFCHHR3L5EXhZeT+p3nW86hLGysaF4nG8ahQoudfMofBYsNFQpqEOEcwyhChiFdyooqbZcP63W5uFyXizjBihcCQsbLFgcKd1FOFDnqFxipRsa3KY4co3h2KLioWNYv6w+sW4Q0srmio7OC8XghuXguIRRQuShyxQxQ4RULBQoWPY26Fjfo14o7PmKhy45EOKxc0IYkMoZQsr2WMUMWSWC5wVlChTwIqioWDi4vNv6zeays1qFFixvFWbFChWMWSGosUouWKeslFlpvDdyoRZY4oWd/XLLxR8lQhRUcIUKWMXEUbhGxciUKVHGCGoZs7K2dYOUtxc0M3FDmxRsUKKmzWV+ho7cNFfYs7xQsHYuJYihwucHGixzfiuHDQ51cua4ixYauFZ36Qh1c1CyeDoQ1FicMounLEpQhwoZcqXLYoa3ChVmxQxfErB+lqC5wt5dHLhS0IoUrClKKEMaOxljqPgoQ3FDLtiHglmytCWDFeL9LQ+TkXL4xam41GizqH42NihiRcvkZQhvCzubwWTN/MP1FD8HXgQ3KlYIfIqwYi5rguOY1ixCh9Q5Urxv0xD8KXAsFSLQhFx0XF7hii3Fji4vFRotyyx8Si/GxQ8X6Yo4OxYvBlRWNy+RuFHHJbwqKZQ01HYuXDui3C4Hih2dx3CnQ7lQxeoIZcLFR3F2Kdx1KihwkK5SyYyjuLLHCwThihXUdQouEVKwfp7RU3g4SxRQ1DLFHcfAh8YtY8lDxorBFQxVKheFQ/Tdplzx4KjUWWWaR1FZsUXDxWFDQjVYUUXNaxo2IcXuGKX6a0JUWLwt7LvFHeKGLF8Q5oSKLw7iihJYMtiFzihjw7ivU3k57GKa1CnseFDEbxqFg+IahFyhlisoqFY4UXgpsYvVmLiLi55LhYOELK/D2JSl4a5hYMTwc9+pWKXFSjsfIorQxIQsVNnKLiy4vJRWTQoTnsQ2MvwbheotQsKL0Pko7hy6LE4bEN5Voqd4pRyIfIpU0Vghw4SEipWScv1dihs7KhQ4cIbG0IQzuWdCKEpWNjFxFCjYsVawsUUip1L9MZehTYpbhyzqGcFm4Y3hYhubLlSxOxwpfMV4tY7wuVD9MY4rJlFCLehFqLEIuG4c2JFS4YsKhiEPCy8FnWN4KX6dU2X4EOHF5UOFCcM1CFFyxClloTlZ9w2dYdjlS/TrliU1FQo7mhXlYsFHGCi5ZcKGdR1FZdy4U0N5P0tDWXzmvG+I68tlDRUK5Yi5WTFioorF+lrxuLLExT1LyQ4veLThQqwRY2WKb8Fy8HLF6cpXhqGIfkfEI7mxSlqbxuK1mxQ+Bs3m/S1KzY2OaHjstiGlCUMXI1gxwhYIo6ijRR3K5E5s7KFxLFjZeD9LRf8ASG8EJQ0hR8QlGorO9FFaxocPC40IaO4UtiYpfpawWaFSvBUqUtDh4nwKUKhwoc3DwZy4QhQryQnL9LRW5XhNnWCxYpbzYpuXDKEJjyrKpUalyuYsfpaH5C8blIShiix4oUpbHUIeKOh4OioeCh7Oo6l+lo78K8pjhGsblZOeGWJ4VCnqUWp+ZfMMQxS/S1Dz4j4Kh8C8V2hDlrgQxqmI6eaENTZ1goUs7lcFlly4sUv0teahYXkxOEoUsQi0MRc1DRTUKVKFNsoSx7ctFQnL9LULwu7i/E4YipvFTUpYPK8XKlzc1i/S143z5viGam9zUOHPUI0MSHk4s6lQ3hbh7WT9LXhrFSnjZ3Ch6mxZI1F6PgSFFCGJiqbhDhDFDE5pYpy/S+vGy/C3CwYhzcNxcXlY0oeF6h49iKK8Fil+lsXhfBQvB3CKiy8FHeCFk4ZWFihysLUvFoawfpi8L4hDExZVLyusEVDmp2LNQ8WULFsUMYpfpSheBDheJQyvCos3koQ4RcKVUXFwslDOxS/SlhRvJ8Qis0OVCi3LLFDisLFDzTUMsuac1D4Z+xcS1C4l+lKVfgaEPwMo3N7ht3LhYsQsLnkorU3FPLvFYriX6UvHyLFxg83he8Xk1L4nRWvDQsWsKwZYvTVhWbhG824csrU0KHix8Cy6hly8zF4mn6cosTFm1KebUvkWGhwnDhcmy0dRsZYpXBQ1LlFTz4VD9OUaF4HyUUJQoWdS81FsXI7m4WF5LFiwc9yxF+m2MsUvBDExVKF4ehx2KXwUKXFuEcCUbGo3CGJaLOaw+MnHUP0/uF4O34blxcNlSsFipU9ij9DR3HNQ/wCIU3GlhWDKhelvorxIYucrm5qKnlilObjZUKLKKGXFHeShy4RYnr1S4WSFm5cKHNyoYhOFzKioQoZQpoQihoSzR2LFQvSkNDQis2XHQhQuMNjFzDepp4KWIThw2joZRwIam9nZUsUvB8G8LmiofpKGPYnqF4li5sSx1gpoUoUXNR3K5hMsQ/A80M5h+kosZfgfHgTGKUMcbFgvB1ih8TRR3CFOs1h8YVD9JRyOo6zfE1ClwuYrJRTKFDLzblDKOxFFFCRQvF2KVFjr0tR1HWbhFZbKhiW8bFNR8YPHqE8FCih+OoWLOjr0lHY3uK8JUbzobhDxUJnMMSxSUoYuIrCnhXicUXgxD9JQxoVeDsaK8jKwSGaEX4GdiUKaNYqGaO/AsFg+PSUfJZfhTl+CsHCOKxqdXl0WJjyTHxCYxeBneCGKOvS3Cz4QcPFihzY1h3zKZeTEKVLh8ZrwMZeV+mlz4HwcM7lZPBwjQ3DZcNz1D8tChmhYuam4rBcek3HYlvxIULJilrB8yoobm47hYI0VFHULmLLFkhy1ghwvSEJnTOxLNMfELJiljEN4Jo+MkN4VrwN4LmKwtYs7moYoaFx6V1C4zo4QllQoRY2Kahu6msGoahJilYMoSjgUKGKE8XjfptaKGtHDwkd+BlzQpcVNDFHJUWIcJCmkUVDh4LwWXgoV+lKV4Hx4qlTq4eCcUdClQpoWFxw3C8jZcIZZaHC9JShcvxEMXgoQoqXDhQjQoYhF4IUNjLleWjcfMbivSrRYufCxMbFFYuEpcXQhJD5hQsGJUMWixYWWPkcJ+V4Jem9MSK8LLFCycMUI5CKRRstilUaEMtRs2JvBFaGfA4vjzVikUIfpD4FK8DRXiuUOmsFcrFilKK3mxFMT/pX6Q0XXhYoXnZ8CGUIrLrNFiw7ioXjuWdQhD9HUOjdFrxF5KFDKKGMWK4lyyisnKGLw3lSwfo6hsuCW/Kn4nCw1FFTXmrZRULwuLhuLhHY/R1FCTEsL8N5PBKFFsQ7EahssWHeCzTHDF5WIYpfo68D8NZOGy4tChiGaloQsr0WXDLFDK/oGOyo0Jw/SLLLRZZZY0UpsssssssvxXFzsU0LBj4hrYxOV/SVF4P2uyyyy4ssuLRo0WWWWWXnZZZZZZZZZcXsS/Adlll+azRf/AMrv/8QALhEBAAIBAgUBCAMBAAMAAAAAAQARITFREEFgYXBxIDBAUICBkaGQscHA0eHw/9oACAEDAQE/EP8Agd7ujTVic59GCGz/ACxXb6MTVkNtHwfQVjUYQGC4PYFGyJb5NYMKVfgwFQJXpWru+0qblBen9Q0jwWM9i4tvt6MxFa+C/wBV4UFu4/ChslA8KOF5+FC3Stvk+FKTpOkZB8KXh5nhRUGUPwppXhItSL2miKYI2FqQ9TwfSMXNaEHtL/BCQA2CVKkEoR3gtrTv/wAiVAmo+DE0MfuFgANAlHC5eKgQjKsAwJUH0eT4KyPB1YKAoNCKwbjwvintFn2nZgt5PBBAQhsBLJd8DXiFOBWWQko3n+REUdTwMiALWWl6usNCMGVKqXiLwHaPFy0/b/fgbBLLobREIsqHByzEKYQZThQdSY4zY7dvAiBgaiJqoQohcpviWLwHBcWMfhYkpjkdHwCE0Q9P/OGNOC+GImItQQuEuAN2XNUHeAFS/guPCo/KxlDcnJ6/JqWUP+CcAlZlQe8AQF1O0tjB+4pWtvHR3G0bQrQaBZcJSOsahYxOzO/br2sf9DKRVAnPhcRFH7YlyHZHuFhglNbflAFIwheBYLRHiQRKeuXORu6SiX1GVwwjwJo/6ph6DY949dEuxh/UJsbly5ngXQl0/wCjrasRUOX9StIQisuIABuwNid2hMEtbGD4BS0I2g+5CbVkI9SOWMJyU7kuXRudaUHI6xIJkZRLoiJAN2HKubuCXFPwilijCtG+5Drs4CKuVUVyAPPq69pSwPYFj4XLaC4SNUaN3WWhF+IQsaYPBs3nNwl8uXceq0cAe4tfiLJczAqIWKMwxvvMjc+5s6gUJfZZTWYAe/old3hmXsncS+zLle/4ZSUle/4ZXv8AhnoZbumZmU7xDrANAOrUXMwA8IZlbwA96fHV8FTpK5nfoKukK92fPM9FLUPnx0rXy06mPkZ8G9On00Y96dCrXwb8urwjfho+ibl4d5dP37w6w5n8J/P4Y+XHSBp8MfwgnzPRCCOZsT/2jK+X4Qq0PwQtySzSnrNYPBdMHL8Ydf4RXaCtFiNNJaoRYJeH0ZXCqfxKy9HgoP8A4xLcH5isrhRptcoUutERtyhzdaf3LQ5bISjbVcAuWtLKsDHPt4IUM/SADbLrAFOI3lpFvWlxfYXcKqoiG8pLqUO5+yH2PAzC3YipoYJceRcwqIVE9uqRg+AbrE026gUblw+BCekD+4WHArq47yLrAY5SV7SbDAYaKqNUczJK5756Zfhh+GNN3ZqHE58dTcisdic1tiUuWAp0MWq5sCagifgtbmh71PzX98Hpd+WaHqmfqMYAGhwUzmxitj+iOWOhsP3mI7YNT9whM4QFsXHPJnegyiY626Lzfzr9MAPW4sH2CJAbw1J+pD8RWnpK09YQfuECqQ5ghTTbjX3P8+BdI7TIbkHLUIiIZoDkfuG6acoLHuTJXqzH1RWvRBFco7tzUlhzVREaio9j0pXsGny0wXSOvfKalo3hNTLMKXwYHZgXCW1oBBsNIuDSBF2YJ/bBRww0t2UHc10py+ZWh2wkFr5LZHC96PSIqeNsteGA5ShvEk4GVOwY9Y+NmekyPzJLpixvaPS3aLyI5k9pmggUkuVJNA2iIvgcMGLlp/aNTZBOqbzfdhM2lM7CDbHqxWrX7mBiTEU5zXLXWVF9YBoPv4JYAdINXXeZarN5SCtJRMukKTRFB5qJegUhbDyVu0y0PU58kchprV6kUNK7kWMU9SV2fuAav7ECuL92CMv2IyUFdMV8AR+SiOcAnaOHa8+mSXHwnXvyPyk8InxOJUp6AvpO4PCpR4TvwMeZefQ1SvCz0Xz8pEf40Twce0eAc/WcfxiEfGJ9DR9Vl8X3deFiP8hb18+EzwofVW+6r5A9VnhA94eCX2OX0Rnxt/Qy+8I/yv18GeAb4HB+szlHwmdXH8eZ/CmeFDifREezX/Fq/wD/2Q==",
        "encoding": "base64",
        "path": [
         "value",
         0,
         "content"
        ]
       }
      ],
      "model_module": "@jupyter-widgets/controls",
      "model_module_version": "2.0.0",
      "model_name": "FileUploadModel",
      "state": {
       "description_allow_html": false,
       "layout": "IPY_MODEL_48b414797fb94eb6af10dbda4411fc9a",
       "style": "IPY_MODEL_798a0fe938e64263b338803c60378481",
       "value": [
        {
         "content": {},
         "last_modified": 1664511942249,
         "name": "image.jpg",
         "size": 206890,
         "type": "image/jpeg"
        }
       ]
      }
     },
     "787b5f9808b04d6c9582332dabb5731e": {
      "model_module": "@jupyter-widgets/base",
      "model_module_version": "2.0.0",
      "model_name": "LayoutModel",
      "state": {}
     },
     "787ff2fef04442059b2e909a1d5000b6": {
      "model_module": "@jupyter-widgets/base",
      "model_module_version": "2.0.0",
      "model_name": "LayoutModel",
      "state": {}
     },
     "798a0fe938e64263b338803c60378481": {
      "model_module": "@jupyter-widgets/controls",
      "model_module_version": "2.0.0",
      "model_name": "ButtonStyleModel",
      "state": {
       "font_family": null,
       "font_size": null,
       "font_style": null,
       "font_variant": null,
       "font_weight": null,
       "text_color": null,
       "text_decoration": null
      }
     },
     "7d266c6e80244fe98c9d910c595f9410": {
      "model_module": "@jupyter-widgets/controls",
      "model_module_version": "2.0.0",
      "model_name": "IntSliderModel",
      "state": {
       "behavior": "drag-tap",
       "description": "top_k",
       "layout": "IPY_MODEL_787ff2fef04442059b2e909a1d5000b6",
       "max": 50,
       "min": 1,
       "style": "IPY_MODEL_464b572fb4a8430594e79c525b8ad19d",
       "value": 5
      }
     },
     "7f5b5ce9a4bc4c93a55265aebe006f94": {
      "model_module": "@jupyter-widgets/controls",
      "model_module_version": "2.0.0",
      "model_name": "IntSliderModel",
      "state": {
       "behavior": "drag-tap",
       "description": "top_k",
       "layout": "IPY_MODEL_96038598c2684b6a9dbae5eb0db9cc83",
       "max": 50,
       "min": 1,
       "style": "IPY_MODEL_e94e6e9f38a24ce59966bc1e021bb06d",
       "value": 1
      }
     },
     "823e29321d15458da91315ef09bca6c5": {
      "model_module": "@jupyter-widgets/base",
      "model_module_version": "2.0.0",
      "model_name": "LayoutModel",
      "state": {}
     },
     "8404e96a99f040aa98738767efe1670e": {
      "model_module": "@jupyter-widgets/controls",
      "model_module_version": "2.0.0",
      "model_name": "ButtonStyleModel",
      "state": {
       "font_family": null,
       "font_size": null,
       "font_style": null,
       "font_variant": null,
       "font_weight": null,
       "text_color": null,
       "text_decoration": null
      }
     },
     "84b1e0434ac9457a8b2e9e375607721b": {
      "model_module": "@jupyter-widgets/controls",
      "model_module_version": "2.0.0",
      "model_name": "ButtonModel",
      "state": {
       "description": "Run Interact",
       "layout": "IPY_MODEL_e53317b67fe74c8eb9121cf54f060efc",
       "style": "IPY_MODEL_18531256f76d4ae0a048e5301a669f8a",
       "tooltip": null
      }
     },
     "86243578561c48c595e8c7df6626c291": {
      "model_module": "@jupyter-widgets/controls",
      "model_module_version": "2.0.0",
      "model_name": "FileUploadModel",
      "state": {
       "description_allow_html": false,
       "layout": "IPY_MODEL_106ca1938d7a448dacc1d28826777851",
       "style": "IPY_MODEL_8404e96a99f040aa98738767efe1670e"
      }
     },
     "8700a5b63d3843fa88496e4f2a2448ac": {
      "model_module": "@jupyter-widgets/base",
      "model_module_version": "2.0.0",
      "model_name": "LayoutModel",
      "state": {}
     },
     "878d87b0097542519215be32c8bd69a0": {
      "model_module": "@jupyter-widgets/controls",
      "model_module_version": "2.0.0",
      "model_name": "HBoxModel",
      "state": {
       "children": [
        "IPY_MODEL_d4a068956d7b4c3cba77bc8bac0c8682",
        "IPY_MODEL_918aa1f5f3ff45e88f9356224f27638c",
        "IPY_MODEL_8c212179d966468bacbc78130901e686"
       ],
       "layout": "IPY_MODEL_690ac333212c40169a364d469654f0f4"
      }
     },
     "8c212179d966468bacbc78130901e686": {
      "model_module": "@jupyter-widgets/controls",
      "model_module_version": "2.0.0",
      "model_name": "HTMLModel",
      "state": {
       "layout": "IPY_MODEL_ba1a9abd62634ae792d9572748e14bd2",
       "style": "IPY_MODEL_f5349627e7ae48888601ed53b9a9cc2c",
       "value": " 7/79 [00:07&lt;01:06,  1.08it/s]"
      }
     },
     "8cf70fb9bb324b168126ac0d950e8d99": {
      "model_module": "@jupyter-widgets/controls",
      "model_module_version": "2.0.0",
      "model_name": "TextModel",
      "state": {
       "description": "end",
       "layout": "IPY_MODEL_a5b2da33d1c64844b4d07d64f83600b5",
       "style": "IPY_MODEL_42db9ce4abda483a92279dc8a94033da",
       "value": "winter"
      }
     },
     "918aa1f5f3ff45e88f9356224f27638c": {
      "model_module": "@jupyter-widgets/controls",
      "model_module_version": "2.0.0",
      "model_name": "FloatProgressModel",
      "state": {
       "bar_style": "danger",
       "layout": "IPY_MODEL_6767d5e820264561933b8bbf8058b6ea",
       "max": 79,
       "style": "IPY_MODEL_5b72271b2bf1479cb52de443a1023a6e",
       "value": 7
      }
     },
     "9347c98ea500499ab25d93635f70f3fa": {
      "model_module": "@jupyter-widgets/base",
      "model_module_version": "2.0.0",
      "model_name": "LayoutModel",
      "state": {}
     },
     "937540ac1fa34db997a7d068549993e4": {
      "model_module": "@jupyter-widgets/controls",
      "model_module_version": "2.0.0",
      "model_name": "ButtonModel",
      "state": {
       "description": "Run Interact",
       "layout": "IPY_MODEL_8700a5b63d3843fa88496e4f2a2448ac",
       "style": "IPY_MODEL_326db26272144a229d0071623a14de8a",
       "tooltip": null
      }
     },
     "947c5dfcffd843b58a29f1397a5875a7": {
      "model_module": "@jupyter-widgets/controls",
      "model_module_version": "2.0.0",
      "model_name": "ButtonStyleModel",
      "state": {
       "font_family": null,
       "font_size": null,
       "font_style": null,
       "font_variant": null,
       "font_weight": null,
       "text_color": null,
       "text_decoration": null
      }
     },
     "954b8c7494c44ab1925b875a53cdc608": {
      "model_module": "@jupyter-widgets/controls",
      "model_module_version": "2.0.0",
      "model_name": "ProgressStyleModel",
      "state": {
       "description_width": ""
      }
     },
     "95fac7d6f2914b03a544cfe9b4e4a2ff": {
      "model_module": "@jupyter-widgets/controls",
      "model_module_version": "2.0.0",
      "model_name": "ButtonModel",
      "state": {
       "description": "Run Interact",
       "layout": "IPY_MODEL_181767ed64174c04a6b62e45f7be8a2b",
       "style": "IPY_MODEL_30c0c193478d48c588195c5d69b3913c",
       "tooltip": null
      }
     },
     "96038598c2684b6a9dbae5eb0db9cc83": {
      "model_module": "@jupyter-widgets/base",
      "model_module_version": "2.0.0",
      "model_name": "LayoutModel",
      "state": {}
     },
     "9689cbfc19144fdf877195733f9e171a": {
      "model_module": "@jupyter-widgets/controls",
      "model_module_version": "2.0.0",
      "model_name": "TextModel",
      "state": {
       "description": "end",
       "layout": "IPY_MODEL_c93e47d4e4054c569788ad3cd745886e",
       "style": "IPY_MODEL_2a5ade3edb0b41589719a008306882f3",
       "value": "winter"
      }
     },
     "9aa4e98cb89e4cb488cbc3d252a984d8": {
      "model_module": "@jupyter-widgets/base",
      "model_module_version": "2.0.0",
      "model_name": "LayoutModel",
      "state": {}
     },
     "9b57ab2b7aa845b0a1dbc808be21828e": {
      "model_module": "@jupyter-widgets/controls",
      "model_module_version": "2.0.0",
      "model_name": "SliderStyleModel",
      "state": {
       "description_width": ""
      }
     },
     "9beea3c6a6cd4497aaa6f2fc7ea1ae8a": {
      "model_module": "@jupyter-widgets/controls",
      "model_module_version": "2.0.0",
      "model_name": "HBoxModel",
      "state": {
       "children": [
        "IPY_MODEL_6859faeaaed547ddbb4e5c5ccf6b4747",
        "IPY_MODEL_b6e79cd918234f91a599c940f2cdd7a8",
        "IPY_MODEL_69281a43c08e4dcba6e17407ab0b1b29"
       ],
       "layout": "IPY_MODEL_413e42e402754ccf92b87cdd01d15e6a"
      }
     },
     "9daaf36837f54820b096f0c0f81d9f11": {
      "model_module": "@jupyter-widgets/controls",
      "model_module_version": "2.0.0",
      "model_name": "ButtonModel",
      "state": {
       "description": "Run Interact",
       "layout": "IPY_MODEL_823e29321d15458da91315ef09bca6c5",
       "style": "IPY_MODEL_c669909931ed4a0b8a726f0571424bb4",
       "tooltip": null
      }
     },
     "9e954808f6dd47fd978a8d6abf23444d": {
      "model_module": "@jupyter-widgets/controls",
      "model_module_version": "2.0.0",
      "model_name": "TextStyleModel",
      "state": {
       "description_width": "",
       "font_size": null,
       "text_color": null
      }
     },
     "9f649533f2984b6599279d0a45696d28": {
      "model_module": "@jupyter-widgets/base",
      "model_module_version": "2.0.0",
      "model_name": "LayoutModel",
      "state": {}
     },
     "a1a1e1e7f5ac4889a7116c778981b7d5": {
      "model_module": "@jupyter-widgets/base",
      "model_module_version": "2.0.0",
      "model_name": "LayoutModel",
      "state": {}
     },
     "a5b2da33d1c64844b4d07d64f83600b5": {
      "model_module": "@jupyter-widgets/base",
      "model_module_version": "2.0.0",
      "model_name": "LayoutModel",
      "state": {}
     },
     "a7c7b469c8c544f781d651b3fa1ce1a4": {
      "model_module": "@jupyter-widgets/controls",
      "model_module_version": "2.0.0",
      "model_name": "FloatProgressModel",
      "state": {
       "bar_style": "success",
       "layout": "IPY_MODEL_35c3bc62eb034d9e80a6479437ed70af",
       "max": 79,
       "style": "IPY_MODEL_e252132ba0ca48de82defcefea40e0f9",
       "value": 79
      }
     },
     "a83b0ce32f94491f9f6f3fdd76532f1e": {
      "model_module": "@jupyter-widgets/controls",
      "model_module_version": "2.0.0",
      "model_name": "ButtonModel",
      "state": {
       "description": "Run Interact",
       "layout": "IPY_MODEL_38ce19736216450f927c55784b0ed33d",
       "style": "IPY_MODEL_203ef3dfffba48bcb2a598f54834f255",
       "tooltip": null
      }
     },
     "aa32121a922649619276494154685319": {
      "model_module": "@jupyter-widgets/base",
      "model_module_version": "2.0.0",
      "model_name": "LayoutModel",
      "state": {}
     },
     "b6bd566e49f64b0fa8596fdf173e0d77": {
      "model_module": "@jupyter-widgets/base",
      "model_module_version": "2.0.0",
      "model_name": "LayoutModel",
      "state": {}
     },
     "b6e79cd918234f91a599c940f2cdd7a8": {
      "model_module": "@jupyter-widgets/controls",
      "model_module_version": "2.0.0",
      "model_name": "FloatProgressModel",
      "state": {
       "bar_style": "success",
       "layout": "IPY_MODEL_eb7f06c5cb0749bfbcfa8f5dd18e7479",
       "max": 79,
       "style": "IPY_MODEL_954b8c7494c44ab1925b875a53cdc608",
       "value": 79
      }
     },
     "ba1a9abd62634ae792d9572748e14bd2": {
      "model_module": "@jupyter-widgets/base",
      "model_module_version": "2.0.0",
      "model_name": "LayoutModel",
      "state": {}
     },
     "bbab84dba68140fd9c37179b88e77753": {
      "model_module": "@jupyter-widgets/controls",
      "model_module_version": "2.0.0",
      "model_name": "IntSliderModel",
      "state": {
       "behavior": "drag-tap",
       "description": "top_k",
       "layout": "IPY_MODEL_aa32121a922649619276494154685319",
       "max": 50,
       "min": 1,
       "style": "IPY_MODEL_221ab83426b848fc8cec0678e888caf7",
       "value": 3
      }
     },
     "bdf3fc440c754048918d864b1ccceb22": {
      "model_module": "@jupyter-widgets/controls",
      "model_module_version": "2.0.0",
      "model_name": "TextStyleModel",
      "state": {
       "description_width": "",
       "font_size": null,
       "text_color": null
      }
     },
     "bef0059c4a7e4dc49176550d419dde21": {
      "model_module": "@jupyter-widgets/controls",
      "model_module_version": "2.0.0",
      "model_name": "VBoxModel",
      "state": {
       "_dom_classes": [
        "widget-interact"
       ],
       "children": [
        "IPY_MODEL_764822c4695a41f5b0f23d30f1c17063",
        "IPY_MODEL_e8a452298712495db2ef6f06f76cdc0f",
        "IPY_MODEL_84b1e0434ac9457a8b2e9e375607721b",
        "IPY_MODEL_fe6ab17f76c94978bebffd3e14f5520c"
       ],
       "layout": "IPY_MODEL_dccb3b2d4cee444ea2b60180431a7258"
      }
     },
     "c2aa54853f9645c8be6e8efa6094725d": {
      "model_module": "@jupyter-widgets/controls",
      "model_module_version": "2.0.0",
      "model_name": "VBoxModel",
      "state": {
       "_dom_classes": [
        "widget-interact"
       ],
       "children": [
        "IPY_MODEL_39c1f29e93f54afc9ca6bd6d99380fa5",
        "IPY_MODEL_182a7810d4754ffc940a76fe77131785",
        "IPY_MODEL_9daaf36837f54820b096f0c0f81d9f11",
        "IPY_MODEL_184541d112154684a9d1c341f2aafcc1"
       ],
       "layout": "IPY_MODEL_787b5f9808b04d6c9582332dabb5731e"
      }
     },
     "c3f16c56087641ecb434a557fac6bed5": {
      "model_module": "@jupyter-widgets/controls",
      "model_module_version": "2.0.0",
      "model_name": "SliderStyleModel",
      "state": {
       "description_width": ""
      }
     },
     "c4a19854e9a24248be7af501d1c95eb6": {
      "model_module": "@jupyter-widgets/base",
      "model_module_version": "2.0.0",
      "model_name": "LayoutModel",
      "state": {}
     },
     "c669909931ed4a0b8a726f0571424bb4": {
      "model_module": "@jupyter-widgets/controls",
      "model_module_version": "2.0.0",
      "model_name": "ButtonStyleModel",
      "state": {
       "font_family": null,
       "font_size": null,
       "font_style": null,
       "font_variant": null,
       "font_weight": null,
       "text_color": null,
       "text_decoration": null
      }
     },
     "c93e47d4e4054c569788ad3cd745886e": {
      "model_module": "@jupyter-widgets/base",
      "model_module_version": "2.0.0",
      "model_name": "LayoutModel",
      "state": {}
     },
     "d1b30229c81b46b0ac8a9355feee0081": {
      "model_module": "@jupyter-widgets/controls",
      "model_module_version": "2.0.0",
      "model_name": "HTMLModel",
      "state": {
       "layout": "IPY_MODEL_38094eac60784adb873e16fd3759b839",
       "style": "IPY_MODEL_e636e5ecb7b548fc827e55d6541c23cc",
       "value": " 79/79 [01:11&lt;00:00,  1.25it/s]"
      }
     },
     "d4218c54b2094773add2985413421ce2": {
      "model_module": "@jupyter-widgets/controls",
      "model_module_version": "2.0.0",
      "model_name": "ButtonModel",
      "state": {
       "description": "Run Interact",
       "layout": "IPY_MODEL_33807dce967948daaa129c962a807978",
       "style": "IPY_MODEL_947c5dfcffd843b58a29f1397a5875a7",
       "tooltip": null
      }
     },
     "d4a068956d7b4c3cba77bc8bac0c8682": {
      "model_module": "@jupyter-widgets/controls",
      "model_module_version": "2.0.0",
      "model_name": "HTMLModel",
      "state": {
       "layout": "IPY_MODEL_52cf819dadb246d18c149bdeb2484ca1",
       "style": "IPY_MODEL_722a829512004c0db08a7649489554a0",
       "value": "  9%"
      }
     },
     "dab8f8f37a2e4a1eb175a8a17416a7c6": {
      "model_module": "@jupyter-widgets/base",
      "model_module_version": "2.0.0",
      "model_name": "LayoutModel",
      "state": {}
     },
     "dccb3b2d4cee444ea2b60180431a7258": {
      "model_module": "@jupyter-widgets/base",
      "model_module_version": "2.0.0",
      "model_name": "LayoutModel",
      "state": {}
     },
     "df3c3126052e4791bce9db773961b54a": {
      "model_module": "@jupyter-widgets/controls",
      "model_module_version": "2.0.0",
      "model_name": "IntSliderModel",
      "state": {
       "behavior": "drag-tap",
       "description": "top_k",
       "layout": "IPY_MODEL_4ab9677dc289491886db82a387a4f382",
       "max": 50,
       "min": 1,
       "style": "IPY_MODEL_c3f16c56087641ecb434a557fac6bed5",
       "value": 3
      }
     },
     "e06f97fbf45d44ae9f7aac6ede1ca494": {
      "model_module": "@jupyter-widgets/controls",
      "model_module_version": "2.0.0",
      "model_name": "ButtonStyleModel",
      "state": {
       "font_family": null,
       "font_size": null,
       "font_style": null,
       "font_variant": null,
       "font_weight": null,
       "text_color": null,
       "text_decoration": null
      }
     },
     "e238ae8de26446d28c0bf1eb5d9c1d70": {
      "model_module": "@jupyter-widgets/controls",
      "model_module_version": "2.0.0",
      "model_name": "TextModel",
      "state": {
       "description": "query",
       "layout": "IPY_MODEL_1eaf5a6ae3554254a79e189b3c1d7323",
       "style": "IPY_MODEL_2f211730d89340c08bec534d2fcee5b8",
       "value": "Round Neck T-Shirt"
      }
     },
     "e242b8c4a46f4ce188b88ce0d4bd7483": {
      "model_module": "@jupyter-widgets/base",
      "model_module_version": "2.0.0",
      "model_name": "LayoutModel",
      "state": {}
     },
     "e252132ba0ca48de82defcefea40e0f9": {
      "model_module": "@jupyter-widgets/controls",
      "model_module_version": "2.0.0",
      "model_name": "ProgressStyleModel",
      "state": {
       "description_width": ""
      }
     },
     "e263403927934c6a94463108c1b16e69": {
      "model_module": "@jupyter-widgets/base",
      "model_module_version": "2.0.0",
      "model_name": "LayoutModel",
      "state": {}
     },
     "e53317b67fe74c8eb9121cf54f060efc": {
      "model_module": "@jupyter-widgets/base",
      "model_module_version": "2.0.0",
      "model_name": "LayoutModel",
      "state": {}
     },
     "e636e5ecb7b548fc827e55d6541c23cc": {
      "model_module": "@jupyter-widgets/controls",
      "model_module_version": "2.0.0",
      "model_name": "HTMLStyleModel",
      "state": {
       "description_width": "",
       "font_size": null,
       "text_color": null
      }
     },
     "e8a452298712495db2ef6f06f76cdc0f": {
      "model_module": "@jupyter-widgets/controls",
      "model_module_version": "2.0.0",
      "model_name": "IntSliderModel",
      "state": {
       "behavior": "drag-tap",
       "description": "top_k",
       "layout": "IPY_MODEL_54581a2e4cc14c78b64fdaa61af23018",
       "max": 50,
       "min": 1,
       "style": "IPY_MODEL_f62571f6ceac42399bccc60d7a21c5d6",
       "value": 3
      }
     },
     "e931ba27322c431e93d938e55ca3b4a2": {
      "model_module": "@jupyter-widgets/controls",
      "model_module_version": "2.0.0",
      "model_name": "ButtonStyleModel",
      "state": {
       "font_family": null,
       "font_size": null,
       "font_style": null,
       "font_variant": null,
       "font_weight": null,
       "text_color": null,
       "text_decoration": null
      }
     },
     "e94e6e9f38a24ce59966bc1e021bb06d": {
      "model_module": "@jupyter-widgets/controls",
      "model_module_version": "2.0.0",
      "model_name": "SliderStyleModel",
      "state": {
       "description_width": ""
      }
     },
     "eb7f06c5cb0749bfbcfa8f5dd18e7479": {
      "model_module": "@jupyter-widgets/base",
      "model_module_version": "2.0.0",
      "model_name": "LayoutModel",
      "state": {}
     },
     "ebd0c944fa294879a5eb85ba76393ba5": {
      "model_module": "@jupyter-widgets/controls",
      "model_module_version": "2.0.0",
      "model_name": "TextStyleModel",
      "state": {
       "description_width": "",
       "font_size": null,
       "text_color": null
      }
     },
     "ec7d9d71daf740b187c35ad43a8ee831": {
      "model_module": "@jupyter-widgets/controls",
      "model_module_version": "2.0.0",
      "model_name": "HTMLStyleModel",
      "state": {
       "description_width": "",
       "font_size": null,
       "text_color": null
      }
     },
     "ee9f8a9082294c00916e5cde0a4ecb96": {
      "model_module": "@jupyter-widgets/controls",
      "model_module_version": "2.0.0",
      "model_name": "TextStyleModel",
      "state": {
       "description_width": "",
       "font_size": null,
       "text_color": null
      }
     },
     "f11c0632904849669c85d1101a28bdee": {
      "model_module": "@jupyter-widgets/controls",
      "model_module_version": "2.0.0",
      "model_name": "TextStyleModel",
      "state": {
       "description_width": "",
       "font_size": null,
       "text_color": null
      }
     },
     "f5349627e7ae48888601ed53b9a9cc2c": {
      "model_module": "@jupyter-widgets/controls",
      "model_module_version": "2.0.0",
      "model_name": "HTMLStyleModel",
      "state": {
       "description_width": "",
       "font_size": null,
       "text_color": null
      }
     },
     "f603237ef5ea43eb9c7b8387b825c9f8": {
      "model_module": "@jupyter-widgets/controls",
      "model_module_version": "2.0.0",
      "model_name": "VBoxModel",
      "state": {
       "_dom_classes": [
        "widget-interact"
       ],
       "children": [
        "IPY_MODEL_31236c10398d48fcb968259483c9cc2c",
        "IPY_MODEL_0729f3d5c1d044d3a64c9759802a0d21",
        "IPY_MODEL_86243578561c48c595e8c7df6626c291",
        "IPY_MODEL_7f5b5ce9a4bc4c93a55265aebe006f94",
        "IPY_MODEL_937540ac1fa34db997a7d068549993e4",
        "IPY_MODEL_2584d899497449238fdb430036d7beab"
       ],
       "layout": "IPY_MODEL_9aa4e98cb89e4cb488cbc3d252a984d8"
      }
     },
     "f62571f6ceac42399bccc60d7a21c5d6": {
      "model_module": "@jupyter-widgets/controls",
      "model_module_version": "2.0.0",
      "model_name": "SliderStyleModel",
      "state": {
       "description_width": ""
      }
     },
     "f6a062a8b0da49718cabc7a61fe10199": {
      "model_module": "@jupyter-widgets/base",
      "model_module_version": "2.0.0",
      "model_name": "LayoutModel",
      "state": {}
     },
     "fc582732df864a018be03a2087b86c2e": {
      "model_module": "@jupyter-widgets/base",
      "model_module_version": "2.0.0",
      "model_name": "LayoutModel",
      "state": {}
     },
     "fcd7f0eacacd4e5899038c4adcf7b502": {
      "model_module": "@jupyter-widgets/base",
      "model_module_version": "2.0.0",
      "model_name": "LayoutModel",
      "state": {}
     },
     "fe6ab17f76c94978bebffd3e14f5520c": {
      "model_module": "@jupyter-widgets/output",
      "model_module_version": "1.0.0",
      "model_name": "OutputModel",
      "state": {
       "layout": "IPY_MODEL_063817d0065c448bb50e80cb4463f570",
       "outputs": [
        {
         "data": {
          "text/plain": "'Similarity: 0.2990785539150238'"
         },
         "metadata": {},
         "output_type": "display_data"
        },
        {
         "data": {
          "text/html": "<img src=http://img6a.flixcart.com/image/t-shirt/s/j/a/wht-16-whistle-xl-original-imae9rafjweh8zry.jpeg width=\"300\" height=\"500\">",
          "text/plain": "<IPython.core.display.HTML object>"
         },
         "metadata": {},
         "output_type": "display_data"
        },
        {
         "data": {
          "text/plain": "\"Whistle Solid Men's Round Neck T-Shirt Whistle Solid Men's Round Neck T-Shirt\\n                         Price: Rs. 199\\n\\t\\t\\t\\t\\n\\t\\t\\tCrafted in Cotton blend, this black T-shirt will surely enhance your manly looks. Team up with black or beige pants to capture the eye balls.\\nCrafted in Cotton blend, this black T-shirt will surely enhance your manly looks. Team up with black or beige pants to capture the eye balls.\""
         },
         "metadata": {},
         "output_type": "display_data"
        },
        {
         "data": {
          "text/plain": "'Similarity: 0.2980470359325409'"
         },
         "metadata": {},
         "output_type": "display_data"
        },
        {
         "data": {
          "text/html": "<img src=http://img6a.flixcart.com/image/t-shirt/c/f/c/cm0078-campus-mall-s-1100x1360-imae4jbhby8v3dvb.jpeg width=\"300\" height=\"500\">",
          "text/plain": "<IPython.core.display.HTML object>"
         },
         "metadata": {},
         "output_type": "display_data"
        },
        {
         "data": {
          "text/plain": "\"CampusMall Printed Men's Round Neck T-Shirt CampusMall Printed Men's Round Neck T-Shirt - Buy Black CampusMall Printed Men's Round Neck T-Shirt For Only Rs. 570 Online in India. Shop Online For Apparels. Huge Collection of Branded Clothes Only at Flipkart.com\""
         },
         "metadata": {},
         "output_type": "display_data"
        },
        {
         "data": {
          "text/plain": "'Similarity: 0.2980470359325409'"
         },
         "metadata": {},
         "output_type": "display_data"
        },
        {
         "data": {
          "text/html": "<img src=http://img6a.flixcart.com/image/t-shirt/g/y/r/cm0070-campus-mall-m-1100x1360-imae4ch3vbsys6jz.jpeg width=\"300\" height=\"500\">",
          "text/plain": "<IPython.core.display.HTML object>"
         },
         "metadata": {},
         "output_type": "display_data"
        },
        {
         "data": {
          "text/plain": "\"CampusMall Printed Men's Round Neck T-Shirt CampusMall Printed Men's Round Neck T-Shirt - Buy Black CampusMall Printed Men's Round Neck T-Shirt For Only Rs. 570 Online in India. Shop Online For Apparels. Huge Collection of Branded Clothes Only at Flipkart.com\""
         },
         "metadata": {},
         "output_type": "display_data"
        }
       ]
      }
     }
    },
    "version_major": 2,
    "version_minor": 0
   }
  }
 },
 "nbformat": 4,
 "nbformat_minor": 5
}
