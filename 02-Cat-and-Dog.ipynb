{
 "cells": [
  {
   "cell_type": "markdown",
   "id": "4cdff137",
   "metadata": {},
   "source": [
    "# 02 Cat Dog"
   ]
  },
  {
   "cell_type": "markdown",
   "id": "a9ff143f",
   "metadata": {},
   "source": [
    "Throughout this notebook, we will walk through the journey to create a basic Vector search application using Vecto. The process is very similar to the previous tutorial, however we are adapting it to a new domain."
   ]
  },
  {
   "cell_type": "markdown",
   "id": "f419c8bb",
   "metadata": {},
   "source": [
    "# Set Up Vecto Application"
   ]
  },
  {
   "cell_type": "code",
   "execution_count": null,
   "id": "d41e1371",
   "metadata": {},
   "outputs": [],
   "source": [
    "!pip install ftfy tqdm requests pillow ipywidgets"
   ]
  },
  {
   "cell_type": "code",
   "execution_count": null,
   "id": "7af32b55",
   "metadata": {},
   "outputs": [],
   "source": [
    "import requests\n",
    "from ipywidgets import interact_manual, IntSlider, FileUpload\n",
    "import pathlib\n",
    "from IPython.display import Image, display\n",
    "import math\n",
    "from tqdm.notebook import tqdm\n",
    "import io\n",
    "import json"
   ]
  },
  {
   "cell_type": "markdown",
   "id": "94aa5801",
   "metadata": {},
   "source": [
    "## Make a Vector Space"
   ]
  },
  {
   "cell_type": "markdown",
   "id": "42b9e649",
   "metadata": {},
   "source": [
    "1. Access the Vecto login page at <[Vecto Login](https://app.vecto.ai/login.xhtml)>, insert your *Username* and *Password* and click Sign In. \n",
    "   \n",
    "  2. From the admin page sidebar, select the **Dashboard** tab and click on *Create new vector space*. Fill in the Vector Space name; in this case, we will call it `cats_dogs`. You will then be able to choose a `vectorization model`. As we are going to work with both images and text, choose the [CLIP](https://github.com/openai/CLIP) model. Finally, click the `Create Vector Space` button. You can view your Vector Space details by clicking on the Vector Space name in the Vector Spaces list. Take note on your Vector Space ID to use in a later step. \n",
    "    \n",
    "  3. In order to access the vector space, we will need to create a Vector Space authentication token. Click on the **Tokens** tab in the sidebar, set the token name to `cats_dogs_token`, and then select the Vector Space `cats_dogs` that we created earlier, click on `Create User Token`. Click on your token name in the list to view it. This token will be used to authenticate access to Vecto servers. Copy the token to use in the next step. Here we go! Now you have your first Vector Space."
   ]
  },
  {
   "cell_type": "markdown",
   "id": "95247333",
   "metadata": {},
   "source": [
    "<img src=\"img/login_vecto.gif\">"
   ]
  },
  {
   "cell_type": "markdown",
   "id": "cc26954e",
   "metadata": {},
   "source": [
    "## Add and Ingest Data into Vector Space"
   ]
  },
  {
   "cell_type": "markdown",
   "id": "2689434d",
   "metadata": {},
   "source": [
    "To start, let's initialize the Vecto API end-point and pass our `cats_dogs` Vector Space ID and authentication token. Copy the below cell into your notebook 2nd cell and insert the values for the `token` and `vecto_space_id`, then run the cell:  "
   ]
  },
  {
   "cell_type": "code",
   "execution_count": null,
   "id": "ba002a32",
   "metadata": {},
   "outputs": [],
   "source": [
    "vecto_base_url =\"https://api.vecto.ai/api/v0\"\n",
    "token = \"\"\n",
    "vector_space_id = \"\""
   ]
  },
  {
   "cell_type": "markdown",
   "id": "9176be4f",
   "metadata": {},
   "source": [
    "Please note that the Vector Space ID and token are unique for every Vector Space. You refer to the [previous step](#Make-a-Vector-Space) if you can not find your `cats_dogs` Vector Space ID or token. "
   ]
  },
  {
   "cell_type": "markdown",
   "id": "7504776a",
   "metadata": {},
   "source": [
    "### Dataset"
   ]
  },
  {
   "cell_type": "markdown",
   "id": "29ef9288",
   "metadata": {},
   "source": [
    "In this Tutorial, we are using the [Kaggle Cats and Dogs Dataset](https://www.microsoft.com/en-us/download/details.aspx?id=54765). This dataset has more than 25,000 `.jpg` images of cats and dogs. \n",
    "\n",
    "To proceed, you will need to download and extract the dataset into the working directory `vecto_cat_dog_demo`.\n",
    "\n",
    "Now your working directory should look like this:\n",
    "```\n",
    "|__vecto_cat_dog_demo\n",
    "    |__requirements.txt\n",
    "    |__cat_dog_demo.ipynb\n",
    "    |__PetImages\n",
    "        |__Cat\n",
    "            |__0.jpg\n",
    "            |__1.jpg\n",
    "            ...\n",
    "        |__Dog\n",
    "            |__0.jpg\n",
    "            |__1.jpg\n",
    "            ...\n",
    "```\n",
    "Now, let's set the path to our images in the notebook. First, let's find our base directory path and join it to our dataset folder. We use `list(dataset_path.glob('**/*.jpg'))` to collect all the images path in the dataset into a Python list.   "
   ]
  },
  {
   "cell_type": "code",
   "execution_count": null,
   "id": "e802c41e",
   "metadata": {},
   "outputs": [],
   "source": [
    "base_dir = pathlib.Path().absolute()\n",
    "dataset_path = base_dir.joinpath('PetImages')\n",
    "pet_images = list(dataset_path.glob('**/*.jpg'))\n",
    "print(pet_images[:5]) # print path to the first 5 image paths. "
   ]
  },
  {
   "cell_type": "markdown",
   "id": "41195244",
   "metadata": {},
   "source": [
    "### Ingest the Dataset"
   ]
  },
  {
   "cell_type": "markdown",
   "id": "e2a9004a",
   "metadata": {},
   "source": [
    "To ingest the images in the `pet_images` list into our `cats_dogs` Vector Space, we will need a few helper functions to split the image ingesting process into batches. Let's add the two functions `ingest_image_batch` and `ingest_all_images` to our `cat_dog_demo` notebook: "
   ]
  },
  {
   "cell_type": "code",
   "execution_count": null,
   "id": "d15d8268",
   "metadata": {},
   "outputs": [],
   "source": [
    "def ingest_image_batch(batch_path_list):\n",
    "    data = {'vector_space_id': vector_space_id, 'data': [], 'modality': 'IMAGE'}\n",
    "    files = []\n",
    "    for path in batch_path_list:\n",
    "        relative = \"%s/%s\" % (path.parent.name, path.name)\n",
    "        data['data'].append(json.dumps(relative))\n",
    "        files.append(open(path, 'rb'))\n",
    "    \n",
    "    results = requests.post(\"%s/index\" % vecto_base_url,\n",
    "                               data=data,\n",
    "                               files=[('input', ('_', f, '_')) for f in files],\n",
    "                               headers={\"Authorization\": \"Bearer %s\" %token})    \n",
    "    print(results)\n",
    "    for f in files:\n",
    "        f.close()"
   ]
  },
  {
   "cell_type": "code",
   "execution_count": null,
   "id": "82a64b19",
   "metadata": {},
   "outputs": [],
   "source": [
    "def ingest_all_images(path_list, batch_size=64):\n",
    "    batch_count = math.ceil(len(path_list) / batch_size)\n",
    "    batches = [path_list[i * batch_size: (i + 1) * batch_size] for i in range(batch_count)]\n",
    "    for batch in tqdm(batches):\n",
    "        ingest_image_batch(batch)"
   ]
  },
  {
   "cell_type": "markdown",
   "id": "1073e148",
   "metadata": {},
   "source": [
    "The batch size determines the number of images ingested in each batch. Here, we set the batch size to `128` to speed up the initial ingest process. However, batch size could be set to any other integer value, even just `1`, as this is merely depending on the dataset type and size. "
   ]
  },
  {
   "cell_type": "code",
   "execution_count": null,
   "id": "5f125cf4",
   "metadata": {},
   "outputs": [],
   "source": [
    "ingest_all_images(path_list=pet_images, batch_size=128)"
   ]
  },
  {
   "cell_type": "markdown",
   "id": "9129d74e",
   "metadata": {},
   "source": [
    "You will need to wait for the vectorization process to finish before moving to [vector search in Vector Space](#2-vector-search-imagetext-queries)"
   ]
  },
  {
   "cell_type": "markdown",
   "id": "a90c8015",
   "metadata": {},
   "source": [
    "## Vector Search image/text Queries"
   ]
  },
  {
   "cell_type": "markdown",
   "id": "0bc67754",
   "metadata": {},
   "source": [
    "After ingesting the dataset into the `cats_dogs` vector space, now let's try to perform a different type of vector search query using text or images. For that, we will use a few helper functions to handle the mentioned processes. Let's add these four functions `display_results`, `lookup`, `text_query`, and 'image_query` to our `cat_dog_demo` notebook:"
   ]
  },
  {
   "cell_type": "code",
   "execution_count": null,
   "id": "4b28fa40",
   "metadata": {},
   "outputs": [],
   "source": [
    "def display_results(results):\n",
    "    output = []\n",
    "    for result in results:\n",
    "        output.append(\"Similarity: %s\" % result['similarity'])\n",
    "        output.append(Image(dataset_path.joinpath(result['data'])))\n",
    "    display(*output)"
   ]
  },
  {
   "cell_type": "code",
   "execution_count": null,
   "id": "8870f280",
   "metadata": {},
   "outputs": [],
   "source": [
    "def lookup(f, modality, top_k):\n",
    "    result = requests.post(\"%s/lookup\" % vecto_base_url,\n",
    "                        data={'vector_space_id': vector_space_id, 'modality': modality, 'top_k': top_k},\n",
    "                        files={'query': f},\n",
    "                        headers={\"Authorization\":\"Bearer %s\" % token})\n",
    "\n",
    "    results = result.json()['results']\n",
    "    display_results(results)"
   ]
  },
  {
   "cell_type": "code",
   "execution_count": null,
   "id": "bcdf9a03",
   "metadata": {},
   "outputs": [],
   "source": [
    "def text_query(query, top_k=10):\n",
    "    f = io.StringIO(query)\n",
    "    lookup(f, 'TEXT', top_k)\n",
    "\n",
    "def image_query(query, top_k=10):\n",
    "    f = io.BytesIO(query[0]['content'])\n",
    "    lookup(f, 'IMAGE', top_k)"
   ]
  },
  {
   "cell_type": "markdown",
   "id": "a035bc64",
   "metadata": {},
   "source": [
    "Now all is ready to try a few vector search queries!\n",
    "\n",
    "First, let's start with some text queries. Using the interactive cell widget you could:\n",
    "-  Type your query text in the available text box.\n",
    "-  Select the number of results with the highest search similarity to view `top_k`.\n",
    "\n",
    "For example, we will type *Kitten* as our text query and we expect the vector search to return kitten images from the vector space.\n",
    "\n",
    "You are expected to see kittens when you query *Kitten* and set the *top_k* to 2, click the `Run Interact` button to start the vector search."
   ]
  },
  {
   "cell_type": "code",
   "execution_count": null,
   "id": "c23d3e69",
   "metadata": {},
   "outputs": [],
   "source": [
    "interact_manual(text_query, query=\"Kitten\", top_k=IntSlider(min=1, max=50))"
   ]
  },
  {
   "cell_type": "markdown",
   "id": "7ac3d506",
   "metadata": {},
   "source": [
    "Now similarly, let's try image queries. Using the interactive cell widget, you could:\n",
    "-  Upload your query image using the Upload button.\n",
    "-  Select the number of results with the highest search similarity to view `top_k`.\n",
    "\n",
    "For example, we will upload a puppy photo as our image query, and we expect the vector search to return puppy images from the vector space. "
   ]
  },
  {
   "cell_type": "code",
   "execution_count": null,
   "id": "48ef5654",
   "metadata": {},
   "outputs": [],
   "source": [
    "interact_manual(image_query, query=FileUpload(multiple=False), top_k=IntSlider(min=1, max=50))"
   ]
  },
  {
   "cell_type": "markdown",
   "id": "dc7cb38b",
   "metadata": {},
   "source": [
    "You are expected to see puppies when you click the `Run Interact` button to start the vector search."
   ]
  },
  {
   "cell_type": "markdown",
   "id": "ab132dae",
   "metadata": {},
   "source": [
    "## Create a Vector Search Analogy"
   ]
  },
  {
   "cell_type": "markdown",
   "id": "668416cb",
   "metadata": {},
   "source": [
    "A surprising property of vectors is that analogies can often be solved with vector arithmetic. Taking `dog is to puppy as a cat is to kitten` as an analogy, we could use the vector difference *puppy vector - dog vector* as an analogy vector to modify the vector search output for the *cat* query from returning images of cats as we saw in the *Part 2* above to returning images of kittens instead. The arithmetic equation that governs such an analogy can be represented as **puppy - dog + cat = kitten**.\n",
    "\n",
    "To construct an analogy, you need three components:\n",
    "1. The *start* of the analogy, in this example, is **Dog** \n",
    "2. The *end* of the analogy, in this example, is **Puppy**\n",
    "3. The *query* to apply the analogy on, in this example, is **Cat**\n",
    "\n",
    "Here, from the analogy *start* and *end* components, we can see the relation is Adult(dog) to Baby(puppy). Therefore we expect to get a kitten when we apply this analogy to the *Cat* query. Let's try that together:\n",
    "\n",
    "First, let's add few helper functions to our notebook:\n",
    "\n",
    "1. Apply analogy and perform the query vector search in vector space `analogy`.\n",
    "2. Handler to apply text-based analogy `text_analogy`.\n",
    "3. Handler to apply image-based analogy  `image_analogy`.\n"
   ]
  },
  {
   "cell_type": "code",
   "execution_count": null,
   "id": "4b0cfef2",
   "metadata": {},
   "outputs": [],
   "source": [
    "def analogy(query, start, end, modality, top_k):\n",
    "    \n",
    "    result = requests.post(\"%s/analogy\" % vecto_base_url,\n",
    "                           data={'vector_space_id': vector_space_id, 'modality': modality, 'top_k': top_k},\n",
    "                           files={'query': query, 'from': start, 'to': end},\n",
    "                           headers={\"Authorization\":\"Bearer %s\" %token})\n",
    "    \n",
    "    results = result.json()['results']\n",
    "    display_results(results)"
   ]
  },
  {
   "cell_type": "code",
   "execution_count": null,
   "id": "61babe9a",
   "metadata": {},
   "outputs": [],
   "source": [
    "def text_analogy(query, start, end, top_k=10):\n",
    "    analogy(io.StringIO(query), io.StringIO(start), io.StringIO(end), 'TEXT', top_k)\n",
    "\n",
    "def image_analogy(query, start, end, top_k=10):\n",
    "    analogy(\n",
    "        io.BytesIO(query[0]['content']),\n",
    "        io.BytesIO(start[0]['content']),\n",
    "        io.BytesIO(end[0]['content']),\n",
    "        'IMAGE',\n",
    "        top_k\n",
    "    )"
   ]
  },
  {
   "cell_type": "markdown",
   "id": "2a398d94",
   "metadata": {},
   "source": [
    "Now all is ready, let's see if our analogy is working. \n",
    "\n",
    "First, let's start with some text analogy. Using the interactive cell widget, you could:\n",
    "-  Type analogy *start*, *end* and query text in the available text boxes.\n",
    "-  Select the number of results with the highest search similarity to view `top_k`.\n",
    "\n",
    "Following our explained example, we will type *cat* as a query, *dog* as a start and *puppy* as an end, and we expect the vector search to return kitten images from the vector space.    "
   ]
  },
  {
   "cell_type": "code",
   "execution_count": null,
   "id": "5f5e7834",
   "metadata": {},
   "outputs": [],
   "source": [
    "interact_manual(text_analogy, query=\"cat\", start=\"dog\", end=\"puppy\", top_k=IntSlider(min=1, max=50))"
   ]
  },
  {
   "cell_type": "markdown",
   "id": "09d04a0a",
   "metadata": {},
   "source": [
    "You are expected to see kittens when you **query** is *cat* and set the analogy **start** and **end** to *dog* and *puppy*, respectively. Click the `Run Interact` button to start the vector search with the analogy."
   ]
  },
  {
   "cell_type": "markdown",
   "id": "be923aff",
   "metadata": {},
   "source": [
    "Now similarly, let's construct the analogy using images.\n",
    "\n",
    "Using the interactive cell widget, you could:\n",
    "-  upload images for analogy *start*, *end* and query image using the upload button for each field.\n",
    "-  Select the number of results with the highest search similarity to view `top_k`.\n",
    "\n",
    "We will upload the *cat* image as a query, *dog* image as a start and *puppy* image as an end, and we expect the vector search to return kitten images from the vector space.  "
   ]
  },
  {
   "cell_type": "code",
   "execution_count": null,
   "id": "d1318a5e",
   "metadata": {},
   "outputs": [],
   "source": [
    "interact_manual(image_analogy, query=FileUpload(multiple=False), start=FileUpload(multiple=False), end=FileUpload(multiple=False), top_k=IntSlider(min=1, max=50))"
   ]
  },
  {
   "cell_type": "markdown",
   "id": "f872242f",
   "metadata": {},
   "source": [
    "Click the Run Interact button to start a vector search with the analogy."
   ]
  },
  {
   "cell_type": "markdown",
   "id": "e8a37a69",
   "metadata": {},
   "source": [
    "In this tutorial, we have learned how to set up a Vecto working environment, create vector space using a given dataset, perform vector search queries, and construct a simple analogy."
   ]
  }
 ],
 "metadata": {
  "kernelspec": {
   "display_name": "Python 3 (ipykernel)",
   "language": "python",
   "name": "python3"
  },
  "language_info": {
   "codemirror_mode": {
    "name": "ipython",
    "version": 3
   },
   "file_extension": ".py",
   "mimetype": "text/x-python",
   "name": "python",
   "nbconvert_exporter": "python",
   "pygments_lexer": "ipython3",
   "version": "3.10.7"
  }
 },
 "nbformat": 4,
 "nbformat_minor": 5
}
